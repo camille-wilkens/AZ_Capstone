{
 "cells": [
  {
   "cell_type": "markdown",
   "metadata": {},
   "source": [
    "# Automated ML\n",
    "\n",
    "In this notebook, I will perform the following steps:\n",
    "\n",
    "Import Dependencies\n",
    "Create an Experiment in an existing Workspace.\n",
    "Create or Attach existing AmlCompute to a workspace.\n",
    "Define data loading in a TabularDataset.\n",
    "Configure AutoML using AutoMLConfig.\n",
    "Use AutoMLStep\n",
    "Train the model using AmlCompute\n",
    "Explore the results.\n",
    "Test the best fitted model."
   ]
  },
  {
   "cell_type": "markdown",
   "metadata": {},
   "source": [
    "## Import Dependcies\n",
    "\n",
    "TODO: Import Dependencies. In the cell below, import all the dependencies that you will need to complete the project."
   ]
  },
  {
   "cell_type": "code",
   "execution_count": 41,
   "metadata": {
    "gather": {
     "logged": 1598423888013
    },
    "jupyter": {
     "outputs_hidden": false,
     "source_hidden": false
    },
    "nteract": {
     "transient": {
      "deleting": false
     }
    }
   },
   "outputs": [
    {
     "name": "stdout",
     "output_type": "stream",
     "text": [
      "SDK version: 1.39.0\n"
     ]
    }
   ],
   "source": [
    "import logging\n",
    "import os\n",
    "import csv\n",
    "\n",
    "from matplotlib import pyplot as plt\n",
    "import numpy as np\n",
    "import pandas as pd\n",
    "from sklearn import datasets\n",
    "import pkg_resources\n",
    "import json\n",
    "import pickle\n",
    "\n",
    "import azureml.core\n",
    "from azureml.core import Model\n",
    "from azureml.core.environment import Environment\n",
    "from azureml.core.experiment import Experiment\n",
    "from azureml.core.workspace import Workspace\n",
    "from azureml.train.automl import AutoMLConfig\n",
    "from azureml.core.dataset import Dataset\n",
    "\n",
    "from azureml.pipeline.steps import AutoMLStep\n",
    "from azureml.widgets import RunDetails\n",
    "from azureml.core.compute import AmlCompute\n",
    "from azureml.core.compute import ComputeTarget\n",
    "from azureml.core.compute_target import ComputeTargetException\n",
    "from azureml.core.model import Model\n",
    "from azureml.core.webservice import LocalWebservice\n",
    "from azureml.pipeline.core import PipelineData, TrainingOutput\n",
    "from azureml.core.model import Model\n",
    "\n",
    "# Check core SDK version number\n",
    "print(\"SDK version:\", azureml.core.VERSION)\n",
    "\n",
    "import urllib.request\n",
    "\n",
    "\n",
    "import joblib\n",
    "\n"
   ]
  },
  {
   "cell_type": "markdown",
   "metadata": {},
   "source": [
    "## Create an Azure ML experiment"
   ]
  },
  {
   "cell_type": "code",
   "execution_count": 5,
   "metadata": {},
   "outputs": [
    {
     "name": "stdout",
     "output_type": "stream",
     "text": [
      "quick-starts-ws-191197\n",
      "aml-quickstarts-191197\n",
      "southcentralus\n",
      "6971f5ac-8af1-446e-8034-05acea24681f\n"
     ]
    }
   ],
   "source": [
    "ws = Workspace.from_config()\n",
    "\n",
    "# Choose a name for the run history container in the workspace.\n",
    "experiment_name = 'ml-experiment-1'\n",
    "project_folder = './automl-project'\n",
    "\n",
    "experiment = Experiment(ws, experiment_name)\n",
    "print(ws.name, ws.resource_group, ws.location, ws.subscription_id, sep = '\\n')"
   ]
  },
  {
   "cell_type": "markdown",
   "metadata": {},
   "source": [
    "## Create or Attach an AmlCompute cluster"
   ]
  },
  {
   "cell_type": "code",
   "execution_count": 6,
   "metadata": {},
   "outputs": [
    {
     "name": "stdout",
     "output_type": "stream",
     "text": [
      "Found existing cluster, use it.\n",
      "Succeeded.....................................................................................................................\n",
      "AmlCompute wait for completion finished\n",
      "\n",
      "Wait timeout has been reached\n",
      "Current provisioning state of AmlCompute is \"Succeeded\" and current node count is \"0\"\n"
     ]
    }
   ],
   "source": [
    "# Choose a name for your CPU cluster\n",
    "amlcompute_cluster_name = \"automl-cluster\"\n",
    "\n",
    "# Verify that cluster does not exist already\n",
    "try:\n",
    "    compute_target = ComputeTarget(workspace=ws, name=amlcompute_cluster_name)\n",
    "    print('Found existing cluster, use it.')\n",
    "except ComputeTargetException:\n",
    "    compute_config = AmlCompute.provisioning_configuration(vm_size='STANDARD_DS12_V2',# for GPU, use \"STANDARD_NC6\"\n",
    "                                                           #vm_priority = 'lowpriority', # optional\n",
    "                                                           max_nodes=4)\n",
    "    compute_target = ComputeTarget.create(ws, amlcompute_cluster_name, compute_config)\n",
    "\n",
    "compute_target.wait_for_completion(show_output=True, min_node_count = 1, timeout_in_minutes = 10)"
   ]
  },
  {
   "cell_type": "markdown",
   "metadata": {},
   "source": [
    "## Dataset\n",
    "\n",
    "### Overview\n",
    "TODO: In this markdown cell, give an overview of the dataset you are using. Also mention the task you will be performing.\n",
    "\n",
    "\n",
    "TODO: Get data. In the cell below, write code to access the data you will be using in this project. Remember that the dataset needs to be external."
   ]
  },
  {
   "cell_type": "code",
   "execution_count": 7,
   "metadata": {},
   "outputs": [
    {
     "data": {
      "text/html": [
       "<div>\n",
       "<style scoped>\n",
       "    .dataframe tbody tr th:only-of-type {\n",
       "        vertical-align: middle;\n",
       "    }\n",
       "\n",
       "    .dataframe tbody tr th {\n",
       "        vertical-align: top;\n",
       "    }\n",
       "\n",
       "    .dataframe thead th {\n",
       "        text-align: right;\n",
       "    }\n",
       "</style>\n",
       "<table border=\"1\" class=\"dataframe\">\n",
       "  <thead>\n",
       "    <tr style=\"text-align: right;\">\n",
       "      <th></th>\n",
       "      <th>PassengerId</th>\n",
       "      <th>Survived</th>\n",
       "      <th>Pclass</th>\n",
       "      <th>Age</th>\n",
       "      <th>SibSp</th>\n",
       "      <th>Parch</th>\n",
       "      <th>Fare</th>\n",
       "    </tr>\n",
       "  </thead>\n",
       "  <tbody>\n",
       "    <tr>\n",
       "      <th>count</th>\n",
       "      <td>891.000000</td>\n",
       "      <td>891.000000</td>\n",
       "      <td>891.000000</td>\n",
       "      <td>714.000000</td>\n",
       "      <td>891.000000</td>\n",
       "      <td>891.000000</td>\n",
       "      <td>891.000000</td>\n",
       "    </tr>\n",
       "    <tr>\n",
       "      <th>mean</th>\n",
       "      <td>446.000000</td>\n",
       "      <td>0.383838</td>\n",
       "      <td>2.308642</td>\n",
       "      <td>29.699118</td>\n",
       "      <td>0.523008</td>\n",
       "      <td>0.381594</td>\n",
       "      <td>32.204208</td>\n",
       "    </tr>\n",
       "    <tr>\n",
       "      <th>std</th>\n",
       "      <td>257.353842</td>\n",
       "      <td>0.486592</td>\n",
       "      <td>0.836071</td>\n",
       "      <td>14.526497</td>\n",
       "      <td>1.102743</td>\n",
       "      <td>0.806057</td>\n",
       "      <td>49.693429</td>\n",
       "    </tr>\n",
       "    <tr>\n",
       "      <th>min</th>\n",
       "      <td>1.000000</td>\n",
       "      <td>0.000000</td>\n",
       "      <td>1.000000</td>\n",
       "      <td>0.420000</td>\n",
       "      <td>0.000000</td>\n",
       "      <td>0.000000</td>\n",
       "      <td>0.000000</td>\n",
       "    </tr>\n",
       "    <tr>\n",
       "      <th>25%</th>\n",
       "      <td>223.500000</td>\n",
       "      <td>0.000000</td>\n",
       "      <td>2.000000</td>\n",
       "      <td>20.125000</td>\n",
       "      <td>0.000000</td>\n",
       "      <td>0.000000</td>\n",
       "      <td>7.910400</td>\n",
       "    </tr>\n",
       "    <tr>\n",
       "      <th>50%</th>\n",
       "      <td>446.000000</td>\n",
       "      <td>0.000000</td>\n",
       "      <td>3.000000</td>\n",
       "      <td>28.000000</td>\n",
       "      <td>0.000000</td>\n",
       "      <td>0.000000</td>\n",
       "      <td>14.454200</td>\n",
       "    </tr>\n",
       "    <tr>\n",
       "      <th>75%</th>\n",
       "      <td>668.500000</td>\n",
       "      <td>1.000000</td>\n",
       "      <td>3.000000</td>\n",
       "      <td>38.000000</td>\n",
       "      <td>1.000000</td>\n",
       "      <td>0.000000</td>\n",
       "      <td>31.000000</td>\n",
       "    </tr>\n",
       "    <tr>\n",
       "      <th>max</th>\n",
       "      <td>891.000000</td>\n",
       "      <td>1.000000</td>\n",
       "      <td>3.000000</td>\n",
       "      <td>80.000000</td>\n",
       "      <td>8.000000</td>\n",
       "      <td>6.000000</td>\n",
       "      <td>512.329200</td>\n",
       "    </tr>\n",
       "  </tbody>\n",
       "</table>\n",
       "</div>"
      ],
      "text/plain": [
       "       PassengerId    Survived      Pclass         Age       SibSp  \\\n",
       "count   891.000000  891.000000  891.000000  714.000000  891.000000   \n",
       "mean    446.000000    0.383838    2.308642   29.699118    0.523008   \n",
       "std     257.353842    0.486592    0.836071   14.526497    1.102743   \n",
       "min       1.000000    0.000000    1.000000    0.420000    0.000000   \n",
       "25%     223.500000    0.000000    2.000000   20.125000    0.000000   \n",
       "50%     446.000000    0.000000    3.000000   28.000000    0.000000   \n",
       "75%     668.500000    1.000000    3.000000   38.000000    1.000000   \n",
       "max     891.000000    1.000000    3.000000   80.000000    8.000000   \n",
       "\n",
       "            Parch        Fare  \n",
       "count  891.000000  891.000000  \n",
       "mean     0.381594   32.204208  \n",
       "std      0.806057   49.693429  \n",
       "min      0.000000    0.000000  \n",
       "25%      0.000000    7.910400  \n",
       "50%      0.000000   14.454200  \n",
       "75%      0.000000   31.000000  \n",
       "max      6.000000  512.329200  "
      ]
     },
     "execution_count": 7,
     "metadata": {},
     "output_type": "execute_result"
    }
   ],
   "source": [
    "# Try to load the dataset from the Workspace. Otherwise, create it from the file\n",
    "# NOTE: update the key to match the dataset name\n",
    "found = False\n",
    "key = \"Heart_Prediction_Dataset\"\n",
    "description_text = \"Heart Prediction Dataset\"\n",
    "\n",
    "if key in ws.datasets.keys(): \n",
    "        found = True\n",
    "        dataset = ws.datasets[key] \n",
    "\n",
    "if not found:\n",
    "        # Create AML Dataset and register it into Workspace\n",
    "        example_data = 'https://raw.githubusercontent.com/camille-wilkens/AZ_Capstone/main/heart_failure_clinical_records_dataset.csv'\n",
    "        dataset = Dataset.Tabular.from_delimited_files(example_data)        \n",
    "        #Register Dataset in Workspace\n",
    "        dataset = dataset.register(workspace=ws,\n",
    "                                   name=key,\n",
    "                                   description=description_text)\n",
    "\n",
    "\n",
    "df = dataset.to_pandas_dataframe()\n",
    "df.describe()"
   ]
  },
  {
   "cell_type": "markdown",
   "metadata": {},
   "source": [
    "## Review the Dataset Result"
   ]
  },
  {
   "cell_type": "code",
   "execution_count": 8,
   "metadata": {},
   "outputs": [
    {
     "data": {
      "text/html": [
       "<div>\n",
       "<style scoped>\n",
       "    .dataframe tbody tr th:only-of-type {\n",
       "        vertical-align: middle;\n",
       "    }\n",
       "\n",
       "    .dataframe tbody tr th {\n",
       "        vertical-align: top;\n",
       "    }\n",
       "\n",
       "    .dataframe thead th {\n",
       "        text-align: right;\n",
       "    }\n",
       "</style>\n",
       "<table border=\"1\" class=\"dataframe\">\n",
       "  <thead>\n",
       "    <tr style=\"text-align: right;\">\n",
       "      <th></th>\n",
       "      <th>PassengerId</th>\n",
       "      <th>Survived</th>\n",
       "      <th>Pclass</th>\n",
       "      <th>Name</th>\n",
       "      <th>Sex</th>\n",
       "      <th>Age</th>\n",
       "      <th>SibSp</th>\n",
       "      <th>Parch</th>\n",
       "      <th>Ticket</th>\n",
       "      <th>Fare</th>\n",
       "      <th>Cabin</th>\n",
       "      <th>Embarked</th>\n",
       "    </tr>\n",
       "  </thead>\n",
       "  <tbody>\n",
       "    <tr>\n",
       "      <th>0</th>\n",
       "      <td>1</td>\n",
       "      <td>0</td>\n",
       "      <td>3</td>\n",
       "      <td>Braund, Mr. Owen Harris</td>\n",
       "      <td>male</td>\n",
       "      <td>22.0</td>\n",
       "      <td>1</td>\n",
       "      <td>0</td>\n",
       "      <td>A/5 21171</td>\n",
       "      <td>7.2500</td>\n",
       "      <td>None</td>\n",
       "      <td>S</td>\n",
       "    </tr>\n",
       "    <tr>\n",
       "      <th>1</th>\n",
       "      <td>2</td>\n",
       "      <td>1</td>\n",
       "      <td>1</td>\n",
       "      <td>Cumings, Mrs. John Bradley (Florence Briggs Th...</td>\n",
       "      <td>female</td>\n",
       "      <td>38.0</td>\n",
       "      <td>1</td>\n",
       "      <td>0</td>\n",
       "      <td>PC 17599</td>\n",
       "      <td>71.2833</td>\n",
       "      <td>C85</td>\n",
       "      <td>C</td>\n",
       "    </tr>\n",
       "    <tr>\n",
       "      <th>2</th>\n",
       "      <td>3</td>\n",
       "      <td>1</td>\n",
       "      <td>3</td>\n",
       "      <td>Heikkinen, Miss. Laina</td>\n",
       "      <td>female</td>\n",
       "      <td>26.0</td>\n",
       "      <td>0</td>\n",
       "      <td>0</td>\n",
       "      <td>STON/O2. 3101282</td>\n",
       "      <td>7.9250</td>\n",
       "      <td>None</td>\n",
       "      <td>S</td>\n",
       "    </tr>\n",
       "    <tr>\n",
       "      <th>3</th>\n",
       "      <td>4</td>\n",
       "      <td>1</td>\n",
       "      <td>1</td>\n",
       "      <td>Futrelle, Mrs. Jacques Heath (Lily May Peel)</td>\n",
       "      <td>female</td>\n",
       "      <td>35.0</td>\n",
       "      <td>1</td>\n",
       "      <td>0</td>\n",
       "      <td>113803</td>\n",
       "      <td>53.1000</td>\n",
       "      <td>C123</td>\n",
       "      <td>S</td>\n",
       "    </tr>\n",
       "    <tr>\n",
       "      <th>4</th>\n",
       "      <td>5</td>\n",
       "      <td>0</td>\n",
       "      <td>3</td>\n",
       "      <td>Allen, Mr. William Henry</td>\n",
       "      <td>male</td>\n",
       "      <td>35.0</td>\n",
       "      <td>0</td>\n",
       "      <td>0</td>\n",
       "      <td>373450</td>\n",
       "      <td>8.0500</td>\n",
       "      <td>None</td>\n",
       "      <td>S</td>\n",
       "    </tr>\n",
       "  </tbody>\n",
       "</table>\n",
       "</div>"
      ],
      "text/plain": [
       "   PassengerId  Survived  Pclass  \\\n",
       "0            1         0       3   \n",
       "1            2         1       1   \n",
       "2            3         1       3   \n",
       "3            4         1       1   \n",
       "4            5         0       3   \n",
       "\n",
       "                                                Name     Sex   Age  SibSp  \\\n",
       "0                            Braund, Mr. Owen Harris    male  22.0      1   \n",
       "1  Cumings, Mrs. John Bradley (Florence Briggs Th...  female  38.0      1   \n",
       "2                             Heikkinen, Miss. Laina  female  26.0      0   \n",
       "3       Futrelle, Mrs. Jacques Heath (Lily May Peel)  female  35.0      1   \n",
       "4                           Allen, Mr. William Henry    male  35.0      0   \n",
       "\n",
       "   Parch            Ticket     Fare Cabin Embarked  \n",
       "0      0         A/5 21171   7.2500  None        S  \n",
       "1      0          PC 17599  71.2833   C85        C  \n",
       "2      0  STON/O2. 3101282   7.9250  None        S  \n",
       "3      0            113803  53.1000  C123        S  \n",
       "4      0            373450   8.0500  None        S  "
      ]
     },
     "execution_count": 8,
     "metadata": {},
     "output_type": "execute_result"
    }
   ],
   "source": [
    "dataset.take(5).to_pandas_dataframe()"
   ]
  },
  {
   "cell_type": "markdown",
   "metadata": {},
   "source": [
    "## AutoML Configuration\n",
    "\n",
    "TODO: Explain why you chose the automl settings and cofiguration you used below."
   ]
  },
  {
   "cell_type": "code",
   "execution_count": 58,
   "metadata": {
    "gather": {
     "logged": 1598429217746
    },
    "jupyter": {
     "outputs_hidden": false,
     "source_hidden": false
    },
    "nteract": {
     "transient": {
      "deleting": false
     }
    }
   },
   "outputs": [],
   "source": [
    "# TODO: Put your automl settings here\n",
    "automl_settings = {\n",
    "    \"experiment_timeout_minutes\": 30,\n",
    "    \"max_concurrent_iterations\": 5,\n",
    "     \"n_cross_validations\": 25,\n",
    "     \"primary_metric\" : 'AUC_weighted'\n",
    "}\n",
    " #   \"primary_metric\" : 'AUC_weighted'\n",
    "# TODO: Put your automl config here\n",
    "automl_config = AutoMLConfig(compute_target=compute_target,\n",
    "                             task = \"classification\",\n",
    "                             training_data=dataset,\n",
    "                             label_column_name=\"Survived\",   \n",
    "                             enable_early_stopping= True,\n",
    "                             featurization= 'auto',\n",
    "                             debug_log = \"automl_errors.log\",\n",
    "                             **automl_settings\n",
    "                            )"
   ]
  },
  {
   "cell_type": "markdown",
   "metadata": {},
   "source": [
    "## Run Details\n",
    "\n",
    "OPTIONAL: Write about the different models trained and their performance. Why do you think some models did better than others?\n",
    "\n",
    "TODO: In the cell below, use the `RunDetails` widget to show the different experiments."
   ]
  },
  {
   "cell_type": "code",
   "execution_count": 59,
   "metadata": {},
   "outputs": [
    {
     "name": "stdout",
     "output_type": "stream",
     "text": [
      "Submitting remote run.\n"
     ]
    },
    {
     "data": {
      "text/html": [
       "<table style=\"width:100%\"><tr><th>Experiment</th><th>Id</th><th>Type</th><th>Status</th><th>Details Page</th><th>Docs Page</th></tr><tr><td>ml-experiment-1</td><td>AutoML_0b3305fc-f780-4a61-9cc7-d0140c08eef0</td><td>automl</td><td>NotStarted</td><td><a href=\"https://ml.azure.com/runs/AutoML_0b3305fc-f780-4a61-9cc7-d0140c08eef0?wsid=/subscriptions/6971f5ac-8af1-446e-8034-05acea24681f/resourcegroups/aml-quickstarts-191197/workspaces/quick-starts-ws-191197&amp;tid=660b3398-b80e-49d2-bc5b-ac1dc93b5254\" target=\"_blank\" rel=\"noopener\">Link to Azure Machine Learning studio</a></td><td><a href=\"https://docs.microsoft.com/en-us/python/api/overview/azure/ml/intro?view=azure-ml-py\" target=\"_blank\" rel=\"noopener\">Link to Documentation</a></td></tr></table>"
      ],
      "text/plain": [
       "<IPython.core.display.HTML object>"
      ]
     },
     "metadata": {},
     "output_type": "display_data"
    }
   ],
   "source": [
    "# TODO: Submit your experiment\n",
    "remote_run = experiment.submit(automl_config)\n"
   ]
  },
  {
   "cell_type": "code",
   "execution_count": 60,
   "metadata": {},
   "outputs": [
    {
     "data": {
      "application/vnd.jupyter.widget-view+json": {
       "model_id": "73f108ddea0543cda6c0c0b2c7ca59e0",
       "version_major": 2,
       "version_minor": 0
      },
      "text/plain": [
       "_AutoMLWidget(widget_settings={'childWidgetDisplay': 'popup', 'send_telemetry': False, 'log_level': 'INFO', 's…"
      ]
     },
     "metadata": {},
     "output_type": "display_data"
    },
    {
     "data": {
      "application/aml.mini.widget.v1": "{\"status\": \"Completed\", \"workbench_run_details_uri\": \"https://ml.azure.com/runs/AutoML_0b3305fc-f780-4a61-9cc7-d0140c08eef0?wsid=/subscriptions/6971f5ac-8af1-446e-8034-05acea24681f/resourcegroups/aml-quickstarts-191197/workspaces/quick-starts-ws-191197&tid=660b3398-b80e-49d2-bc5b-ac1dc93b5254\", \"run_id\": \"AutoML_0b3305fc-f780-4a61-9cc7-d0140c08eef0\", \"run_properties\": {\"run_id\": \"AutoML_0b3305fc-f780-4a61-9cc7-d0140c08eef0\", \"created_utc\": \"2022-04-06T19:47:45.974164Z\", \"properties\": {\"num_iterations\": \"1000\", \"training_type\": \"TrainFull\", \"acquisition_function\": \"EI\", \"primary_metric\": \"AUC_weighted\", \"train_split\": \"0\", \"acquisition_parameter\": \"0\", \"num_cross_validation\": \"25\", \"target\": \"automl-cluster\", \"AMLSettingsJsonString\": \"{\\\"path\\\":null,\\\"name\\\":\\\"ml-experiment-1\\\",\\\"subscription_id\\\":\\\"6971f5ac-8af1-446e-8034-05acea24681f\\\",\\\"resource_group\\\":\\\"aml-quickstarts-191197\\\",\\\"workspace_name\\\":\\\"quick-starts-ws-191197\\\",\\\"region\\\":\\\"southcentralus\\\",\\\"compute_target\\\":\\\"automl-cluster\\\",\\\"spark_service\\\":null,\\\"azure_service\\\":\\\"remote\\\",\\\"many_models\\\":false,\\\"pipeline_fetch_max_batch_size\\\":1,\\\"enable_batch_run\\\":true,\\\"enable_run_restructure\\\":false,\\\"start_auxiliary_runs_before_parent_complete\\\":false,\\\"enable_code_generation\\\":false,\\\"iterations\\\":1000,\\\"primary_metric\\\":\\\"AUC_weighted\\\",\\\"task_type\\\":\\\"classification\\\",\\\"positive_label\\\":null,\\\"data_script\\\":null,\\\"test_size\\\":0.0,\\\"test_include_predictions_only\\\":false,\\\"validation_size\\\":0.0,\\\"n_cross_validations\\\":25,\\\"y_min\\\":null,\\\"y_max\\\":null,\\\"num_classes\\\":null,\\\"featurization\\\":\\\"auto\\\",\\\"_ignore_package_version_incompatibilities\\\":false,\\\"is_timeseries\\\":false,\\\"max_cores_per_iteration\\\":1,\\\"max_concurrent_iterations\\\":5,\\\"iteration_timeout_minutes\\\":null,\\\"mem_in_mb\\\":null,\\\"enforce_time_on_windows\\\":false,\\\"experiment_timeout_minutes\\\":30,\\\"experiment_exit_score\\\":null,\\\"partition_column_names\\\":null,\\\"whitelist_models\\\":null,\\\"blacklist_algos\\\":[\\\"TensorFlowLinearClassifier\\\",\\\"TensorFlowDNN\\\"],\\\"supported_models\\\":[\\\"MultinomialNaiveBayes\\\",\\\"SVM\\\",\\\"TensorFlowDNN\\\",\\\"TabnetClassifier\\\",\\\"DecisionTree\\\",\\\"LinearSVM\\\",\\\"TensorFlowLinearClassifier\\\",\\\"RandomForest\\\",\\\"GradientBoosting\\\",\\\"SGD\\\",\\\"LogisticRegression\\\",\\\"XGBoostClassifier\\\",\\\"BernoulliNaiveBayes\\\",\\\"LightGBM\\\",\\\"KNN\\\",\\\"AveragedPerceptronClassifier\\\",\\\"ExtremeRandomTrees\\\"],\\\"private_models\\\":[],\\\"auto_blacklist\\\":true,\\\"blacklist_samples_reached\\\":false,\\\"exclude_nan_labels\\\":true,\\\"verbosity\\\":20,\\\"_debug_log\\\":\\\"azureml_automl.log\\\",\\\"show_warnings\\\":false,\\\"model_explainability\\\":true,\\\"service_url\\\":null,\\\"sdk_url\\\":null,\\\"sdk_packages\\\":null,\\\"enable_onnx_compatible_models\\\":false,\\\"enable_split_onnx_featurizer_estimator_models\\\":false,\\\"vm_type\\\":\\\"STANDARD_DS12_V2\\\",\\\"telemetry_verbosity\\\":20,\\\"send_telemetry\\\":true,\\\"enable_dnn\\\":false,\\\"scenario\\\":\\\"SDK-1.13.0\\\",\\\"environment_label\\\":null,\\\"save_mlflow\\\":false,\\\"enable_categorical_indicators\\\":false,\\\"force_text_dnn\\\":false,\\\"enable_feature_sweeping\\\":true,\\\"enable_early_stopping\\\":true,\\\"early_stopping_n_iters\\\":10,\\\"arguments\\\":null,\\\"dataset_id\\\":\\\"328e5e8a-de0d-4b51-8614-660a932d3629\\\",\\\"hyperdrive_config\\\":null,\\\"validation_dataset_id\\\":null,\\\"run_source\\\":null,\\\"metrics\\\":null,\\\"enable_metric_confidence\\\":false,\\\"enable_ensembling\\\":true,\\\"enable_stack_ensembling\\\":true,\\\"ensemble_iterations\\\":15,\\\"enable_tf\\\":false,\\\"enable_subsampling\\\":null,\\\"subsample_seed\\\":null,\\\"enable_nimbusml\\\":false,\\\"enable_streaming\\\":false,\\\"force_streaming\\\":false,\\\"track_child_runs\\\":true,\\\"allowed_private_models\\\":[],\\\"label_column_name\\\":\\\"Survived\\\",\\\"weight_column_name\\\":null,\\\"cv_split_column_names\\\":null,\\\"enable_local_managed\\\":false,\\\"_local_managed_run_id\\\":null,\\\"cost_mode\\\":1,\\\"lag_length\\\":0,\\\"metric_operation\\\":\\\"maximize\\\",\\\"preprocess\\\":true}\", \"DataPrepJsonString\": \"{\\\\\\\"training_data\\\\\\\": {\\\\\\\"datasetId\\\\\\\": \\\\\\\"328e5e8a-de0d-4b51-8614-660a932d3629\\\\\\\"}, \\\\\\\"datasets\\\\\\\": 0}\", \"EnableSubsampling\": null, \"runTemplate\": \"AutoML\", \"azureml.runsource\": \"automl\", \"display_task_type\": \"classification\", \"dependencies_versions\": \"{\\\"azureml-widgets\\\": \\\"1.39.0\\\", \\\"azureml-training-tabular\\\": \\\"1.39.0\\\", \\\"azureml-train\\\": \\\"1.39.0\\\", \\\"azureml-train-restclients-hyperdrive\\\": \\\"1.39.0\\\", \\\"azureml-train-core\\\": \\\"1.39.0\\\", \\\"azureml-train-automl\\\": \\\"1.39.0\\\", \\\"azureml-train-automl-runtime\\\": \\\"1.39.0\\\", \\\"azureml-train-automl-client\\\": \\\"1.39.0\\\", \\\"azureml-tensorboard\\\": \\\"1.39.0\\\", \\\"azureml-telemetry\\\": \\\"1.39.0\\\", \\\"azureml-sdk\\\": \\\"1.39.0\\\", \\\"azureml-samples\\\": \\\"0+unknown\\\", \\\"azureml-responsibleai\\\": \\\"1.39.0\\\", \\\"azureml-pipeline\\\": \\\"1.39.0\\\", \\\"azureml-pipeline-steps\\\": \\\"1.39.0\\\", \\\"azureml-pipeline-core\\\": \\\"1.39.0\\\", \\\"azureml-opendatasets\\\": \\\"1.39.0\\\", \\\"azureml-mlflow\\\": \\\"1.39.0\\\", \\\"azureml-interpret\\\": \\\"1.39.0\\\", \\\"azureml-inference-server-http\\\": \\\"0.4.10\\\", \\\"azureml-explain-model\\\": \\\"1.39.0\\\", \\\"azureml-defaults\\\": \\\"1.39.0\\\", \\\"azureml-dataset-runtime\\\": \\\"1.39.0\\\", \\\"azureml-dataprep\\\": \\\"2.27.1\\\", \\\"azureml-dataprep-rslex\\\": \\\"2.3.1\\\", \\\"azureml-dataprep-native\\\": \\\"38.0.0\\\", \\\"azureml-datadrift\\\": \\\"1.39.0\\\", \\\"azureml-core\\\": \\\"1.39.0\\\", \\\"azureml-contrib-services\\\": \\\"1.39.0\\\", \\\"azureml-contrib-server\\\": \\\"1.39.0\\\", \\\"azureml-contrib-reinforcementlearning\\\": \\\"1.39.0\\\", \\\"azureml-contrib-pipeline-steps\\\": \\\"1.39.0\\\", \\\"azureml-contrib-notebook\\\": \\\"1.39.0\\\", \\\"azureml-contrib-fairness\\\": \\\"1.39.0\\\", \\\"azureml-contrib-dataset\\\": \\\"1.39.0\\\", \\\"azureml-contrib-automl-pipeline-steps\\\": \\\"1.39.0\\\", \\\"azureml-cli-common\\\": \\\"1.39.0\\\", \\\"azureml-automl-runtime\\\": \\\"1.39.0\\\", \\\"azureml-automl-dnn-nlp\\\": \\\"1.39.0\\\", \\\"azureml-automl-core\\\": \\\"1.39.0\\\", \\\"azureml-accel-models\\\": \\\"1.39.0\\\"}\", \"_aml_system_scenario_identification\": \"Remote.Parent\", \"ClientType\": \"SDK\", \"environment_cpu_name\": \"AzureML-AutoML\", \"environment_cpu_label\": \"prod\", \"environment_gpu_name\": \"AzureML-AutoML-GPU\", \"environment_gpu_label\": \"prod\", \"root_attribution\": \"automl\", \"attribution\": \"AutoML\", \"Orchestrator\": \"AutoML\", \"CancelUri\": \"https://southcentralus.api.azureml.ms/jasmine/v1.0/subscriptions/6971f5ac-8af1-446e-8034-05acea24681f/resourceGroups/aml-quickstarts-191197/providers/Microsoft.MachineLearningServices/workspaces/quick-starts-ws-191197/experimentids/9c42bfcc-ccc5-4112-a8ac-7dd038e01003/cancel/AutoML_0b3305fc-f780-4a61-9cc7-d0140c08eef0\", \"ClientSdkVersion\": \"1.39.1\", \"snapshotId\": \"00000000-0000-0000-0000-000000000000\", \"SetupRunId\": \"AutoML_0b3305fc-f780-4a61-9cc7-d0140c08eef0_setup\", \"SetupRunContainerId\": \"dcid.AutoML_0b3305fc-f780-4a61-9cc7-d0140c08eef0_setup\", \"FeaturizationRunJsonPath\": \"featurizer_container.json\", \"FeaturizationRunId\": \"AutoML_0b3305fc-f780-4a61-9cc7-d0140c08eef0_featurize\", \"ProblemInfoJsonString\": \"{\\\"dataset_num_categorical\\\": 0, \\\"is_sparse\\\": true, \\\"subsampling\\\": false, \\\"has_extra_col\\\": true, \\\"dataset_classes\\\": 2, \\\"dataset_features\\\": 6974, \\\"dataset_samples\\\": 891, \\\"single_frequency_class_detected\\\": false}\", \"ModelExplainRunId\": \"AutoML_0b3305fc-f780-4a61-9cc7-d0140c08eef0_ModelExplain\"}, \"tags\": {\"model_explain_run\": \"best_run\", \"_aml_system_automl_run_workspace_id\": \"3d125291-9274-43e3-8dee-9de104117819\", \"_aml_system_azureml.automlComponent\": \"AutoML\", \"pipeline_id\": \"\", \"score\": \"\", \"predicted_cost\": \"\", \"fit_time\": \"\", \"training_percent\": \"\", \"iteration\": \"\", \"run_preprocessor\": \"\", \"run_algorithm\": \"\", \"dynamic_whitelisting_iterations\": \"<23>;<30>;<35>;\", \"_aml_system_azureml.automl_early_exit_message\": \"No scores improved over last 20 iterations, so experiment stopped early. This early stopping behavior can be disabled by setting enable_early_stopping = False in AutoMLConfig for notebook/python SDK runs.\", \"automl_best_child_run_id\": \"AutoML_0b3305fc-f780-4a61-9cc7-d0140c08eef0_38\", \"model_explain_best_run_child_id\": \"AutoML_0b3305fc-f780-4a61-9cc7-d0140c08eef0_38\"}, \"end_time_utc\": \"2022-04-06T20:02:54.435483Z\", \"status\": \"Completed\", \"log_files\": {}, \"log_groups\": [], \"run_duration\": \"0:15:08\", \"run_number\": \"1649274465\", \"run_queued_details\": {\"status\": \"Completed\", \"details\": null}}, \"child_runs\": [{\"run_id\": \"AutoML_0b3305fc-f780-4a61-9cc7-d0140c08eef0_setup\", \"run_number\": 1649274477, \"metric\": null, \"status\": \"Completed\", \"run_type\": \"azureml.scriptrun\", \"training_percent\": null, \"start_time\": \"2022-04-06T19:48:50.521599Z\", \"end_time\": \"2022-04-06T19:48:54.210204Z\", \"created_time\": \"2022-04-06T19:47:57.476854Z\", \"created_time_dt\": \"2022-04-06T19:47:57.476854Z\", \"duration\": \"0:00:56\", \"iteration\": null, \"goal\": null, \"run_name\": \"Completed\", \"run_properties\": null}, {\"run_id\": \"AutoML_0b3305fc-f780-4a61-9cc7-d0140c08eef0_featurize\", \"run_number\": 1649274534, \"metric\": null, \"status\": \"Completed\", \"run_type\": \"automl.featurization\", \"training_percent\": null, \"start_time\": \"2022-04-06T19:48:54.953526Z\", \"end_time\": \"2022-04-06T19:49:44.482796Z\", \"created_time\": \"2022-04-06T19:48:54.63396Z\", \"created_time_dt\": \"2022-04-06T19:48:54.63396Z\", \"duration\": \"0:00:49\", \"iteration\": null, \"goal\": null, \"run_name\": \"Completed\", \"run_properties\": null}, {\"run_id\": \"AutoML_0b3305fc-f780-4a61-9cc7-d0140c08eef0_0\", \"run_number\": 1649274585, \"metric\": null, \"status\": \"Completed\", \"run_type\": null, \"training_percent\": \"100\", \"start_time\": \"2022-04-06T19:50:03.20283Z\", \"end_time\": \"2022-04-06T19:50:24.773009Z\", \"created_time\": \"2022-04-06T19:49:45.730454Z\", \"created_time_dt\": \"2022-04-06T19:49:45.730454Z\", \"duration\": \"0:00:39\", \"iteration\": \"0\", \"goal\": \"AUC_weighted_max\", \"run_name\": \"MaxAbsScaler, LightGBM\", \"run_properties\": \"copy=True\", \"primary_metric\": 0.85579672, \"best_metric\": 0.85579672}, {\"run_id\": \"AutoML_0b3305fc-f780-4a61-9cc7-d0140c08eef0_1\", \"run_number\": 1649274586, \"metric\": null, \"status\": \"Completed\", \"run_type\": null, \"training_percent\": \"100\", \"start_time\": \"2022-04-06T19:50:24.991757Z\", \"end_time\": \"2022-04-06T19:51:12.773898Z\", \"created_time\": \"2022-04-06T19:49:46.212823Z\", \"created_time_dt\": \"2022-04-06T19:49:46.212823Z\", \"duration\": \"0:01:26\", \"iteration\": \"1\", \"goal\": \"AUC_weighted_max\", \"run_name\": \"MaxAbsScaler, XGBoostClassifier\", \"run_properties\": \"copy=True\", \"primary_metric\": 0.85430012, \"best_metric\": 0.85579672}, {\"run_id\": \"AutoML_0b3305fc-f780-4a61-9cc7-d0140c08eef0_4\", \"run_number\": 1649274587, \"metric\": null, \"status\": \"Completed\", \"run_type\": null, \"training_percent\": \"100\", \"start_time\": \"2022-04-06T19:50:03.447607Z\", \"end_time\": \"2022-04-06T19:50:19.201114Z\", \"created_time\": \"2022-04-06T19:49:47.616244Z\", \"created_time_dt\": \"2022-04-06T19:49:47.616244Z\", \"duration\": \"0:00:31\", \"iteration\": \"4\", \"goal\": \"AUC_weighted_max\", \"run_name\": \"StandardScalerWrapper, LightGBM\", \"run_properties\": \"copy=True, with_mean=False, with_std=True\", \"primary_metric\": 0.85297948, \"best_metric\": 0.85579672}, {\"run_id\": \"AutoML_0b3305fc-f780-4a61-9cc7-d0140c08eef0_5\", \"run_number\": 1649274588, \"metric\": null, \"status\": \"Completed\", \"run_type\": null, \"training_percent\": \"100\", \"start_time\": \"2022-04-06T19:50:19.399001Z\", \"end_time\": \"2022-04-06T19:50:37.292754Z\", \"created_time\": \"2022-04-06T19:49:48.186064Z\", \"created_time_dt\": \"2022-04-06T19:49:48.186064Z\", \"duration\": \"0:00:49\", \"iteration\": \"5\", \"goal\": \"AUC_weighted_max\", \"run_name\": \"SparseNormalizer, XGBoostClassifier\", \"run_properties\": \"copy=True, norm='max'\", \"primary_metric\": 0.85308559, \"best_metric\": 0.85579672}, {\"run_id\": \"AutoML_0b3305fc-f780-4a61-9cc7-d0140c08eef0_8\", \"run_number\": 1649274589, \"metric\": null, \"status\": \"Completed\", \"run_type\": null, \"training_percent\": \"100\", \"start_time\": \"2022-04-06T19:50:11.437024Z\", \"end_time\": \"2022-04-06T19:50:31.933883Z\", \"created_time\": \"2022-04-06T19:49:49.521258Z\", \"created_time_dt\": \"2022-04-06T19:49:49.521258Z\", \"duration\": \"0:00:42\", \"iteration\": \"8\", \"goal\": \"AUC_weighted_max\", \"run_name\": \"SparseNormalizer, XGBoostClassifier\", \"run_properties\": \"copy=True, norm='max'\", \"primary_metric\": 0.86203341, \"best_metric\": 0.86203341}, {\"run_id\": \"AutoML_0b3305fc-f780-4a61-9cc7-d0140c08eef0_9\", \"run_number\": 1649274590, \"metric\": null, \"status\": \"Completed\", \"run_type\": null, \"training_percent\": \"100\", \"start_time\": \"2022-04-06T19:50:32.134174Z\", \"end_time\": \"2022-04-06T19:50:48.914642Z\", \"created_time\": \"2022-04-06T19:49:50.029054Z\", \"created_time_dt\": \"2022-04-06T19:49:50.029054Z\", \"duration\": \"0:00:58\", \"iteration\": \"9\", \"goal\": \"AUC_weighted_max\", \"run_name\": \"MaxAbsScaler, RandomForest\", \"run_properties\": \"copy=True\", \"primary_metric\": 0.66827847, \"best_metric\": 0.86203341}, {\"run_id\": \"AutoML_0b3305fc-f780-4a61-9cc7-d0140c08eef0_12\", \"run_number\": 1649274591, \"metric\": null, \"status\": \"Completed\", \"run_type\": null, \"training_percent\": \"100\", \"start_time\": \"2022-04-06T19:51:08.762751Z\", \"end_time\": \"2022-04-06T19:51:30.996575Z\", \"created_time\": \"2022-04-06T19:49:51.351888Z\", \"created_time_dt\": \"2022-04-06T19:49:51.351888Z\", \"duration\": \"0:01:39\", \"iteration\": \"12\", \"goal\": \"AUC_weighted_max\", \"run_name\": \"StandardScalerWrapper, XGBoostClassifier\", \"run_properties\": \"copy=True, with_mean=False, with_std=False\", \"primary_metric\": 0.86720063, \"best_metric\": 0.86720063}, {\"run_id\": \"AutoML_0b3305fc-f780-4a61-9cc7-d0140c08eef0_14\", \"run_number\": 1649274592, \"metric\": null, \"status\": \"Completed\", \"run_type\": null, \"training_percent\": \"100\", \"start_time\": \"2022-04-06T19:51:48.173832Z\", \"end_time\": \"2022-04-06T19:52:13.429134Z\", \"created_time\": \"2022-04-06T19:49:52.242521Z\", \"created_time_dt\": \"2022-04-06T19:49:52.242521Z\", \"duration\": \"0:02:21\", \"iteration\": \"14\", \"goal\": \"AUC_weighted_max\", \"run_name\": \"StandardScalerWrapper, RandomForest\", \"run_properties\": \"copy=True, with_mean=False, with_std=False\", \"primary_metric\": 0.85456383, \"best_metric\": 0.86720063}, {\"run_id\": \"AutoML_0b3305fc-f780-4a61-9cc7-d0140c08eef0_16\", \"run_number\": 1649274593, \"metric\": null, \"status\": \"Completed\", \"run_type\": null, \"training_percent\": \"100\", \"start_time\": \"2022-04-06T19:52:07.653086Z\", \"end_time\": \"2022-04-06T19:52:28.413483Z\", \"created_time\": \"2022-04-06T19:49:53.193577Z\", \"created_time_dt\": \"2022-04-06T19:49:53.193577Z\", \"duration\": \"0:02:35\", \"iteration\": \"16\", \"goal\": \"AUC_weighted_max\", \"run_name\": \"MaxAbsScaler, LogisticRegression\", \"run_properties\": \"copy=True\", \"primary_metric\": 0.83662694, \"best_metric\": 0.86720063}, {\"run_id\": \"AutoML_0b3305fc-f780-4a61-9cc7-d0140c08eef0_worker_4\", \"run_number\": 1649274594, \"metric\": null, \"status\": \"Completed\", \"run_type\": \"azureml.scriptrun\", \"training_percent\": null, \"start_time\": \"2022-04-06T19:53:54.91231Z\", \"end_time\": \"2022-04-06T19:55:18.670294Z\", \"created_time\": \"2022-04-06T19:49:54.760085Z\", \"created_time_dt\": \"2022-04-06T19:49:54.760085Z\", \"duration\": \"0:05:23\", \"iteration\": null, \"goal\": null, \"run_name\": \"Completed\", \"run_properties\": null}, {\"run_id\": \"AutoML_0b3305fc-f780-4a61-9cc7-d0140c08eef0_21\", \"run_number\": 1649274751, \"metric\": null, \"status\": \"Completed\", \"run_type\": \"azureml.scriptrun\", \"training_percent\": \"100\", \"start_time\": \"2022-04-06T19:53:09.771239Z\", \"end_time\": \"2022-04-06T19:53:13.509799Z\", \"created_time\": \"2022-04-06T19:52:31.591026Z\", \"created_time_dt\": \"2022-04-06T19:52:31.591026Z\", \"duration\": \"0:00:41\", \"iteration\": \"21\", \"goal\": \"AUC_weighted_max\", \"run_name\": \"StandardScalerWrapper, XGBoostClassifier\", \"run_properties\": \"copy=True, with_mean=False, with_std=False\", \"primary_metric\": 0.8599832, \"best_metric\": 0.86720063}, {\"run_id\": \"AutoML_0b3305fc-f780-4a61-9cc7-d0140c08eef0_23\", \"run_number\": 1649274819, \"metric\": null, \"status\": \"Completed\", \"run_type\": \"azureml.scriptrun\", \"training_percent\": \"100\", \"start_time\": \"2022-04-06T19:55:13.633531Z\", \"end_time\": \"2022-04-06T19:55:17.38489Z\", \"created_time\": \"2022-04-06T19:53:39.356651Z\", \"created_time_dt\": \"2022-04-06T19:53:39.356651Z\", \"duration\": \"0:01:38\", \"iteration\": \"23\", \"goal\": \"AUC_weighted_max\", \"run_name\": \"SparseNormalizer, XGBoostClassifier\", \"run_properties\": \"copy=True, norm='max'\", \"primary_metric\": 0.86153148, \"best_metric\": 0.86720063}, {\"run_id\": \"AutoML_0b3305fc-f780-4a61-9cc7-d0140c08eef0_26\", \"run_number\": 1649274891, \"metric\": null, \"status\": \"Completed\", \"run_type\": \"azureml.scriptrun\", \"training_percent\": \"100\", \"start_time\": \"2022-04-06T19:56:25.356559Z\", \"end_time\": \"2022-04-06T19:56:29.099091Z\", \"created_time\": \"2022-04-06T19:54:51.874059Z\", \"created_time_dt\": \"2022-04-06T19:54:51.874059Z\", \"duration\": \"0:01:37\", \"iteration\": \"26\", \"goal\": \"AUC_weighted_max\", \"run_name\": \"StandardScalerWrapper, LinearSVM\", \"run_properties\": \"copy=True, with_mean=False, with_std=True\", \"primary_metric\": 0.82924111, \"best_metric\": 0.86720063}, {\"run_id\": \"AutoML_0b3305fc-f780-4a61-9cc7-d0140c08eef0_27\", \"run_number\": 1649274919, \"metric\": null, \"status\": \"Completed\", \"run_type\": \"azureml.scriptrun\", \"training_percent\": \"100\", \"start_time\": \"2022-04-06T19:57:04.900942Z\", \"end_time\": \"2022-04-06T19:57:08.562549Z\", \"created_time\": \"2022-04-06T19:55:19.06766Z\", \"created_time_dt\": \"2022-04-06T19:55:19.06766Z\", \"duration\": \"0:01:49\", \"iteration\": \"27\", \"goal\": \"AUC_weighted_max\", \"run_name\": \"MaxAbsScaler, LightGBM\", \"run_properties\": \"copy=True\", \"primary_metric\": 0.85729515, \"best_metric\": 0.86720063}, {\"run_id\": \"AutoML_0b3305fc-f780-4a61-9cc7-d0140c08eef0_28\", \"run_number\": 1649274960, \"metric\": null, \"status\": \"Completed\", \"run_type\": \"azureml.scriptrun\", \"training_percent\": \"100\", \"start_time\": \"2022-04-06T19:57:33.96392Z\", \"end_time\": \"2022-04-06T19:57:37.619587Z\", \"created_time\": \"2022-04-06T19:56:00.482869Z\", \"created_time_dt\": \"2022-04-06T19:56:00.482869Z\", \"duration\": \"0:01:37\", \"iteration\": \"28\", \"goal\": \"AUC_weighted_max\", \"run_name\": \"MaxAbsScaler, LightGBM\", \"run_properties\": \"copy=True\", \"primary_metric\": 0.85854181, \"best_metric\": 0.86720063}, {\"run_id\": \"AutoML_0b3305fc-f780-4a61-9cc7-d0140c08eef0_30\", \"run_number\": 1649274986, \"metric\": null, \"status\": \"Completed\", \"run_type\": \"azureml.scriptrun\", \"training_percent\": \"100\", \"start_time\": \"2022-04-06T19:58:38.050179Z\", \"end_time\": \"2022-04-06T19:58:41.689162Z\", \"created_time\": \"2022-04-06T19:56:26.869548Z\", \"created_time_dt\": \"2022-04-06T19:56:26.869548Z\", \"duration\": \"0:02:14\", \"iteration\": \"30\", \"goal\": \"AUC_weighted_max\", \"run_name\": \"TruncatedSVDWrapper, ExtremeRandomTrees\", \"run_properties\": \"n_components=0.05947368421052632, random_state=None\", \"primary_metric\": 0.80095845, \"best_metric\": 0.86720063}, {\"run_id\": \"AutoML_0b3305fc-f780-4a61-9cc7-d0140c08eef0_31\", \"run_number\": 1649274990, \"metric\": null, \"status\": \"Completed\", \"run_type\": \"azureml.scriptrun\", \"training_percent\": \"100\", \"start_time\": \"2022-04-06T19:59:15.346045Z\", \"end_time\": \"2022-04-06T19:59:18.939795Z\", \"created_time\": \"2022-04-06T19:56:30.710197Z\", \"created_time_dt\": \"2022-04-06T19:56:30.710197Z\", \"duration\": \"0:02:48\", \"iteration\": \"31\", \"goal\": \"AUC_weighted_max\", \"run_name\": \"SparseNormalizer, LightGBM\", \"run_properties\": \"copy=True, norm='l1'\", \"primary_metric\": 0.84724995, \"best_metric\": 0.86720063}, {\"run_id\": \"AutoML_0b3305fc-f780-4a61-9cc7-d0140c08eef0_32\", \"run_number\": 1649275030, \"metric\": null, \"status\": \"Completed\", \"run_type\": \"azureml.scriptrun\", \"training_percent\": \"100\", \"start_time\": \"2022-04-06T20:00:06.218348Z\", \"end_time\": \"2022-04-06T20:00:09.861796Z\", \"created_time\": \"2022-04-06T19:57:10.505433Z\", \"created_time_dt\": \"2022-04-06T19:57:10.505433Z\", \"duration\": \"0:02:59\", \"iteration\": \"32\", \"goal\": \"AUC_weighted_max\", \"run_name\": \"SparseNormalizer, XGBoostClassifier\", \"run_properties\": \"copy=True, norm='max'\", \"primary_metric\": 0.85648409, \"best_metric\": 0.86720063}, {\"run_id\": \"AutoML_0b3305fc-f780-4a61-9cc7-d0140c08eef0_33\", \"run_number\": 1649275059, \"metric\": null, \"status\": \"Completed\", \"run_type\": \"azureml.scriptrun\", \"training_percent\": \"100\", \"start_time\": \"2022-04-06T20:00:47.129457Z\", \"end_time\": \"2022-04-06T20:00:50.851237Z\", \"created_time\": \"2022-04-06T19:57:39.19176Z\", \"created_time_dt\": \"2022-04-06T19:57:39.19176Z\", \"duration\": \"0:03:11\", \"iteration\": \"33\", \"goal\": \"AUC_weighted_max\", \"run_name\": \"SparseNormalizer, XGBoostClassifier\", \"run_properties\": \"copy=True, norm='l2'\", \"primary_metric\": 0.8511757, \"best_metric\": 0.86720063}, {\"run_id\": \"AutoML_0b3305fc-f780-4a61-9cc7-d0140c08eef0_34\", \"run_number\": 1649275110, \"metric\": null, \"status\": \"Canceled\", \"run_type\": \"azureml.scriptrun\", \"training_percent\": \"100\", \"start_time\": \"2022-04-06T20:00:51.493654Z\", \"end_time\": \"2022-04-06T20:00:51.811623Z\", \"created_time\": \"2022-04-06T19:58:30.717906Z\", \"created_time_dt\": \"2022-04-06T19:58:30.717906Z\", \"duration\": \"0:02:21\", \"iteration\": \"34\", \"goal\": \"AUC_weighted_max\", \"run_name\": \"SparseNormalizer, XGBoostClassifier\", \"run_properties\": \"copy=True, norm='max'\", \"primary_metric\": 0.86172449, \"best_metric\": 0.86720063}, {\"run_id\": \"AutoML_0b3305fc-f780-4a61-9cc7-d0140c08eef0_35\", \"run_number\": 1649275124, \"metric\": null, \"status\": \"Canceled\", \"run_type\": \"azureml.scriptrun\", \"training_percent\": \"100\", \"start_time\": \"2022-04-06T20:00:51.390578Z\", \"end_time\": \"2022-04-06T20:00:51.743625Z\", \"created_time\": \"2022-04-06T19:58:44.715136Z\", \"created_time_dt\": \"2022-04-06T19:58:44.715136Z\", \"duration\": \"0:02:07\", \"iteration\": \"35\", \"goal\": null, \"run_name\": \"Canceled\", \"run_properties\": null}, {\"run_id\": \"AutoML_0b3305fc-f780-4a61-9cc7-d0140c08eef0_36\", \"run_number\": 1649275160, \"metric\": null, \"status\": \"Canceled\", \"run_type\": \"azureml.scriptrun\", \"training_percent\": \"100\", \"start_time\": \"2022-04-06T20:00:51.421667Z\", \"end_time\": \"2022-04-06T20:00:51.729169Z\", \"created_time\": \"2022-04-06T19:59:20.699737Z\", \"created_time_dt\": \"2022-04-06T19:59:20.699737Z\", \"duration\": \"0:01:31\", \"iteration\": \"36\", \"goal\": null, \"run_name\": \"Canceled\", \"run_properties\": null}, {\"run_id\": \"AutoML_0b3305fc-f780-4a61-9cc7-d0140c08eef0_37\", \"run_number\": 1649275211, \"metric\": null, \"status\": \"Canceled\", \"run_type\": \"azureml.scriptrun\", \"training_percent\": \"100\", \"start_time\": \"2022-04-06T20:00:51.52505Z\", \"end_time\": \"2022-04-06T20:00:51.83484Z\", \"created_time\": \"2022-04-06T20:00:11.503616Z\", \"created_time_dt\": \"2022-04-06T20:00:11.503616Z\", \"duration\": \"0:00:40\", \"iteration\": \"37\", \"goal\": null, \"run_name\": \"Canceled\", \"run_properties\": null}, {\"run_id\": \"AutoML_0b3305fc-f780-4a61-9cc7-d0140c08eef0_38\", \"run_number\": 1649275252, \"metric\": null, \"status\": \"Completed\", \"run_type\": \"azureml.scriptrun\", \"training_percent\": \"100\", \"start_time\": \"2022-04-06T20:02:30.044277Z\", \"end_time\": \"2022-04-06T20:02:33.718327Z\", \"created_time\": \"2022-04-06T20:00:52.57785Z\", \"created_time_dt\": \"2022-04-06T20:00:52.57785Z\", \"duration\": \"0:01:41\", \"iteration\": \"38\", \"goal\": \"AUC_weighted_max\", \"run_name\": \"VotingEnsemble\", \"run_properties\": \"classification_labels=array([0, 1]\", \"primary_metric\": 0.88000372, \"best_metric\": 0.88000372}], \"children_metrics\": {\"categories\": [0], \"series\": {\"recall_score_weighted\": [{\"categories\": [\"0\", \"1\", \"4\", \"5\", \"8\", \"9\", \"12\", \"14\", \"16\", \"21\", \"23\", \"26\", \"27\", \"28\", \"30\", \"31\", \"32\", \"33\", \"34\", \"38\"], \"mode\": \"markers\", \"name\": \"recall_score_weighted\", \"stepped\": false, \"type\": \"scatter\", \"data\": [0.8280952380952381, 0.807873015873016, 0.8068888888888889, 0.8001587301587303, 0.8113968253968256, 0.6424444444444444, 0.8204126984126984, 0.8114920634920635, 0.8025079365079367, 0.8214603174603173, 0.8080317460317461, 0.778984126984127, 0.8158730158730159, 0.8080634920634922, 0.7366666666666667, 0.8044761904761906, 0.7934920634920636, 0.7944126984126985, 0.8070158730158731, 0.8316507936507936]}, {\"categories\": [\"0\", \"1\", \"4\", \"5\", \"8\", \"9\", \"12\", \"14\", \"16\", \"21\", \"23\", \"26\", \"27\", \"28\", \"30\", \"31\", \"32\", \"33\", \"34\", \"38\"], \"mode\": \"lines\", \"name\": \"recall_score_weighted_max\", \"stepped\": true, \"type\": \"scatter\", \"data\": [0.8280952380952381, 0.8280952380952381, 0.8280952380952381, 0.8280952380952381, 0.8280952380952381, 0.8280952380952381, 0.8280952380952381, 0.8280952380952381, 0.8280952380952381, 0.8280952380952381, 0.8280952380952381, 0.8280952380952381, 0.8280952380952381, 0.8280952380952381, 0.8280952380952381, 0.8280952380952381, 0.8280952380952381, 0.8280952380952381, 0.8280952380952381, 0.8316507936507936]}], \"f1_score_micro\": [{\"categories\": [\"0\", \"1\", \"4\", \"5\", \"8\", \"9\", \"12\", \"14\", \"16\", \"21\", \"23\", \"26\", \"27\", \"28\", \"30\", \"31\", \"32\", \"33\", \"34\", \"38\"], \"mode\": \"markers\", \"name\": \"f1_score_micro\", \"stepped\": false, \"type\": \"scatter\", \"data\": [0.8280952380952381, 0.807873015873016, 0.8068888888888889, 0.8001587301587303, 0.8113968253968256, 0.6424444444444444, 0.8204126984126984, 0.8114920634920635, 0.8025079365079367, 0.8214603174603173, 0.8080317460317461, 0.778984126984127, 0.8158730158730159, 0.8080634920634922, 0.7366666666666668, 0.8044761904761906, 0.7934920634920636, 0.7944126984126985, 0.8070158730158731, 0.8316507936507936]}, {\"categories\": [\"0\", \"1\", \"4\", \"5\", \"8\", \"9\", \"12\", \"14\", \"16\", \"21\", \"23\", \"26\", \"27\", \"28\", \"30\", \"31\", \"32\", \"33\", \"34\", \"38\"], \"mode\": \"lines\", \"name\": \"f1_score_micro_max\", \"stepped\": true, \"type\": \"scatter\", \"data\": [0.8280952380952381, 0.8280952380952381, 0.8280952380952381, 0.8280952380952381, 0.8280952380952381, 0.8280952380952381, 0.8280952380952381, 0.8280952380952381, 0.8280952380952381, 0.8280952380952381, 0.8280952380952381, 0.8280952380952381, 0.8280952380952381, 0.8280952380952381, 0.8280952380952381, 0.8280952380952381, 0.8280952380952381, 0.8280952380952381, 0.8280952380952381, 0.8316507936507936]}], \"log_loss\": [{\"categories\": [\"0\", \"1\", \"4\", \"5\", \"8\", \"9\", \"12\", \"14\", \"16\", \"21\", \"23\", \"26\", \"27\", \"28\", \"30\", \"31\", \"32\", \"33\", \"34\", \"38\"], \"mode\": \"markers\", \"name\": \"log_loss\", \"stepped\": false, \"type\": \"scatter\", \"data\": [0.5502362504342073, 0.5487868057373628, 0.4445051062566072, 0.46178000066742825, 0.4429045155377556, 0.6858624737633207, 0.43306681912311873, 0.495655897057439, 1.3744193777094842, 0.4446228878690399, 0.43445004093236733, 0.5170387934749189, 0.43477939757456285, 0.4372370608970262, 0.6090890740033283, 0.4848153731038232, 0.44555804780970937, 0.5110521980481425, 0.4919635121673556, 0.45915673917925387]}, {\"categories\": [\"0\", \"1\", \"4\", \"5\", \"8\", \"9\", \"12\", \"14\", \"16\", \"21\", \"23\", \"26\", \"27\", \"28\", \"30\", \"31\", \"32\", \"33\", \"34\", \"38\"], \"mode\": \"lines\", \"name\": \"log_loss_min\", \"stepped\": true, \"type\": \"scatter\", \"data\": [0.5502362504342073, 0.5487868057373628, 0.4445051062566072, 0.4445051062566072, 0.4429045155377556, 0.4429045155377556, 0.43306681912311873, 0.43306681912311873, 0.43306681912311873, 0.43306681912311873, 0.43306681912311873, 0.43306681912311873, 0.43306681912311873, 0.43306681912311873, 0.43306681912311873, 0.43306681912311873, 0.43306681912311873, 0.43306681912311873, 0.43306681912311873, 0.43306681912311873]}], \"recall_score_micro\": [{\"categories\": [\"0\", \"1\", \"4\", \"5\", \"8\", \"9\", \"12\", \"14\", \"16\", \"21\", \"23\", \"26\", \"27\", \"28\", \"30\", \"31\", \"32\", \"33\", \"34\", \"38\"], \"mode\": \"markers\", \"name\": \"recall_score_micro\", \"stepped\": false, \"type\": \"scatter\", \"data\": [0.8280952380952381, 0.807873015873016, 0.8068888888888889, 0.8001587301587303, 0.8113968253968256, 0.6424444444444444, 0.8204126984126984, 0.8114920634920635, 0.8025079365079367, 0.8214603174603173, 0.8080317460317461, 0.778984126984127, 0.8158730158730159, 0.8080634920634922, 0.7366666666666667, 0.8044761904761906, 0.7934920634920636, 0.7944126984126985, 0.8070158730158731, 0.8316507936507936]}, {\"categories\": [\"0\", \"1\", \"4\", \"5\", \"8\", \"9\", \"12\", \"14\", \"16\", \"21\", \"23\", \"26\", \"27\", \"28\", \"30\", \"31\", \"32\", \"33\", \"34\", \"38\"], \"mode\": \"lines\", \"name\": \"recall_score_micro_max\", \"stepped\": true, \"type\": \"scatter\", \"data\": [0.8280952380952381, 0.8280952380952381, 0.8280952380952381, 0.8280952380952381, 0.8280952380952381, 0.8280952380952381, 0.8280952380952381, 0.8280952380952381, 0.8280952380952381, 0.8280952380952381, 0.8280952380952381, 0.8280952380952381, 0.8280952380952381, 0.8280952380952381, 0.8280952380952381, 0.8280952380952381, 0.8280952380952381, 0.8280952380952381, 0.8280952380952381, 0.8316507936507936]}], \"average_precision_score_macro\": [{\"categories\": [\"0\", \"1\", \"4\", \"5\", \"8\", \"9\", \"12\", \"14\", \"16\", \"21\", \"23\", \"26\", \"27\", \"28\", \"30\", \"31\", \"32\", \"33\", \"34\", \"38\"], \"mode\": \"markers\", \"name\": \"average_precision_score_macro\", \"stepped\": false, \"type\": \"scatter\", \"data\": [0.8545217415229331, 0.8519096240851599, 0.850219145425373, 0.8530005342731328, 0.8609145741331679, 0.6400544379973571, 0.863229350187157, 0.8507593045585625, 0.832140695365346, 0.862424491584273, 0.8534806883739908, 0.8240444330958375, 0.854102556536459, 0.8565511199405604, 0.8019321388751405, 0.8482143354114443, 0.8538856233697344, 0.8526001423309232, 0.8586219140316023, 0.8790116987441249]}, {\"categories\": [\"0\", \"1\", \"4\", \"5\", \"8\", \"9\", \"12\", \"14\", \"16\", \"21\", \"23\", \"26\", \"27\", \"28\", \"30\", \"31\", \"32\", \"33\", \"34\", \"38\"], \"mode\": \"lines\", \"name\": \"average_precision_score_macro_max\", \"stepped\": true, \"type\": \"scatter\", \"data\": [0.8545217415229331, 0.8545217415229331, 0.8545217415229331, 0.8545217415229331, 0.8609145741331679, 0.8609145741331679, 0.863229350187157, 0.863229350187157, 0.863229350187157, 0.863229350187157, 0.863229350187157, 0.863229350187157, 0.863229350187157, 0.863229350187157, 0.863229350187157, 0.863229350187157, 0.863229350187157, 0.863229350187157, 0.863229350187157, 0.8790116987441249]}], \"precision_score_macro\": [{\"categories\": [\"0\", \"1\", \"4\", \"5\", \"8\", \"9\", \"12\", \"14\", \"16\", \"21\", \"23\", \"26\", \"27\", \"28\", \"30\", \"31\", \"32\", \"33\", \"34\", \"38\"], \"mode\": \"markers\", \"name\": \"precision_score_macro\", \"stepped\": false, \"type\": \"scatter\", \"data\": [0.8226571305553404, 0.8039323671181324, 0.8019201349785638, 0.7978232011700378, 0.8113080001100633, 0.5803952626280432, 0.8199923777204434, 0.8069818722860922, 0.7901691654454137, 0.82160095278482, 0.8142161581639372, 0.7703559128790922, 0.8151323274955771, 0.8132889505770877, 0.7309360961364058, 0.8021602882374995, 0.7915799810580131, 0.7885539339343863, 0.8010746231441144, 0.8330796047732133]}, {\"categories\": [\"0\", \"1\", \"4\", \"5\", \"8\", \"9\", \"12\", \"14\", \"16\", \"21\", \"23\", \"26\", \"27\", \"28\", \"30\", \"31\", \"32\", \"33\", \"34\", \"38\"], \"mode\": \"lines\", \"name\": \"precision_score_macro_max\", \"stepped\": true, \"type\": \"scatter\", \"data\": [0.8226571305553404, 0.8226571305553404, 0.8226571305553404, 0.8226571305553404, 0.8226571305553404, 0.8226571305553404, 0.8226571305553404, 0.8226571305553404, 0.8226571305553404, 0.8226571305553404, 0.8226571305553404, 0.8226571305553404, 0.8226571305553404, 0.8226571305553404, 0.8226571305553404, 0.8226571305553404, 0.8226571305553404, 0.8226571305553404, 0.8226571305553404, 0.8330796047732133]}], \"AUC_macro\": [{\"categories\": [\"0\", \"1\", \"4\", \"5\", \"8\", \"9\", \"12\", \"14\", \"16\", \"21\", \"23\", \"26\", \"27\", \"28\", \"30\", \"31\", \"32\", \"33\", \"34\", \"38\"], \"mode\": \"markers\", \"name\": \"AUC_macro\", \"stepped\": false, \"type\": \"scatter\", \"data\": [0.8557967209319491, 0.8543001159316467, 0.8529794793462397, 0.8530855881337349, 0.8620334054011741, 0.6682784712369796, 0.8672006288901867, 0.8545638284484127, 0.836626935645573, 0.8599832026435256, 0.8615314750727866, 0.8292411081594042, 0.8572951519274077, 0.8585418085271107, 0.8009584452787053, 0.8472499503607324, 0.8564840855237617, 0.85117569941228, 0.861724490728639, 0.88000371950517]}, {\"categories\": [\"0\", \"1\", \"4\", \"5\", \"8\", \"9\", \"12\", \"14\", \"16\", \"21\", \"23\", \"26\", \"27\", \"28\", \"30\", \"31\", \"32\", \"33\", \"34\", \"38\"], \"mode\": \"lines\", \"name\": \"AUC_macro_max\", \"stepped\": true, \"type\": \"scatter\", \"data\": [0.8557967209319491, 0.8557967209319491, 0.8557967209319491, 0.8557967209319491, 0.8620334054011741, 0.8620334054011741, 0.8672006288901867, 0.8672006288901867, 0.8672006288901867, 0.8672006288901867, 0.8672006288901867, 0.8672006288901867, 0.8672006288901867, 0.8672006288901867, 0.8672006288901867, 0.8672006288901867, 0.8672006288901867, 0.8672006288901867, 0.8672006288901867, 0.88000371950517]}], \"accuracy\": [{\"categories\": [\"0\", \"1\", \"4\", \"5\", \"8\", \"9\", \"12\", \"14\", \"16\", \"21\", \"23\", \"26\", \"27\", \"28\", \"30\", \"31\", \"32\", \"33\", \"34\", \"38\"], \"mode\": \"markers\", \"name\": \"accuracy\", \"stepped\": false, \"type\": \"scatter\", \"data\": [0.8280952380952381, 0.807873015873016, 0.8068888888888889, 0.8001587301587303, 0.8113968253968256, 0.6424444444444444, 0.8204126984126984, 0.8114920634920635, 0.8025079365079367, 0.8214603174603173, 0.8080317460317461, 0.778984126984127, 0.8158730158730159, 0.8080634920634922, 0.7366666666666667, 0.8044761904761906, 0.7934920634920636, 0.7944126984126985, 0.8070158730158731, 0.8316507936507936]}, {\"categories\": [\"0\", \"1\", \"4\", \"5\", \"8\", \"9\", \"12\", \"14\", \"16\", \"21\", \"23\", \"26\", \"27\", \"28\", \"30\", \"31\", \"32\", \"33\", \"34\", \"38\"], \"mode\": \"lines\", \"name\": \"accuracy_max\", \"stepped\": true, \"type\": \"scatter\", \"data\": [0.8280952380952381, 0.8280952380952381, 0.8280952380952381, 0.8280952380952381, 0.8280952380952381, 0.8280952380952381, 0.8280952380952381, 0.8280952380952381, 0.8280952380952381, 0.8280952380952381, 0.8280952380952381, 0.8280952380952381, 0.8280952380952381, 0.8280952380952381, 0.8280952380952381, 0.8280952380952381, 0.8280952380952381, 0.8280952380952381, 0.8280952380952381, 0.8316507936507936]}], \"matthews_correlation\": [{\"categories\": [\"0\", \"1\", \"4\", \"5\", \"8\", \"9\", \"12\", \"14\", \"16\", \"21\", \"23\", \"26\", \"27\", \"28\", \"30\", \"31\", \"32\", \"33\", \"34\", \"38\"], \"mode\": \"markers\", \"name\": \"matthews_correlation\", \"stepped\": false, \"type\": \"scatter\", \"data\": [0.6361499215810781, 0.5977217663170652, 0.5853297459649427, 0.5766550268009546, 0.5978071596684551, 0.29703851052573227, 0.6209357524144121, 0.6032496749036459, 0.578531134423878, 0.6247237022016991, 0.5963517057384707, 0.5340164249508557, 0.6110325095982002, 0.5961343534913994, 0.46526399472570057, 0.5827506085012875, 0.5619338510811672, 0.5622229300012431, 0.5905260802533779, 0.6453667515556915]}, {\"categories\": [\"0\", \"1\", \"4\", \"5\", \"8\", \"9\", \"12\", \"14\", \"16\", \"21\", \"23\", \"26\", \"27\", \"28\", \"30\", \"31\", \"32\", \"33\", \"34\", \"38\"], \"mode\": \"lines\", \"name\": \"matthews_correlation_max\", \"stepped\": true, \"type\": \"scatter\", \"data\": [0.6361499215810781, 0.6361499215810781, 0.6361499215810781, 0.6361499215810781, 0.6361499215810781, 0.6361499215810781, 0.6361499215810781, 0.6361499215810781, 0.6361499215810781, 0.6361499215810781, 0.6361499215810781, 0.6361499215810781, 0.6361499215810781, 0.6361499215810781, 0.6361499215810781, 0.6361499215810781, 0.6361499215810781, 0.6361499215810781, 0.6361499215810781, 0.6453667515556915]}], \"balanced_accuracy\": [{\"categories\": [\"0\", \"1\", \"4\", \"5\", \"8\", \"9\", \"12\", \"14\", \"16\", \"21\", \"23\", \"26\", \"27\", \"28\", \"30\", \"31\", \"32\", \"33\", \"34\", \"38\"], \"mode\": \"markers\", \"name\": \"balanced_accuracy\", \"stepped\": false, \"type\": \"scatter\", \"data\": [0.814145951640379, 0.7948387206360892, 0.7845524939755657, 0.7801643364846218, 0.7893061243321374, 0.6402437751790693, 0.8021786345017062, 0.7972800015385222, 0.7889174357544461, 0.8044811235159601, 0.7849908503903927, 0.7645616062897931, 0.797504988866296, 0.7857410761663217, 0.7349700212232988, 0.7820035362552525, 0.7721565791061216, 0.7750572235208593, 0.7904516255629326, 0.8138100930545203]}, {\"categories\": [\"0\", \"1\", \"4\", \"5\", \"8\", \"9\", \"12\", \"14\", \"16\", \"21\", \"23\", \"26\", \"27\", \"28\", \"30\", \"31\", \"32\", \"33\", \"34\", \"38\"], \"mode\": \"lines\", \"name\": \"balanced_accuracy_max\", \"stepped\": true, \"type\": \"scatter\", \"data\": [0.814145951640379, 0.814145951640379, 0.814145951640379, 0.814145951640379, 0.814145951640379, 0.814145951640379, 0.814145951640379, 0.814145951640379, 0.814145951640379, 0.814145951640379, 0.814145951640379, 0.814145951640379, 0.814145951640379, 0.814145951640379, 0.814145951640379, 0.814145951640379, 0.814145951640379, 0.814145951640379, 0.814145951640379, 0.814145951640379]}], \"f1_score_macro\": [{\"categories\": [\"0\", \"1\", \"4\", \"5\", \"8\", \"9\", \"12\", \"14\", \"16\", \"21\", \"23\", \"26\", \"27\", \"28\", \"30\", \"31\", \"32\", \"33\", \"34\", \"38\"], \"mode\": \"markers\", \"name\": \"f1_score_macro\", \"stepped\": false, \"type\": \"scatter\", \"data\": [0.812494734394512, 0.7916643312072813, 0.7859366732400238, 0.7796440621826609, 0.7888379890348527, 0.5674104111470045, 0.8014672865940247, 0.7944707523691205, 0.7849267015910975, 0.8030733436529159, 0.7848505890475096, 0.7605492083200178, 0.796962376310408, 0.7839588165814044, 0.7215081360109502, 0.7818806364911194, 0.7711908166699594, 0.7733091342167134, 0.7885624137221565, 0.814020183442104]}, {\"categories\": [\"0\", \"1\", \"4\", \"5\", \"8\", \"9\", \"12\", \"14\", \"16\", \"21\", \"23\", \"26\", \"27\", \"28\", \"30\", \"31\", \"32\", \"33\", \"34\", \"38\"], \"mode\": \"lines\", \"name\": \"f1_score_macro_max\", \"stepped\": true, \"type\": \"scatter\", \"data\": [0.812494734394512, 0.812494734394512, 0.812494734394512, 0.812494734394512, 0.812494734394512, 0.812494734394512, 0.812494734394512, 0.812494734394512, 0.812494734394512, 0.812494734394512, 0.812494734394512, 0.812494734394512, 0.812494734394512, 0.812494734394512, 0.812494734394512, 0.812494734394512, 0.812494734394512, 0.812494734394512, 0.812494734394512, 0.814020183442104]}], \"precision_score_weighted\": [{\"categories\": [\"0\", \"1\", \"4\", \"5\", \"8\", \"9\", \"12\", \"14\", \"16\", \"21\", \"23\", \"26\", \"27\", \"28\", \"30\", \"31\", \"32\", \"33\", \"34\", \"38\"], \"mode\": \"markers\", \"name\": \"precision_score_weighted\", \"stepped\": false, \"type\": \"scatter\", \"data\": [0.8364719788342876, 0.8184235209464101, 0.8131307799208891, 0.811624492846291, 0.8223737584402842, 0.6025697305551544, 0.8317191376085004, 0.8222681001595599, 0.8089177208685837, 0.833519096044968, 0.823753765277961, 0.78909309208708, 0.8263814366713933, 0.8242786172393495, 0.7616243065039917, 0.8139448557159823, 0.8052704620980059, 0.8030928643922455, 0.8165990492911892, 0.8427459752038474]}, {\"categories\": [\"0\", \"1\", \"4\", \"5\", \"8\", \"9\", \"12\", \"14\", \"16\", \"21\", \"23\", \"26\", \"27\", \"28\", \"30\", \"31\", \"32\", \"33\", \"34\", \"38\"], \"mode\": \"lines\", \"name\": \"precision_score_weighted_max\", \"stepped\": true, \"type\": \"scatter\", \"data\": [0.8364719788342876, 0.8364719788342876, 0.8364719788342876, 0.8364719788342876, 0.8364719788342876, 0.8364719788342876, 0.8364719788342876, 0.8364719788342876, 0.8364719788342876, 0.8364719788342876, 0.8364719788342876, 0.8364719788342876, 0.8364719788342876, 0.8364719788342876, 0.8364719788342876, 0.8364719788342876, 0.8364719788342876, 0.8364719788342876, 0.8364719788342876, 0.8427459752038474]}], \"norm_macro_recall\": [{\"categories\": [\"0\", \"1\", \"4\", \"5\", \"8\", \"9\", \"12\", \"14\", \"16\", \"21\", \"23\", \"26\", \"27\", \"28\", \"30\", \"31\", \"32\", \"33\", \"34\", \"38\"], \"mode\": \"markers\", \"name\": \"norm_macro_recall\", \"stepped\": false, \"type\": \"scatter\", \"data\": [0.6282919032807578, 0.5896774412721782, 0.5691049879511314, 0.5603286729692438, 0.5786122486642745, 0.2804875503581386, 0.6043572690034125, 0.5945600030770444, 0.5778348715088923, 0.6089622470319199, 0.5699817007807855, 0.5291232125795863, 0.5950099777325919, 0.5714821523326437, 0.4749400424465978, 0.564007072510505, 0.5443131582122429, 0.5501144470417185, 0.5809032511258653, 0.6276201861090406]}, {\"categories\": [\"0\", \"1\", \"4\", \"5\", \"8\", \"9\", \"12\", \"14\", \"16\", \"21\", \"23\", \"26\", \"27\", \"28\", \"30\", \"31\", \"32\", \"33\", \"34\", \"38\"], \"mode\": \"lines\", \"name\": \"norm_macro_recall_max\", \"stepped\": true, \"type\": \"scatter\", \"data\": [0.6282919032807578, 0.6282919032807578, 0.6282919032807578, 0.6282919032807578, 0.6282919032807578, 0.6282919032807578, 0.6282919032807578, 0.6282919032807578, 0.6282919032807578, 0.6282919032807578, 0.6282919032807578, 0.6282919032807578, 0.6282919032807578, 0.6282919032807578, 0.6282919032807578, 0.6282919032807578, 0.6282919032807578, 0.6282919032807578, 0.6282919032807578, 0.6282919032807578]}], \"AUC_micro\": [{\"categories\": [\"0\", \"1\", \"4\", \"5\", \"8\", \"9\", \"12\", \"14\", \"16\", \"21\", \"23\", \"26\", \"27\", \"28\", \"30\", \"31\", \"32\", \"33\", \"34\", \"38\"], \"mode\": \"markers\", \"name\": \"AUC_micro\", \"stepped\": false, \"type\": \"scatter\", \"data\": [0.8685427815570672, 0.8663921390778533, 0.868909977324263, 0.8624378936759889, 0.8736465356512976, 0.6646360796170321, 0.878859410430839, 0.8605858780549256, 0.8523972537163013, 0.8731218190980097, 0.8759693877551019, 0.8402936255983875, 0.8720554799697656, 0.8759152179390273, 0.7970498110355253, 0.8627032249937011, 0.8678436130007557, 0.8644150163769211, 0.8725845804988662, 0.8863924666162762]}, {\"categories\": [\"0\", \"1\", \"4\", \"5\", \"8\", \"9\", \"12\", \"14\", \"16\", \"21\", \"23\", \"26\", \"27\", \"28\", \"30\", \"31\", \"32\", \"33\", \"34\", \"38\"], \"mode\": \"lines\", \"name\": \"AUC_micro_max\", \"stepped\": true, \"type\": \"scatter\", \"data\": [0.8685427815570672, 0.8685427815570672, 0.868909977324263, 0.868909977324263, 0.8736465356512976, 0.8736465356512976, 0.878859410430839, 0.878859410430839, 0.878859410430839, 0.878859410430839, 0.878859410430839, 0.878859410430839, 0.878859410430839, 0.878859410430839, 0.878859410430839, 0.878859410430839, 0.878859410430839, 0.878859410430839, 0.878859410430839, 0.8863924666162762]}], \"precision_score_micro\": [{\"categories\": [\"0\", \"1\", \"4\", \"5\", \"8\", \"9\", \"12\", \"14\", \"16\", \"21\", \"23\", \"26\", \"27\", \"28\", \"30\", \"31\", \"32\", \"33\", \"34\", \"38\"], \"mode\": \"markers\", \"name\": \"precision_score_micro\", \"stepped\": false, \"type\": \"scatter\", \"data\": [0.8280952380952381, 0.807873015873016, 0.8068888888888889, 0.8001587301587303, 0.8113968253968256, 0.6424444444444444, 0.8204126984126984, 0.8114920634920635, 0.8025079365079367, 0.8214603174603173, 0.8080317460317461, 0.778984126984127, 0.8158730158730159, 0.8080634920634922, 0.7366666666666667, 0.8044761904761906, 0.7934920634920636, 0.7944126984126985, 0.8070158730158731, 0.8316507936507936]}, {\"categories\": [\"0\", \"1\", \"4\", \"5\", \"8\", \"9\", \"12\", \"14\", \"16\", \"21\", \"23\", \"26\", \"27\", \"28\", \"30\", \"31\", \"32\", \"33\", \"34\", \"38\"], \"mode\": \"lines\", \"name\": \"precision_score_micro_max\", \"stepped\": true, \"type\": \"scatter\", \"data\": [0.8280952380952381, 0.8280952380952381, 0.8280952380952381, 0.8280952380952381, 0.8280952380952381, 0.8280952380952381, 0.8280952380952381, 0.8280952380952381, 0.8280952380952381, 0.8280952380952381, 0.8280952380952381, 0.8280952380952381, 0.8280952380952381, 0.8280952380952381, 0.8280952380952381, 0.8280952380952381, 0.8280952380952381, 0.8280952380952381, 0.8280952380952381, 0.8316507936507936]}], \"recall_score_macro\": [{\"categories\": [\"0\", \"1\", \"4\", \"5\", \"8\", \"9\", \"12\", \"14\", \"16\", \"21\", \"23\", \"26\", \"27\", \"28\", \"30\", \"31\", \"32\", \"33\", \"34\", \"38\"], \"mode\": \"markers\", \"name\": \"recall_score_macro\", \"stepped\": false, \"type\": \"scatter\", \"data\": [0.814145951640379, 0.7948387206360892, 0.7845524939755657, 0.7801643364846218, 0.7893061243321374, 0.6402437751790693, 0.8021786345017062, 0.7972800015385222, 0.7889174357544461, 0.8044811235159601, 0.7849908503903927, 0.7645616062897931, 0.797504988866296, 0.7857410761663217, 0.7349700212232988, 0.7820035362552525, 0.7721565791061216, 0.7750572235208593, 0.7904516255629326, 0.8138100930545203]}, {\"categories\": [\"0\", \"1\", \"4\", \"5\", \"8\", \"9\", \"12\", \"14\", \"16\", \"21\", \"23\", \"26\", \"27\", \"28\", \"30\", \"31\", \"32\", \"33\", \"34\", \"38\"], \"mode\": \"lines\", \"name\": \"recall_score_macro_max\", \"stepped\": true, \"type\": \"scatter\", \"data\": [0.814145951640379, 0.814145951640379, 0.814145951640379, 0.814145951640379, 0.814145951640379, 0.814145951640379, 0.814145951640379, 0.814145951640379, 0.814145951640379, 0.814145951640379, 0.814145951640379, 0.814145951640379, 0.814145951640379, 0.814145951640379, 0.814145951640379, 0.814145951640379, 0.814145951640379, 0.814145951640379, 0.814145951640379, 0.814145951640379]}], \"average_precision_score_weighted\": [{\"categories\": [\"0\", \"1\", \"4\", \"5\", \"8\", \"9\", \"12\", \"14\", \"16\", \"21\", \"23\", \"26\", \"27\", \"28\", \"30\", \"31\", \"32\", \"33\", \"34\", \"38\"], \"mode\": \"markers\", \"name\": \"average_precision_score_weighted\", \"stepped\": false, \"type\": \"scatter\", \"data\": [0.8641374858121808, 0.8620379656017085, 0.8606334559107575, 0.8643322978347534, 0.8704419750593169, 0.6724205834300337, 0.8742650103343614, 0.863645211521684, 0.8453729529719278, 0.8725592536734346, 0.8655007241717537, 0.8373898242127121, 0.8625597476076255, 0.8660308245507313, 0.8224651387929437, 0.8594154115170741, 0.8648133862514124, 0.8638223024544197, 0.870293978150432, 0.8876946570986162]}, {\"categories\": [\"0\", \"1\", \"4\", \"5\", \"8\", \"9\", \"12\", \"14\", \"16\", \"21\", \"23\", \"26\", \"27\", \"28\", \"30\", \"31\", \"32\", \"33\", \"34\", \"38\"], \"mode\": \"lines\", \"name\": \"average_precision_score_weighted_max\", \"stepped\": true, \"type\": \"scatter\", \"data\": [0.8641374858121808, 0.8641374858121808, 0.8641374858121808, 0.8643322978347534, 0.8704419750593169, 0.8704419750593169, 0.8742650103343614, 0.8742650103343614, 0.8742650103343614, 0.8742650103343614, 0.8742650103343614, 0.8742650103343614, 0.8742650103343614, 0.8742650103343614, 0.8742650103343614, 0.8742650103343614, 0.8742650103343614, 0.8742650103343614, 0.8742650103343614, 0.8876946570986162]}], \"f1_score_weighted\": [{\"categories\": [\"0\", \"1\", \"4\", \"5\", \"8\", \"9\", \"12\", \"14\", \"16\", \"21\", \"23\", \"26\", \"27\", \"28\", \"30\", \"31\", \"32\", \"33\", \"34\", \"38\"], \"mode\": \"markers\", \"name\": \"f1_score_weighted\", \"stepped\": false, \"type\": \"scatter\", \"data\": [0.826990018632181, 0.8065214610506475, 0.8036455491101456, 0.7977185621709059, 0.8074830512104698, 0.5836625010613588, 0.8175583186385734, 0.8103982119865045, 0.8017373976601846, 0.8185426811755397, 0.8034445601232789, 0.7782217862893032, 0.8129806519139983, 0.8029757804786388, 0.7391111772421669, 0.8001864830531656, 0.7901278668627231, 0.7915170571608273, 0.8056446446759052, 0.8291016640731975]}, {\"categories\": [\"0\", \"1\", \"4\", \"5\", \"8\", \"9\", \"12\", \"14\", \"16\", \"21\", \"23\", \"26\", \"27\", \"28\", \"30\", \"31\", \"32\", \"33\", \"34\", \"38\"], \"mode\": \"lines\", \"name\": \"f1_score_weighted_max\", \"stepped\": true, \"type\": \"scatter\", \"data\": [0.826990018632181, 0.826990018632181, 0.826990018632181, 0.826990018632181, 0.826990018632181, 0.826990018632181, 0.826990018632181, 0.826990018632181, 0.826990018632181, 0.826990018632181, 0.826990018632181, 0.826990018632181, 0.826990018632181, 0.826990018632181, 0.826990018632181, 0.826990018632181, 0.826990018632181, 0.826990018632181, 0.826990018632181, 0.8291016640731975]}], \"weighted_accuracy\": [{\"categories\": [\"0\", \"1\", \"4\", \"5\", \"8\", \"9\", \"12\", \"14\", \"16\", \"21\", \"23\", \"26\", \"27\", \"28\", \"30\", \"31\", \"32\", \"33\", \"34\", \"38\"], \"mode\": \"markers\", \"name\": \"weighted_accuracy\", \"stepped\": false, \"type\": \"scatter\", \"data\": [0.8394279964362867, 0.8194613198963681, 0.8249502690896544, 0.8168223547768484, 0.8294687931516317, 0.6424474206031578, 0.8358667548023833, 0.8239563694796774, 0.8139183585845835, 0.835721581611357, 0.8274922485939317, 0.7918463583923747, 0.8311758038269474, 0.8272468770180565, 0.739781441707924, 0.8226218784498053, 0.8109524722758579, 0.8103543421391132, 0.8208451663844327, 0.8467294758453788]}, {\"categories\": [\"0\", \"1\", \"4\", \"5\", \"8\", \"9\", \"12\", \"14\", \"16\", \"21\", \"23\", \"26\", \"27\", \"28\", \"30\", \"31\", \"32\", \"33\", \"34\", \"38\"], \"mode\": \"lines\", \"name\": \"weighted_accuracy_max\", \"stepped\": true, \"type\": \"scatter\", \"data\": [0.8394279964362867, 0.8394279964362867, 0.8394279964362867, 0.8394279964362867, 0.8394279964362867, 0.8394279964362867, 0.8394279964362867, 0.8394279964362867, 0.8394279964362867, 0.8394279964362867, 0.8394279964362867, 0.8394279964362867, 0.8394279964362867, 0.8394279964362867, 0.8394279964362867, 0.8394279964362867, 0.8394279964362867, 0.8394279964362867, 0.8394279964362867, 0.8467294758453788]}], \"average_precision_score_micro\": [{\"categories\": [\"0\", \"1\", \"4\", \"5\", \"8\", \"9\", \"12\", \"14\", \"16\", \"21\", \"23\", \"26\", \"27\", \"28\", \"30\", \"31\", \"32\", \"33\", \"34\", \"38\"], \"mode\": \"markers\", \"name\": \"average_precision_score_micro\", \"stepped\": false, \"type\": \"scatter\", \"data\": [0.8549388458092122, 0.8552472418948631, 0.852179547967393, 0.8544403890789191, 0.8641277041519376, 0.6556187830081108, 0.8697459477781538, 0.8479177641904397, 0.8404627103701161, 0.8697579837248262, 0.8636816958794333, 0.8285260799916141, 0.8551037765849467, 0.8646587534004228, 0.798523937257912, 0.8545383602208656, 0.8571122947313463, 0.8583469709502163, 0.8641844165088208, 0.8752068488018321]}, {\"categories\": [\"0\", \"1\", \"4\", \"5\", \"8\", \"9\", \"12\", \"14\", \"16\", \"21\", \"23\", \"26\", \"27\", \"28\", \"30\", \"31\", \"32\", \"33\", \"34\", \"38\"], \"mode\": \"lines\", \"name\": \"average_precision_score_micro_max\", \"stepped\": true, \"type\": \"scatter\", \"data\": [0.8549388458092122, 0.8552472418948631, 0.8552472418948631, 0.8552472418948631, 0.8641277041519376, 0.8641277041519376, 0.8697459477781538, 0.8697459477781538, 0.8697459477781538, 0.8697579837248262, 0.8697579837248262, 0.8697579837248262, 0.8697579837248262, 0.8697579837248262, 0.8697579837248262, 0.8697579837248262, 0.8697579837248262, 0.8697579837248262, 0.8697579837248262, 0.8752068488018321]}], \"AUC_weighted\": [{\"categories\": [\"0\", \"1\", \"4\", \"5\", \"8\", \"9\", \"12\", \"14\", \"16\", \"21\", \"23\", \"26\", \"27\", \"28\", \"30\", \"31\", \"32\", \"33\", \"34\", \"38\"], \"mode\": \"markers\", \"name\": \"AUC_weighted\", \"stepped\": false, \"type\": \"scatter\", \"data\": [0.8557967209319491, 0.8543001159316467, 0.8529794793462397, 0.8530855881337349, 0.8620334054011742, 0.6682784712369796, 0.8672006288901868, 0.8545638284484128, 0.8366269356455731, 0.8599832026435256, 0.8615314750727866, 0.8292411081594043, 0.8572951519274077, 0.8585418085271105, 0.8009584452787053, 0.8472499503607324, 0.8564840855237615, 0.85117569941228, 0.861724490728639, 0.88000371950517]}, {\"categories\": [\"0\", \"1\", \"4\", \"5\", \"8\", \"9\", \"12\", \"14\", \"16\", \"21\", \"23\", \"26\", \"27\", \"28\", \"30\", \"31\", \"32\", \"33\", \"34\", \"38\"], \"mode\": \"lines\", \"name\": \"AUC_weighted_max\", \"stepped\": true, \"type\": \"scatter\", \"data\": [0.8557967209319491, 0.8557967209319491, 0.8557967209319491, 0.8557967209319491, 0.8620334054011742, 0.8620334054011742, 0.8672006288901868, 0.8672006288901868, 0.8672006288901868, 0.8672006288901868, 0.8672006288901868, 0.8672006288901868, 0.8672006288901868, 0.8672006288901868, 0.8672006288901868, 0.8672006288901868, 0.8672006288901868, 0.8672006288901868, 0.8672006288901868, 0.88000371950517]}]}, \"metricName\": null, \"primaryMetricName\": \"AUC_weighted\", \"showLegend\": false}, \"run_metrics\": [{\"name\": \"experiment_status\", \"run_id\": \"AutoML_0b3305fc-f780-4a61-9cc7-d0140c08eef0\", \"categories\": [0, 1, 2, 3, 4, 5, 6, 7, 8, 9, 10, 11, 12, 13], \"series\": [{\"data\": [\"DatasetEvaluation\", \"FeaturesGeneration\", \"DatasetFeaturization\", \"DatasetFeaturizationCompleted\", \"DatasetCrossValidationSplit\", \"ModelSelection\", \"BestRunExplainModel\", \"ModelExplanationDataSetSetup\", \"PickSurrogateModel\", \"EngineeredFeatureExplanations\", \"EngineeredFeatureExplanations\", \"RawFeaturesExplanations\", \"RawFeaturesExplanations\", \"BestRunExplainModel\"]}]}, {\"name\": \"experiment_status_description\", \"run_id\": \"AutoML_0b3305fc-f780-4a61-9cc7-d0140c08eef0\", \"categories\": [0, 1, 2, 3, 4, 5, 6, 7, 8, 9, 10, 11, 12, 13], \"series\": [{\"data\": [\"Gathering dataset statistics.\", \"Generating features for the dataset.\", \"Beginning to fit featurizers and featurize the dataset.\", \"Completed fit featurizers and featurizing the dataset.\", \"Generating individually featurized CV splits.\", \"Beginning model selection.\", \"Best run model explanations started\", \"Model explanations data setup completed\", \"Choosing LightGBM as the surrogate model for explanations\", \"Computation of engineered features started\", \"Computation of engineered features completed\", \"Computation of raw features started\", \"Computation of raw features completed\", \"Best run model explanations completed\"]}]}, {\"name\": \"average_precision_score_micro\", \"run_id\": \"AutoML_0b3305fc-f780-4a61-9cc7-d0140c08eef0\", \"categories\": [0], \"series\": [{\"data\": [0.8752068488018321]}]}, {\"name\": \"average_precision_score_macro\", \"run_id\": \"AutoML_0b3305fc-f780-4a61-9cc7-d0140c08eef0\", \"categories\": [0], \"series\": [{\"data\": [0.8790116987441249]}]}, {\"name\": \"f1_score_weighted\", \"run_id\": \"AutoML_0b3305fc-f780-4a61-9cc7-d0140c08eef0\", \"categories\": [0], \"series\": [{\"data\": [0.8291016640731975]}]}, {\"name\": \"matthews_correlation\", \"run_id\": \"AutoML_0b3305fc-f780-4a61-9cc7-d0140c08eef0\", \"categories\": [0], \"series\": [{\"data\": [0.6453667515556915]}]}, {\"name\": \"AUC_macro\", \"run_id\": \"AutoML_0b3305fc-f780-4a61-9cc7-d0140c08eef0\", \"categories\": [0], \"series\": [{\"data\": [0.88000371950517]}]}, {\"name\": \"average_precision_score_weighted\", \"run_id\": \"AutoML_0b3305fc-f780-4a61-9cc7-d0140c08eef0\", \"categories\": [0], \"series\": [{\"data\": [0.8876946570986162]}]}, {\"name\": \"AUC_micro\", \"run_id\": \"AutoML_0b3305fc-f780-4a61-9cc7-d0140c08eef0\", \"categories\": [0], \"series\": [{\"data\": [0.8863924666162762]}]}, {\"name\": \"precision_score_macro\", \"run_id\": \"AutoML_0b3305fc-f780-4a61-9cc7-d0140c08eef0\", \"categories\": [0], \"series\": [{\"data\": [0.8330796047732133]}]}, {\"name\": \"weighted_accuracy\", \"run_id\": \"AutoML_0b3305fc-f780-4a61-9cc7-d0140c08eef0\", \"categories\": [0], \"series\": [{\"data\": [0.8467294758453788]}]}, {\"name\": \"precision_score_weighted\", \"run_id\": \"AutoML_0b3305fc-f780-4a61-9cc7-d0140c08eef0\", \"categories\": [0], \"series\": [{\"data\": [0.8427459752038474]}]}, {\"name\": \"recall_score_macro\", \"run_id\": \"AutoML_0b3305fc-f780-4a61-9cc7-d0140c08eef0\", \"categories\": [0], \"series\": [{\"data\": [0.8138100930545203]}]}, {\"name\": \"recall_score_micro\", \"run_id\": \"AutoML_0b3305fc-f780-4a61-9cc7-d0140c08eef0\", \"categories\": [0], \"series\": [{\"data\": [0.8316507936507936]}]}, {\"name\": \"f1_score_macro\", \"run_id\": \"AutoML_0b3305fc-f780-4a61-9cc7-d0140c08eef0\", \"categories\": [0], \"series\": [{\"data\": [0.814020183442104]}]}, {\"name\": \"accuracy\", \"run_id\": \"AutoML_0b3305fc-f780-4a61-9cc7-d0140c08eef0\", \"categories\": [0], \"series\": [{\"data\": [0.8316507936507936]}]}, {\"name\": \"AUC_weighted\", \"run_id\": \"AutoML_0b3305fc-f780-4a61-9cc7-d0140c08eef0\", \"categories\": [0], \"series\": [{\"data\": [0.88000371950517]}]}, {\"name\": \"f1_score_micro\", \"run_id\": \"AutoML_0b3305fc-f780-4a61-9cc7-d0140c08eef0\", \"categories\": [0], \"series\": [{\"data\": [0.8316507936507936]}]}, {\"name\": \"norm_macro_recall\", \"run_id\": \"AutoML_0b3305fc-f780-4a61-9cc7-d0140c08eef0\", \"categories\": [0], \"series\": [{\"data\": [0.6276201861090406]}]}, {\"name\": \"balanced_accuracy\", \"run_id\": \"AutoML_0b3305fc-f780-4a61-9cc7-d0140c08eef0\", \"categories\": [0], \"series\": [{\"data\": [0.8138100930545203]}]}, {\"name\": \"log_loss\", \"run_id\": \"AutoML_0b3305fc-f780-4a61-9cc7-d0140c08eef0\", \"categories\": [0], \"series\": [{\"data\": [0.45915673917925387]}]}, {\"name\": \"precision_score_micro\", \"run_id\": \"AutoML_0b3305fc-f780-4a61-9cc7-d0140c08eef0\", \"categories\": [0], \"series\": [{\"data\": [0.8316507936507936]}]}, {\"name\": \"recall_score_weighted\", \"run_id\": \"AutoML_0b3305fc-f780-4a61-9cc7-d0140c08eef0\", \"categories\": [0], \"series\": [{\"data\": [0.8316507936507936]}]}], \"run_logs\": \"\\nRun is completed.\", \"graph\": {}, \"widget_settings\": {\"childWidgetDisplay\": \"popup\", \"send_telemetry\": false, \"log_level\": \"INFO\", \"sdk_version\": \"1.39.0\"}, \"loading\": false}"
     },
     "metadata": {},
     "output_type": "display_data"
    }
   ],
   "source": [
    "\n",
    "RunDetails(remote_run).show()"
   ]
  },
  {
   "cell_type": "code",
   "execution_count": 61,
   "metadata": {},
   "outputs": [
    {
     "data": {
      "text/html": [
       "<table style=\"width:100%\"><tr><th>Experiment</th><th>Id</th><th>Type</th><th>Status</th><th>Details Page</th><th>Docs Page</th></tr><tr><td>ml-experiment-1</td><td>AutoML_0b3305fc-f780-4a61-9cc7-d0140c08eef0</td><td>automl</td><td>NotStarted</td><td><a href=\"https://ml.azure.com/runs/AutoML_0b3305fc-f780-4a61-9cc7-d0140c08eef0?wsid=/subscriptions/6971f5ac-8af1-446e-8034-05acea24681f/resourcegroups/aml-quickstarts-191197/workspaces/quick-starts-ws-191197&amp;tid=660b3398-b80e-49d2-bc5b-ac1dc93b5254\" target=\"_blank\" rel=\"noopener\">Link to Azure Machine Learning studio</a></td><td><a href=\"https://docs.microsoft.com/en-us/python/api/overview/azure/ml/intro?view=azure-ml-py\" target=\"_blank\" rel=\"noopener\">Link to Documentation</a></td></tr></table>"
      ],
      "text/plain": [
       "<IPython.core.display.HTML object>"
      ]
     },
     "metadata": {},
     "output_type": "display_data"
    },
    {
     "name": "stdout",
     "output_type": "stream",
     "text": [
      "\n",
      "Current status: FeaturesGeneration. Generating features for the dataset.\n",
      "Current status: DatasetCrossValidationSplit. Generating individually featurized CV splits.\n",
      "Current status: ModelSelection. Beginning model selection.\n",
      "\n",
      "********************************************************************************************\n",
      "DATA GUARDRAILS: \n",
      "\n",
      "TYPE:         Class balancing detection\n",
      "STATUS:       PASSED\n",
      "DESCRIPTION:  Your inputs were analyzed, and all classes are balanced in your training data.\n",
      "              Learn more about imbalanced data: https://aka.ms/AutomatedMLImbalancedData\n",
      "\n",
      "********************************************************************************************\n",
      "\n",
      "TYPE:         Missing feature values imputation\n",
      "STATUS:       DONE\n",
      "DESCRIPTION:  If the missing values are expected, let the run complete. Otherwise cancel the current run and use a script to customize the handling of missing feature values that may be more appropriate based on the data type and business requirement.\n",
      "              Learn more about missing value imputation: https://aka.ms/AutomatedMLFeaturization\n",
      "DETAILS:      \n",
      "+------------------------------+------------------------------+------------------------------+\n",
      "|Column name                   |Missing value count           |Imputation type               |\n",
      "+==============================+==============================+==============================+\n",
      "|Age                           |177                           |mean                          |\n",
      "|Embarked                      |2                             |                              |\n",
      "+------------------------------+------------------------------+------------------------------+\n",
      "\n",
      "********************************************************************************************\n",
      "\n",
      "TYPE:         High cardinality feature detection\n",
      "STATUS:       PASSED\n",
      "DESCRIPTION:  Your inputs were analyzed, and no high cardinality features were detected.\n",
      "              Learn more about high cardinality feature handling: https://aka.ms/AutomatedMLFeaturization\n",
      "\n",
      "********************************************************************************************\n",
      "\n",
      "********************************************************************************************\n",
      "ITER: The iteration being evaluated.\n",
      "PIPELINE: A summary description of the pipeline being evaluated.\n",
      "DURATION: Time taken for the current iteration.\n",
      "METRIC: The result of computing score on the fitted pipeline.\n",
      "BEST: The best observed score thus far.\n",
      "********************************************************************************************\n",
      "\n",
      " ITER   PIPELINE                                       DURATION            METRIC      BEST\n",
      "    0   MaxAbsScaler LightGBM                          0:00:22             0.8558    0.8558\n",
      "    4   StandardScalerWrapper LightGBM                 0:00:16             0.8530    0.8558\n",
      "    5   SparseNormalizer XGBoostClassifier             0:00:18             0.8531    0.8558\n",
      "    6   SparseNormalizer RandomForest                  0:00:21             0.8362    0.8558\n",
      "    1   MaxAbsScaler XGBoostClassifier                 0:00:48             0.8543    0.8558\n",
      "    7   StandardScalerWrapper XGBoostClassifier        0:00:18             0.8617    0.8617\n",
      "    8   SparseNormalizer XGBoostClassifier             0:00:20             0.8620    0.8620\n",
      "   10   SparseNormalizer LightGBM                      0:00:16             0.8633    0.8633\n",
      "   11   MaxAbsScaler ExtremeRandomTrees                0:00:28             0.8341    0.8633\n",
      "    2   MaxAbsScaler ExtremeRandomTrees                0:00:20             0.8539    0.8633\n",
      "    9   MaxAbsScaler RandomForest                      0:00:17             0.6683    0.8633\n",
      "   12   StandardScalerWrapper XGBoostClassifier        0:00:22             0.8672    0.8672\n",
      "   13   StandardScalerWrapper ExtremeRandomTrees       0:00:17             0.8564    0.8672\n",
      "    3   MaxAbsScaler RandomForest                      0:00:17             0.6354    0.8672\n",
      "   14   StandardScalerWrapper RandomForest             0:00:25             0.8546    0.8672\n",
      "   16   MaxAbsScaler LogisticRegression                0:00:21             0.8366    0.8672\n",
      "   15   MaxAbsScaler LightGBM                          0:00:26             0.8644    0.8672\n",
      "   21   StandardScalerWrapper XGBoostClassifier        0:00:04             0.8600    0.8672\n",
      "   20   MaxAbsScaler LogisticRegression                0:00:04             0.8369    0.8672\n",
      "   17   StandardScalerWrapper ExtremeRandomTrees       0:02:00             0.8705    0.8705\n",
      "   18   StandardScalerWrapper XGBoostClassifier        0:00:20             0.8701    0.8705\n",
      "   22   StandardScalerWrapper XGBoostClassifier        0:00:04             0.8563    0.8705\n",
      "   19   MaxAbsScaler ExtremeRandomTrees                0:00:25             0.8611    0.8705\n",
      "   23   SparseNormalizer XGBoostClassifier             0:00:04             0.8615    0.8705\n",
      "   25   TruncatedSVDWrapper XGBoostClassifier          0:00:04             0.8278    0.8705\n",
      "   24   MaxAbsScaler RandomForest                      0:00:04             0.8566    0.8705\n",
      "   26   StandardScalerWrapper LinearSVM                0:00:04             0.8292    0.8705\n",
      "   27   MaxAbsScaler LightGBM                          0:00:04             0.8573    0.8705\n",
      "   28   MaxAbsScaler LightGBM                          0:00:04             0.8585    0.8705\n",
      "   29   StandardScalerWrapper LogisticRegression       0:00:04             0.8314    0.8705\n",
      "   30   TruncatedSVDWrapper ExtremeRandomTrees         0:00:04             0.8010    0.8705\n",
      "   31   SparseNormalizer LightGBM                      0:00:04             0.8472    0.8705\n",
      "   32   SparseNormalizer XGBoostClassifier             0:00:04             0.8565    0.8705\n",
      "   33   SparseNormalizer XGBoostClassifier             0:00:04             0.8512    0.8705\n",
      "   34   SparseNormalizer XGBoostClassifier             0:00:00             0.8617    0.8705\n",
      "   35                                                  0:00:00                nan    0.8705\n",
      "   36                                                  0:00:00                nan    0.8705\n",
      "   37                                                  0:00:00                nan    0.8705\n",
      "   38    VotingEnsemble                                0:00:04             0.8800    0.8800\n",
      "   39    StackEnsemble                                 0:00:04             0.8728    0.8800\n"
     ]
    },
    {
     "data": {
      "text/plain": [
       "{'runId': 'AutoML_0b3305fc-f780-4a61-9cc7-d0140c08eef0',\n",
       " 'target': 'automl-cluster',\n",
       " 'status': 'Completed',\n",
       " 'startTimeUtc': '2022-04-06T19:47:58.305273Z',\n",
       " 'endTimeUtc': '2022-04-06T20:02:54.435483Z',\n",
       " 'services': {},\n",
       " 'warnings': [{'source': 'JasmineService',\n",
       "   'message': 'No scores improved over last 20 iterations, so experiment stopped early. This early stopping behavior can be disabled by setting enable_early_stopping = False in AutoMLConfig for notebook/python SDK runs.'}],\n",
       " 'properties': {'num_iterations': '1000',\n",
       "  'training_type': 'TrainFull',\n",
       "  'acquisition_function': 'EI',\n",
       "  'primary_metric': 'AUC_weighted',\n",
       "  'train_split': '0',\n",
       "  'acquisition_parameter': '0',\n",
       "  'num_cross_validation': '25',\n",
       "  'target': 'automl-cluster',\n",
       "  'AMLSettingsJsonString': '{\"path\":null,\"name\":\"ml-experiment-1\",\"subscription_id\":\"6971f5ac-8af1-446e-8034-05acea24681f\",\"resource_group\":\"aml-quickstarts-191197\",\"workspace_name\":\"quick-starts-ws-191197\",\"region\":\"southcentralus\",\"compute_target\":\"automl-cluster\",\"spark_service\":null,\"azure_service\":\"remote\",\"many_models\":false,\"pipeline_fetch_max_batch_size\":1,\"enable_batch_run\":true,\"enable_run_restructure\":false,\"start_auxiliary_runs_before_parent_complete\":false,\"enable_code_generation\":false,\"iterations\":1000,\"primary_metric\":\"AUC_weighted\",\"task_type\":\"classification\",\"positive_label\":null,\"data_script\":null,\"test_size\":0.0,\"test_include_predictions_only\":false,\"validation_size\":0.0,\"n_cross_validations\":25,\"y_min\":null,\"y_max\":null,\"num_classes\":null,\"featurization\":\"auto\",\"_ignore_package_version_incompatibilities\":false,\"is_timeseries\":false,\"max_cores_per_iteration\":1,\"max_concurrent_iterations\":5,\"iteration_timeout_minutes\":null,\"mem_in_mb\":null,\"enforce_time_on_windows\":false,\"experiment_timeout_minutes\":30,\"experiment_exit_score\":null,\"partition_column_names\":null,\"whitelist_models\":null,\"blacklist_algos\":[\"TensorFlowLinearClassifier\",\"TensorFlowDNN\"],\"supported_models\":[\"MultinomialNaiveBayes\",\"SVM\",\"TensorFlowDNN\",\"TabnetClassifier\",\"DecisionTree\",\"LinearSVM\",\"TensorFlowLinearClassifier\",\"RandomForest\",\"GradientBoosting\",\"SGD\",\"LogisticRegression\",\"XGBoostClassifier\",\"BernoulliNaiveBayes\",\"LightGBM\",\"KNN\",\"AveragedPerceptronClassifier\",\"ExtremeRandomTrees\"],\"private_models\":[],\"auto_blacklist\":true,\"blacklist_samples_reached\":false,\"exclude_nan_labels\":true,\"verbosity\":20,\"_debug_log\":\"azureml_automl.log\",\"show_warnings\":false,\"model_explainability\":true,\"service_url\":null,\"sdk_url\":null,\"sdk_packages\":null,\"enable_onnx_compatible_models\":false,\"enable_split_onnx_featurizer_estimator_models\":false,\"vm_type\":\"STANDARD_DS12_V2\",\"telemetry_verbosity\":20,\"send_telemetry\":true,\"enable_dnn\":false,\"scenario\":\"SDK-1.13.0\",\"environment_label\":null,\"save_mlflow\":false,\"enable_categorical_indicators\":false,\"force_text_dnn\":false,\"enable_feature_sweeping\":true,\"enable_early_stopping\":true,\"early_stopping_n_iters\":10,\"arguments\":null,\"dataset_id\":\"328e5e8a-de0d-4b51-8614-660a932d3629\",\"hyperdrive_config\":null,\"validation_dataset_id\":null,\"run_source\":null,\"metrics\":null,\"enable_metric_confidence\":false,\"enable_ensembling\":true,\"enable_stack_ensembling\":true,\"ensemble_iterations\":15,\"enable_tf\":false,\"enable_subsampling\":null,\"subsample_seed\":null,\"enable_nimbusml\":false,\"enable_streaming\":false,\"force_streaming\":false,\"track_child_runs\":true,\"allowed_private_models\":[],\"label_column_name\":\"Survived\",\"weight_column_name\":null,\"cv_split_column_names\":null,\"enable_local_managed\":false,\"_local_managed_run_id\":null,\"cost_mode\":1,\"lag_length\":0,\"metric_operation\":\"maximize\",\"preprocess\":true}',\n",
       "  'DataPrepJsonString': '{\\\\\"training_data\\\\\": {\\\\\"datasetId\\\\\": \\\\\"328e5e8a-de0d-4b51-8614-660a932d3629\\\\\"}, \\\\\"datasets\\\\\": 0}',\n",
       "  'EnableSubsampling': None,\n",
       "  'runTemplate': 'AutoML',\n",
       "  'azureml.runsource': 'automl',\n",
       "  'display_task_type': 'classification',\n",
       "  'dependencies_versions': '{\"azureml-widgets\": \"1.39.0\", \"azureml-training-tabular\": \"1.39.0\", \"azureml-train\": \"1.39.0\", \"azureml-train-restclients-hyperdrive\": \"1.39.0\", \"azureml-train-core\": \"1.39.0\", \"azureml-train-automl\": \"1.39.0\", \"azureml-train-automl-runtime\": \"1.39.0\", \"azureml-train-automl-client\": \"1.39.0\", \"azureml-tensorboard\": \"1.39.0\", \"azureml-telemetry\": \"1.39.0\", \"azureml-sdk\": \"1.39.0\", \"azureml-samples\": \"0+unknown\", \"azureml-responsibleai\": \"1.39.0\", \"azureml-pipeline\": \"1.39.0\", \"azureml-pipeline-steps\": \"1.39.0\", \"azureml-pipeline-core\": \"1.39.0\", \"azureml-opendatasets\": \"1.39.0\", \"azureml-mlflow\": \"1.39.0\", \"azureml-interpret\": \"1.39.0\", \"azureml-inference-server-http\": \"0.4.10\", \"azureml-explain-model\": \"1.39.0\", \"azureml-defaults\": \"1.39.0\", \"azureml-dataset-runtime\": \"1.39.0\", \"azureml-dataprep\": \"2.27.1\", \"azureml-dataprep-rslex\": \"2.3.1\", \"azureml-dataprep-native\": \"38.0.0\", \"azureml-datadrift\": \"1.39.0\", \"azureml-core\": \"1.39.0\", \"azureml-contrib-services\": \"1.39.0\", \"azureml-contrib-server\": \"1.39.0\", \"azureml-contrib-reinforcementlearning\": \"1.39.0\", \"azureml-contrib-pipeline-steps\": \"1.39.0\", \"azureml-contrib-notebook\": \"1.39.0\", \"azureml-contrib-fairness\": \"1.39.0\", \"azureml-contrib-dataset\": \"1.39.0\", \"azureml-contrib-automl-pipeline-steps\": \"1.39.0\", \"azureml-cli-common\": \"1.39.0\", \"azureml-automl-runtime\": \"1.39.0\", \"azureml-automl-dnn-nlp\": \"1.39.0\", \"azureml-automl-core\": \"1.39.0\", \"azureml-accel-models\": \"1.39.0\"}',\n",
       "  '_aml_system_scenario_identification': 'Remote.Parent',\n",
       "  'ClientType': 'SDK',\n",
       "  'environment_cpu_name': 'AzureML-AutoML',\n",
       "  'environment_cpu_label': 'prod',\n",
       "  'environment_gpu_name': 'AzureML-AutoML-GPU',\n",
       "  'environment_gpu_label': 'prod',\n",
       "  'root_attribution': 'automl',\n",
       "  'attribution': 'AutoML',\n",
       "  'Orchestrator': 'AutoML',\n",
       "  'CancelUri': 'https://southcentralus.api.azureml.ms/jasmine/v1.0/subscriptions/6971f5ac-8af1-446e-8034-05acea24681f/resourceGroups/aml-quickstarts-191197/providers/Microsoft.MachineLearningServices/workspaces/quick-starts-ws-191197/experimentids/9c42bfcc-ccc5-4112-a8ac-7dd038e01003/cancel/AutoML_0b3305fc-f780-4a61-9cc7-d0140c08eef0',\n",
       "  'ClientSdkVersion': '1.39.1',\n",
       "  'snapshotId': '00000000-0000-0000-0000-000000000000',\n",
       "  'SetupRunId': 'AutoML_0b3305fc-f780-4a61-9cc7-d0140c08eef0_setup',\n",
       "  'SetupRunContainerId': 'dcid.AutoML_0b3305fc-f780-4a61-9cc7-d0140c08eef0_setup',\n",
       "  'FeaturizationRunJsonPath': 'featurizer_container.json',\n",
       "  'FeaturizationRunId': 'AutoML_0b3305fc-f780-4a61-9cc7-d0140c08eef0_featurize',\n",
       "  'ProblemInfoJsonString': '{\"dataset_num_categorical\": 0, \"is_sparse\": true, \"subsampling\": false, \"has_extra_col\": true, \"dataset_classes\": 2, \"dataset_features\": 6974, \"dataset_samples\": 891, \"single_frequency_class_detected\": false}',\n",
       "  'ModelExplainRunId': 'AutoML_0b3305fc-f780-4a61-9cc7-d0140c08eef0_ModelExplain'},\n",
       " 'inputDatasets': [{'dataset': {'id': '328e5e8a-de0d-4b51-8614-660a932d3629'}, 'consumptionDetails': {'type': 'RunInput', 'inputName': 'training_data', 'mechanism': 'Direct'}}],\n",
       " 'outputDatasets': [],\n",
       " 'logFiles': {},\n",
       " 'submittedBy': 'ODL_User 191197'}"
      ]
     },
     "execution_count": 61,
     "metadata": {},
     "output_type": "execute_result"
    }
   ],
   "source": [
    "\n",
    "remote_run.wait_for_completion(show_output=True)"
   ]
  },
  {
   "cell_type": "markdown",
   "metadata": {},
   "source": [
    "## Best Model\n",
    "\n",
    "TODO: In the cell below, get the best model from the automl experiments and display all the properties of the model.\n",
    "\n"
   ]
  },
  {
   "cell_type": "code",
   "execution_count": 62,
   "metadata": {
    "gather": {
     "logged": 1598431425670
    },
    "jupyter": {
     "outputs_hidden": false,
     "source_hidden": false
    },
    "nteract": {
     "transient": {
      "deleting": false
     }
    }
   },
   "outputs": [
    {
     "name": "stdout",
     "output_type": "stream",
     "text": [
      "Best Run: AutoML_0b3305fc-f780-4a61-9cc7-d0140c08eef0_38\n",
      "Run(Experiment: ml-experiment-1,\n",
      "Id: AutoML_0b3305fc-f780-4a61-9cc7-d0140c08eef0_38,\n",
      "Type: azureml.scriptrun,\n",
      "Status: Completed)\n",
      "Fitted Model: Pipeline(memory=None,\n",
      "         steps=[('datatransformer',\n",
      "                 DataTransformer(enable_dnn=False, enable_feature_sweeping=True, feature_sweeping_config={}, feature_sweeping_timeout=86400, featurization_config=None, force_text_dnn=False, is_cross_validation=True, is_onnx_compatible=False, observer=None, task='classification', working_dir='/mnt/batch/tasks/shared/LS_root/mount...\n",
      "                 PreFittedSoftVotingClassifier(classification_labels=array([0, 1]), estimators=[('17', Pipeline(memory=None, steps=[('standardscalerwrapper', StandardScalerWrapper(copy=True, with_mean=False, with_std=True)), ('extratreesclassifier', ExtraTreesClassifier(bootstrap=False, ccp_alpha=0.0, class_weight='balanced', criterion='gini', max_depth=None, max_features=None, max_leaf_nodes=None, max_samples=None, min_impurity_decrease=0.0, min_impurity_split=None, min_samples_leaf=0.01, min_samples_split=0.056842105263157895, min_weight_fraction_leaf=0.0, n_estimators=200, n_jobs=1, oob_score=False, random_state=None, verbose=0, warm_start=False))], verbose=False)), ('18', Pipeline(memory=None, steps=[('standardscalerwrapper', StandardScalerWrapper(copy=True, with_mean=False, with_std=False)), ('xgboostclassifier', XGBoostClassifier(booster='gbtree', colsample_bytree=1, eta=0.3, gamma=0, max_depth=8, max_leaves=255, n_estimators=10, n_jobs=1, objective='reg:logistic', problem_info=ProblemInfo(gpu_training_param_dict={'processing_unit_type': 'cpu'}), random_state=0, reg_alpha=0.8333333333333334, reg_lambda=1.9791666666666667, subsample=0.8, tree_method='auto'))], verbose=False)), ('12', Pipeline(memory=None, steps=[('standardscalerwrapper', StandardScalerWrapper(copy=True, with_mean=False, with_std=False)), ('xgboostclassifier', XGBoostClassifier(booster='gbtree', colsample_bytree=0.9, eta=0.1, gamma=0, max_depth=6, max_leaves=3, n_estimators=25, n_jobs=1, objective='reg:logistic', problem_info=ProblemInfo(gpu_training_param_dict={'processing_unit_type': 'cpu'}), random_state=0, reg_alpha=0, reg_lambda=0.7291666666666667, subsample=0.5, tree_method='auto'))], verbose=False)), ('15', Pipeline(memory=None, steps=[('maxabsscaler', MaxAbsScaler(copy=True)), ('lightgbmclassifier', LightGBMClassifier(boosting_type='goss', colsample_bytree=0.5944444444444444, learning_rate=0.026323157894736843, max_bin=310, max_depth=-1, min_child_weight=3, min_data_in_leaf=1e-05, min_split_gain=0.7894736842105263, n_estimators=50, n_jobs=1, num_leaves=131, problem_info=ProblemInfo(gpu_training_param_dict={'processing_unit_type': 'cpu'}), random_state=None, reg_alpha=0.3684210526315789, reg_lambda=1, subsample=1))], verbose=False)), ('10', Pipeline(memory=None, steps=[('sparsenormalizer', Normalizer(copy=True, norm='l1')), ('lightgbmclassifier', LightGBMClassifier(boosting_type='goss', colsample_bytree=0.7922222222222222, learning_rate=0.09473736842105263, max_bin=80, max_depth=6, min_child_weight=0, min_data_in_leaf=0.05172896551724139, min_split_gain=0.894736842105263, n_estimators=25, n_jobs=1, num_leaves=140, problem_info=ProblemInfo(gpu_training_param_dict={'processing_unit_type': 'cpu'}), random_state=None, reg_alpha=0.2631578947368421, reg_lambda=0, subsample=1))], verbose=False)), ('9', Pipeline(memory=None, steps=[('maxabsscaler', MaxAbsScaler(copy=True)), ('randomforestclassifier', RandomForestClassifier(bootstrap=True, ccp_alpha=0.0, class_weight='balanced', criterion='gini', max_depth=None, max_features='log2', max_leaf_nodes=None, max_samples=None, min_impurity_decrease=0.0, min_impurity_split=None, min_samples_leaf=0.06157894736842105, min_samples_split=0.10368421052631578, min_weight_fraction_leaf=0.0, n_estimators=25, n_jobs=1, oob_score=True, random_state=None, verbose=0, warm_start=False))], verbose=False)), ('3', Pipeline(memory=None, steps=[('maxabsscaler', MaxAbsScaler(copy=True)), ('randomforestclassifier', RandomForestClassifier(bootstrap=True, ccp_alpha=0.0, class_weight=None, criterion='gini', max_depth=None, max_features='log2', max_leaf_nodes=None, max_samples=None, min_impurity_decrease=0.0, min_impurity_split=None, min_samples_leaf=0.01, min_samples_split=0.01, min_weight_fraction_leaf=0.0, n_estimators=10, n_jobs=1, oob_score=False, random_state=None, verbose=0, warm_start=False))], verbose=False)), ('7', Pipeline(memory=None, steps=[('standardscalerwrapper', StandardScalerWrapper(copy=True, with_mean=False, with_std=False)), ('xgboostclassifier', XGBoostClassifier(booster='gbtree', colsample_bytree=0.5, eta=0.3, gamma=0, max_depth=10, max_leaves=255, n_estimators=10, n_jobs=1, objective='reg:logistic', problem_info=ProblemInfo(gpu_training_param_dict={'processing_unit_type': 'cpu'}), random_state=0, reg_alpha=0, reg_lambda=0.10416666666666667, subsample=0.7, tree_method='auto'))], verbose=False)), ('23', Pipeline(memory=None, steps=[('sparsenormalizer', Normalizer(copy=True, norm='max')), ('xgboostclassifier', XGBoostClassifier(booster='gbtree', colsample_bytree=0.8, eta=0.3, gamma=5, max_depth=6, max_leaves=63, n_estimators=10, n_jobs=1, objective='reg:logistic', problem_info=ProblemInfo(gpu_training_param_dict={'processing_unit_type': 'cpu'}), random_state=0, reg_alpha=0.3125, reg_lambda=1.5625, subsample=1, tree_method='auto'))], verbose=False)), ('33', Pipeline(memory=None, steps=[('sparsenormalizer', Normalizer(copy=True, norm='l2')), ('xgboostclassifier', XGBoostClassifier(booster='gbtree', colsample_bytree=0.6, eta=0.3, gamma=0, max_depth=6, max_leaves=0, n_estimators=100, n_jobs=1, objective='reg:logistic', problem_info=ProblemInfo(gpu_training_param_dict={'processing_unit_type': 'cpu'}), random_state=0, reg_alpha=2.5, reg_lambda=0, subsample=0.6, tree_method='auto'))], verbose=False)), ('29', Pipeline(memory=None, steps=[('standardscalerwrapper', StandardScalerWrapper(copy=True, with_mean=False, with_std=True)), ('logisticregression', LogisticRegression(C=0.019306977288832496, class_weight=None, dual=False, fit_intercept=True, intercept_scaling=1, l1_ratio=None, max_iter=100, multi_class='ovr', n_jobs=1, penalty='l2', random_state=None, solver='saga', tol=0.0001, verbose=0, warm_start=False))], verbose=False))], flatten_transform=None, weights=[0.06666666666666667, 0.06666666666666667, 0.06666666666666667, 0.13333333333333333, 0.06666666666666667, 0.2, 0.06666666666666667, 0.13333333333333333, 0.06666666666666667, 0.06666666666666667, 0.06666666666666667]))],\n",
      "         verbose=False)\n",
      "Fitted Model Steps:\n",
      "[('datatransformer', DataTransformer(enable_dnn=False, enable_feature_sweeping=True, feature_sweeping_config={}, feature_sweeping_timeout=86400, featurization_config=None, force_text_dnn=False, is_cross_validation=True, is_onnx_compatible=False, task='classification')), ('prefittedsoftvotingclassifier', PreFittedSoftVotingClassifier(classification_labels=array([0, 1]), estimators=[('17', Pipeline(memory=None, steps=[('standardscalerwrapper', StandardScalerWrapper(copy=True, with_mean=False, with_std=True)), ('extratreesclassifier', ExtraTreesClassifier(bootstrap=False, ccp_alpha=0.0, class_weight='balanced', criterion='gini', max_depth=None, max_features=None, max_leaf_nodes=None, max_samples=None, min_impurity_decrease=0.0, min_impurity_split=None, min_samples_leaf=0.01, min_samples_split=0.056842105263157895, min_weight_fraction_leaf=0.0, n_estimators=200, n_jobs=1, oob_score=False, random_state=None, verbose=0, warm_start=False))], verbose=False)), ('18', Pipeline(memory=None, steps=[('standardscalerwrapper', StandardScalerWrapper(copy=True, with_mean=False, with_std=False)), ('xgboostclassifier', XGBoostClassifier(booster='gbtree', colsample_bytree=1, eta=0.3, gamma=0, max_depth=8, max_leaves=255, n_estimators=10, n_jobs=1, objective='reg:logistic', problem_info=ProblemInfo(gpu_training_param_dict={'processing_unit_type': 'cpu'}), random_state=0, reg_alpha=0.8333333333333334, reg_lambda=1.9791666666666667, subsample=0.8, tree_method='auto'))], verbose=False)), ('12', Pipeline(memory=None, steps=[('standardscalerwrapper', StandardScalerWrapper(copy=True, with_mean=False, with_std=False)), ('xgboostclassifier', XGBoostClassifier(booster='gbtree', colsample_bytree=0.9, eta=0.1, gamma=0, max_depth=6, max_leaves=3, n_estimators=25, n_jobs=1, objective='reg:logistic', problem_info=ProblemInfo(gpu_training_param_dict={'processing_unit_type': 'cpu'}), random_state=0, reg_alpha=0, reg_lambda=0.7291666666666667, subsample=0.5, tree_method='auto'))], verbose=False)), ('15', Pipeline(memory=None, steps=[('maxabsscaler', MaxAbsScaler(copy=True)), ('lightgbmclassifier', LightGBMClassifier(boosting_type='goss', colsample_bytree=0.5944444444444444, learning_rate=0.026323157894736843, max_bin=310, max_depth=-1, min_child_weight=3, min_data_in_leaf=1e-05, min_split_gain=0.7894736842105263, n_estimators=50, n_jobs=1, num_leaves=131, problem_info=ProblemInfo(gpu_training_param_dict={'processing_unit_type': 'cpu'}), random_state=None, reg_alpha=0.3684210526315789, reg_lambda=1, subsample=1))], verbose=False)), ('10', Pipeline(memory=None, steps=[('sparsenormalizer', Normalizer(copy=True, norm='l1')), ('lightgbmclassifier', LightGBMClassifier(boosting_type='goss', colsample_bytree=0.7922222222222222, learning_rate=0.09473736842105263, max_bin=80, max_depth=6, min_child_weight=0, min_data_in_leaf=0.05172896551724139, min_split_gain=0.894736842105263, n_estimators=25, n_jobs=1, num_leaves=140, problem_info=ProblemInfo(gpu_training_param_dict={'processing_unit_type': 'cpu'}), random_state=None, reg_alpha=0.2631578947368421, reg_lambda=0, subsample=1))], verbose=False)), ('9', Pipeline(memory=None, steps=[('maxabsscaler', MaxAbsScaler(copy=True)), ('randomforestclassifier', RandomForestClassifier(bootstrap=True, ccp_alpha=0.0, class_weight='balanced', criterion='gini', max_depth=None, max_features='log2', max_leaf_nodes=None, max_samples=None, min_impurity_decrease=0.0, min_impurity_split=None, min_samples_leaf=0.06157894736842105, min_samples_split=0.10368421052631578, min_weight_fraction_leaf=0.0, n_estimators=25, n_jobs=1, oob_score=True, random_state=None, verbose=0, warm_start=False))], verbose=False)), ('3', Pipeline(memory=None, steps=[('maxabsscaler', MaxAbsScaler(copy=True)), ('randomforestclassifier', RandomForestClassifier(bootstrap=True, ccp_alpha=0.0, class_weight=None, criterion='gini', max_depth=None, max_features='log2', max_leaf_nodes=None, max_samples=None, min_impurity_decrease=0.0, min_impurity_split=None, min_samples_leaf=0.01, min_samples_split=0.01, min_weight_fraction_leaf=0.0, n_estimators=10, n_jobs=1, oob_score=False, random_state=None, verbose=0, warm_start=False))], verbose=False)), ('7', Pipeline(memory=None, steps=[('standardscalerwrapper', StandardScalerWrapper(copy=True, with_mean=False, with_std=False)), ('xgboostclassifier', XGBoostClassifier(booster='gbtree', colsample_bytree=0.5, eta=0.3, gamma=0, max_depth=10, max_leaves=255, n_estimators=10, n_jobs=1, objective='reg:logistic', problem_info=ProblemInfo(gpu_training_param_dict={'processing_unit_type': 'cpu'}), random_state=0, reg_alpha=0, reg_lambda=0.10416666666666667, subsample=0.7, tree_method='auto'))], verbose=False)), ('23', Pipeline(memory=None, steps=[('sparsenormalizer', Normalizer(copy=True, norm='max')), ('xgboostclassifier', XGBoostClassifier(booster='gbtree', colsample_bytree=0.8, eta=0.3, gamma=5, max_depth=6, max_leaves=63, n_estimators=10, n_jobs=1, objective='reg:logistic', problem_info=ProblemInfo(gpu_training_param_dict={'processing_unit_type': 'cpu'}), random_state=0, reg_alpha=0.3125, reg_lambda=1.5625, subsample=1, tree_method='auto'))], verbose=False)), ('33', Pipeline(memory=None, steps=[('sparsenormalizer', Normalizer(copy=True, norm='l2')), ('xgboostclassifier', XGBoostClassifier(booster='gbtree', colsample_bytree=0.6, eta=0.3, gamma=0, max_depth=6, max_leaves=0, n_estimators=100, n_jobs=1, objective='reg:logistic', problem_info=ProblemInfo(gpu_training_param_dict={'processing_unit_type': 'cpu'}), random_state=0, reg_alpha=2.5, reg_lambda=0, subsample=0.6, tree_method='auto'))], verbose=False)), ('29', Pipeline(memory=None, steps=[('standardscalerwrapper', StandardScalerWrapper(copy=True, with_mean=False, with_std=True)), ('logisticregression', LogisticRegression(C=0.019306977288832496, class_weight=None, dual=False, fit_intercept=True, intercept_scaling=1, l1_ratio=None, max_iter=100, multi_class='ovr', n_jobs=1, penalty='l2', random_state=None, solver='saga', tol=0.0001, verbose=0, warm_start=False))], verbose=False))], flatten_transform=None, weights=[0.06666666666666667, 0.06666666666666667, 0.06666666666666667, 0.13333333333333333, 0.06666666666666667, 0.2, 0.06666666666666667, 0.13333333333333333, 0.06666666666666667, 0.06666666666666667, 0.06666666666666667]))]\n",
      "Best Run Metrics\n",
      "{'recall_score_weighted': 0.8316507936507936, 'balanced_accuracy': 0.8138100930545203, 'recall_score_macro': 0.8138100930545203, 'precision_score_micro': 0.8316507936507936, 'norm_macro_recall': 0.6276201861090406, 'f1_score_micro': 0.8316507936507936, 'AUC_weighted': 0.88000371950517, 'recall_score_micro': 0.8316507936507936, 'AUC_macro': 0.88000371950517, 'average_precision_score_weighted': 0.8876946570986162, 'precision_score_weighted': 0.8427459752038474, 'AUC_micro': 0.8863924666162762, 'log_loss': 0.45915673917925387, 'weighted_accuracy': 0.8467294758453788, 'matthews_correlation': 0.6453667515556915, 'precision_score_macro': 0.8330796047732133, 'accuracy': 0.8316507936507936, 'f1_score_weighted': 0.8291016640731975, 'average_precision_score_macro': 0.8790116987441249, 'average_precision_score_micro': 0.8752068488018321, 'f1_score_macro': 0.814020183442104, 'accuracy_table': 'aml://artifactId/ExperimentRun/dcid.AutoML_0b3305fc-f780-4a61-9cc7-d0140c08eef0_38/accuracy_table', 'confusion_matrix': 'aml://artifactId/ExperimentRun/dcid.AutoML_0b3305fc-f780-4a61-9cc7-d0140c08eef0_38/confusion_matrix'}\n",
      "\n",
      " recall_score_weighted 0.8316507936507936\n",
      "\n",
      " balanced_accuracy 0.8138100930545203\n",
      "\n",
      " recall_score_macro 0.8138100930545203\n",
      "\n",
      " precision_score_micro 0.8316507936507936\n",
      "\n",
      " norm_macro_recall 0.6276201861090406\n",
      "\n",
      " f1_score_micro 0.8316507936507936\n",
      "\n",
      " AUC_weighted 0.88000371950517\n",
      "\n",
      " recall_score_micro 0.8316507936507936\n",
      "\n",
      " AUC_macro 0.88000371950517\n",
      "\n",
      " average_precision_score_weighted 0.8876946570986162\n",
      "\n",
      " precision_score_weighted 0.8427459752038474\n",
      "\n",
      " AUC_micro 0.8863924666162762\n",
      "\n",
      " log_loss 0.45915673917925387\n",
      "\n",
      " weighted_accuracy 0.8467294758453788\n",
      "\n",
      " matthews_correlation 0.6453667515556915\n",
      "\n",
      " precision_score_macro 0.8330796047732133\n",
      "\n",
      " accuracy 0.8316507936507936\n",
      "\n",
      " f1_score_weighted 0.8291016640731975\n",
      "\n",
      " average_precision_score_macro 0.8790116987441249\n",
      "\n",
      " average_precision_score_micro 0.8752068488018321\n",
      "\n",
      " f1_score_macro 0.814020183442104\n",
      "\n",
      " accuracy_table aml://artifactId/ExperimentRun/dcid.AutoML_0b3305fc-f780-4a61-9cc7-d0140c08eef0_38/accuracy_table\n",
      "\n",
      " confusion_matrix aml://artifactId/ExperimentRun/dcid.AutoML_0b3305fc-f780-4a61-9cc7-d0140c08eef0_38/confusion_matrix\n"
     ]
    }
   ],
   "source": [
    "best_run,fitted_model = remote_run.get_output()\n",
    "best_run_metrics = best_run.get_metrics() \n",
    "\n",
    "print(\"Best Run:\",best_run.id)\n",
    "print(best_run)\n",
    "print(\"Fitted Model:\", fitted_model)\n",
    "print(\"Fitted Model Steps:\")\n",
    "print(fitted_model.steps)\n",
    "print(\"Best Run Metrics\")\n",
    "print(best_run_metrics)\n",
    "\n",
    "for i in best_run_metrics:\n",
    "    x = best_run_metrics[i]\n",
    "    print(\"\\n\", i,x )\n"
   ]
  },
  {
   "cell_type": "markdown",
   "metadata": {
    "gather": {
     "logged": 1598431426111
    },
    "jupyter": {
     "outputs_hidden": false,
     "source_hidden": false
    },
    "nteract": {
     "transient": {
      "deleting": false
     }
    }
   },
   "source": [
    "## Test Model"
   ]
  },
  {
   "cell_type": "code",
   "execution_count": null,
   "metadata": {},
   "outputs": [],
   "source": []
  },
  {
   "cell_type": "markdown",
   "metadata": {},
   "source": [
    "## Model Deployment\n",
    "\n",
    "Remember you have to deploy only one of the two models you trained but you still need to register both the models. Perform the steps in the rest of this notebook only if you wish to deploy this model.\n",
    "\n",
    "TODO: In the cell below, register the model, create an inference config and deploy the model as a web service."
   ]
  },
  {
   "cell_type": "code",
   "execution_count": 49,
   "metadata": {
    "gather": {
     "logged": 1598431435189
    },
    "jupyter": {
     "outputs_hidden": false,
     "source_hidden": false
    },
    "nteract": {
     "transient": {
      "deleting": false
     }
    }
   },
   "outputs": [
    {
     "data": {
      "text/plain": [
       "'model.pkl'"
      ]
     },
     "execution_count": 49,
     "metadata": {},
     "output_type": "execute_result"
    }
   ],
   "source": [
    "## Register Model\n",
    "\n",
    "from azureml.core import Model\n",
    "\n",
    "automl_model = remote_run.register_model(model_name='Titantic_Model')\n",
    "automl_model.download(exist_ok = True)"
   ]
  },
  {
   "cell_type": "markdown",
   "metadata": {
    "collapsed": true,
    "gather": {
     "logged": 1598431657736
    },
    "jupyter": {
     "outputs_hidden": false,
     "source_hidden": false
    },
    "nteract": {
     "transient": {
      "deleting": false
     }
    }
   },
   "source": [
    "TODO: In the cell below, send a request to the web service you deployed to test it."
   ]
  },
  {
   "cell_type": "code",
   "execution_count": 50,
   "metadata": {
    "gather": {
     "logged": 1598432707604
    },
    "jupyter": {
     "outputs_hidden": false,
     "source_hidden": false
    },
    "nteract": {
     "transient": {
      "deleting": false
     }
    }
   },
   "outputs": [],
   "source": [
    "## Create Inference Config\n",
    "myenv = Environment.from_conda_specification(file_path = 'titanic.yml',name='env')\n"
   ]
  },
  {
   "cell_type": "markdown",
   "metadata": {
    "collapsed": true,
    "gather": {
     "logged": 1598432765711
    },
    "jupyter": {
     "outputs_hidden": false,
     "source_hidden": false
    },
    "nteract": {
     "transient": {
      "deleting": false
     }
    }
   },
   "source": [
    "TODO: In the cell below, print the logs of the web service and delete the service"
   ]
  },
  {
   "cell_type": "code",
   "execution_count": null,
   "metadata": {
    "jupyter": {
     "outputs_hidden": false,
     "source_hidden": false
    },
    "nteract": {
     "transient": {
      "deleting": false
     }
    }
   },
   "outputs": [],
   "source": []
  },
  {
   "cell_type": "markdown",
   "metadata": {},
   "source": [
    "**Submission Checklist**\n",
    "- I have registered the model.\n",
    "- I have deployed the model with the best accuracy as a webservice.\n",
    "- I have tested the webservice by sending a request to the model endpoint.\n",
    "- I have deleted the webservice and shutdown all the computes that I have used.\n",
    "- I have taken a screenshot showing the model endpoint as active.\n",
    "- The project includes a file containing the environment details.\n"
   ]
  },
  {
   "cell_type": "markdown",
   "metadata": {},
   "source": []
  }
 ],
 "metadata": {
  "kernel_info": {
   "name": "python38-azureml"
  },
  "kernelspec": {
   "display_name": "Python 3.8 - AzureML",
   "language": "python",
   "name": "python38-azureml"
  },
  "nteract": {
   "version": "nteract-front-end@1.0.0"
  }
 },
 "nbformat": 4,
 "nbformat_minor": 2
}
