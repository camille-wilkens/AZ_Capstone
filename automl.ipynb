{
 "cells": [
  {
   "cell_type": "markdown",
   "metadata": {},
   "source": [
    "# Automated ML\n",
    "\n",
    "In this notebook, I will perform the following steps:\n",
    "\n",
    "Import Dependencies\n",
    "Create an Experiment in an existing Workspace.\n",
    "Create or Attach existing AmlCompute to a workspace.\n",
    "Define data loading in a TabularDataset.\n",
    "Configure AutoML using AutoMLConfig.\n",
    "Use AutoMLStep\n",
    "Train the model using AmlCompute\n",
    "Explore the results.\n",
    "Test the best fitted model."
   ]
  },
  {
   "cell_type": "markdown",
   "metadata": {},
   "source": [
    "## Import Dependcies\n",
    "\n",
    "TODO: Import Dependencies. In the cell below, import all the dependencies that you will need to complete the project."
   ]
  },
  {
   "cell_type": "code",
   "execution_count": 21,
   "metadata": {},
   "outputs": [
    {
     "name": "stdout",
     "output_type": "stream",
     "text": [
      "/bin/bash: pip: command not found\r\n"
     ]
    }
   ],
   "source": [
    "!pip install --upgrade --upgrade-strategy eager azureml-sdk[automl,widgets]\n",
    "#Restart Kernel after update"
   ]
  },
  {
   "cell_type": "code",
   "execution_count": 1,
   "metadata": {
    "gather": {
     "logged": 1598423888013
    },
    "jupyter": {
     "outputs_hidden": false,
     "source_hidden": false
    },
    "nteract": {
     "transient": {
      "deleting": false
     }
    }
   },
   "outputs": [
    {
     "name": "stdout",
     "output_type": "stream",
     "text": [
      "SDK version: 1.40.0\n"
     ]
    }
   ],
   "source": [
    "import logging\n",
    "import os\n",
    "import csv\n",
    "\n",
    "from matplotlib import pyplot as plt\n",
    "import numpy as np\n",
    "import pandas as pd\n",
    "from sklearn import datasets\n",
    "import pkg_resources\n",
    "import json\n",
    "import pickle\n",
    "\n",
    "import azureml.core\n",
    "from azureml.core import Model\n",
    "from azureml.core.environment import Environment\n",
    "from azureml.core.experiment import Experiment\n",
    "from azureml.core.workspace import Workspace\n",
    "from azureml.train.automl import AutoMLConfig\n",
    "from azureml.core.dataset import Dataset\n",
    "\n",
    "from azureml.pipeline.steps import AutoMLStep\n",
    "from azureml.widgets import RunDetails\n",
    "from azureml.core.compute import AmlCompute\n",
    "from azureml.core.compute import ComputeTarget\n",
    "from azureml.core.compute_target import ComputeTargetException\n",
    "from azureml.core.model import Model\n",
    "from azureml.core.webservice import LocalWebservice\n",
    "from azureml.pipeline.core import PipelineData, TrainingOutput\n",
    "from azureml.core.model import Model\n",
    "\n",
    "# Check core SDK version number\n",
    "print(\"SDK version:\", azureml.core.VERSION)\n",
    "\n",
    "import urllib.request\n",
    "\n",
    "\n",
    "import joblib\n",
    "\n"
   ]
  },
  {
   "cell_type": "markdown",
   "metadata": {},
   "source": [
    "## Create an Azure ML experiment"
   ]
  },
  {
   "cell_type": "code",
   "execution_count": 2,
   "metadata": {},
   "outputs": [
    {
     "name": "stdout",
     "output_type": "stream",
     "text": [
      "quick-starts-ws-192511\n",
      "aml-quickstarts-192511\n",
      "southcentralus\n",
      "9b72f9e6-56c5-4c16-991b-19c652994860\n"
     ]
    }
   ],
   "source": [
    "ws = Workspace.from_config()\n",
    "\n",
    "# Choose a name for the run history container in the workspace.\n",
    "experiment_name = 'ml-experiment-1'\n",
    "project_folder = './automl-project'\n",
    "\n",
    "experiment = Experiment(ws, experiment_name)\n",
    "print(ws.name, ws.resource_group, ws.location, ws.subscription_id, sep = '\\n')"
   ]
  },
  {
   "cell_type": "markdown",
   "metadata": {},
   "source": [
    "## Create or Attach an AmlCompute cluster"
   ]
  },
  {
   "cell_type": "code",
   "execution_count": 3,
   "metadata": {},
   "outputs": [
    {
     "name": "stdout",
     "output_type": "stream",
     "text": [
      "InProgress.\n",
      "SucceededProvisioning operation finished, operation \"Succeeded\"\n",
      "Succeeded......................................................................................................................\n",
      "AmlCompute wait for completion finished\n",
      "\n",
      "Wait timeout has been reached\n",
      "Current provisioning state of AmlCompute is \"Succeeded\" and current node count is \"0\"\n"
     ]
    }
   ],
   "source": [
    "# Choose a name for your CPU cluster\n",
    "amlcompute_cluster_name = \"automl-cluster\"\n",
    "\n",
    "# Verify that cluster does not exist already\n",
    "try:\n",
    "    compute_target = ComputeTarget(workspace=ws, name=amlcompute_cluster_name)\n",
    "    print('Found existing cluster, use it.')\n",
    "except ComputeTargetException:\n",
    "    compute_config = AmlCompute.provisioning_configuration(vm_size='STANDARD_DS12_V2',# for GPU, use \"STANDARD_NC6\"\n",
    "                                                           #vm_priority = 'lowpriority', # optional\n",
    "                                                           max_nodes=4)\n",
    "    compute_target = ComputeTarget.create(ws, amlcompute_cluster_name, compute_config)\n",
    "\n",
    "compute_target.wait_for_completion(show_output=True, min_node_count = 1, timeout_in_minutes = 10)"
   ]
  },
  {
   "cell_type": "markdown",
   "metadata": {},
   "source": [
    "## Dataset\n",
    "\n",
    "### Overview\n",
    "TODO: In this markdown cell, give an overview of the dataset you are using. Also mention the task you will be performing.\n",
    "\n",
    "\n",
    "TODO: Get data. In the cell below, write code to access the data you will be using in this project. Remember that the dataset needs to be external."
   ]
  },
  {
   "cell_type": "code",
   "execution_count": 4,
   "metadata": {},
   "outputs": [
    {
     "data": {
      "text/html": [
       "<div>\n",
       "<style scoped>\n",
       "    .dataframe tbody tr th:only-of-type {\n",
       "        vertical-align: middle;\n",
       "    }\n",
       "\n",
       "    .dataframe tbody tr th {\n",
       "        vertical-align: top;\n",
       "    }\n",
       "\n",
       "    .dataframe thead th {\n",
       "        text-align: right;\n",
       "    }\n",
       "</style>\n",
       "<table border=\"1\" class=\"dataframe\">\n",
       "  <thead>\n",
       "    <tr style=\"text-align: right;\">\n",
       "      <th></th>\n",
       "      <th>age</th>\n",
       "      <th>anaemia</th>\n",
       "      <th>creatinine_phosphokinase</th>\n",
       "      <th>diabetes</th>\n",
       "      <th>ejection_fraction</th>\n",
       "      <th>high_blood_pressure</th>\n",
       "      <th>platelets</th>\n",
       "      <th>serum_creatinine</th>\n",
       "      <th>serum_sodium</th>\n",
       "      <th>sex</th>\n",
       "      <th>smoking</th>\n",
       "      <th>time</th>\n",
       "      <th>DEATH_EVENT</th>\n",
       "    </tr>\n",
       "  </thead>\n",
       "  <tbody>\n",
       "    <tr>\n",
       "      <th>count</th>\n",
       "      <td>299.000000</td>\n",
       "      <td>299.000000</td>\n",
       "      <td>299.000000</td>\n",
       "      <td>299.000000</td>\n",
       "      <td>299.000000</td>\n",
       "      <td>299.000000</td>\n",
       "      <td>299.000000</td>\n",
       "      <td>299.00000</td>\n",
       "      <td>299.000000</td>\n",
       "      <td>299.000000</td>\n",
       "      <td>299.00000</td>\n",
       "      <td>299.000000</td>\n",
       "      <td>299.00000</td>\n",
       "    </tr>\n",
       "    <tr>\n",
       "      <th>mean</th>\n",
       "      <td>60.833893</td>\n",
       "      <td>0.431438</td>\n",
       "      <td>581.839465</td>\n",
       "      <td>0.418060</td>\n",
       "      <td>38.083612</td>\n",
       "      <td>0.351171</td>\n",
       "      <td>263358.029264</td>\n",
       "      <td>1.39388</td>\n",
       "      <td>136.625418</td>\n",
       "      <td>0.648829</td>\n",
       "      <td>0.32107</td>\n",
       "      <td>130.260870</td>\n",
       "      <td>0.32107</td>\n",
       "    </tr>\n",
       "    <tr>\n",
       "      <th>std</th>\n",
       "      <td>11.894809</td>\n",
       "      <td>0.496107</td>\n",
       "      <td>970.287881</td>\n",
       "      <td>0.494067</td>\n",
       "      <td>11.834841</td>\n",
       "      <td>0.478136</td>\n",
       "      <td>97804.236869</td>\n",
       "      <td>1.03451</td>\n",
       "      <td>4.412477</td>\n",
       "      <td>0.478136</td>\n",
       "      <td>0.46767</td>\n",
       "      <td>77.614208</td>\n",
       "      <td>0.46767</td>\n",
       "    </tr>\n",
       "    <tr>\n",
       "      <th>min</th>\n",
       "      <td>40.000000</td>\n",
       "      <td>0.000000</td>\n",
       "      <td>23.000000</td>\n",
       "      <td>0.000000</td>\n",
       "      <td>14.000000</td>\n",
       "      <td>0.000000</td>\n",
       "      <td>25100.000000</td>\n",
       "      <td>0.50000</td>\n",
       "      <td>113.000000</td>\n",
       "      <td>0.000000</td>\n",
       "      <td>0.00000</td>\n",
       "      <td>4.000000</td>\n",
       "      <td>0.00000</td>\n",
       "    </tr>\n",
       "    <tr>\n",
       "      <th>25%</th>\n",
       "      <td>51.000000</td>\n",
       "      <td>0.000000</td>\n",
       "      <td>116.500000</td>\n",
       "      <td>0.000000</td>\n",
       "      <td>30.000000</td>\n",
       "      <td>0.000000</td>\n",
       "      <td>212500.000000</td>\n",
       "      <td>0.90000</td>\n",
       "      <td>134.000000</td>\n",
       "      <td>0.000000</td>\n",
       "      <td>0.00000</td>\n",
       "      <td>73.000000</td>\n",
       "      <td>0.00000</td>\n",
       "    </tr>\n",
       "    <tr>\n",
       "      <th>50%</th>\n",
       "      <td>60.000000</td>\n",
       "      <td>0.000000</td>\n",
       "      <td>250.000000</td>\n",
       "      <td>0.000000</td>\n",
       "      <td>38.000000</td>\n",
       "      <td>0.000000</td>\n",
       "      <td>262000.000000</td>\n",
       "      <td>1.10000</td>\n",
       "      <td>137.000000</td>\n",
       "      <td>1.000000</td>\n",
       "      <td>0.00000</td>\n",
       "      <td>115.000000</td>\n",
       "      <td>0.00000</td>\n",
       "    </tr>\n",
       "    <tr>\n",
       "      <th>75%</th>\n",
       "      <td>70.000000</td>\n",
       "      <td>1.000000</td>\n",
       "      <td>582.000000</td>\n",
       "      <td>1.000000</td>\n",
       "      <td>45.000000</td>\n",
       "      <td>1.000000</td>\n",
       "      <td>303500.000000</td>\n",
       "      <td>1.40000</td>\n",
       "      <td>140.000000</td>\n",
       "      <td>1.000000</td>\n",
       "      <td>1.00000</td>\n",
       "      <td>203.000000</td>\n",
       "      <td>1.00000</td>\n",
       "    </tr>\n",
       "    <tr>\n",
       "      <th>max</th>\n",
       "      <td>95.000000</td>\n",
       "      <td>1.000000</td>\n",
       "      <td>7861.000000</td>\n",
       "      <td>1.000000</td>\n",
       "      <td>80.000000</td>\n",
       "      <td>1.000000</td>\n",
       "      <td>850000.000000</td>\n",
       "      <td>9.40000</td>\n",
       "      <td>148.000000</td>\n",
       "      <td>1.000000</td>\n",
       "      <td>1.00000</td>\n",
       "      <td>285.000000</td>\n",
       "      <td>1.00000</td>\n",
       "    </tr>\n",
       "  </tbody>\n",
       "</table>\n",
       "</div>"
      ],
      "text/plain": [
       "              age     anaemia  creatinine_phosphokinase    diabetes  \\\n",
       "count  299.000000  299.000000                299.000000  299.000000   \n",
       "mean    60.833893    0.431438                581.839465    0.418060   \n",
       "std     11.894809    0.496107                970.287881    0.494067   \n",
       "min     40.000000    0.000000                 23.000000    0.000000   \n",
       "25%     51.000000    0.000000                116.500000    0.000000   \n",
       "50%     60.000000    0.000000                250.000000    0.000000   \n",
       "75%     70.000000    1.000000                582.000000    1.000000   \n",
       "max     95.000000    1.000000               7861.000000    1.000000   \n",
       "\n",
       "       ejection_fraction  high_blood_pressure      platelets  \\\n",
       "count         299.000000           299.000000     299.000000   \n",
       "mean           38.083612             0.351171  263358.029264   \n",
       "std            11.834841             0.478136   97804.236869   \n",
       "min            14.000000             0.000000   25100.000000   \n",
       "25%            30.000000             0.000000  212500.000000   \n",
       "50%            38.000000             0.000000  262000.000000   \n",
       "75%            45.000000             1.000000  303500.000000   \n",
       "max            80.000000             1.000000  850000.000000   \n",
       "\n",
       "       serum_creatinine  serum_sodium         sex    smoking        time  \\\n",
       "count         299.00000    299.000000  299.000000  299.00000  299.000000   \n",
       "mean            1.39388    136.625418    0.648829    0.32107  130.260870   \n",
       "std             1.03451      4.412477    0.478136    0.46767   77.614208   \n",
       "min             0.50000    113.000000    0.000000    0.00000    4.000000   \n",
       "25%             0.90000    134.000000    0.000000    0.00000   73.000000   \n",
       "50%             1.10000    137.000000    1.000000    0.00000  115.000000   \n",
       "75%             1.40000    140.000000    1.000000    1.00000  203.000000   \n",
       "max             9.40000    148.000000    1.000000    1.00000  285.000000   \n",
       "\n",
       "       DEATH_EVENT  \n",
       "count    299.00000  \n",
       "mean       0.32107  \n",
       "std        0.46767  \n",
       "min        0.00000  \n",
       "25%        0.00000  \n",
       "50%        0.00000  \n",
       "75%        1.00000  \n",
       "max        1.00000  "
      ]
     },
     "execution_count": 4,
     "metadata": {},
     "output_type": "execute_result"
    }
   ],
   "source": [
    "# Try to load the dataset from the Workspace. Otherwise, create it from the file\n",
    "# NOTE: update the key to match the dataset name\n",
    "found = False\n",
    "key = \"Heart_Prediction_Dataset\"\n",
    "description_text = \"Heart Prediction Dataset\"\n",
    "\n",
    "if key in ws.datasets.keys(): \n",
    "        found = True\n",
    "        dataset = ws.datasets[key] \n",
    "\n",
    "if not found:\n",
    "        # Create AML Dataset and register it into Workspace\n",
    "        example_data = 'https://raw.githubusercontent.com/camille-wilkens/AZ_Capstone/main/heart_failure_clinical_records_dataset.csv'\n",
    "        dataset = Dataset.Tabular.from_delimited_files(example_data)        \n",
    "        #Register Dataset in Workspace\n",
    "        dataset = dataset.register(workspace=ws,\n",
    "                                   name=key,\n",
    "                                   description=description_text)\n",
    "\n",
    "\n",
    "df = dataset.to_pandas_dataframe()\n",
    "df.describe()"
   ]
  },
  {
   "cell_type": "markdown",
   "metadata": {},
   "source": [
    "## Review the Dataset Result"
   ]
  },
  {
   "cell_type": "code",
   "execution_count": 5,
   "metadata": {},
   "outputs": [
    {
     "data": {
      "text/html": [
       "<div>\n",
       "<style scoped>\n",
       "    .dataframe tbody tr th:only-of-type {\n",
       "        vertical-align: middle;\n",
       "    }\n",
       "\n",
       "    .dataframe tbody tr th {\n",
       "        vertical-align: top;\n",
       "    }\n",
       "\n",
       "    .dataframe thead th {\n",
       "        text-align: right;\n",
       "    }\n",
       "</style>\n",
       "<table border=\"1\" class=\"dataframe\">\n",
       "  <thead>\n",
       "    <tr style=\"text-align: right;\">\n",
       "      <th></th>\n",
       "      <th>age</th>\n",
       "      <th>anaemia</th>\n",
       "      <th>creatinine_phosphokinase</th>\n",
       "      <th>diabetes</th>\n",
       "      <th>ejection_fraction</th>\n",
       "      <th>high_blood_pressure</th>\n",
       "      <th>platelets</th>\n",
       "      <th>serum_creatinine</th>\n",
       "      <th>serum_sodium</th>\n",
       "      <th>sex</th>\n",
       "      <th>smoking</th>\n",
       "      <th>time</th>\n",
       "      <th>DEATH_EVENT</th>\n",
       "    </tr>\n",
       "  </thead>\n",
       "  <tbody>\n",
       "    <tr>\n",
       "      <th>0</th>\n",
       "      <td>75.0</td>\n",
       "      <td>0</td>\n",
       "      <td>582</td>\n",
       "      <td>0</td>\n",
       "      <td>20</td>\n",
       "      <td>1</td>\n",
       "      <td>265000.00</td>\n",
       "      <td>1.9</td>\n",
       "      <td>130</td>\n",
       "      <td>1</td>\n",
       "      <td>0</td>\n",
       "      <td>4</td>\n",
       "      <td>1</td>\n",
       "    </tr>\n",
       "    <tr>\n",
       "      <th>1</th>\n",
       "      <td>55.0</td>\n",
       "      <td>0</td>\n",
       "      <td>7861</td>\n",
       "      <td>0</td>\n",
       "      <td>38</td>\n",
       "      <td>0</td>\n",
       "      <td>263358.03</td>\n",
       "      <td>1.1</td>\n",
       "      <td>136</td>\n",
       "      <td>1</td>\n",
       "      <td>0</td>\n",
       "      <td>6</td>\n",
       "      <td>1</td>\n",
       "    </tr>\n",
       "    <tr>\n",
       "      <th>2</th>\n",
       "      <td>65.0</td>\n",
       "      <td>0</td>\n",
       "      <td>146</td>\n",
       "      <td>0</td>\n",
       "      <td>20</td>\n",
       "      <td>0</td>\n",
       "      <td>162000.00</td>\n",
       "      <td>1.3</td>\n",
       "      <td>129</td>\n",
       "      <td>1</td>\n",
       "      <td>1</td>\n",
       "      <td>7</td>\n",
       "      <td>1</td>\n",
       "    </tr>\n",
       "    <tr>\n",
       "      <th>3</th>\n",
       "      <td>50.0</td>\n",
       "      <td>1</td>\n",
       "      <td>111</td>\n",
       "      <td>0</td>\n",
       "      <td>20</td>\n",
       "      <td>0</td>\n",
       "      <td>210000.00</td>\n",
       "      <td>1.9</td>\n",
       "      <td>137</td>\n",
       "      <td>1</td>\n",
       "      <td>0</td>\n",
       "      <td>7</td>\n",
       "      <td>1</td>\n",
       "    </tr>\n",
       "    <tr>\n",
       "      <th>4</th>\n",
       "      <td>65.0</td>\n",
       "      <td>1</td>\n",
       "      <td>160</td>\n",
       "      <td>1</td>\n",
       "      <td>20</td>\n",
       "      <td>0</td>\n",
       "      <td>327000.00</td>\n",
       "      <td>2.7</td>\n",
       "      <td>116</td>\n",
       "      <td>0</td>\n",
       "      <td>0</td>\n",
       "      <td>8</td>\n",
       "      <td>1</td>\n",
       "    </tr>\n",
       "  </tbody>\n",
       "</table>\n",
       "</div>"
      ],
      "text/plain": [
       "    age  anaemia  creatinine_phosphokinase  diabetes  ejection_fraction  \\\n",
       "0  75.0        0                       582         0                 20   \n",
       "1  55.0        0                      7861         0                 38   \n",
       "2  65.0        0                       146         0                 20   \n",
       "3  50.0        1                       111         0                 20   \n",
       "4  65.0        1                       160         1                 20   \n",
       "\n",
       "   high_blood_pressure  platelets  serum_creatinine  serum_sodium  sex  \\\n",
       "0                    1  265000.00               1.9           130    1   \n",
       "1                    0  263358.03               1.1           136    1   \n",
       "2                    0  162000.00               1.3           129    1   \n",
       "3                    0  210000.00               1.9           137    1   \n",
       "4                    0  327000.00               2.7           116    0   \n",
       "\n",
       "   smoking  time  DEATH_EVENT  \n",
       "0        0     4            1  \n",
       "1        0     6            1  \n",
       "2        1     7            1  \n",
       "3        0     7            1  \n",
       "4        0     8            1  "
      ]
     },
     "execution_count": 5,
     "metadata": {},
     "output_type": "execute_result"
    }
   ],
   "source": [
    "dataset.take(5).to_pandas_dataframe()"
   ]
  },
  {
   "cell_type": "markdown",
   "metadata": {},
   "source": [
    "## AutoML Configuration\n",
    "\n",
    "TODO: Explain why you chose the automl settings and cofiguration you used below."
   ]
  },
  {
   "cell_type": "code",
   "execution_count": 6,
   "metadata": {
    "gather": {
     "logged": 1598429217746
    },
    "jupyter": {
     "outputs_hidden": false,
     "source_hidden": false
    },
    "nteract": {
     "transient": {
      "deleting": false
     }
    }
   },
   "outputs": [],
   "source": [
    "# TODO: Put your automl settings here\n",
    "automl_settings = {\n",
    "    \"experiment_timeout_minutes\": 30,\n",
    "    \"max_concurrent_iterations\": 5,\n",
    "     \"n_cross_validations\": 25,\n",
    "     \"primary_metric\" : 'AUC_weighted'\n",
    "}\n",
    " #   \"primary_metric\" : 'AUC_weighted'\n",
    "# TODO: Put your automl config here\n",
    "automl_config = AutoMLConfig(compute_target=compute_target,\n",
    "                             task = \"classification\",\n",
    "                             training_data=dataset,\n",
    "                             label_column_name=\"DEATH_EVENT\",   \n",
    "                             enable_early_stopping= True,\n",
    "                             featurization= 'auto',\n",
    "                             debug_log = \"automl_errors.log\",\n",
    "                             **automl_settings\n",
    "                            )"
   ]
  },
  {
   "cell_type": "markdown",
   "metadata": {},
   "source": [
    "## Run Details\n",
    "\n",
    "OPTIONAL: Write about the different models trained and their performance. Why do you think some models did better than others?\n",
    "\n",
    "TODO: In the cell below, use the `RunDetails` widget to show the different experiments."
   ]
  },
  {
   "cell_type": "code",
   "execution_count": 7,
   "metadata": {},
   "outputs": [
    {
     "name": "stdout",
     "output_type": "stream",
     "text": [
      "Submitting remote run.\n"
     ]
    },
    {
     "data": {
      "text/html": [
       "<table style=\"width:100%\"><tr><th>Experiment</th><th>Id</th><th>Type</th><th>Status</th><th>Details Page</th><th>Docs Page</th></tr><tr><td>ml-experiment-1</td><td>AutoML_9ae81c6d-3fc1-45c9-b5c6-a211ba6b00f8</td><td>automl</td><td>NotStarted</td><td><a href=\"https://ml.azure.com/runs/AutoML_9ae81c6d-3fc1-45c9-b5c6-a211ba6b00f8?wsid=/subscriptions/9b72f9e6-56c5-4c16-991b-19c652994860/resourcegroups/aml-quickstarts-192511/workspaces/quick-starts-ws-192511&amp;tid=660b3398-b80e-49d2-bc5b-ac1dc93b5254\" target=\"_blank\" rel=\"noopener\">Link to Azure Machine Learning studio</a></td><td><a href=\"https://docs.microsoft.com/en-us/python/api/overview/azure/ml/intro?view=azure-ml-py\" target=\"_blank\" rel=\"noopener\">Link to Documentation</a></td></tr></table>"
      ],
      "text/plain": [
       "<IPython.core.display.HTML object>"
      ]
     },
     "metadata": {},
     "output_type": "display_data"
    }
   ],
   "source": [
    "# TODO: Submit your experiment\n",
    "remote_run = experiment.submit(automl_config)\n"
   ]
  },
  {
   "cell_type": "code",
   "execution_count": 10,
   "metadata": {},
   "outputs": [
    {
     "data": {
      "application/vnd.jupyter.widget-view+json": {
       "model_id": "2c46d4a25b9242e1b2d1872afda01721",
       "version_major": 2,
       "version_minor": 0
      },
      "text/plain": [
       "_AutoMLWidget(widget_settings={'childWidgetDisplay': 'popup', 'send_telemetry': False, 'log_level': 'INFO', 's…"
      ]
     },
     "metadata": {},
     "output_type": "display_data"
    },
    {
     "data": {
      "application/aml.mini.widget.v1": "{\"status\": \"Completed\", \"workbench_run_details_uri\": \"https://ml.azure.com/runs/AutoML_9ae81c6d-3fc1-45c9-b5c6-a211ba6b00f8?wsid=/subscriptions/9b72f9e6-56c5-4c16-991b-19c652994860/resourcegroups/aml-quickstarts-192511/workspaces/quick-starts-ws-192511&tid=660b3398-b80e-49d2-bc5b-ac1dc93b5254\", \"run_id\": \"AutoML_9ae81c6d-3fc1-45c9-b5c6-a211ba6b00f8\", \"run_properties\": {\"run_id\": \"AutoML_9ae81c6d-3fc1-45c9-b5c6-a211ba6b00f8\", \"created_utc\": \"2022-04-18T12:29:59.49384Z\", \"properties\": {\"num_iterations\": \"1000\", \"training_type\": \"TrainFull\", \"acquisition_function\": \"EI\", \"primary_metric\": \"AUC_weighted\", \"train_split\": \"0\", \"acquisition_parameter\": \"0\", \"num_cross_validation\": \"25\", \"target\": \"automl-cluster\", \"AMLSettingsJsonString\": \"{\\\"path\\\":null,\\\"name\\\":\\\"ml-experiment-1\\\",\\\"subscription_id\\\":\\\"9b72f9e6-56c5-4c16-991b-19c652994860\\\",\\\"resource_group\\\":\\\"aml-quickstarts-192511\\\",\\\"workspace_name\\\":\\\"quick-starts-ws-192511\\\",\\\"region\\\":\\\"southcentralus\\\",\\\"compute_target\\\":\\\"automl-cluster\\\",\\\"spark_service\\\":null,\\\"azure_service\\\":\\\"remote\\\",\\\"many_models\\\":false,\\\"pipeline_fetch_max_batch_size\\\":1,\\\"enable_batch_run\\\":true,\\\"enable_run_restructure\\\":false,\\\"start_auxiliary_runs_before_parent_complete\\\":false,\\\"enable_code_generation\\\":false,\\\"iterations\\\":1000,\\\"primary_metric\\\":\\\"AUC_weighted\\\",\\\"task_type\\\":\\\"classification\\\",\\\"positive_label\\\":null,\\\"data_script\\\":null,\\\"test_size\\\":0.0,\\\"test_include_predictions_only\\\":false,\\\"validation_size\\\":0.0,\\\"n_cross_validations\\\":25,\\\"y_min\\\":null,\\\"y_max\\\":null,\\\"num_classes\\\":null,\\\"featurization\\\":\\\"auto\\\",\\\"_ignore_package_version_incompatibilities\\\":false,\\\"is_timeseries\\\":false,\\\"max_cores_per_iteration\\\":1,\\\"max_concurrent_iterations\\\":5,\\\"iteration_timeout_minutes\\\":null,\\\"mem_in_mb\\\":null,\\\"enforce_time_on_windows\\\":false,\\\"experiment_timeout_minutes\\\":30,\\\"experiment_exit_score\\\":null,\\\"partition_column_names\\\":null,\\\"whitelist_models\\\":null,\\\"blacklist_algos\\\":[\\\"TensorFlowLinearClassifier\\\",\\\"TensorFlowDNN\\\"],\\\"supported_models\\\":[\\\"TensorFlowDNN\\\",\\\"LinearSVM\\\",\\\"DecisionTree\\\",\\\"ExtremeRandomTrees\\\",\\\"AveragedPerceptronClassifier\\\",\\\"GradientBoosting\\\",\\\"LogisticRegression\\\",\\\"LightGBM\\\",\\\"KNN\\\",\\\"BernoulliNaiveBayes\\\",\\\"RandomForest\\\",\\\"XGBoostClassifier\\\",\\\"TensorFlowLinearClassifier\\\",\\\"TabnetClassifier\\\",\\\"MultinomialNaiveBayes\\\",\\\"SGD\\\",\\\"SVM\\\"],\\\"private_models\\\":[],\\\"auto_blacklist\\\":true,\\\"blacklist_samples_reached\\\":false,\\\"exclude_nan_labels\\\":true,\\\"verbosity\\\":20,\\\"_debug_log\\\":\\\"azureml_automl.log\\\",\\\"show_warnings\\\":false,\\\"model_explainability\\\":true,\\\"service_url\\\":null,\\\"sdk_url\\\":null,\\\"sdk_packages\\\":null,\\\"enable_onnx_compatible_models\\\":false,\\\"enable_split_onnx_featurizer_estimator_models\\\":false,\\\"vm_type\\\":\\\"STANDARD_DS12_V2\\\",\\\"telemetry_verbosity\\\":20,\\\"send_telemetry\\\":true,\\\"enable_dnn\\\":false,\\\"scenario\\\":\\\"SDK-1.13.0\\\",\\\"environment_label\\\":null,\\\"save_mlflow\\\":false,\\\"enable_categorical_indicators\\\":false,\\\"force_text_dnn\\\":false,\\\"enable_feature_sweeping\\\":true,\\\"enable_early_stopping\\\":true,\\\"early_stopping_n_iters\\\":10,\\\"arguments\\\":null,\\\"dataset_id\\\":\\\"a00b37e1-7246-43fc-90ab-7b79838e3bfa\\\",\\\"hyperdrive_config\\\":null,\\\"validation_dataset_id\\\":null,\\\"run_source\\\":null,\\\"metrics\\\":null,\\\"enable_metric_confidence\\\":false,\\\"enable_ensembling\\\":true,\\\"enable_stack_ensembling\\\":true,\\\"ensemble_iterations\\\":15,\\\"enable_tf\\\":false,\\\"enable_subsampling\\\":null,\\\"subsample_seed\\\":null,\\\"enable_nimbusml\\\":false,\\\"enable_streaming\\\":false,\\\"force_streaming\\\":false,\\\"track_child_runs\\\":true,\\\"allowed_private_models\\\":[],\\\"label_column_name\\\":\\\"DEATH_EVENT\\\",\\\"weight_column_name\\\":null,\\\"cv_split_column_names\\\":null,\\\"enable_local_managed\\\":false,\\\"_local_managed_run_id\\\":null,\\\"cost_mode\\\":1,\\\"lag_length\\\":0,\\\"metric_operation\\\":\\\"maximize\\\",\\\"preprocess\\\":true}\", \"DataPrepJsonString\": \"{\\\\\\\"training_data\\\\\\\": {\\\\\\\"datasetId\\\\\\\": \\\\\\\"a00b37e1-7246-43fc-90ab-7b79838e3bfa\\\\\\\"}, \\\\\\\"datasets\\\\\\\": 0}\", \"EnableSubsampling\": null, \"runTemplate\": \"AutoML\", \"azureml.runsource\": \"automl\", \"display_task_type\": \"classification\", \"dependencies_versions\": \"{\\\"azureml-dataprep-native\\\": \\\"38.0.0\\\", \\\"azureml-dataprep\\\": \\\"3.0.2\\\", \\\"azureml-dataprep-rslex\\\": \\\"2.4.2\\\", \\\"azureml-train-automl-runtime\\\": \\\"1.40.0.post2\\\", \\\"azureml-core\\\": \\\"1.40.0.post2\\\", \\\"azureml-automl-core\\\": \\\"1.40.0\\\", \\\"azureml-automl-runtime\\\": \\\"1.40.0\\\", \\\"azureml-defaults\\\": \\\"1.40.0\\\", \\\"azureml-train-automl\\\": \\\"1.40.0\\\", \\\"azureml-interpret\\\": \\\"1.40.0\\\", \\\"azureml-mlflow\\\": \\\"1.40.0\\\", \\\"azureml-telemetry\\\": \\\"1.40.0\\\", \\\"azureml-pipeline-core\\\": \\\"1.40.0\\\", \\\"azureml-train-automl-client\\\": \\\"1.40.0\\\", \\\"azureml-train-core\\\": \\\"1.40.0\\\", \\\"azureml-dataset-runtime\\\": \\\"1.40.0\\\", \\\"azureml-pipeline-steps\\\": \\\"1.40.0\\\", \\\"azureml-training-tabular\\\": \\\"1.40.0\\\", \\\"azureml-sdk\\\": \\\"1.40.0\\\", \\\"azureml-train-restclients-hyperdrive\\\": \\\"1.40.0\\\", \\\"azureml-pipeline\\\": \\\"1.40.0\\\", \\\"azureml-responsibleai\\\": \\\"1.39.0\\\", \\\"azureml-widgets\\\": \\\"1.39.0\\\", \\\"azureml-opendatasets\\\": \\\"1.39.0\\\", \\\"azureml-contrib-notebook\\\": \\\"1.39.0\\\", \\\"azureml-tensorboard\\\": \\\"1.39.0\\\", \\\"azureml-datadrift\\\": \\\"1.39.0\\\", \\\"azureml-contrib-automl-pipeline-steps\\\": \\\"1.39.0\\\", \\\"azureml-train\\\": \\\"1.39.0\\\", \\\"azureml-contrib-dataset\\\": \\\"1.39.0\\\", \\\"azureml-contrib-fairness\\\": \\\"1.39.0\\\", \\\"azureml-contrib-services\\\": \\\"1.39.0\\\", \\\"azureml-contrib-server\\\": \\\"1.39.0\\\", \\\"azureml-accel-models\\\": \\\"1.39.0\\\", \\\"azureml-automl-dnn-nlp\\\": \\\"1.39.0\\\", \\\"azureml-contrib-pipeline-steps\\\": \\\"1.39.0\\\", \\\"azureml-cli-common\\\": \\\"1.39.0\\\", \\\"azureml-contrib-reinforcementlearning\\\": \\\"1.39.0\\\", \\\"azureml-explain-model\\\": \\\"1.39.0\\\", \\\"azureml-inference-server-http\\\": \\\"0.4.13\\\", \\\"azureml-samples\\\": \\\"0+unknown\\\"}\", \"_aml_system_scenario_identification\": \"Remote.Parent\", \"ClientType\": \"SDK\", \"environment_cpu_name\": \"AzureML-AutoML\", \"environment_cpu_label\": \"prod\", \"environment_gpu_name\": \"AzureML-AutoML-GPU\", \"environment_gpu_label\": \"prod\", \"root_attribution\": \"automl\", \"attribution\": \"AutoML\", \"Orchestrator\": \"AutoML\", \"CancelUri\": \"https://southcentralus.api.azureml.ms/jasmine/v1.0/subscriptions/9b72f9e6-56c5-4c16-991b-19c652994860/resourceGroups/aml-quickstarts-192511/providers/Microsoft.MachineLearningServices/workspaces/quick-starts-ws-192511/experimentids/37380d37-67dd-48a9-9dba-bf1b39ca25a0/cancel/AutoML_9ae81c6d-3fc1-45c9-b5c6-a211ba6b00f8\", \"azureml.git.repository_uri\": \"https://github.com/camille-wilkens/AZ_Capstone.git\", \"mlflow.source.git.repoURL\": \"https://github.com/camille-wilkens/AZ_Capstone.git\", \"azureml.git.branch\": \"main\", \"mlflow.source.git.branch\": \"main\", \"azureml.git.commit\": \"67a056c0ab841823aa4bfc6a6d4876c43f1d8b27\", \"mlflow.source.git.commit\": \"67a056c0ab841823aa4bfc6a6d4876c43f1d8b27\", \"azureml.git.dirty\": \"True\", \"ClientSdkVersion\": \"1.40.0.post1\", \"snapshotId\": \"00000000-0000-0000-0000-000000000000\", \"SetupRunId\": \"AutoML_9ae81c6d-3fc1-45c9-b5c6-a211ba6b00f8_setup\", \"SetupRunContainerId\": \"dcid.AutoML_9ae81c6d-3fc1-45c9-b5c6-a211ba6b00f8_setup\", \"FeaturizationRunJsonPath\": \"featurizer_container.json\", \"FeaturizationRunId\": \"AutoML_9ae81c6d-3fc1-45c9-b5c6-a211ba6b00f8_featurize\", \"ProblemInfoJsonString\": \"{\\\"dataset_num_categorical\\\": 0, \\\"is_sparse\\\": false, \\\"subsampling\\\": false, \\\"has_extra_col\\\": true, \\\"dataset_classes\\\": 2, \\\"dataset_features\\\": 12, \\\"dataset_samples\\\": 299, \\\"single_frequency_class_detected\\\": false}\", \"ModelExplainRunId\": \"AutoML_9ae81c6d-3fc1-45c9-b5c6-a211ba6b00f8_ModelExplain\"}, \"tags\": {\"model_explain_run\": \"best_run\", \"_aml_system_automl_run_workspace_id\": \"b677e8ff-fe8b-4258-b6d2-1380113df2a1\", \"_aml_system_azureml.automlComponent\": \"AutoML\", \"pipeline_id\": \"\", \"score\": \"\", \"predicted_cost\": \"\", \"fit_time\": \"\", \"training_percent\": \"\", \"iteration\": \"\", \"run_preprocessor\": \"\", \"run_algorithm\": \"\", \"dynamic_allowlisting_iterations\": \"<25>;<30>;<35>;\", \"_aml_system_azureml.automl_early_exit_message\": \"No scores improved over last 20 iterations, so experiment stopped early. This early stopping behavior can be disabled by setting enable_early_stopping = False in AutoMLConfig for notebook/python SDK runs.\", \"automl_best_child_run_id\": \"AutoML_9ae81c6d-3fc1-45c9-b5c6-a211ba6b00f8_38\", \"model_explain_best_run_child_id\": \"AutoML_9ae81c6d-3fc1-45c9-b5c6-a211ba6b00f8_38\"}, \"end_time_utc\": \"2022-04-18T12:48:57.2524Z\", \"status\": \"Completed\", \"log_files\": {}, \"log_groups\": [], \"run_duration\": \"0:18:57\", \"run_number\": \"1650284999\", \"run_queued_details\": {\"status\": \"Completed\", \"details\": null}}, \"child_runs\": [{\"run_id\": \"AutoML_9ae81c6d-3fc1-45c9-b5c6-a211ba6b00f8_setup\", \"run_number\": 1650285012, \"metric\": null, \"status\": \"Completed\", \"run_type\": \"azureml.scriptrun\", \"training_percent\": null, \"start_time\": \"2022-04-18T12:34:17.585098Z\", \"end_time\": \"2022-04-18T12:34:41.313686Z\", \"created_time\": \"2022-04-18T12:30:12.950266Z\", \"created_time_dt\": \"2022-04-18T12:30:12.950266Z\", \"duration\": \"0:04:28\", \"iteration\": null, \"goal\": null, \"run_name\": \"Completed\", \"run_properties\": null}, {\"run_id\": \"AutoML_9ae81c6d-3fc1-45c9-b5c6-a211ba6b00f8_featurize\", \"run_number\": 1650285281, \"metric\": null, \"status\": \"Completed\", \"run_type\": \"automl.featurization\", \"training_percent\": null, \"start_time\": \"2022-04-18T12:34:41.941433Z\", \"end_time\": \"2022-04-18T12:35:17.418469Z\", \"created_time\": \"2022-04-18T12:34:41.678407Z\", \"created_time_dt\": \"2022-04-18T12:34:41.678407Z\", \"duration\": \"0:00:35\", \"iteration\": null, \"goal\": null, \"run_name\": \"Completed\", \"run_properties\": null}, {\"run_id\": \"AutoML_9ae81c6d-3fc1-45c9-b5c6-a211ba6b00f8_0\", \"run_number\": 1650285318, \"metric\": null, \"status\": \"Completed\", \"run_type\": null, \"training_percent\": \"100\", \"start_time\": \"2022-04-18T12:35:32.511722Z\", \"end_time\": \"2022-04-18T12:35:47.888231Z\", \"created_time\": \"2022-04-18T12:35:18.900691Z\", \"created_time_dt\": \"2022-04-18T12:35:18.900691Z\", \"duration\": \"0:00:28\", \"iteration\": \"0\", \"goal\": \"AUC_weighted_max\", \"run_name\": \"MaxAbsScaler, LightGBM\", \"run_properties\": \"copy=True\", \"primary_metric\": 0.9038664, \"best_metric\": 0.9038664}, {\"run_id\": \"AutoML_9ae81c6d-3fc1-45c9-b5c6-a211ba6b00f8_1\", \"run_number\": 1650285319, \"metric\": null, \"status\": \"Completed\", \"run_type\": null, \"training_percent\": \"100\", \"start_time\": \"2022-04-18T12:35:48.070932Z\", \"end_time\": \"2022-04-18T12:36:03.89817Z\", \"created_time\": \"2022-04-18T12:35:19.26429Z\", \"created_time_dt\": \"2022-04-18T12:35:19.26429Z\", \"duration\": \"0:00:44\", \"iteration\": \"1\", \"goal\": \"AUC_weighted_max\", \"run_name\": \"MaxAbsScaler, XGBoostClassifier\", \"run_properties\": \"copy=True\", \"primary_metric\": 0.90516931, \"best_metric\": 0.90516931}, {\"run_id\": \"AutoML_9ae81c6d-3fc1-45c9-b5c6-a211ba6b00f8_worker_0\", \"run_number\": 1650285320, \"metric\": null, \"status\": \"Completed\", \"run_type\": \"azureml.scriptrun\", \"training_percent\": null, \"start_time\": \"2022-04-18T12:36:35.021842Z\", \"end_time\": \"2022-04-18T12:36:38.624336Z\", \"created_time\": \"2022-04-18T12:35:20.199742Z\", \"created_time_dt\": \"2022-04-18T12:35:20.199742Z\", \"duration\": \"0:01:18\", \"iteration\": null, \"goal\": null, \"run_name\": \"Completed\", \"run_properties\": null}, {\"run_id\": \"AutoML_9ae81c6d-3fc1-45c9-b5c6-a211ba6b00f8_6\", \"run_number\": 1650285321, \"metric\": null, \"status\": \"Completed\", \"run_type\": null, \"training_percent\": \"100\", \"start_time\": \"2022-04-18T12:37:21.612016Z\", \"end_time\": \"2022-04-18T12:37:36.317562Z\", \"created_time\": \"2022-04-18T12:35:21.266271Z\", \"created_time_dt\": \"2022-04-18T12:35:21.266271Z\", \"duration\": \"0:02:15\", \"iteration\": \"6\", \"goal\": \"AUC_weighted_max\", \"run_name\": \"SparseNormalizer, XGBoostClassifier\", \"run_properties\": \"copy=True, norm='max'\", \"primary_metric\": 0.87749339, \"best_metric\": 0.90516931}, {\"run_id\": \"AutoML_9ae81c6d-3fc1-45c9-b5c6-a211ba6b00f8_8\", \"run_number\": 1650285322, \"metric\": null, \"status\": \"Completed\", \"run_type\": null, \"training_percent\": \"100\", \"start_time\": \"2022-04-18T12:37:55.457868Z\", \"end_time\": \"2022-04-18T12:38:09.797115Z\", \"created_time\": \"2022-04-18T12:35:22.024075Z\", \"created_time_dt\": \"2022-04-18T12:35:22.024075Z\", \"duration\": \"0:02:47\", \"iteration\": \"8\", \"goal\": \"AUC_weighted_max\", \"run_name\": \"RobustScaler, KNN\", \"run_properties\": \"copy=True, quantile_range=[25, 75], with_centering=False,\\n             with_scaling=True\", \"primary_metric\": 0.84450926, \"best_metric\": 0.90516931}, {\"run_id\": \"AutoML_9ae81c6d-3fc1-45c9-b5c6-a211ba6b00f8_12\", \"run_number\": 1650285323, \"metric\": null, \"status\": \"Completed\", \"run_type\": null, \"training_percent\": \"100\", \"start_time\": \"2022-04-18T12:38:13.840229Z\", \"end_time\": \"2022-04-18T12:38:29.107753Z\", \"created_time\": \"2022-04-18T12:35:23.657579Z\", \"created_time_dt\": \"2022-04-18T12:35:23.657579Z\", \"duration\": \"0:03:05\", \"iteration\": \"12\", \"goal\": \"AUC_weighted_max\", \"run_name\": \"StandardScalerWrapper, XGBoostClassifier\", \"run_properties\": \"copy=True, with_mean=False, with_std=False\", \"primary_metric\": 0.86246813, \"best_metric\": 0.90516931}, {\"run_id\": \"AutoML_9ae81c6d-3fc1-45c9-b5c6-a211ba6b00f8_13\", \"run_number\": 1650285324, \"metric\": null, \"status\": \"Completed\", \"run_type\": null, \"training_percent\": \"100\", \"start_time\": \"2022-04-18T12:38:29.29407Z\", \"end_time\": \"2022-04-18T12:38:43.654339Z\", \"created_time\": \"2022-04-18T12:35:24.026499Z\", \"created_time_dt\": \"2022-04-18T12:35:24.026499Z\", \"duration\": \"0:03:19\", \"iteration\": \"13\", \"goal\": \"AUC_weighted_max\", \"run_name\": \"SparseNormalizer, KNN\", \"run_properties\": \"copy=True, norm='max'\", \"primary_metric\": 0.74858123, \"best_metric\": 0.90516931}, {\"run_id\": \"AutoML_9ae81c6d-3fc1-45c9-b5c6-a211ba6b00f8_worker_3\", \"run_number\": 1650285325, \"metric\": null, \"status\": \"Completed\", \"run_type\": \"azureml.scriptrun\", \"training_percent\": null, \"start_time\": \"2022-04-18T12:38:46.992072Z\", \"end_time\": \"2022-04-18T12:39:19.130958Z\", \"created_time\": \"2022-04-18T12:35:25.1246Z\", \"created_time_dt\": \"2022-04-18T12:35:25.1246Z\", \"duration\": \"0:03:54\", \"iteration\": null, \"goal\": null, \"run_name\": \"Completed\", \"run_properties\": null}, {\"run_id\": \"AutoML_9ae81c6d-3fc1-45c9-b5c6-a211ba6b00f8_worker_4\", \"run_number\": 1650285326, \"metric\": null, \"status\": \"Completed\", \"run_type\": \"azureml.scriptrun\", \"training_percent\": null, \"start_time\": \"2022-04-18T12:39:24.584956Z\", \"end_time\": \"2022-04-18T12:41:27.999719Z\", \"created_time\": \"2022-04-18T12:35:26.638347Z\", \"created_time_dt\": \"2022-04-18T12:35:26.638347Z\", \"duration\": \"0:06:01\", \"iteration\": null, \"goal\": null, \"run_name\": \"Completed\", \"run_properties\": null}, {\"run_id\": \"AutoML_9ae81c6d-3fc1-45c9-b5c6-a211ba6b00f8_21\", \"run_number\": 1650285557, \"metric\": null, \"status\": \"Completed\", \"run_type\": \"azureml.scriptrun\", \"training_percent\": \"100\", \"start_time\": \"2022-04-18T12:40:02.256084Z\", \"end_time\": \"2022-04-18T12:40:05.821182Z\", \"created_time\": \"2022-04-18T12:39:17.420762Z\", \"created_time_dt\": \"2022-04-18T12:39:17.420762Z\", \"duration\": \"0:00:48\", \"iteration\": \"21\", \"goal\": \"AUC_weighted_max\", \"run_name\": \"StandardScalerWrapper, RandomForest\", \"run_properties\": \"copy=True, with_mean=False, with_std=False\", \"primary_metric\": 0.89904034, \"best_metric\": 0.90516931}, {\"run_id\": \"AutoML_9ae81c6d-3fc1-45c9-b5c6-a211ba6b00f8_24\", \"run_number\": 1650285639, \"metric\": null, \"status\": \"Completed\", \"run_type\": \"azureml.scriptrun\", \"training_percent\": \"100\", \"start_time\": \"2022-04-18T12:41:57.736919Z\", \"end_time\": \"2022-04-18T12:42:01.334387Z\", \"created_time\": \"2022-04-18T12:40:39.76632Z\", \"created_time_dt\": \"2022-04-18T12:40:39.76632Z\", \"duration\": \"0:01:21\", \"iteration\": \"24\", \"goal\": \"AUC_weighted_max\", \"run_name\": \"StandardScalerWrapper, ExtremeRandomTrees\", \"run_properties\": \"copy=True, with_mean=False, with_std=True\", \"primary_metric\": 0.90434656, \"best_metric\": 0.90516931}, {\"run_id\": \"AutoML_9ae81c6d-3fc1-45c9-b5c6-a211ba6b00f8_25\", \"run_number\": 1650285660, \"metric\": null, \"status\": \"Completed\", \"run_type\": \"azureml.scriptrun\", \"training_percent\": \"100\", \"start_time\": \"2022-04-18T12:43:13.301971Z\", \"end_time\": \"2022-04-18T12:43:16.867883Z\", \"created_time\": \"2022-04-18T12:41:00.057965Z\", \"created_time_dt\": \"2022-04-18T12:41:00.057965Z\", \"duration\": \"0:02:16\", \"iteration\": \"25\", \"goal\": \"AUC_weighted_max\", \"run_name\": \"StandardScalerWrapper, ExtremeRandomTrees\", \"run_properties\": \"copy=True, with_mean=False, with_std=False\", \"primary_metric\": 0.82073413, \"best_metric\": 0.90516931}, {\"run_id\": \"AutoML_9ae81c6d-3fc1-45c9-b5c6-a211ba6b00f8_26\", \"run_number\": 1650285675, \"metric\": null, \"status\": \"Completed\", \"run_type\": \"azureml.scriptrun\", \"training_percent\": \"100\", \"start_time\": \"2022-04-18T12:43:54.135529Z\", \"end_time\": \"2022-04-18T12:43:57.775117Z\", \"created_time\": \"2022-04-18T12:41:15.507167Z\", \"created_time_dt\": \"2022-04-18T12:41:15.507167Z\", \"duration\": \"0:02:42\", \"iteration\": \"26\", \"goal\": \"AUC_weighted_max\", \"run_name\": \"MinMaxScaler, RandomForest\", \"run_properties\": \"copy=True, feature_range=(0, 1\", \"primary_metric\": 0.89344709, \"best_metric\": 0.90516931}, {\"run_id\": \"AutoML_9ae81c6d-3fc1-45c9-b5c6-a211ba6b00f8_28\", \"run_number\": 1650285722, \"metric\": null, \"status\": \"Completed\", \"run_type\": \"azureml.scriptrun\", \"training_percent\": \"100\", \"start_time\": \"2022-04-18T12:44:00.525164Z\", \"end_time\": \"2022-04-18T12:44:04.07841Z\", \"created_time\": \"2022-04-18T12:42:02.866386Z\", \"created_time_dt\": \"2022-04-18T12:42:02.866386Z\", \"duration\": \"0:02:01\", \"iteration\": \"28\", \"goal\": \"AUC_weighted_max\", \"run_name\": \"MaxAbsScaler, GradientBoosting\", \"run_properties\": \"copy=True\", \"primary_metric\": 0.90834921, \"best_metric\": 0.90834921}, {\"run_id\": \"AutoML_9ae81c6d-3fc1-45c9-b5c6-a211ba6b00f8_29\", \"run_number\": 1650285775, \"metric\": null, \"status\": \"Completed\", \"run_type\": \"azureml.scriptrun\", \"training_percent\": \"100\", \"start_time\": \"2022-04-18T12:45:34.721447Z\", \"end_time\": \"2022-04-18T12:45:38.229148Z\", \"created_time\": \"2022-04-18T12:42:55.045661Z\", \"created_time_dt\": \"2022-04-18T12:42:55.045661Z\", \"duration\": \"0:02:43\", \"iteration\": \"29\", \"goal\": \"AUC_weighted_max\", \"run_name\": \"MinMaxScaler, ExtremeRandomTrees\", \"run_properties\": \"copy=True, feature_range=(0, 1\", \"primary_metric\": 0.86820238, \"best_metric\": 0.90834921}, {\"run_id\": \"AutoML_9ae81c6d-3fc1-45c9-b5c6-a211ba6b00f8_30\", \"run_number\": 1650285799, \"metric\": null, \"status\": \"Completed\", \"run_type\": \"azureml.scriptrun\", \"training_percent\": \"100\", \"start_time\": \"2022-04-18T12:46:00.240674Z\", \"end_time\": \"2022-04-18T12:46:03.908556Z\", \"created_time\": \"2022-04-18T12:43:19.461229Z\", \"created_time_dt\": \"2022-04-18T12:43:19.461229Z\", \"duration\": \"0:02:44\", \"iteration\": \"30\", \"goal\": \"AUC_weighted_max\", \"run_name\": \"SparseNormalizer, ExtremeRandomTrees\", \"run_properties\": \"copy=True, norm='l2'\", \"primary_metric\": 0.55041564, \"best_metric\": 0.90834921}, {\"run_id\": \"AutoML_9ae81c6d-3fc1-45c9-b5c6-a211ba6b00f8_31\", \"run_number\": 1650285839, \"metric\": null, \"status\": \"Completed\", \"run_type\": \"azureml.scriptrun\", \"training_percent\": \"100\", \"start_time\": \"2022-04-18T12:45:58.668614Z\", \"end_time\": \"2022-04-18T12:46:02.342474Z\", \"created_time\": \"2022-04-18T12:43:59.49304Z\", \"created_time_dt\": \"2022-04-18T12:43:59.49304Z\", \"duration\": \"0:02:02\", \"iteration\": \"31\", \"goal\": \"AUC_weighted_max\", \"run_name\": \"RobustScaler, LightGBM\", \"run_properties\": \"copy=True, quantile_range=[10, 90], with_centering=False,\\n             with_scaling=True\", \"primary_metric\": 0.90243386, \"best_metric\": 0.90834921}, {\"run_id\": \"AutoML_9ae81c6d-3fc1-45c9-b5c6-a211ba6b00f8_32\", \"run_number\": 1650285846, \"metric\": null, \"status\": \"Completed\", \"run_type\": \"azureml.scriptrun\", \"training_percent\": \"100\", \"start_time\": \"2022-04-18T12:46:54.975894Z\", \"end_time\": \"2022-04-18T12:46:58.575963Z\", \"created_time\": \"2022-04-18T12:44:06.758831Z\", \"created_time_dt\": \"2022-04-18T12:44:06.758831Z\", \"duration\": \"0:02:51\", \"iteration\": \"32\", \"goal\": \"AUC_weighted_max\", \"run_name\": \"SparseNormalizer, LightGBM\", \"run_properties\": \"copy=True, norm='l2'\", \"primary_metric\": 0.87306614, \"best_metric\": 0.90834921}, {\"run_id\": \"AutoML_9ae81c6d-3fc1-45c9-b5c6-a211ba6b00f8_33\", \"run_number\": 1650285903, \"metric\": null, \"status\": \"Completed\", \"run_type\": \"azureml.scriptrun\", \"training_percent\": \"100\", \"start_time\": \"2022-04-18T12:47:21.813082Z\", \"end_time\": \"2022-04-18T12:47:25.353489Z\", \"created_time\": \"2022-04-18T12:45:03.511088Z\", \"created_time_dt\": \"2022-04-18T12:45:03.511088Z\", \"duration\": \"0:02:21\", \"iteration\": \"33\", \"goal\": \"AUC_weighted_max\", \"run_name\": \"StandardScalerWrapper, LightGBM\", \"run_properties\": \"copy=True, with_mean=True, with_std=False\", \"primary_metric\": 0.87656085, \"best_metric\": 0.90834921}, {\"run_id\": \"AutoML_9ae81c6d-3fc1-45c9-b5c6-a211ba6b00f8_34\", \"run_number\": 1650285939, \"metric\": null, \"status\": \"Canceled\", \"run_type\": \"azureml.scriptrun\", \"training_percent\": \"100\", \"start_time\": \"2022-04-18T12:47:25.96454Z\", \"end_time\": \"2022-04-18T12:47:26.19139Z\", \"created_time\": \"2022-04-18T12:45:39.858195Z\", \"created_time_dt\": \"2022-04-18T12:45:39.858195Z\", \"duration\": \"0:01:46\", \"iteration\": \"34\", \"goal\": null, \"run_name\": \"Canceled\", \"run_properties\": null}, {\"run_id\": \"AutoML_9ae81c6d-3fc1-45c9-b5c6-a211ba6b00f8_35\", \"run_number\": 1650285966, \"metric\": null, \"status\": \"Canceled\", \"run_type\": \"azureml.scriptrun\", \"training_percent\": \"100\", \"start_time\": \"2022-04-18T12:47:25.979395Z\", \"end_time\": \"2022-04-18T12:47:26.168918Z\", \"created_time\": \"2022-04-18T12:46:06.617903Z\", \"created_time_dt\": \"2022-04-18T12:46:06.617903Z\", \"duration\": \"0:01:19\", \"iteration\": \"35\", \"goal\": null, \"run_name\": \"Canceled\", \"run_properties\": null}, {\"run_id\": \"AutoML_9ae81c6d-3fc1-45c9-b5c6-a211ba6b00f8_36\", \"run_number\": 1650285968, \"metric\": null, \"status\": \"Canceled\", \"run_type\": \"azureml.scriptrun\", \"training_percent\": \"100\", \"start_time\": \"2022-04-18T12:47:25.992518Z\", \"end_time\": \"2022-04-18T12:47:26.189186Z\", \"created_time\": \"2022-04-18T12:46:08.970063Z\", \"created_time_dt\": \"2022-04-18T12:46:08.970063Z\", \"duration\": \"0:01:17\", \"iteration\": \"36\", \"goal\": null, \"run_name\": \"Canceled\", \"run_properties\": null}, {\"run_id\": \"AutoML_9ae81c6d-3fc1-45c9-b5c6-a211ba6b00f8_37\", \"run_number\": 1650286020, \"metric\": null, \"status\": \"Canceled\", \"run_type\": \"azureml.scriptrun\", \"training_percent\": \"100\", \"start_time\": \"2022-04-18T12:47:25.941365Z\", \"end_time\": \"2022-04-18T12:47:26.17526Z\", \"created_time\": \"2022-04-18T12:47:00.24503Z\", \"created_time_dt\": \"2022-04-18T12:47:00.24503Z\", \"duration\": \"0:00:25\", \"iteration\": \"37\", \"goal\": null, \"run_name\": \"Canceled\", \"run_properties\": null}, {\"run_id\": \"AutoML_9ae81c6d-3fc1-45c9-b5c6-a211ba6b00f8_38\", \"run_number\": 1650286047, \"metric\": null, \"status\": \"Completed\", \"run_type\": \"azureml.scriptrun\", \"training_percent\": \"100\", \"start_time\": \"2022-04-18T12:48:47.011133Z\", \"end_time\": \"2022-04-18T12:48:50.585849Z\", \"created_time\": \"2022-04-18T12:47:27.088691Z\", \"created_time_dt\": \"2022-04-18T12:47:27.088691Z\", \"duration\": \"0:01:23\", \"iteration\": \"38\", \"goal\": \"AUC_weighted_max\", \"run_name\": \"VotingEnsemble\", \"run_properties\": \"classification_labels=array([0, 1]\", \"primary_metric\": 0.9201746, \"best_metric\": 0.9201746}], \"children_metrics\": {\"categories\": [0], \"series\": {\"average_precision_score_macro\": [{\"categories\": [\"0\", \"1\", \"6\", \"8\", \"12\", \"13\", \"21\", \"24\", \"25\", \"26\", \"28\", \"29\", \"30\", \"31\", \"32\", \"33\", \"38\"], \"mode\": \"markers\", \"name\": \"average_precision_score_macro\", \"stepped\": false, \"type\": \"scatter\", \"data\": [0.9146286550310359, 0.9103966951258619, 0.8859918224192033, 0.8477818333562381, 0.8683375211869259, 0.773959151034151, 0.9051349000206144, 0.9087988934125838, 0.8482475460386175, 0.9051601803179183, 0.9140512357131405, 0.887473335394764, 0.6180674840551464, 0.9111242521587759, 0.8867416995922949, 0.88594727089489, 0.9203114655626561]}, {\"categories\": [\"0\", \"1\", \"6\", \"8\", \"12\", \"13\", \"21\", \"24\", \"25\", \"26\", \"28\", \"29\", \"30\", \"31\", \"32\", \"33\", \"38\"], \"mode\": \"lines\", \"name\": \"average_precision_score_macro_max\", \"stepped\": true, \"type\": \"scatter\", \"data\": [0.9146286550310359, 0.9146286550310359, 0.9146286550310359, 0.9146286550310359, 0.9146286550310359, 0.9146286550310359, 0.9146286550310359, 0.9146286550310359, 0.9146286550310359, 0.9146286550310359, 0.9146286550310359, 0.9146286550310359, 0.9146286550310359, 0.9146286550310359, 0.9146286550310359, 0.9146286550310359, 0.9203114655626561]}], \"recall_score_macro\": [{\"categories\": [\"0\", \"1\", \"6\", \"8\", \"12\", \"13\", \"21\", \"24\", \"25\", \"26\", \"28\", \"29\", \"30\", \"31\", \"32\", \"33\", \"38\"], \"mode\": \"markers\", \"name\": \"recall_score_macro\", \"stepped\": false, \"type\": \"scatter\", \"data\": [0.8307222222222223, 0.8009675324675325, 0.7964675324675325, 0.6116190476190476, 0.7443008658008659, 0.673047619047619, 0.8167222222222223, 0.815452380952381, 0.5133333333333333, 0.8162698412698414, 0.8260079365079365, 0.8142539682539681, 0.5, 0.8002380952380953, 0.805952380952381, 0.7873881673881674, 0.8011507936507938]}, {\"categories\": [\"0\", \"1\", \"6\", \"8\", \"12\", \"13\", \"21\", \"24\", \"25\", \"26\", \"28\", \"29\", \"30\", \"31\", \"32\", \"33\", \"38\"], \"mode\": \"lines\", \"name\": \"recall_score_macro_max\", \"stepped\": true, \"type\": \"scatter\", \"data\": [0.8307222222222223, 0.8307222222222223, 0.8307222222222223, 0.8307222222222223, 0.8307222222222223, 0.8307222222222223, 0.8307222222222223, 0.8307222222222223, 0.8307222222222223, 0.8307222222222223, 0.8307222222222223, 0.8307222222222223, 0.8307222222222223, 0.8307222222222223, 0.8307222222222223, 0.8307222222222223, 0.8307222222222223]}], \"weighted_accuracy\": [{\"categories\": [\"0\", \"1\", \"6\", \"8\", \"12\", \"13\", \"21\", \"24\", \"25\", \"26\", \"28\", \"29\", \"30\", \"31\", \"32\", \"33\", \"38\"], \"mode\": \"markers\", \"name\": \"weighted_accuracy\", \"stepped\": false, \"type\": \"scatter\", \"data\": [0.8747144362486828, 0.8441463546498356, 0.8500864338227914, 0.7887916915862121, 0.8269346286983835, 0.8135923506294043, 0.8722528977871445, 0.845050209324182, 0.7839201114777131, 0.830037042311015, 0.870725163519684, 0.8401635291772278, 0.7765867781443798, 0.8752487113035058, 0.8624954480296947, 0.8571241501481788, 0.8533994816734544]}, {\"categories\": [\"0\", \"1\", \"6\", \"8\", \"12\", \"13\", \"21\", \"24\", \"25\", \"26\", \"28\", \"29\", \"30\", \"31\", \"32\", \"33\", \"38\"], \"mode\": \"lines\", \"name\": \"weighted_accuracy_max\", \"stepped\": true, \"type\": \"scatter\", \"data\": [0.8747144362486828, 0.8747144362486828, 0.8747144362486828, 0.8747144362486828, 0.8747144362486828, 0.8747144362486828, 0.8747144362486828, 0.8747144362486828, 0.8747144362486828, 0.8747144362486828, 0.8747144362486828, 0.8747144362486828, 0.8747144362486828, 0.8752487113035058, 0.8752487113035058, 0.8752487113035058, 0.8752487113035058]}], \"precision_score_weighted\": [{\"categories\": [\"0\", \"1\", \"6\", \"8\", \"12\", \"13\", \"21\", \"24\", \"25\", \"26\", \"28\", \"29\", \"30\", \"31\", \"32\", \"33\", \"38\"], \"mode\": \"markers\", \"name\": \"precision_score_weighted\", \"stepped\": false, \"type\": \"scatter\", \"data\": [0.8776133958633959, 0.8573624338624338, 0.8462128427128427, 0.7066228956228955, 0.8170125060125061, 0.7911085858585858, 0.8667415824915825, 0.8572763347763348, 0.5170105601469238, 0.8517340067340067, 0.8720743145743145, 0.8574342231842231, 0.479212580348944, 0.8678036315536316, 0.8634822029822031, 0.8519632034632033, 0.8545596440596441]}, {\"categories\": [\"0\", \"1\", \"6\", \"8\", \"12\", \"13\", \"21\", \"24\", \"25\", \"26\", \"28\", \"29\", \"30\", \"31\", \"32\", \"33\", \"38\"], \"mode\": \"lines\", \"name\": \"precision_score_weighted_max\", \"stepped\": true, \"type\": \"scatter\", \"data\": [0.8776133958633959, 0.8776133958633959, 0.8776133958633959, 0.8776133958633959, 0.8776133958633959, 0.8776133958633959, 0.8776133958633959, 0.8776133958633959, 0.8776133958633959, 0.8776133958633959, 0.8776133958633959, 0.8776133958633959, 0.8776133958633959, 0.8776133958633959, 0.8776133958633959, 0.8776133958633959, 0.8776133958633959]}], \"matthews_correlation\": [{\"categories\": [\"0\", \"1\", \"6\", \"8\", \"12\", \"13\", \"21\", \"24\", \"25\", \"26\", \"28\", \"29\", \"30\", \"31\", \"32\", \"33\", \"38\"], \"mode\": \"markers\", \"name\": \"matthews_correlation\", \"stepped\": false, \"type\": \"scatter\", \"data\": [0.6823582047210636, 0.6127650437286342, 0.5951606079810504, 0.26925397800302375, 0.5148357644824749, 0.4081773518465402, 0.647040477558336, 0.6258449195965498, 0.03735867506445758, 0.6108013221151112, 0.6665838587919127, 0.6187099536466996, 0.0, 0.6430534382813542, 0.6335669895722408, 0.5970296402147414, 0.6267943017122017]}, {\"categories\": [\"0\", \"1\", \"6\", \"8\", \"12\", \"13\", \"21\", \"24\", \"25\", \"26\", \"28\", \"29\", \"30\", \"31\", \"32\", \"33\", \"38\"], \"mode\": \"lines\", \"name\": \"matthews_correlation_max\", \"stepped\": true, \"type\": \"scatter\", \"data\": [0.6823582047210636, 0.6823582047210636, 0.6823582047210636, 0.6823582047210636, 0.6823582047210636, 0.6823582047210636, 0.6823582047210636, 0.6823582047210636, 0.6823582047210636, 0.6823582047210636, 0.6823582047210636, 0.6823582047210636, 0.6823582047210636, 0.6823582047210636, 0.6823582047210636, 0.6823582047210636, 0.6823582047210636]}], \"AUC_weighted\": [{\"categories\": [\"0\", \"1\", \"6\", \"8\", \"12\", \"13\", \"21\", \"24\", \"25\", \"26\", \"28\", \"29\", \"30\", \"31\", \"32\", \"33\", \"38\"], \"mode\": \"markers\", \"name\": \"AUC_weighted\", \"stepped\": false, \"type\": \"scatter\", \"data\": [0.9038664021164022, 0.9051693121693123, 0.8774933862433864, 0.8445092592592595, 0.8624681337181337, 0.748581228956229, 0.8990403439153439, 0.9043465608465608, 0.8207341269841271, 0.89344708994709, 0.9083492063492064, 0.8682023809523808, 0.5504156445406445, 0.9024338624338626, 0.8730661375661376, 0.8765608465608465, 0.9201746031746032]}, {\"categories\": [\"0\", \"1\", \"6\", \"8\", \"12\", \"13\", \"21\", \"24\", \"25\", \"26\", \"28\", \"29\", \"30\", \"31\", \"32\", \"33\", \"38\"], \"mode\": \"lines\", \"name\": \"AUC_weighted_max\", \"stepped\": true, \"type\": \"scatter\", \"data\": [0.9038664021164022, 0.9051693121693123, 0.9051693121693123, 0.9051693121693123, 0.9051693121693123, 0.9051693121693123, 0.9051693121693123, 0.9051693121693123, 0.9051693121693123, 0.9051693121693123, 0.9083492063492064, 0.9083492063492064, 0.9083492063492064, 0.9083492063492064, 0.9083492063492064, 0.9083492063492064, 0.9201746031746032]}], \"f1_score_macro\": [{\"categories\": [\"0\", \"1\", \"6\", \"8\", \"12\", \"13\", \"21\", \"24\", \"25\", \"26\", \"28\", \"29\", \"30\", \"31\", \"32\", \"33\", \"38\"], \"mode\": \"markers\", \"name\": \"f1_score_macro\", \"stepped\": false, \"type\": \"scatter\", \"data\": [0.8282960668502465, 0.7898558648094252, 0.7843051087199694, 0.5799560420659492, 0.7392042761160408, 0.6693327781908345, 0.8128660699465654, 0.8025777507666051, 0.4220046434772508, 0.7948821395322944, 0.821160481761101, 0.7982419280066338, 0.4003949329263638, 0.7998048210819109, 0.8014410778420067, 0.777378051429135, 0.7983408272154401]}, {\"categories\": [\"0\", \"1\", \"6\", \"8\", \"12\", \"13\", \"21\", \"24\", \"25\", \"26\", \"28\", \"29\", \"30\", \"31\", \"32\", \"33\", \"38\"], \"mode\": \"lines\", \"name\": \"f1_score_macro_max\", \"stepped\": true, \"type\": \"scatter\", \"data\": [0.8282960668502465, 0.8282960668502465, 0.8282960668502465, 0.8282960668502465, 0.8282960668502465, 0.8282960668502465, 0.8282960668502465, 0.8282960668502465, 0.8282960668502465, 0.8282960668502465, 0.8282960668502465, 0.8282960668502465, 0.8282960668502465, 0.8282960668502465, 0.8282960668502465, 0.8282960668502465, 0.8282960668502465]}], \"f1_score_weighted\": [{\"categories\": [\"0\", \"1\", \"6\", \"8\", \"12\", \"13\", \"21\", \"24\", \"25\", \"26\", \"28\", \"29\", \"30\", \"31\", \"32\", \"33\", \"38\"], \"mode\": \"markers\", \"name\": \"f1_score_weighted\", \"stepped\": false, \"type\": \"scatter\", \"data\": [0.8571802159542098, 0.8290647635245157, 0.8271416234550911, 0.6730478282753825, 0.7908357062327651, 0.7451605815899799, 0.8498413899195633, 0.8367939273488808, 0.5751498110281257, 0.8299032341927078, 0.8531669211707912, 0.8350801252124781, 0.5573919523290906, 0.839610751849916, 0.8381952046348331, 0.8245804950410214, 0.8314870993299786]}, {\"categories\": [\"0\", \"1\", \"6\", \"8\", \"12\", \"13\", \"21\", \"24\", \"25\", \"26\", \"28\", \"29\", \"30\", \"31\", \"32\", \"33\", \"38\"], \"mode\": \"lines\", \"name\": \"f1_score_weighted_max\", \"stepped\": true, \"type\": \"scatter\", \"data\": [0.8571802159542098, 0.8571802159542098, 0.8571802159542098, 0.8571802159542098, 0.8571802159542098, 0.8571802159542098, 0.8571802159542098, 0.8571802159542098, 0.8571802159542098, 0.8571802159542098, 0.8571802159542098, 0.8571802159542098, 0.8571802159542098, 0.8571802159542098, 0.8571802159542098, 0.8571802159542098, 0.8571802159542098]}], \"recall_score_micro\": [{\"categories\": [\"0\", \"1\", \"6\", \"8\", \"12\", \"13\", \"21\", \"24\", \"25\", \"26\", \"28\", \"29\", \"30\", \"31\", \"32\", \"33\", \"38\"], \"mode\": \"markers\", \"name\": \"recall_score_micro\", \"stepped\": false, \"type\": \"scatter\", \"data\": [0.8587878787878788, 0.8284848484848486, 0.8290909090909091, 0.7224242424242425, 0.7954545454545454, 0.7651515151515151, 0.8521212121212122, 0.8351515151515152, 0.6890909090909091, 0.8251515151515152, 0.8557575757575756, 0.8315151515151515, 0.6790909090909091, 0.8493939393939393, 0.8421212121212122, 0.8324242424242425, 0.8351515151515153]}, {\"categories\": [\"0\", \"1\", \"6\", \"8\", \"12\", \"13\", \"21\", \"24\", \"25\", \"26\", \"28\", \"29\", \"30\", \"31\", \"32\", \"33\", \"38\"], \"mode\": \"lines\", \"name\": \"recall_score_micro_max\", \"stepped\": true, \"type\": \"scatter\", \"data\": [0.8587878787878788, 0.8587878787878788, 0.8587878787878788, 0.8587878787878788, 0.8587878787878788, 0.8587878787878788, 0.8587878787878788, 0.8587878787878788, 0.8587878787878788, 0.8587878787878788, 0.8587878787878788, 0.8587878787878788, 0.8587878787878788, 0.8587878787878788, 0.8587878787878788, 0.8587878787878788, 0.8587878787878788]}], \"AUC_micro\": [{\"categories\": [\"0\", \"1\", \"6\", \"8\", \"12\", \"13\", \"21\", \"24\", \"25\", \"26\", \"28\", \"29\", \"30\", \"31\", \"32\", \"33\", \"38\"], \"mode\": \"markers\", \"name\": \"AUC_micro\", \"stepped\": false, \"type\": \"scatter\", \"data\": [0.9059825528007347, 0.9036409550045913, 0.8913911845730028, 0.8386409550045912, 0.8849104683195591, 0.8011685032139578, 0.9069410009182736, 0.9122130394857667, 0.8130853994490359, 0.9030463728191002, 0.9145133149678604, 0.885137741046832, 0.7021877869605143, 0.9107828282828282, 0.8974494949494948, 0.8942079889807162, 0.9188521579430671]}, {\"categories\": [\"0\", \"1\", \"6\", \"8\", \"12\", \"13\", \"21\", \"24\", \"25\", \"26\", \"28\", \"29\", \"30\", \"31\", \"32\", \"33\", \"38\"], \"mode\": \"lines\", \"name\": \"AUC_micro_max\", \"stepped\": true, \"type\": \"scatter\", \"data\": [0.9059825528007347, 0.9059825528007347, 0.9059825528007347, 0.9059825528007347, 0.9059825528007347, 0.9059825528007347, 0.9069410009182736, 0.9122130394857667, 0.9122130394857667, 0.9122130394857667, 0.9145133149678604, 0.9145133149678604, 0.9145133149678604, 0.9145133149678604, 0.9145133149678604, 0.9145133149678604, 0.9188521579430671]}], \"accuracy\": [{\"categories\": [\"0\", \"1\", \"6\", \"8\", \"12\", \"13\", \"21\", \"24\", \"25\", \"26\", \"28\", \"29\", \"30\", \"31\", \"32\", \"33\", \"38\"], \"mode\": \"markers\", \"name\": \"accuracy\", \"stepped\": false, \"type\": \"scatter\", \"data\": [0.8587878787878788, 0.8284848484848486, 0.8290909090909091, 0.7224242424242425, 0.7954545454545454, 0.7651515151515151, 0.8521212121212122, 0.8351515151515152, 0.6890909090909091, 0.8251515151515152, 0.8557575757575756, 0.8315151515151515, 0.6790909090909091, 0.8493939393939393, 0.8421212121212122, 0.8324242424242425, 0.8351515151515153]}, {\"categories\": [\"0\", \"1\", \"6\", \"8\", \"12\", \"13\", \"21\", \"24\", \"25\", \"26\", \"28\", \"29\", \"30\", \"31\", \"32\", \"33\", \"38\"], \"mode\": \"lines\", \"name\": \"accuracy_max\", \"stepped\": true, \"type\": \"scatter\", \"data\": [0.8587878787878788, 0.8587878787878788, 0.8587878787878788, 0.8587878787878788, 0.8587878787878788, 0.8587878787878788, 0.8587878787878788, 0.8587878787878788, 0.8587878787878788, 0.8587878787878788, 0.8587878787878788, 0.8587878787878788, 0.8587878787878788, 0.8587878787878788, 0.8587878787878788, 0.8587878787878788, 0.8587878787878788]}], \"log_loss\": [{\"categories\": [\"0\", \"1\", \"6\", \"8\", \"12\", \"13\", \"21\", \"24\", \"25\", \"26\", \"28\", \"29\", \"30\", \"31\", \"32\", \"33\", \"38\"], \"mode\": \"markers\", \"name\": \"log_loss\", \"stepped\": false, \"type\": \"scatter\", \"data\": [0.45525454587247055, 0.532638582216299, 0.40262234572550887, 0.5855701294678102, 0.42475324656997065, 1.2777182033823098, 0.36484720513639063, 0.3820247025114941, 0.5535949603047358, 0.48253803659417854, 0.35505744311112586, 0.5521648002228311, 0.6304271160156996, 0.40332206884071264, 0.39985166626717605, 0.40053292883759634, 0.36967981969879815]}, {\"categories\": [\"0\", \"1\", \"6\", \"8\", \"12\", \"13\", \"21\", \"24\", \"25\", \"26\", \"28\", \"29\", \"30\", \"31\", \"32\", \"33\", \"38\"], \"mode\": \"lines\", \"name\": \"log_loss_min\", \"stepped\": true, \"type\": \"scatter\", \"data\": [0.45525454587247055, 0.45525454587247055, 0.40262234572550887, 0.40262234572550887, 0.40262234572550887, 0.40262234572550887, 0.36484720513639063, 0.36484720513639063, 0.36484720513639063, 0.36484720513639063, 0.35505744311112586, 0.35505744311112586, 0.35505744311112586, 0.35505744311112586, 0.35505744311112586, 0.35505744311112586, 0.35505744311112586]}], \"average_precision_score_weighted\": [{\"categories\": [\"0\", \"1\", \"6\", \"8\", \"12\", \"13\", \"21\", \"24\", \"25\", \"26\", \"28\", \"29\", \"30\", \"31\", \"32\", \"33\", \"38\"], \"mode\": \"markers\", \"name\": \"average_precision_score_weighted\", \"stepped\": false, \"type\": \"scatter\", \"data\": [0.9342339192793737, 0.9329573112073111, 0.9114998797498798, 0.8861409331409331, 0.9067338864838865, 0.8204567974113429, 0.9279040404040404, 0.9325015960470507, 0.8835337574883029, 0.9268892496392496, 0.9358250360750361, 0.9128142463597009, 0.7040869408369409, 0.9315393217893218, 0.9137058682058682, 0.9144741462241461, 0.9428523328523329]}, {\"categories\": [\"0\", \"1\", \"6\", \"8\", \"12\", \"13\", \"21\", \"24\", \"25\", \"26\", \"28\", \"29\", \"30\", \"31\", \"32\", \"33\", \"38\"], \"mode\": \"lines\", \"name\": \"average_precision_score_weighted_max\", \"stepped\": true, \"type\": \"scatter\", \"data\": [0.9342339192793737, 0.9342339192793737, 0.9342339192793737, 0.9342339192793737, 0.9342339192793737, 0.9342339192793737, 0.9342339192793737, 0.9342339192793737, 0.9342339192793737, 0.9342339192793737, 0.9358250360750361, 0.9358250360750361, 0.9358250360750361, 0.9358250360750361, 0.9358250360750361, 0.9358250360750361, 0.9428523328523329]}], \"balanced_accuracy\": [{\"categories\": [\"0\", \"1\", \"6\", \"8\", \"12\", \"13\", \"21\", \"24\", \"25\", \"26\", \"28\", \"29\", \"30\", \"31\", \"32\", \"33\", \"38\"], \"mode\": \"markers\", \"name\": \"balanced_accuracy\", \"stepped\": false, \"type\": \"scatter\", \"data\": [0.8307222222222223, 0.8009675324675325, 0.7964675324675325, 0.6116190476190476, 0.7443008658008659, 0.673047619047619, 0.8167222222222223, 0.815452380952381, 0.5133333333333333, 0.8162698412698414, 0.8260079365079365, 0.8142539682539681, 0.5, 0.8002380952380953, 0.805952380952381, 0.7873881673881674, 0.8011507936507938]}, {\"categories\": [\"0\", \"1\", \"6\", \"8\", \"12\", \"13\", \"21\", \"24\", \"25\", \"26\", \"28\", \"29\", \"30\", \"31\", \"32\", \"33\", \"38\"], \"mode\": \"lines\", \"name\": \"balanced_accuracy_max\", \"stepped\": true, \"type\": \"scatter\", \"data\": [0.8307222222222223, 0.8307222222222223, 0.8307222222222223, 0.8307222222222223, 0.8307222222222223, 0.8307222222222223, 0.8307222222222223, 0.8307222222222223, 0.8307222222222223, 0.8307222222222223, 0.8307222222222223, 0.8307222222222223, 0.8307222222222223, 0.8307222222222223, 0.8307222222222223, 0.8307222222222223, 0.8307222222222223]}], \"precision_score_micro\": [{\"categories\": [\"0\", \"1\", \"6\", \"8\", \"12\", \"13\", \"21\", \"24\", \"25\", \"26\", \"28\", \"29\", \"30\", \"31\", \"32\", \"33\", \"38\"], \"mode\": \"markers\", \"name\": \"precision_score_micro\", \"stepped\": false, \"type\": \"scatter\", \"data\": [0.8587878787878788, 0.8284848484848486, 0.8290909090909091, 0.7224242424242425, 0.7954545454545454, 0.7651515151515151, 0.8521212121212122, 0.8351515151515152, 0.6890909090909091, 0.8251515151515152, 0.8557575757575756, 0.8315151515151515, 0.6790909090909091, 0.8493939393939393, 0.8421212121212122, 0.8324242424242425, 0.8351515151515153]}, {\"categories\": [\"0\", \"1\", \"6\", \"8\", \"12\", \"13\", \"21\", \"24\", \"25\", \"26\", \"28\", \"29\", \"30\", \"31\", \"32\", \"33\", \"38\"], \"mode\": \"lines\", \"name\": \"precision_score_micro_max\", \"stepped\": true, \"type\": \"scatter\", \"data\": [0.8587878787878788, 0.8587878787878788, 0.8587878787878788, 0.8587878787878788, 0.8587878787878788, 0.8587878787878788, 0.8587878787878788, 0.8587878787878788, 0.8587878787878788, 0.8587878787878788, 0.8587878787878788, 0.8587878787878788, 0.8587878787878788, 0.8587878787878788, 0.8587878787878788, 0.8587878787878788, 0.8587878787878788]}], \"precision_score_macro\": [{\"categories\": [\"0\", \"1\", \"6\", \"8\", \"12\", \"13\", \"21\", \"24\", \"25\", \"26\", \"28\", \"29\", \"30\", \"31\", \"32\", \"33\", \"38\"], \"mode\": \"markers\", \"name\": \"precision_score_macro\", \"stepped\": false, \"type\": \"scatter\", \"data\": [0.855507215007215, 0.8166897546897546, 0.8051969696969696, 0.6472121212121212, 0.7795836940836942, 0.7468484848484848, 0.8330634920634921, 0.8119920634920635, 0.38312121212121214, 0.796515873015873, 0.843380230880231, 0.80665873015873, 0.33954545454545454, 0.8456818181818181, 0.8329891774891776, 0.8124516594516593, 0.8300779220779221]}, {\"categories\": [\"0\", \"1\", \"6\", \"8\", \"12\", \"13\", \"21\", \"24\", \"25\", \"26\", \"28\", \"29\", \"30\", \"31\", \"32\", \"33\", \"38\"], \"mode\": \"lines\", \"name\": \"precision_score_macro_max\", \"stepped\": true, \"type\": \"scatter\", \"data\": [0.855507215007215, 0.855507215007215, 0.855507215007215, 0.855507215007215, 0.855507215007215, 0.855507215007215, 0.855507215007215, 0.855507215007215, 0.855507215007215, 0.855507215007215, 0.855507215007215, 0.855507215007215, 0.855507215007215, 0.855507215007215, 0.855507215007215, 0.855507215007215, 0.855507215007215]}], \"f1_score_micro\": [{\"categories\": [\"0\", \"1\", \"6\", \"8\", \"12\", \"13\", \"21\", \"24\", \"25\", \"26\", \"28\", \"29\", \"30\", \"31\", \"32\", \"33\", \"38\"], \"mode\": \"markers\", \"name\": \"f1_score_micro\", \"stepped\": false, \"type\": \"scatter\", \"data\": [0.8587878787878788, 0.8284848484848486, 0.8290909090909091, 0.7224242424242425, 0.7954545454545454, 0.7651515151515151, 0.8521212121212122, 0.8351515151515152, 0.6890909090909091, 0.8251515151515152, 0.8557575757575756, 0.8315151515151515, 0.6790909090909091, 0.8493939393939393, 0.8421212121212122, 0.8324242424242425, 0.8351515151515153]}, {\"categories\": [\"0\", \"1\", \"6\", \"8\", \"12\", \"13\", \"21\", \"24\", \"25\", \"26\", \"28\", \"29\", \"30\", \"31\", \"32\", \"33\", \"38\"], \"mode\": \"lines\", \"name\": \"f1_score_micro_max\", \"stepped\": true, \"type\": \"scatter\", \"data\": [0.8587878787878788, 0.8587878787878788, 0.8587878787878788, 0.8587878787878788, 0.8587878787878788, 0.8587878787878788, 0.8587878787878788, 0.8587878787878788, 0.8587878787878788, 0.8587878787878788, 0.8587878787878788, 0.8587878787878788, 0.8587878787878788, 0.8587878787878788, 0.8587878787878788, 0.8587878787878788, 0.8587878787878788]}], \"norm_macro_recall\": [{\"categories\": [\"0\", \"1\", \"6\", \"8\", \"12\", \"13\", \"21\", \"24\", \"25\", \"26\", \"28\", \"29\", \"30\", \"31\", \"32\", \"33\", \"38\"], \"mode\": \"markers\", \"name\": \"norm_macro_recall\", \"stepped\": false, \"type\": \"scatter\", \"data\": [0.6614444444444443, 0.6036017316017316, 0.5929350649350649, 0.24812698412698406, 0.48860173160173154, 0.3684126984126984, 0.6334444444444444, 0.6325714285714286, 0.02666666666666667, 0.6342063492063492, 0.6520158730158729, 0.6351746031746032, 0.0, 0.6004761904761904, 0.611904761904762, 0.5747763347763347, 0.603968253968254]}, {\"categories\": [\"0\", \"1\", \"6\", \"8\", \"12\", \"13\", \"21\", \"24\", \"25\", \"26\", \"28\", \"29\", \"30\", \"31\", \"32\", \"33\", \"38\"], \"mode\": \"lines\", \"name\": \"norm_macro_recall_max\", \"stepped\": true, \"type\": \"scatter\", \"data\": [0.6614444444444443, 0.6614444444444443, 0.6614444444444443, 0.6614444444444443, 0.6614444444444443, 0.6614444444444443, 0.6614444444444443, 0.6614444444444443, 0.6614444444444443, 0.6614444444444443, 0.6614444444444443, 0.6614444444444443, 0.6614444444444443, 0.6614444444444443, 0.6614444444444443, 0.6614444444444443, 0.6614444444444443]}], \"AUC_macro\": [{\"categories\": [\"0\", \"1\", \"6\", \"8\", \"12\", \"13\", \"21\", \"24\", \"25\", \"26\", \"28\", \"29\", \"30\", \"31\", \"32\", \"33\", \"38\"], \"mode\": \"markers\", \"name\": \"AUC_macro\", \"stepped\": false, \"type\": \"scatter\", \"data\": [0.9038664021164021, 0.9051693121693123, 0.8774933862433864, 0.8445092592592595, 0.8624681337181337, 0.748581228956229, 0.8990403439153439, 0.9043465608465608, 0.820734126984127, 0.89344708994709, 0.9083492063492064, 0.8682023809523808, 0.5504156445406445, 0.9024338624338624, 0.8730661375661376, 0.8765608465608465, 0.9201746031746032]}, {\"categories\": [\"0\", \"1\", \"6\", \"8\", \"12\", \"13\", \"21\", \"24\", \"25\", \"26\", \"28\", \"29\", \"30\", \"31\", \"32\", \"33\", \"38\"], \"mode\": \"lines\", \"name\": \"AUC_macro_max\", \"stepped\": true, \"type\": \"scatter\", \"data\": [0.9038664021164021, 0.9051693121693123, 0.9051693121693123, 0.9051693121693123, 0.9051693121693123, 0.9051693121693123, 0.9051693121693123, 0.9051693121693123, 0.9051693121693123, 0.9051693121693123, 0.9083492063492064, 0.9083492063492064, 0.9083492063492064, 0.9083492063492064, 0.9083492063492064, 0.9083492063492064, 0.9201746031746032]}], \"average_precision_score_micro\": [{\"categories\": [\"0\", \"1\", \"6\", \"8\", \"12\", \"13\", \"21\", \"24\", \"25\", \"26\", \"28\", \"29\", \"30\", \"31\", \"32\", \"33\", \"38\"], \"mode\": \"markers\", \"name\": \"average_precision_score_micro\", \"stepped\": false, \"type\": \"scatter\", \"data\": [0.9097810945025071, 0.9099884518932506, 0.8960644398719342, 0.854799732979561, 0.8975150308211455, 0.8025487410859433, 0.9129257164716637, 0.9151149977878172, 0.8319517258120629, 0.910234321787778, 0.9222892358420787, 0.8931442304828527, 0.7152653581013326, 0.9166240655449225, 0.9046320628950525, 0.9035784941752434, 0.9266118760099276]}, {\"categories\": [\"0\", \"1\", \"6\", \"8\", \"12\", \"13\", \"21\", \"24\", \"25\", \"26\", \"28\", \"29\", \"30\", \"31\", \"32\", \"33\", \"38\"], \"mode\": \"lines\", \"name\": \"average_precision_score_micro_max\", \"stepped\": true, \"type\": \"scatter\", \"data\": [0.9097810945025071, 0.9099884518932506, 0.9099884518932506, 0.9099884518932506, 0.9099884518932506, 0.9099884518932506, 0.9129257164716637, 0.9151149977878172, 0.9151149977878172, 0.9151149977878172, 0.9222892358420787, 0.9222892358420787, 0.9222892358420787, 0.9222892358420787, 0.9222892358420787, 0.9222892358420787, 0.9266118760099276]}], \"recall_score_weighted\": [{\"categories\": [\"0\", \"1\", \"6\", \"8\", \"12\", \"13\", \"21\", \"24\", \"25\", \"26\", \"28\", \"29\", \"30\", \"31\", \"32\", \"33\", \"38\"], \"mode\": \"markers\", \"name\": \"recall_score_weighted\", \"stepped\": false, \"type\": \"scatter\", \"data\": [0.8587878787878788, 0.8284848484848486, 0.8290909090909091, 0.7224242424242425, 0.7954545454545454, 0.7651515151515151, 0.8521212121212122, 0.8351515151515152, 0.6890909090909091, 0.8251515151515152, 0.8557575757575756, 0.8315151515151515, 0.6790909090909091, 0.8493939393939393, 0.8421212121212122, 0.8324242424242425, 0.8351515151515153]}, {\"categories\": [\"0\", \"1\", \"6\", \"8\", \"12\", \"13\", \"21\", \"24\", \"25\", \"26\", \"28\", \"29\", \"30\", \"31\", \"32\", \"33\", \"38\"], \"mode\": \"lines\", \"name\": \"recall_score_weighted_max\", \"stepped\": true, \"type\": \"scatter\", \"data\": [0.8587878787878788, 0.8587878787878788, 0.8587878787878788, 0.8587878787878788, 0.8587878787878788, 0.8587878787878788, 0.8587878787878788, 0.8587878787878788, 0.8587878787878788, 0.8587878787878788, 0.8587878787878788, 0.8587878787878788, 0.8587878787878788, 0.8587878787878788, 0.8587878787878788, 0.8587878787878788, 0.8587878787878788]}]}, \"metricName\": null, \"primaryMetricName\": \"AUC_weighted\", \"showLegend\": false}, \"run_metrics\": [{\"name\": \"experiment_status\", \"run_id\": \"AutoML_9ae81c6d-3fc1-45c9-b5c6-a211ba6b00f8\", \"categories\": [0, 1, 2, 3, 4, 5, 6, 7, 8, 9, 10, 11, 12, 13], \"series\": [{\"data\": [\"DatasetEvaluation\", \"FeaturesGeneration\", \"DatasetFeaturization\", \"DatasetFeaturizationCompleted\", \"DatasetCrossValidationSplit\", \"ModelSelection\", \"BestRunExplainModel\", \"ModelExplanationDataSetSetup\", \"PickSurrogateModel\", \"EngineeredFeatureExplanations\", \"EngineeredFeatureExplanations\", \"RawFeaturesExplanations\", \"RawFeaturesExplanations\", \"BestRunExplainModel\"]}]}, {\"name\": \"experiment_status_description\", \"run_id\": \"AutoML_9ae81c6d-3fc1-45c9-b5c6-a211ba6b00f8\", \"categories\": [0, 1, 2, 3, 4, 5, 6, 7, 8, 9, 10, 11, 12, 13], \"series\": [{\"data\": [\"Gathering dataset statistics.\", \"Generating features for the dataset.\", \"Beginning to fit featurizers and featurize the dataset.\", \"Completed fit featurizers and featurizing the dataset.\", \"Generating individually featurized CV splits.\", \"Beginning model selection.\", \"Best run model explanations started\", \"Model explanations data setup completed\", \"Choosing LightGBM as the surrogate model for explanations\", \"Computation of engineered features started\", \"Computation of engineered features completed\", \"Computation of raw features started\", \"Computation of raw features completed\", \"Best run model explanations completed\"]}]}, {\"name\": \"norm_macro_recall\", \"run_id\": \"AutoML_9ae81c6d-3fc1-45c9-b5c6-a211ba6b00f8\", \"categories\": [0], \"series\": [{\"data\": [0.603968253968254]}]}, {\"name\": \"recall_score_micro\", \"run_id\": \"AutoML_9ae81c6d-3fc1-45c9-b5c6-a211ba6b00f8\", \"categories\": [0], \"series\": [{\"data\": [0.8351515151515153]}]}, {\"name\": \"AUC_micro\", \"run_id\": \"AutoML_9ae81c6d-3fc1-45c9-b5c6-a211ba6b00f8\", \"categories\": [0], \"series\": [{\"data\": [0.9188521579430671]}]}, {\"name\": \"f1_score_micro\", \"run_id\": \"AutoML_9ae81c6d-3fc1-45c9-b5c6-a211ba6b00f8\", \"categories\": [0], \"series\": [{\"data\": [0.8351515151515153]}]}, {\"name\": \"f1_score_macro\", \"run_id\": \"AutoML_9ae81c6d-3fc1-45c9-b5c6-a211ba6b00f8\", \"categories\": [0], \"series\": [{\"data\": [0.7983408272154401]}]}, {\"name\": \"recall_score_weighted\", \"run_id\": \"AutoML_9ae81c6d-3fc1-45c9-b5c6-a211ba6b00f8\", \"categories\": [0], \"series\": [{\"data\": [0.8351515151515153]}]}, {\"name\": \"weighted_accuracy\", \"run_id\": \"AutoML_9ae81c6d-3fc1-45c9-b5c6-a211ba6b00f8\", \"categories\": [0], \"series\": [{\"data\": [0.8533994816734544]}]}, {\"name\": \"average_precision_score_weighted\", \"run_id\": \"AutoML_9ae81c6d-3fc1-45c9-b5c6-a211ba6b00f8\", \"categories\": [0], \"series\": [{\"data\": [0.9428523328523329]}]}, {\"name\": \"precision_score_micro\", \"run_id\": \"AutoML_9ae81c6d-3fc1-45c9-b5c6-a211ba6b00f8\", \"categories\": [0], \"series\": [{\"data\": [0.8351515151515153]}]}, {\"name\": \"balanced_accuracy\", \"run_id\": \"AutoML_9ae81c6d-3fc1-45c9-b5c6-a211ba6b00f8\", \"categories\": [0], \"series\": [{\"data\": [0.8011507936507938]}]}, {\"name\": \"accuracy\", \"run_id\": \"AutoML_9ae81c6d-3fc1-45c9-b5c6-a211ba6b00f8\", \"categories\": [0], \"series\": [{\"data\": [0.8351515151515153]}]}, {\"name\": \"log_loss\", \"run_id\": \"AutoML_9ae81c6d-3fc1-45c9-b5c6-a211ba6b00f8\", \"categories\": [0], \"series\": [{\"data\": [0.36967981969879815]}]}, {\"name\": \"f1_score_weighted\", \"run_id\": \"AutoML_9ae81c6d-3fc1-45c9-b5c6-a211ba6b00f8\", \"categories\": [0], \"series\": [{\"data\": [0.8314870993299786]}]}, {\"name\": \"precision_score_weighted\", \"run_id\": \"AutoML_9ae81c6d-3fc1-45c9-b5c6-a211ba6b00f8\", \"categories\": [0], \"series\": [{\"data\": [0.8545596440596441]}]}, {\"name\": \"average_precision_score_macro\", \"run_id\": \"AutoML_9ae81c6d-3fc1-45c9-b5c6-a211ba6b00f8\", \"categories\": [0], \"series\": [{\"data\": [0.9203114655626561]}]}, {\"name\": \"AUC_macro\", \"run_id\": \"AutoML_9ae81c6d-3fc1-45c9-b5c6-a211ba6b00f8\", \"categories\": [0], \"series\": [{\"data\": [0.9201746031746032]}]}, {\"name\": \"average_precision_score_micro\", \"run_id\": \"AutoML_9ae81c6d-3fc1-45c9-b5c6-a211ba6b00f8\", \"categories\": [0], \"series\": [{\"data\": [0.9266118760099276]}]}, {\"name\": \"matthews_correlation\", \"run_id\": \"AutoML_9ae81c6d-3fc1-45c9-b5c6-a211ba6b00f8\", \"categories\": [0], \"series\": [{\"data\": [0.6267943017122017]}]}, {\"name\": \"recall_score_macro\", \"run_id\": \"AutoML_9ae81c6d-3fc1-45c9-b5c6-a211ba6b00f8\", \"categories\": [0], \"series\": [{\"data\": [0.8011507936507938]}]}, {\"name\": \"precision_score_macro\", \"run_id\": \"AutoML_9ae81c6d-3fc1-45c9-b5c6-a211ba6b00f8\", \"categories\": [0], \"series\": [{\"data\": [0.8300779220779221]}]}, {\"name\": \"AUC_weighted\", \"run_id\": \"AutoML_9ae81c6d-3fc1-45c9-b5c6-a211ba6b00f8\", \"categories\": [0], \"series\": [{\"data\": [0.9201746031746032]}]}], \"run_logs\": \"\\nRun is completed.\", \"graph\": {}, \"widget_settings\": {\"childWidgetDisplay\": \"popup\", \"send_telemetry\": false, \"log_level\": \"INFO\", \"sdk_version\": \"1.40.0\"}, \"loading\": false}"
     },
     "metadata": {},
     "output_type": "display_data"
    }
   ],
   "source": [
    "\n",
    "RunDetails(remote_run).show()"
   ]
  },
  {
   "cell_type": "code",
   "execution_count": 11,
   "metadata": {},
   "outputs": [
    {
     "data": {
      "text/html": [
       "<table style=\"width:100%\"><tr><th>Experiment</th><th>Id</th><th>Type</th><th>Status</th><th>Details Page</th><th>Docs Page</th></tr><tr><td>ml-experiment-1</td><td>AutoML_9ae81c6d-3fc1-45c9-b5c6-a211ba6b00f8</td><td>automl</td><td>Completed</td><td><a href=\"https://ml.azure.com/runs/AutoML_9ae81c6d-3fc1-45c9-b5c6-a211ba6b00f8?wsid=/subscriptions/9b72f9e6-56c5-4c16-991b-19c652994860/resourcegroups/aml-quickstarts-192511/workspaces/quick-starts-ws-192511&amp;tid=660b3398-b80e-49d2-bc5b-ac1dc93b5254\" target=\"_blank\" rel=\"noopener\">Link to Azure Machine Learning studio</a></td><td><a href=\"https://docs.microsoft.com/en-us/python/api/overview/azure/ml/intro?view=azure-ml-py\" target=\"_blank\" rel=\"noopener\">Link to Documentation</a></td></tr></table>"
      ],
      "text/plain": [
       "<IPython.core.display.HTML object>"
      ]
     },
     "metadata": {},
     "output_type": "display_data"
    },
    {
     "name": "stdout",
     "output_type": "stream",
     "text": [
      "\n",
      "\n",
      "********************************************************************************************\n",
      "DATA GUARDRAILS: \n",
      "\n",
      "TYPE:         Class balancing detection\n",
      "STATUS:       PASSED\n",
      "DESCRIPTION:  Your inputs were analyzed, and all classes are balanced in your training data.\n",
      "              Learn more about imbalanced data: https://aka.ms/AutomatedMLImbalancedData\n",
      "\n",
      "********************************************************************************************\n",
      "\n",
      "TYPE:         Missing feature values imputation\n",
      "STATUS:       PASSED\n",
      "DESCRIPTION:  No feature missing values were detected in the training data.\n",
      "              Learn more about missing value imputation: https://aka.ms/AutomatedMLFeaturization\n",
      "\n",
      "********************************************************************************************\n",
      "\n",
      "TYPE:         High cardinality feature detection\n",
      "STATUS:       PASSED\n",
      "DESCRIPTION:  Your inputs were analyzed, and no high cardinality features were detected.\n",
      "              Learn more about high cardinality feature handling: https://aka.ms/AutomatedMLFeaturization\n",
      "\n",
      "********************************************************************************************\n",
      "\n",
      "********************************************************************************************\n",
      "ITER: The iteration being evaluated.\n",
      "PIPELINE: A summary description of the pipeline being evaluated.\n",
      "DURATION: Time taken for the current iteration.\n",
      "METRIC: The result of computing score on the fitted pipeline.\n",
      "BEST: The best observed score thus far.\n",
      "********************************************************************************************\n",
      "\n",
      " ITER   PIPELINE                                       DURATION            METRIC      BEST\n",
      "    0   MaxAbsScaler LightGBM                          0:00:15             0.9039    0.9039\n",
      "    1   MaxAbsScaler XGBoostClassifier                 0:00:16             0.9052    0.9052\n",
      "    2   MaxAbsScaler ExtremeRandomTrees                0:00:15             0.8744    0.9052\n",
      "    3   MaxAbsScaler RandomForest                      0:00:15             0.8825    0.9052\n",
      "    4   StandardScalerWrapper LightGBM                 0:00:15             0.9015    0.9052\n",
      "    5   StandardScalerWrapper KNN                      0:00:15             0.5180    0.9052\n",
      "    6   SparseNormalizer XGBoostClassifier             0:00:15             0.8775    0.9052\n",
      "    7   SparseNormalizer RandomForest                  0:00:20             0.8758    0.9052\n",
      "    8   RobustScaler KNN                               0:00:14             0.8445    0.9052\n",
      "    9   MinMaxScaler RandomForest                      0:00:16             0.8985    0.9052\n",
      "   10   StandardScalerWrapper LogisticRegression       0:00:14             0.8570    0.9052\n",
      "   11   StandardScalerWrapper SVM                      0:00:14             0.7750    0.9052\n",
      "   12   StandardScalerWrapper XGBoostClassifier        0:00:15             0.8625    0.9052\n",
      "   13   SparseNormalizer KNN                           0:00:14             0.7486    0.9052\n",
      "   14   RobustScaler ExtremeRandomTrees                0:00:16             0.8767    0.9052\n",
      "   15   SparseNormalizer XGBoostClassifier             0:00:15             0.8904    0.9052\n",
      "   16   MinMaxScaler ExtremeRandomTrees                0:00:18             0.9125    0.9125\n",
      "   17   MinMaxScaler ExtremeRandomTrees                0:00:16             0.9063    0.9125\n",
      "   18   SparseNormalizer LightGBM                      0:00:15             0.8792    0.9125\n",
      "   19   MaxAbsScaler ExtremeRandomTrees                0:00:30             0.8603    0.9125\n",
      "   20   StandardScalerWrapper XGBoostClassifier        0:00:04             0.9008    0.9125\n",
      "   21   StandardScalerWrapper RandomForest             0:00:04             0.8990    0.9125\n",
      "   22   MaxAbsScaler LightGBM                          0:00:04             0.8992    0.9125\n",
      "   23   MaxAbsScaler LogisticRegression                0:00:04             0.8574    0.9125\n",
      "   24   StandardScalerWrapper ExtremeRandomTrees       0:00:04             0.9043    0.9125\n",
      "   25   StandardScalerWrapper ExtremeRandomTrees       0:00:04             0.8207    0.9125\n",
      "   26   MinMaxScaler RandomForest                      0:00:04             0.8934    0.9125\n",
      "   27   StandardScalerWrapper ExtremeRandomTrees       0:00:04             0.8643    0.9125\n",
      "   28   MaxAbsScaler GradientBoosting                  0:00:04             0.9083    0.9125\n",
      "   29   MinMaxScaler ExtremeRandomTrees                0:00:04             0.8682    0.9125\n",
      "   30   SparseNormalizer ExtremeRandomTrees            0:00:04             0.5504    0.9125\n",
      "   31   RobustScaler LightGBM                          0:00:04             0.9024    0.9125\n",
      "   32   SparseNormalizer LightGBM                      0:00:04             0.8731    0.9125\n",
      "   33   StandardScalerWrapper LightGBM                 0:00:04             0.8766    0.9125\n",
      "   34                                                  0:00:00                nan    0.9125\n",
      "   35                                                  0:00:00                nan    0.9125\n",
      "   36                                                  0:00:00                nan    0.9125\n",
      "   37                                                  0:00:00                nan    0.9125\n",
      "   38    VotingEnsemble                                0:00:04             0.9202    0.9202\n",
      "   39    StackEnsemble                                 0:00:04             0.9057    0.9202\n"
     ]
    },
    {
     "data": {
      "text/plain": [
       "{'runId': 'AutoML_9ae81c6d-3fc1-45c9-b5c6-a211ba6b00f8',\n",
       " 'target': 'automl-cluster',\n",
       " 'status': 'Completed',\n",
       " 'startTimeUtc': '2022-04-18T12:30:14.048036Z',\n",
       " 'endTimeUtc': '2022-04-18T12:48:57.2524Z',\n",
       " 'services': {},\n",
       " 'warnings': [{'source': 'JasmineService',\n",
       "   'message': 'No scores improved over last 20 iterations, so experiment stopped early. This early stopping behavior can be disabled by setting enable_early_stopping = False in AutoMLConfig for notebook/python SDK runs.'}],\n",
       " 'properties': {'num_iterations': '1000',\n",
       "  'training_type': 'TrainFull',\n",
       "  'acquisition_function': 'EI',\n",
       "  'primary_metric': 'AUC_weighted',\n",
       "  'train_split': '0',\n",
       "  'acquisition_parameter': '0',\n",
       "  'num_cross_validation': '25',\n",
       "  'target': 'automl-cluster',\n",
       "  'AMLSettingsJsonString': '{\"path\":null,\"name\":\"ml-experiment-1\",\"subscription_id\":\"9b72f9e6-56c5-4c16-991b-19c652994860\",\"resource_group\":\"aml-quickstarts-192511\",\"workspace_name\":\"quick-starts-ws-192511\",\"region\":\"southcentralus\",\"compute_target\":\"automl-cluster\",\"spark_service\":null,\"azure_service\":\"remote\",\"many_models\":false,\"pipeline_fetch_max_batch_size\":1,\"enable_batch_run\":true,\"enable_run_restructure\":false,\"start_auxiliary_runs_before_parent_complete\":false,\"enable_code_generation\":false,\"iterations\":1000,\"primary_metric\":\"AUC_weighted\",\"task_type\":\"classification\",\"positive_label\":null,\"data_script\":null,\"test_size\":0.0,\"test_include_predictions_only\":false,\"validation_size\":0.0,\"n_cross_validations\":25,\"y_min\":null,\"y_max\":null,\"num_classes\":null,\"featurization\":\"auto\",\"_ignore_package_version_incompatibilities\":false,\"is_timeseries\":false,\"max_cores_per_iteration\":1,\"max_concurrent_iterations\":5,\"iteration_timeout_minutes\":null,\"mem_in_mb\":null,\"enforce_time_on_windows\":false,\"experiment_timeout_minutes\":30,\"experiment_exit_score\":null,\"partition_column_names\":null,\"whitelist_models\":null,\"blacklist_algos\":[\"TensorFlowLinearClassifier\",\"TensorFlowDNN\"],\"supported_models\":[\"TensorFlowDNN\",\"LinearSVM\",\"DecisionTree\",\"ExtremeRandomTrees\",\"AveragedPerceptronClassifier\",\"GradientBoosting\",\"LogisticRegression\",\"LightGBM\",\"KNN\",\"BernoulliNaiveBayes\",\"RandomForest\",\"XGBoostClassifier\",\"TensorFlowLinearClassifier\",\"TabnetClassifier\",\"MultinomialNaiveBayes\",\"SGD\",\"SVM\"],\"private_models\":[],\"auto_blacklist\":true,\"blacklist_samples_reached\":false,\"exclude_nan_labels\":true,\"verbosity\":20,\"_debug_log\":\"azureml_automl.log\",\"show_warnings\":false,\"model_explainability\":true,\"service_url\":null,\"sdk_url\":null,\"sdk_packages\":null,\"enable_onnx_compatible_models\":false,\"enable_split_onnx_featurizer_estimator_models\":false,\"vm_type\":\"STANDARD_DS12_V2\",\"telemetry_verbosity\":20,\"send_telemetry\":true,\"enable_dnn\":false,\"scenario\":\"SDK-1.13.0\",\"environment_label\":null,\"save_mlflow\":false,\"enable_categorical_indicators\":false,\"force_text_dnn\":false,\"enable_feature_sweeping\":true,\"enable_early_stopping\":true,\"early_stopping_n_iters\":10,\"arguments\":null,\"dataset_id\":\"a00b37e1-7246-43fc-90ab-7b79838e3bfa\",\"hyperdrive_config\":null,\"validation_dataset_id\":null,\"run_source\":null,\"metrics\":null,\"enable_metric_confidence\":false,\"enable_ensembling\":true,\"enable_stack_ensembling\":true,\"ensemble_iterations\":15,\"enable_tf\":false,\"enable_subsampling\":null,\"subsample_seed\":null,\"enable_nimbusml\":false,\"enable_streaming\":false,\"force_streaming\":false,\"track_child_runs\":true,\"allowed_private_models\":[],\"label_column_name\":\"DEATH_EVENT\",\"weight_column_name\":null,\"cv_split_column_names\":null,\"enable_local_managed\":false,\"_local_managed_run_id\":null,\"cost_mode\":1,\"lag_length\":0,\"metric_operation\":\"maximize\",\"preprocess\":true}',\n",
       "  'DataPrepJsonString': '{\\\\\"training_data\\\\\": {\\\\\"datasetId\\\\\": \\\\\"a00b37e1-7246-43fc-90ab-7b79838e3bfa\\\\\"}, \\\\\"datasets\\\\\": 0}',\n",
       "  'EnableSubsampling': None,\n",
       "  'runTemplate': 'AutoML',\n",
       "  'azureml.runsource': 'automl',\n",
       "  'display_task_type': 'classification',\n",
       "  'dependencies_versions': '{\"azureml-dataprep-native\": \"38.0.0\", \"azureml-dataprep\": \"3.0.2\", \"azureml-dataprep-rslex\": \"2.4.2\", \"azureml-train-automl-runtime\": \"1.40.0.post2\", \"azureml-core\": \"1.40.0.post2\", \"azureml-automl-core\": \"1.40.0\", \"azureml-automl-runtime\": \"1.40.0\", \"azureml-defaults\": \"1.40.0\", \"azureml-train-automl\": \"1.40.0\", \"azureml-interpret\": \"1.40.0\", \"azureml-mlflow\": \"1.40.0\", \"azureml-telemetry\": \"1.40.0\", \"azureml-pipeline-core\": \"1.40.0\", \"azureml-train-automl-client\": \"1.40.0\", \"azureml-train-core\": \"1.40.0\", \"azureml-dataset-runtime\": \"1.40.0\", \"azureml-pipeline-steps\": \"1.40.0\", \"azureml-training-tabular\": \"1.40.0\", \"azureml-sdk\": \"1.40.0\", \"azureml-train-restclients-hyperdrive\": \"1.40.0\", \"azureml-pipeline\": \"1.40.0\", \"azureml-responsibleai\": \"1.39.0\", \"azureml-widgets\": \"1.39.0\", \"azureml-opendatasets\": \"1.39.0\", \"azureml-contrib-notebook\": \"1.39.0\", \"azureml-tensorboard\": \"1.39.0\", \"azureml-datadrift\": \"1.39.0\", \"azureml-contrib-automl-pipeline-steps\": \"1.39.0\", \"azureml-train\": \"1.39.0\", \"azureml-contrib-dataset\": \"1.39.0\", \"azureml-contrib-fairness\": \"1.39.0\", \"azureml-contrib-services\": \"1.39.0\", \"azureml-contrib-server\": \"1.39.0\", \"azureml-accel-models\": \"1.39.0\", \"azureml-automl-dnn-nlp\": \"1.39.0\", \"azureml-contrib-pipeline-steps\": \"1.39.0\", \"azureml-cli-common\": \"1.39.0\", \"azureml-contrib-reinforcementlearning\": \"1.39.0\", \"azureml-explain-model\": \"1.39.0\", \"azureml-inference-server-http\": \"0.4.13\", \"azureml-samples\": \"0+unknown\"}',\n",
       "  '_aml_system_scenario_identification': 'Remote.Parent',\n",
       "  'ClientType': 'SDK',\n",
       "  'environment_cpu_name': 'AzureML-AutoML',\n",
       "  'environment_cpu_label': 'prod',\n",
       "  'environment_gpu_name': 'AzureML-AutoML-GPU',\n",
       "  'environment_gpu_label': 'prod',\n",
       "  'root_attribution': 'automl',\n",
       "  'attribution': 'AutoML',\n",
       "  'Orchestrator': 'AutoML',\n",
       "  'CancelUri': 'https://southcentralus.api.azureml.ms/jasmine/v1.0/subscriptions/9b72f9e6-56c5-4c16-991b-19c652994860/resourceGroups/aml-quickstarts-192511/providers/Microsoft.MachineLearningServices/workspaces/quick-starts-ws-192511/experimentids/37380d37-67dd-48a9-9dba-bf1b39ca25a0/cancel/AutoML_9ae81c6d-3fc1-45c9-b5c6-a211ba6b00f8',\n",
       "  'azureml.git.repository_uri': 'https://github.com/camille-wilkens/AZ_Capstone.git',\n",
       "  'mlflow.source.git.repoURL': 'https://github.com/camille-wilkens/AZ_Capstone.git',\n",
       "  'azureml.git.branch': 'main',\n",
       "  'mlflow.source.git.branch': 'main',\n",
       "  'azureml.git.commit': '67a056c0ab841823aa4bfc6a6d4876c43f1d8b27',\n",
       "  'mlflow.source.git.commit': '67a056c0ab841823aa4bfc6a6d4876c43f1d8b27',\n",
       "  'azureml.git.dirty': 'True',\n",
       "  'ClientSdkVersion': '1.40.0.post1',\n",
       "  'snapshotId': '00000000-0000-0000-0000-000000000000',\n",
       "  'SetupRunId': 'AutoML_9ae81c6d-3fc1-45c9-b5c6-a211ba6b00f8_setup',\n",
       "  'SetupRunContainerId': 'dcid.AutoML_9ae81c6d-3fc1-45c9-b5c6-a211ba6b00f8_setup',\n",
       "  'FeaturizationRunJsonPath': 'featurizer_container.json',\n",
       "  'FeaturizationRunId': 'AutoML_9ae81c6d-3fc1-45c9-b5c6-a211ba6b00f8_featurize',\n",
       "  'ProblemInfoJsonString': '{\"dataset_num_categorical\": 0, \"is_sparse\": false, \"subsampling\": false, \"has_extra_col\": true, \"dataset_classes\": 2, \"dataset_features\": 12, \"dataset_samples\": 299, \"single_frequency_class_detected\": false}',\n",
       "  'ModelExplainRunId': 'AutoML_9ae81c6d-3fc1-45c9-b5c6-a211ba6b00f8_ModelExplain'},\n",
       " 'inputDatasets': [{'dataset': {'id': 'a00b37e1-7246-43fc-90ab-7b79838e3bfa'}, 'consumptionDetails': {'type': 'RunInput', 'inputName': 'training_data', 'mechanism': 'Direct'}}],\n",
       " 'outputDatasets': [],\n",
       " 'logFiles': {},\n",
       " 'submittedBy': 'ODL_User 192511'}"
      ]
     },
     "execution_count": 11,
     "metadata": {},
     "output_type": "execute_result"
    }
   ],
   "source": [
    "\n",
    "remote_run.wait_for_completion(show_output=True)"
   ]
  },
  {
   "cell_type": "markdown",
   "metadata": {},
   "source": [
    "## Best Model\n",
    "\n",
    "TODO: In the cell below, get the best model from the automl experiments and display all the properties of the model.\n",
    "\n"
   ]
  },
  {
   "cell_type": "code",
   "execution_count": 12,
   "metadata": {
    "gather": {
     "logged": 1598431425670
    },
    "jupyter": {
     "outputs_hidden": false,
     "source_hidden": false
    },
    "nteract": {
     "transient": {
      "deleting": false
     }
    }
   },
   "outputs": [
    {
     "name": "stdout",
     "output_type": "stream",
     "text": [
      "Best Run: AutoML_9ae81c6d-3fc1-45c9-b5c6-a211ba6b00f8_38\n",
      "Run(Experiment: ml-experiment-1,\n",
      "Id: AutoML_9ae81c6d-3fc1-45c9-b5c6-a211ba6b00f8_38,\n",
      "Type: azureml.scriptrun,\n",
      "Status: Completed)\n",
      "Fitted Model: Pipeline(memory=None,\n",
      "         steps=[('datatransformer',\n",
      "                 DataTransformer(enable_dnn=False, enable_feature_sweeping=True, feature_sweeping_config={}, feature_sweeping_timeout=86400, featurization_config=None, force_text_dnn=False, is_cross_validation=True, is_onnx_compatible=False, observer=None, task='classification', working_dir='/mnt/batch/tasks/shared/LS_root/mount...\n",
      "                 PreFittedSoftVotingClassifier(classification_labels=array([0, 1]), estimators=[('16', Pipeline(memory=None, steps=[('minmaxscaler', MinMaxScaler(copy=True, feature_range=(0, 1))), ('extratreesclassifier', ExtraTreesClassifier(bootstrap=True, ccp_alpha=0.0, class_weight=None, criterion='gini', max_depth=None, max_features=None, max_leaf_nodes=None, max_samples=None, min_impurity_decrease=0.0, min_impurity_split=None, min_samples_leaf=0.01, min_samples_split=0.056842105263157895, min_weight_fraction_leaf=0.0, n_estimators=50, n_jobs=1, oob_score=False, random_state=None, verbose=0, warm_start=False))], verbose=False)), ('28', Pipeline(memory=None, steps=[('maxabsscaler', MaxAbsScaler(copy=True)), ('gradientboostingclassifier', GradientBoostingClassifier(ccp_alpha=0.0, criterion='mse', init=None, learning_rate=0.01, loss='deviance', max_depth=10, max_features='log2', max_leaf_nodes=None, min_impurity_decrease=0.0, min_impurity_split=None, min_samples_leaf=0.035789473684210524, min_samples_split=0.5252631578947369, min_weight_fraction_leaf=0.0, n_estimators=600, n_iter_no_change=None, presort='deprecated', random_state=None, subsample=0.7631578947368421, tol=0.0001, validation_fraction=0.1, verbose=0, warm_start=False))], verbose=False)), ('17', Pipeline(memory=None, steps=[('minmaxscaler', MinMaxScaler(copy=True, feature_range=(0, 1))), ('extratreesclassifier', ExtraTreesClassifier(bootstrap=False, ccp_alpha=0.0, class_weight='balanced', criterion='gini', max_depth=None, max_features=0.9, max_leaf_nodes=None, max_samples=None, min_impurity_decrease=0.0, min_impurity_split=None, min_samples_leaf=0.01, min_samples_split=0.01, min_weight_fraction_leaf=0.0, n_estimators=25, n_jobs=1, oob_score=False, random_state=None, verbose=0, warm_start=False))], verbose=False)), ('1', Pipeline(memory=None, steps=[('maxabsscaler', MaxAbsScaler(copy=True)), ('xgboostclassifier', XGBoostClassifier(n_jobs=1, problem_info=ProblemInfo(gpu_training_param_dict={'processing_unit_type': 'cpu'}), random_state=0, tree_method='auto'))], verbose=False)), ('24', Pipeline(memory=None, steps=[('standardscalerwrapper', StandardScalerWrapper(copy=True, with_mean=False, with_std=True)), ('extratreesclassifier', ExtraTreesClassifier(bootstrap=False, ccp_alpha=0.0, class_weight='balanced', criterion='gini', max_depth=None, max_features=None, max_leaf_nodes=None, max_samples=None, min_impurity_decrease=0.0, min_impurity_split=None, min_samples_leaf=0.01, min_samples_split=0.056842105263157895, min_weight_fraction_leaf=0.0, n_estimators=200, n_jobs=1, oob_score=False, random_state=None, verbose=0, warm_start=False))], verbose=False)), ('5', Pipeline(memory=None, steps=[('standardscalerwrapper', StandardScalerWrapper(copy=True, with_mean=True, with_std=False)), ('kneighborsclassifier', KNeighborsClassifier(algorithm='auto', leaf_size=30, metric='cityblock', metric_params=None, n_jobs=1, n_neighbors=29, p=2, weights='distance'))], verbose=False))], flatten_transform=None, weights=[0.2, 0.2, 0.1, 0.1, 0.3, 0.1]))],\n",
      "         verbose=False)\n",
      "Fitted Model Steps:\n",
      "[('datatransformer', DataTransformer(enable_dnn=False, enable_feature_sweeping=True, feature_sweeping_config={}, feature_sweeping_timeout=86400, featurization_config=None, force_text_dnn=False, is_cross_validation=True, is_onnx_compatible=False, task='classification')), ('prefittedsoftvotingclassifier', PreFittedSoftVotingClassifier(classification_labels=array([0, 1]), estimators=[('16', Pipeline(memory=None, steps=[('minmaxscaler', MinMaxScaler(copy=True, feature_range=(0, 1))), ('extratreesclassifier', ExtraTreesClassifier(bootstrap=True, ccp_alpha=0.0, class_weight=None, criterion='gini', max_depth=None, max_features=None, max_leaf_nodes=None, max_samples=None, min_impurity_decrease=0.0, min_impurity_split=None, min_samples_leaf=0.01, min_samples_split=0.056842105263157895, min_weight_fraction_leaf=0.0, n_estimators=50, n_jobs=1, oob_score=False, random_state=None, verbose=0, warm_start=False))], verbose=False)), ('28', Pipeline(memory=None, steps=[('maxabsscaler', MaxAbsScaler(copy=True)), ('gradientboostingclassifier', GradientBoostingClassifier(ccp_alpha=0.0, criterion='mse', init=None, learning_rate=0.01, loss='deviance', max_depth=10, max_features='log2', max_leaf_nodes=None, min_impurity_decrease=0.0, min_impurity_split=None, min_samples_leaf=0.035789473684210524, min_samples_split=0.5252631578947369, min_weight_fraction_leaf=0.0, n_estimators=600, n_iter_no_change=None, presort='deprecated', random_state=None, subsample=0.7631578947368421, tol=0.0001, validation_fraction=0.1, verbose=0, warm_start=False))], verbose=False)), ('17', Pipeline(memory=None, steps=[('minmaxscaler', MinMaxScaler(copy=True, feature_range=(0, 1))), ('extratreesclassifier', ExtraTreesClassifier(bootstrap=False, ccp_alpha=0.0, class_weight='balanced', criterion='gini', max_depth=None, max_features=0.9, max_leaf_nodes=None, max_samples=None, min_impurity_decrease=0.0, min_impurity_split=None, min_samples_leaf=0.01, min_samples_split=0.01, min_weight_fraction_leaf=0.0, n_estimators=25, n_jobs=1, oob_score=False, random_state=None, verbose=0, warm_start=False))], verbose=False)), ('1', Pipeline(memory=None, steps=[('maxabsscaler', MaxAbsScaler(copy=True)), ('xgboostclassifier', XGBoostClassifier(n_jobs=1, problem_info=ProblemInfo(gpu_training_param_dict={'processing_unit_type': 'cpu'}), random_state=0, tree_method='auto'))], verbose=False)), ('24', Pipeline(memory=None, steps=[('standardscalerwrapper', StandardScalerWrapper(copy=True, with_mean=False, with_std=True)), ('extratreesclassifier', ExtraTreesClassifier(bootstrap=False, ccp_alpha=0.0, class_weight='balanced', criterion='gini', max_depth=None, max_features=None, max_leaf_nodes=None, max_samples=None, min_impurity_decrease=0.0, min_impurity_split=None, min_samples_leaf=0.01, min_samples_split=0.056842105263157895, min_weight_fraction_leaf=0.0, n_estimators=200, n_jobs=1, oob_score=False, random_state=None, verbose=0, warm_start=False))], verbose=False)), ('5', Pipeline(memory=None, steps=[('standardscalerwrapper', StandardScalerWrapper(copy=True, with_mean=True, with_std=False)), ('kneighborsclassifier', KNeighborsClassifier(algorithm='auto', leaf_size=30, metric='cityblock', metric_params=None, n_jobs=1, n_neighbors=29, p=2, weights='distance'))], verbose=False))], flatten_transform=None, weights=[0.2, 0.2, 0.1, 0.1, 0.3, 0.1]))]\n",
      "Best Run Metrics\n",
      "{'AUC_weighted': 0.9201746031746032, 'precision_score_macro': 0.8300779220779221, 'AUC_macro': 0.9201746031746032, 'log_loss': 0.36967981969879815, 'accuracy': 0.8351515151515153, 'recall_score_micro': 0.8351515151515153, 'matthews_correlation': 0.6267943017122017, 'f1_score_macro': 0.7983408272154401, 'precision_score_micro': 0.8351515151515153, 'recall_score_macro': 0.8011507936507938, 'f1_score_weighted': 0.8314870993299786, 'balanced_accuracy': 0.8011507936507938, 'average_precision_score_macro': 0.9203114655626561, 'AUC_micro': 0.9188521579430671, 'average_precision_score_micro': 0.9266118760099276, 'precision_score_weighted': 0.8545596440596441, 'norm_macro_recall': 0.603968253968254, 'recall_score_weighted': 0.8351515151515153, 'f1_score_micro': 0.8351515151515153, 'weighted_accuracy': 0.8533994816734544, 'average_precision_score_weighted': 0.9428523328523329, 'accuracy_table': 'aml://artifactId/ExperimentRun/dcid.AutoML_9ae81c6d-3fc1-45c9-b5c6-a211ba6b00f8_38/accuracy_table', 'confusion_matrix': 'aml://artifactId/ExperimentRun/dcid.AutoML_9ae81c6d-3fc1-45c9-b5c6-a211ba6b00f8_38/confusion_matrix'}\n",
      "AUC_weighted 0.9201746031746032\n",
      "precision_score_macro 0.8300779220779221\n",
      "AUC_macro 0.9201746031746032\n",
      "log_loss 0.36967981969879815\n",
      "accuracy 0.8351515151515153\n",
      "recall_score_micro 0.8351515151515153\n",
      "matthews_correlation 0.6267943017122017\n",
      "f1_score_macro 0.7983408272154401\n",
      "precision_score_micro 0.8351515151515153\n",
      "recall_score_macro 0.8011507936507938\n",
      "f1_score_weighted 0.8314870993299786\n",
      "balanced_accuracy 0.8011507936507938\n",
      "average_precision_score_macro 0.9203114655626561\n",
      "AUC_micro 0.9188521579430671\n",
      "average_precision_score_micro 0.9266118760099276\n",
      "precision_score_weighted 0.8545596440596441\n",
      "norm_macro_recall 0.603968253968254\n",
      "recall_score_weighted 0.8351515151515153\n",
      "f1_score_micro 0.8351515151515153\n",
      "weighted_accuracy 0.8533994816734544\n",
      "average_precision_score_weighted 0.9428523328523329\n",
      "accuracy_table aml://artifactId/ExperimentRun/dcid.AutoML_9ae81c6d-3fc1-45c9-b5c6-a211ba6b00f8_38/accuracy_table\n",
      "confusion_matrix aml://artifactId/ExperimentRun/dcid.AutoML_9ae81c6d-3fc1-45c9-b5c6-a211ba6b00f8_38/confusion_matrix\n"
     ]
    }
   ],
   "source": [
    "best_run,fitted_model = remote_run.get_output()\n",
    "best_run_metrics = best_run.get_metrics() \n",
    "\n",
    "print(\"Best Run:\",best_run.id)\n",
    "print(best_run)\n",
    "print(\"Fitted Model:\", fitted_model)\n",
    "print(\"Fitted Model Steps:\")\n",
    "print(fitted_model.steps)\n",
    "print(\"Best Run Metrics\")\n",
    "print(best_run_metrics)\n",
    "\n",
    "for i in best_run_metrics:\n",
    "    x = best_run_metrics[i]\n",
    "    print(i,x )\n"
   ]
  },
  {
   "cell_type": "code",
   "execution_count": 13,
   "metadata": {},
   "outputs": [
    {
     "name": "stdout",
     "output_type": "stream",
     "text": [
      "[('datatransformer', DataTransformer(enable_dnn=False, enable_feature_sweeping=True, feature_sweeping_config={}, feature_sweeping_timeout=86400, featurization_config=None, force_text_dnn=False, is_cross_validation=True, is_onnx_compatible=False, task='classification')), ('prefittedsoftvotingclassifier', PreFittedSoftVotingClassifier(classification_labels=array([0, 1]), estimators=[('16', Pipeline(memory=None, steps=[('minmaxscaler', MinMaxScaler(copy=True, feature_range=(0, 1))), ('extratreesclassifier', ExtraTreesClassifier(bootstrap=True, ccp_alpha=0.0, class_weight=None, criterion='gini', max_depth=None, max_features=None, max_leaf_nodes=None, max_samples=None, min_impurity_decrease=0.0, min_impurity_split=None, min_samples_leaf=0.01, min_samples_split=0.056842105263157895, min_weight_fraction_leaf=0.0, n_estimators=50, n_jobs=1, oob_score=False, random_state=None, verbose=0, warm_start=False))], verbose=False)), ('28', Pipeline(memory=None, steps=[('maxabsscaler', MaxAbsScaler(copy=True)), ('gradientboostingclassifier', GradientBoostingClassifier(ccp_alpha=0.0, criterion='mse', init=None, learning_rate=0.01, loss='deviance', max_depth=10, max_features='log2', max_leaf_nodes=None, min_impurity_decrease=0.0, min_impurity_split=None, min_samples_leaf=0.035789473684210524, min_samples_split=0.5252631578947369, min_weight_fraction_leaf=0.0, n_estimators=600, n_iter_no_change=None, presort='deprecated', random_state=None, subsample=0.7631578947368421, tol=0.0001, validation_fraction=0.1, verbose=0, warm_start=False))], verbose=False)), ('17', Pipeline(memory=None, steps=[('minmaxscaler', MinMaxScaler(copy=True, feature_range=(0, 1))), ('extratreesclassifier', ExtraTreesClassifier(bootstrap=False, ccp_alpha=0.0, class_weight='balanced', criterion='gini', max_depth=None, max_features=0.9, max_leaf_nodes=None, max_samples=None, min_impurity_decrease=0.0, min_impurity_split=None, min_samples_leaf=0.01, min_samples_split=0.01, min_weight_fraction_leaf=0.0, n_estimators=25, n_jobs=1, oob_score=False, random_state=None, verbose=0, warm_start=False))], verbose=False)), ('1', Pipeline(memory=None, steps=[('maxabsscaler', MaxAbsScaler(copy=True)), ('xgboostclassifier', XGBoostClassifier(n_jobs=1, problem_info=ProblemInfo(gpu_training_param_dict={'processing_unit_type': 'cpu'}), random_state=0, tree_method='auto'))], verbose=False)), ('24', Pipeline(memory=None, steps=[('standardscalerwrapper', StandardScalerWrapper(copy=True, with_mean=False, with_std=True)), ('extratreesclassifier', ExtraTreesClassifier(bootstrap=False, ccp_alpha=0.0, class_weight='balanced', criterion='gini', max_depth=None, max_features=None, max_leaf_nodes=None, max_samples=None, min_impurity_decrease=0.0, min_impurity_split=None, min_samples_leaf=0.01, min_samples_split=0.056842105263157895, min_weight_fraction_leaf=0.0, n_estimators=200, n_jobs=1, oob_score=False, random_state=None, verbose=0, warm_start=False))], verbose=False)), ('5', Pipeline(memory=None, steps=[('standardscalerwrapper', StandardScalerWrapper(copy=True, with_mean=True, with_std=False)), ('kneighborsclassifier', KNeighborsClassifier(algorithm='auto', leaf_size=30, metric='cityblock', metric_params=None, n_jobs=1, n_neighbors=29, p=2, weights='distance'))], verbose=False))], flatten_transform=None, weights=[0.2, 0.2, 0.1, 0.1, 0.3, 0.1]))]\n"
     ]
    }
   ],
   "source": [
    "print(fitted_model.steps)"
   ]
  },
  {
   "cell_type": "code",
   "execution_count": 14,
   "metadata": {},
   "outputs": [
    {
     "name": "stdout",
     "output_type": "stream",
     "text": [
      "channels:\n",
      "- anaconda\n",
      "- conda-forge\n",
      "- pytorch\n",
      "dependencies:\n",
      "- python=3.7.9\n",
      "- pip=20.2.4\n",
      "- pip:\n",
      "  - azureml-core==1.40.0\n",
      "  - azureml-mlflow==1.40.0\n",
      "  - azureml-pipeline-core==1.40.0\n",
      "  - azureml-telemetry==1.40.0\n",
      "  - azureml-interpret==1.40.0\n",
      "  - azureml-responsibleai==1.40.0\n",
      "  - azureml-automl-core==1.40.0\n",
      "  - azureml-automl-runtime==1.40.0\n",
      "  - azureml-train-automl-client==1.40.0\n",
      "  - azureml-train-automl-runtime==1.40.0.post1\n",
      "  - azureml-dataset-runtime==1.40.0\n",
      "  - azureml-defaults==1.40.0\n",
      "  - inference-schema\n",
      "  - py-cpuinfo==5.0.0\n",
      "  - mpi4py==3.1.3\n",
      "  - click<8.0.0\n",
      "  - pystan==2.19.1.1\n",
      "  - boto3==1.15.18\n",
      "  - botocore==1.18.18\n",
      "  - joblib==0.14.1\n",
      "  - cloudpickle==1.6.0\n",
      "- numpy~=1.18.0\n",
      "- scikit-learn==0.22.1\n",
      "- pandas~=1.1.5\n",
      "- py-xgboost==1.3.3\n",
      "- fbprophet==0.7.1\n",
      "- holidays==0.10.3\n",
      "- setuptools-git\n",
      "- psutil>5.0.0,<6.0.0\n",
      "name: azureml_61b883c981e1199704b60f5cc50378fa\n",
      "\n"
     ]
    }
   ],
   "source": [
    "automl_env=best_run.get_environment()\n",
    "print(automl_env.python.conda_dependencies.serialize_to_string())\n"
   ]
  },
  {
   "cell_type": "markdown",
   "metadata": {},
   "source": [
    "## Model Deployment\n",
    "\n",
    "Remember you have to deploy only one of the two models you trained but you still need to register both the models. Perform the steps in the rest of this notebook only if you wish to deploy this model.\n",
    "\n",
    "TODO: In the cell below, register the model, create an inference config and deploy the model as a web service."
   ]
  },
  {
   "cell_type": "markdown",
   "metadata": {},
   "source": [
    "### Register Model"
   ]
  },
  {
   "cell_type": "code",
   "execution_count": 15,
   "metadata": {
    "gather": {
     "logged": 1598431435189
    },
    "jupyter": {
     "outputs_hidden": false,
     "source_hidden": false
    },
    "nteract": {
     "transient": {
      "deleting": false
     }
    }
   },
   "outputs": [
    {
     "data": {
      "text/plain": [
       "'outputs/model.pkl'"
      ]
     },
     "execution_count": 15,
     "metadata": {},
     "output_type": "execute_result"
    }
   ],
   "source": [
    "#Steps Followed from: https://docs.microsoft.com/en-us/azure/machine-learning/how-to-deploy-and-where?tabs=azcli\n",
    "\n",
    "from azureml.core import Model\n",
    "\n",
    "automl_model = remote_run.register_model(model_name='Heart_Failure_Prediction_Model')\n",
    "automl_model.download(target_dir=\"outputs\", exist_ok = True)\n",
    "\n"
   ]
  },
  {
   "cell_type": "code",
   "execution_count": 16,
   "metadata": {},
   "outputs": [
    {
     "name": "stdout",
     "output_type": "stream",
     "text": [
      "Heart_Failure_Prediction_Model 1\n"
     ]
    }
   ],
   "source": [
    "for model in Model.list(ws):\n",
    "    print(model.name,model.version)"
   ]
  },
  {
   "cell_type": "markdown",
   "metadata": {
    "collapsed": true,
    "gather": {
     "logged": 1598431657736
    },
    "jupyter": {
     "outputs_hidden": false,
     "source_hidden": false
    },
    "nteract": {
     "transient": {
      "deleting": false
     }
    }
   },
   "source": [
    "### Create Inference Config"
   ]
  },
  {
   "cell_type": "code",
   "execution_count": 17,
   "metadata": {
    "gather": {
     "logged": 1598432707604
    },
    "jupyter": {
     "outputs_hidden": false,
     "source_hidden": false
    },
    "nteract": {
     "transient": {
      "deleting": false
     }
    }
   },
   "outputs": [],
   "source": [
    "\n",
    "from azureml.automl.core.shared import constants\n",
    "from azureml.core.environment import Environment\n",
    "from azureml.core.model import InferenceConfig\n",
    "\n",
    "myenv = Environment.from_conda_specification(name=\"env\", file_path=\"project_environment.yml\")\n",
    "inference_config = InferenceConfig(entry_script=\"score.py\",environment=myenv)"
   ]
  },
  {
   "cell_type": "markdown",
   "metadata": {
    "collapsed": true,
    "gather": {
     "logged": 1598432765711
    },
    "jupyter": {
     "outputs_hidden": false,
     "source_hidden": false
    },
    "nteract": {
     "transient": {
      "deleting": false
     }
    }
   },
   "source": [
    "TODO: In the cell below, print the logs of the web service and delete the service"
   ]
  },
  {
   "cell_type": "markdown",
   "metadata": {},
   "source": [
    "### Deploy Webservice"
   ]
  },
  {
   "cell_type": "code",
   "execution_count": 18,
   "metadata": {
    "jupyter": {
     "outputs_hidden": false,
     "source_hidden": false
    },
    "nteract": {
     "transient": {
      "deleting": false
     }
    },
    "scrolled": true
   },
   "outputs": [
    {
     "name": "stdout",
     "output_type": "stream",
     "text": [
      "Tips: You can try get_logs(): https://aka.ms/debugimage#dockerlog or local deployment: https://aka.ms/debugimage#debug-locally to debug if deployment takes longer than 10 minutes.\n",
      "Running\n",
      "2022-04-18 13:01:42+00:00 Creating Container Registry if not exists..\n",
      "2022-04-18 13:11:42+00:00 Registering the environment..\n",
      "2022-04-18 13:11:44+00:00 Building image..\n",
      "2022-04-18 13:21:59+00:00 Generating deployment configuration.\n",
      "2022-04-18 13:22:00+00:00 Submitting deployment to compute..\n",
      "2022-04-18 13:22:04+00:00 Checking the status of deployment heart-failure-service..\n",
      "2022-04-18 13:24:54+00:00 Checking the status of inference endpoint heart-failure-service.\n",
      "Succeeded\n",
      "ACI service creation operation finished, operation \"Succeeded\"\n"
     ]
    }
   ],
   "source": [
    "from azureml.core.webservice import Webservice, AciWebservice\n",
    "model = Model(ws,'Heart_Failure_Prediction_Model')\n",
    "\n",
    "deployment_config = AciWebservice.deploy_configuration(cpu_cores=1, memory_gb = 2, \n",
    "                                                       description='Heart_Failure_Prediction_Model',enable_app_insights=True )\n",
    "\n",
    "\n",
    "service=Model.deploy(workspace=ws,\n",
    "                    name=\"heart-failure-service\",\n",
    "                    models=[model],\n",
    "                    inference_config=inference_config,\n",
    "                    deployment_config=deployment_config,overwrite=True)\n",
    "\n",
    "service.wait_for_deployment(show_output=True)\n",
    "\n",
    "\n",
    "\n"
   ]
  },
  {
   "cell_type": "code",
   "execution_count": 19,
   "metadata": {},
   "outputs": [
    {
     "name": "stdout",
     "output_type": "stream",
     "text": [
      "2022-04-18T13:24:26,700437600+00:00 - iot-server/run \n",
      "2022-04-18T13:24:26,717724800+00:00 - nginx/run \n",
      "2022-04-18T13:24:26,707210600+00:00 - gunicorn/run \n",
      "2022-04-18T13:24:26,708200000+00:00 - rsyslog/run \n",
      "Dynamic Python package installation is disabled.\n",
      "Starting HTTP server\n",
      "rsyslogd: /azureml-envs/azureml_4a0fd0e4e413efca88a642b691ad47f1/lib/libuuid.so.1: no version information available (required by rsyslogd)\n",
      "EdgeHubConnectionString and IOTEDGE_IOTHUBHOSTNAME are not set. Exiting...\n",
      "2022-04-18T13:24:27,155656900+00:00 - iot-server/finish 1 0\n",
      "2022-04-18T13:24:27,158143300+00:00 - Exit code 1 is normal. Not restarting iot-server.\n",
      "Starting gunicorn 20.1.0\n",
      "Listening at: http://127.0.0.1:31311 (75)\n",
      "Using worker: sync\n",
      "worker timeout is set to 300\n",
      "Booting worker with pid: 103\n",
      "SPARK_HOME not set. Skipping PySpark Initialization.\n",
      "Initializing logger\n",
      "2022-04-18 13:24:31,046 | root | INFO | Starting up app insights client\n",
      "logging socket was found. logging is available.\n",
      "logging socket was found. logging is available.\n",
      "2022-04-18 13:24:31,053 | root | INFO | Starting up request id generator\n",
      "2022-04-18 13:24:31,053 | root | INFO | Starting up app insight hooks\n",
      "2022-04-18 13:24:31,053 | root | INFO | Invoking user's init function\n",
      "2022-04-18 13:24:35,318 | root | INFO | Users's init has completed successfully\n",
      "2022-04-18 13:24:35,326 | root | INFO | Skipping middleware: dbg_model_info as it's not enabled.\n",
      "2022-04-18 13:24:35,326 | root | INFO | Skipping middleware: dbg_resource_usage as it's not enabled.\n",
      "2022-04-18 13:24:35,328 | root | INFO | Scoring timeout is found from os.environ: 60000 ms\n",
      "2022-04-18 13:24:54,006 | root | INFO | Swagger file not present\n",
      "2022-04-18 13:24:54,007 | root | INFO | 404\n",
      "127.0.0.1 - - [18/Apr/2022:13:24:54 +0000] \"GET /swagger.json HTTP/1.0\" 404 19 \"-\" \"Go-http-client/1.1\"\n",
      "2022-04-18 13:24:57,130 | root | INFO | Swagger file not present\n",
      "2022-04-18 13:24:57,131 | root | INFO | 404\n",
      "127.0.0.1 - - [18/Apr/2022:13:24:57 +0000] \"GET /swagger.json HTTP/1.0\" 404 19 \"-\" \"Go-http-client/1.1\"\n",
      "\n"
     ]
    }
   ],
   "source": [
    "print(service.get_logs())"
   ]
  },
  {
   "cell_type": "markdown",
   "metadata": {},
   "source": [
    "### Test Webservice"
   ]
  },
  {
   "cell_type": "code",
   "execution_count": 20,
   "metadata": {},
   "outputs": [
    {
     "name": "stdout",
     "output_type": "stream",
     "text": [
      "[0, 0]\n"
     ]
    }
   ],
   "source": [
    "import json\n",
    "import requests\n",
    "\n",
    "\n",
    "test = {\n",
    "  \"data\": [ {\n",
    "      \"age\": 90,\n",
    "      \"anaemia\": 0,\n",
    "      \"creatinine_phosphokinase\": 500, \n",
    "      \"diabetes\":  1,\n",
    "      \"ejection_fraction\": 150,\n",
    "      \"high_blood_pressure\": 0,\n",
    "      \"platelets\": 100000,\n",
    "      \"serum_creatinine\": 2.75,\n",
    "      \"serum_sodium\": 140,\n",
    "      \"sex\": 1,\n",
    "      \"smoking\": 0,\n",
    "      \"time\": 500 },\n",
    "      \n",
    "      {\"age\": 45,\n",
    "      \"anaemia\": 1,\n",
    "      \"creatinine_phosphokinase\": 500, \n",
    "      \"diabetes\":  1,\n",
    "      \"ejection_fraction\": 50,\n",
    "      \"high_blood_pressure\": 1,\n",
    "      \"platelets\": 100000,\n",
    "      \"serum_creatinine\": 1.75,\n",
    "      \"serum_sodium\": 140,\n",
    "      \"sex\": 0,\n",
    "      \"smoking\": 1,\n",
    "      \"time\": 213}\n",
    "  ]\n",
    "}\n",
    "\n",
    "\n",
    "test_data = json.dumps(test)\n",
    "\n",
    "#Test response\n",
    "response = requests.post(service.scoring_uri, test_data, headers={'Content-Type': 'application/json'})\n",
    "\n",
    "\n",
    "print(response.json())\n"
   ]
  },
  {
   "cell_type": "markdown",
   "metadata": {},
   "source": [
    "### Delete Webservice"
   ]
  },
  {
   "cell_type": "code",
   "execution_count": 22,
   "metadata": {},
   "outputs": [],
   "source": [
    "service.delete()\n",
    "\n",
    "model.delete()"
   ]
  },
  {
   "cell_type": "markdown",
   "metadata": {},
   "source": [
    "**Submission Checklist**\n",
    "- I have registered the model.\n",
    "- I have deployed the model with the best accuracy as a webservice.\n",
    "- I have tested the webservice by sending a request to the model endpoint.\n",
    "- I have deleted the webservice and shutdown all the computes that I have used.\n",
    "- I have taken a screenshot showing the model endpoint as active.\n",
    "- The project includes a file containing the environment details.\n"
   ]
  },
  {
   "cell_type": "markdown",
   "metadata": {},
   "source": []
  }
 ],
 "metadata": {
  "kernel_info": {
   "name": "python38-azureml"
  },
  "kernelspec": {
   "display_name": "Python 3.8 - AzureML",
   "language": "python",
   "name": "python38-azureml"
  },
  "language_info": {
   "codemirror_mode": {
    "name": "ipython",
    "version": 3
   },
   "file_extension": ".py",
   "mimetype": "text/x-python",
   "name": "python",
   "nbconvert_exporter": "python",
   "pygments_lexer": "ipython3",
   "version": "3.8.5"
  },
  "nteract": {
   "version": "nteract-front-end@1.0.0"
  }
 },
 "nbformat": 4,
 "nbformat_minor": 2
}
