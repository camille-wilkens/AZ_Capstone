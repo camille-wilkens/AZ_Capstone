{
 "cells": [
  {
   "cell_type": "markdown",
   "metadata": {},
   "source": [
    "# Automated ML\n",
    "\n",
    "In this notebook, I will perform the following steps:\n",
    "\n",
    "Import Dependencies\n",
    "Create an Experiment in an existing Workspace.\n",
    "Create or Attach existing AmlCompute to a workspace.\n",
    "Define data loading in a TabularDataset.\n",
    "Configure AutoML using AutoMLConfig.\n",
    "Use AutoMLStep\n",
    "Train the model using AmlCompute\n",
    "Explore the results.\n",
    "Test the best fitted model."
   ]
  },
  {
   "cell_type": "markdown",
   "metadata": {},
   "source": [
    "## Import Dependcies\n",
    "\n",
    "TODO: Import Dependencies. In the cell below, import all the dependencies that you will need to complete the project."
   ]
  },
  {
   "cell_type": "code",
   "execution_count": 24,
   "metadata": {
    "gather": {
     "logged": 1598423888013
    },
    "jupyter": {
     "outputs_hidden": false,
     "source_hidden": false
    },
    "nteract": {
     "transient": {
      "deleting": false
     }
    }
   },
   "outputs": [
    {
     "name": "stdout",
     "output_type": "stream",
     "text": [
      "SDK version: 1.39.0\n"
     ]
    }
   ],
   "source": [
    "import logging\n",
    "import os\n",
    "import csv\n",
    "\n",
    "from matplotlib import pyplot as plt\n",
    "import numpy as np\n",
    "import pandas as pd\n",
    "from sklearn import datasets\n",
    "import pkg_resources\n",
    "import json\n",
    "import pickle\n",
    "\n",
    "import azureml.core\n",
    "from azureml.core import Model\n",
    "from azureml.core.environment import Environment\n",
    "from azureml.core.experiment import Experiment\n",
    "from azureml.core.workspace import Workspace\n",
    "from azureml.train.automl import AutoMLConfig\n",
    "from azureml.core.dataset import Dataset\n",
    "\n",
    "from azureml.pipeline.steps import AutoMLStep\n",
    "from azureml.widgets import RunDetails\n",
    "from azureml.core.compute import AmlCompute\n",
    "from azureml.core.compute import ComputeTarget\n",
    "from azureml.core.compute_target import ComputeTargetException\n",
    "from azureml.core.model import Model\n",
    "from azureml.core.webservice import LocalWebservice\n",
    "from azureml.pipeline.core import PipelineData, TrainingOutput\n",
    "from azureml.core.model import Model\n",
    "\n",
    "# Check core SDK version number\n",
    "print(\"SDK version:\", azureml.core.VERSION)\n",
    "\n",
    "import urllib.request\n",
    "\n",
    "\n",
    "import joblib\n",
    "\n"
   ]
  },
  {
   "cell_type": "markdown",
   "metadata": {},
   "source": [
    "## Create an Azure ML experiment"
   ]
  },
  {
   "cell_type": "code",
   "execution_count": 25,
   "metadata": {},
   "outputs": [
    {
     "name": "stdout",
     "output_type": "stream",
     "text": [
      "quick-starts-ws-192174\n",
      "aml-quickstarts-192174\n",
      "southcentralus\n",
      "2c48c51c-bd47-40d4-abbe-fb8eabd19c8c\n"
     ]
    }
   ],
   "source": [
    "ws = Workspace.from_config()\n",
    "\n",
    "# Choose a name for the run history container in the workspace.\n",
    "experiment_name = 'ml-experiment-1'\n",
    "project_folder = './automl-project'\n",
    "\n",
    "experiment = Experiment(ws, experiment_name)\n",
    "print(ws.name, ws.resource_group, ws.location, ws.subscription_id, sep = '\\n')"
   ]
  },
  {
   "cell_type": "markdown",
   "metadata": {},
   "source": [
    "## Create or Attach an AmlCompute cluster"
   ]
  },
  {
   "cell_type": "code",
   "execution_count": 6,
   "metadata": {},
   "outputs": [
    {
     "name": "stdout",
     "output_type": "stream",
     "text": [
      "Found existing cluster, use it.\n",
      "Succeeded......................................................................................................................\n",
      "AmlCompute wait for completion finished\n",
      "\n",
      "Wait timeout has been reached\n",
      "Current provisioning state of AmlCompute is \"Succeeded\" and current node count is \"0\"\n"
     ]
    }
   ],
   "source": [
    "# Choose a name for your CPU cluster\n",
    "amlcompute_cluster_name = \"automl-cluster\"\n",
    "\n",
    "# Verify that cluster does not exist already\n",
    "try:\n",
    "    compute_target = ComputeTarget(workspace=ws, name=amlcompute_cluster_name)\n",
    "    print('Found existing cluster, use it.')\n",
    "except ComputeTargetException:\n",
    "    compute_config = AmlCompute.provisioning_configuration(vm_size='STANDARD_DS12_V2',# for GPU, use \"STANDARD_NC6\"\n",
    "                                                           #vm_priority = 'lowpriority', # optional\n",
    "                                                           max_nodes=4)\n",
    "    compute_target = ComputeTarget.create(ws, amlcompute_cluster_name, compute_config)\n",
    "\n",
    "compute_target.wait_for_completion(show_output=True, min_node_count = 1, timeout_in_minutes = 10)"
   ]
  },
  {
   "cell_type": "markdown",
   "metadata": {},
   "source": [
    "## Dataset\n",
    "\n",
    "### Overview\n",
    "TODO: In this markdown cell, give an overview of the dataset you are using. Also mention the task you will be performing.\n",
    "\n",
    "\n",
    "TODO: Get data. In the cell below, write code to access the data you will be using in this project. Remember that the dataset needs to be external."
   ]
  },
  {
   "cell_type": "code",
   "execution_count": 26,
   "metadata": {},
   "outputs": [
    {
     "data": {
      "text/html": [
       "<div>\n",
       "<style scoped>\n",
       "    .dataframe tbody tr th:only-of-type {\n",
       "        vertical-align: middle;\n",
       "    }\n",
       "\n",
       "    .dataframe tbody tr th {\n",
       "        vertical-align: top;\n",
       "    }\n",
       "\n",
       "    .dataframe thead th {\n",
       "        text-align: right;\n",
       "    }\n",
       "</style>\n",
       "<table border=\"1\" class=\"dataframe\">\n",
       "  <thead>\n",
       "    <tr style=\"text-align: right;\">\n",
       "      <th></th>\n",
       "      <th>age</th>\n",
       "      <th>anaemia</th>\n",
       "      <th>creatinine_phosphokinase</th>\n",
       "      <th>diabetes</th>\n",
       "      <th>ejection_fraction</th>\n",
       "      <th>high_blood_pressure</th>\n",
       "      <th>platelets</th>\n",
       "      <th>serum_creatinine</th>\n",
       "      <th>serum_sodium</th>\n",
       "      <th>sex</th>\n",
       "      <th>smoking</th>\n",
       "      <th>time</th>\n",
       "      <th>DEATH_EVENT</th>\n",
       "    </tr>\n",
       "  </thead>\n",
       "  <tbody>\n",
       "    <tr>\n",
       "      <th>count</th>\n",
       "      <td>299.00</td>\n",
       "      <td>299.00</td>\n",
       "      <td>299.00</td>\n",
       "      <td>299.00</td>\n",
       "      <td>299.00</td>\n",
       "      <td>299.00</td>\n",
       "      <td>299.00</td>\n",
       "      <td>299.00</td>\n",
       "      <td>299.00</td>\n",
       "      <td>299.00</td>\n",
       "      <td>299.00</td>\n",
       "      <td>299.00</td>\n",
       "      <td>299.00</td>\n",
       "    </tr>\n",
       "    <tr>\n",
       "      <th>mean</th>\n",
       "      <td>60.83</td>\n",
       "      <td>0.43</td>\n",
       "      <td>581.84</td>\n",
       "      <td>0.42</td>\n",
       "      <td>38.08</td>\n",
       "      <td>0.35</td>\n",
       "      <td>263358.03</td>\n",
       "      <td>1.39</td>\n",
       "      <td>136.63</td>\n",
       "      <td>0.65</td>\n",
       "      <td>0.32</td>\n",
       "      <td>130.26</td>\n",
       "      <td>0.32</td>\n",
       "    </tr>\n",
       "    <tr>\n",
       "      <th>std</th>\n",
       "      <td>11.89</td>\n",
       "      <td>0.50</td>\n",
       "      <td>970.29</td>\n",
       "      <td>0.49</td>\n",
       "      <td>11.83</td>\n",
       "      <td>0.48</td>\n",
       "      <td>97804.24</td>\n",
       "      <td>1.03</td>\n",
       "      <td>4.41</td>\n",
       "      <td>0.48</td>\n",
       "      <td>0.47</td>\n",
       "      <td>77.61</td>\n",
       "      <td>0.47</td>\n",
       "    </tr>\n",
       "    <tr>\n",
       "      <th>min</th>\n",
       "      <td>40.00</td>\n",
       "      <td>0.00</td>\n",
       "      <td>23.00</td>\n",
       "      <td>0.00</td>\n",
       "      <td>14.00</td>\n",
       "      <td>0.00</td>\n",
       "      <td>25100.00</td>\n",
       "      <td>0.50</td>\n",
       "      <td>113.00</td>\n",
       "      <td>0.00</td>\n",
       "      <td>0.00</td>\n",
       "      <td>4.00</td>\n",
       "      <td>0.00</td>\n",
       "    </tr>\n",
       "    <tr>\n",
       "      <th>25%</th>\n",
       "      <td>51.00</td>\n",
       "      <td>0.00</td>\n",
       "      <td>116.50</td>\n",
       "      <td>0.00</td>\n",
       "      <td>30.00</td>\n",
       "      <td>0.00</td>\n",
       "      <td>212500.00</td>\n",
       "      <td>0.90</td>\n",
       "      <td>134.00</td>\n",
       "      <td>0.00</td>\n",
       "      <td>0.00</td>\n",
       "      <td>73.00</td>\n",
       "      <td>0.00</td>\n",
       "    </tr>\n",
       "    <tr>\n",
       "      <th>50%</th>\n",
       "      <td>60.00</td>\n",
       "      <td>0.00</td>\n",
       "      <td>250.00</td>\n",
       "      <td>0.00</td>\n",
       "      <td>38.00</td>\n",
       "      <td>0.00</td>\n",
       "      <td>262000.00</td>\n",
       "      <td>1.10</td>\n",
       "      <td>137.00</td>\n",
       "      <td>1.00</td>\n",
       "      <td>0.00</td>\n",
       "      <td>115.00</td>\n",
       "      <td>0.00</td>\n",
       "    </tr>\n",
       "    <tr>\n",
       "      <th>75%</th>\n",
       "      <td>70.00</td>\n",
       "      <td>1.00</td>\n",
       "      <td>582.00</td>\n",
       "      <td>1.00</td>\n",
       "      <td>45.00</td>\n",
       "      <td>1.00</td>\n",
       "      <td>303500.00</td>\n",
       "      <td>1.40</td>\n",
       "      <td>140.00</td>\n",
       "      <td>1.00</td>\n",
       "      <td>1.00</td>\n",
       "      <td>203.00</td>\n",
       "      <td>1.00</td>\n",
       "    </tr>\n",
       "    <tr>\n",
       "      <th>max</th>\n",
       "      <td>95.00</td>\n",
       "      <td>1.00</td>\n",
       "      <td>7861.00</td>\n",
       "      <td>1.00</td>\n",
       "      <td>80.00</td>\n",
       "      <td>1.00</td>\n",
       "      <td>850000.00</td>\n",
       "      <td>9.40</td>\n",
       "      <td>148.00</td>\n",
       "      <td>1.00</td>\n",
       "      <td>1.00</td>\n",
       "      <td>285.00</td>\n",
       "      <td>1.00</td>\n",
       "    </tr>\n",
       "  </tbody>\n",
       "</table>\n",
       "</div>"
      ],
      "text/plain": [
       "         age  anaemia  creatinine_phosphokinase  diabetes  ejection_fraction  \\\n",
       "count 299.00   299.00                    299.00    299.00             299.00   \n",
       "mean   60.83     0.43                    581.84      0.42              38.08   \n",
       "std    11.89     0.50                    970.29      0.49              11.83   \n",
       "min    40.00     0.00                     23.00      0.00              14.00   \n",
       "25%    51.00     0.00                    116.50      0.00              30.00   \n",
       "50%    60.00     0.00                    250.00      0.00              38.00   \n",
       "75%    70.00     1.00                    582.00      1.00              45.00   \n",
       "max    95.00     1.00                   7861.00      1.00              80.00   \n",
       "\n",
       "       high_blood_pressure  platelets  serum_creatinine  serum_sodium    sex  \\\n",
       "count               299.00     299.00            299.00        299.00 299.00   \n",
       "mean                  0.35  263358.03              1.39        136.63   0.65   \n",
       "std                   0.48   97804.24              1.03          4.41   0.48   \n",
       "min                   0.00   25100.00              0.50        113.00   0.00   \n",
       "25%                   0.00  212500.00              0.90        134.00   0.00   \n",
       "50%                   0.00  262000.00              1.10        137.00   1.00   \n",
       "75%                   1.00  303500.00              1.40        140.00   1.00   \n",
       "max                   1.00  850000.00              9.40        148.00   1.00   \n",
       "\n",
       "       smoking   time  DEATH_EVENT  \n",
       "count   299.00 299.00       299.00  \n",
       "mean      0.32 130.26         0.32  \n",
       "std       0.47  77.61         0.47  \n",
       "min       0.00   4.00         0.00  \n",
       "25%       0.00  73.00         0.00  \n",
       "50%       0.00 115.00         0.00  \n",
       "75%       1.00 203.00         1.00  \n",
       "max       1.00 285.00         1.00  "
      ]
     },
     "execution_count": 26,
     "metadata": {},
     "output_type": "execute_result"
    }
   ],
   "source": [
    "# Try to load the dataset from the Workspace. Otherwise, create it from the file\n",
    "# NOTE: update the key to match the dataset name\n",
    "found = False\n",
    "key = \"Heart_Prediction_Dataset\"\n",
    "description_text = \"Heart Prediction Dataset\"\n",
    "\n",
    "if key in ws.datasets.keys(): \n",
    "        found = True\n",
    "        dataset = ws.datasets[key] \n",
    "\n",
    "if not found:\n",
    "        # Create AML Dataset and register it into Workspace\n",
    "        example_data = 'https://raw.githubusercontent.com/camille-wilkens/AZ_Capstone/main/heart_failure_clinical_records_dataset.csv'\n",
    "        dataset = Dataset.Tabular.from_delimited_files(example_data)        \n",
    "        #Register Dataset in Workspace\n",
    "        dataset = dataset.register(workspace=ws,\n",
    "                                   name=key,\n",
    "                                   description=description_text)\n",
    "\n",
    "\n",
    "df = dataset.to_pandas_dataframe()\n",
    "df.describe()"
   ]
  },
  {
   "cell_type": "markdown",
   "metadata": {},
   "source": [
    "## Review the Dataset Result"
   ]
  },
  {
   "cell_type": "code",
   "execution_count": 27,
   "metadata": {},
   "outputs": [
    {
     "data": {
      "text/html": [
       "<div>\n",
       "<style scoped>\n",
       "    .dataframe tbody tr th:only-of-type {\n",
       "        vertical-align: middle;\n",
       "    }\n",
       "\n",
       "    .dataframe tbody tr th {\n",
       "        vertical-align: top;\n",
       "    }\n",
       "\n",
       "    .dataframe thead th {\n",
       "        text-align: right;\n",
       "    }\n",
       "</style>\n",
       "<table border=\"1\" class=\"dataframe\">\n",
       "  <thead>\n",
       "    <tr style=\"text-align: right;\">\n",
       "      <th></th>\n",
       "      <th>age</th>\n",
       "      <th>anaemia</th>\n",
       "      <th>creatinine_phosphokinase</th>\n",
       "      <th>diabetes</th>\n",
       "      <th>ejection_fraction</th>\n",
       "      <th>high_blood_pressure</th>\n",
       "      <th>platelets</th>\n",
       "      <th>serum_creatinine</th>\n",
       "      <th>serum_sodium</th>\n",
       "      <th>sex</th>\n",
       "      <th>smoking</th>\n",
       "      <th>time</th>\n",
       "      <th>DEATH_EVENT</th>\n",
       "    </tr>\n",
       "  </thead>\n",
       "  <tbody>\n",
       "    <tr>\n",
       "      <th>0</th>\n",
       "      <td>75.00</td>\n",
       "      <td>0</td>\n",
       "      <td>582</td>\n",
       "      <td>0</td>\n",
       "      <td>20</td>\n",
       "      <td>1</td>\n",
       "      <td>265000.00</td>\n",
       "      <td>1.90</td>\n",
       "      <td>130</td>\n",
       "      <td>1</td>\n",
       "      <td>0</td>\n",
       "      <td>4</td>\n",
       "      <td>1</td>\n",
       "    </tr>\n",
       "    <tr>\n",
       "      <th>1</th>\n",
       "      <td>55.00</td>\n",
       "      <td>0</td>\n",
       "      <td>7861</td>\n",
       "      <td>0</td>\n",
       "      <td>38</td>\n",
       "      <td>0</td>\n",
       "      <td>263358.03</td>\n",
       "      <td>1.10</td>\n",
       "      <td>136</td>\n",
       "      <td>1</td>\n",
       "      <td>0</td>\n",
       "      <td>6</td>\n",
       "      <td>1</td>\n",
       "    </tr>\n",
       "    <tr>\n",
       "      <th>2</th>\n",
       "      <td>65.00</td>\n",
       "      <td>0</td>\n",
       "      <td>146</td>\n",
       "      <td>0</td>\n",
       "      <td>20</td>\n",
       "      <td>0</td>\n",
       "      <td>162000.00</td>\n",
       "      <td>1.30</td>\n",
       "      <td>129</td>\n",
       "      <td>1</td>\n",
       "      <td>1</td>\n",
       "      <td>7</td>\n",
       "      <td>1</td>\n",
       "    </tr>\n",
       "    <tr>\n",
       "      <th>3</th>\n",
       "      <td>50.00</td>\n",
       "      <td>1</td>\n",
       "      <td>111</td>\n",
       "      <td>0</td>\n",
       "      <td>20</td>\n",
       "      <td>0</td>\n",
       "      <td>210000.00</td>\n",
       "      <td>1.90</td>\n",
       "      <td>137</td>\n",
       "      <td>1</td>\n",
       "      <td>0</td>\n",
       "      <td>7</td>\n",
       "      <td>1</td>\n",
       "    </tr>\n",
       "    <tr>\n",
       "      <th>4</th>\n",
       "      <td>65.00</td>\n",
       "      <td>1</td>\n",
       "      <td>160</td>\n",
       "      <td>1</td>\n",
       "      <td>20</td>\n",
       "      <td>0</td>\n",
       "      <td>327000.00</td>\n",
       "      <td>2.70</td>\n",
       "      <td>116</td>\n",
       "      <td>0</td>\n",
       "      <td>0</td>\n",
       "      <td>8</td>\n",
       "      <td>1</td>\n",
       "    </tr>\n",
       "  </tbody>\n",
       "</table>\n",
       "</div>"
      ],
      "text/plain": [
       "    age  anaemia  creatinine_phosphokinase  diabetes  ejection_fraction  \\\n",
       "0 75.00        0                       582         0                 20   \n",
       "1 55.00        0                      7861         0                 38   \n",
       "2 65.00        0                       146         0                 20   \n",
       "3 50.00        1                       111         0                 20   \n",
       "4 65.00        1                       160         1                 20   \n",
       "\n",
       "   high_blood_pressure  platelets  serum_creatinine  serum_sodium  sex  \\\n",
       "0                    1  265000.00              1.90           130    1   \n",
       "1                    0  263358.03              1.10           136    1   \n",
       "2                    0  162000.00              1.30           129    1   \n",
       "3                    0  210000.00              1.90           137    1   \n",
       "4                    0  327000.00              2.70           116    0   \n",
       "\n",
       "   smoking  time  DEATH_EVENT  \n",
       "0        0     4            1  \n",
       "1        0     6            1  \n",
       "2        1     7            1  \n",
       "3        0     7            1  \n",
       "4        0     8            1  "
      ]
     },
     "execution_count": 27,
     "metadata": {},
     "output_type": "execute_result"
    }
   ],
   "source": [
    "dataset.take(5).to_pandas_dataframe()"
   ]
  },
  {
   "cell_type": "markdown",
   "metadata": {},
   "source": [
    "## AutoML Configuration\n",
    "\n",
    "TODO: Explain why you chose the automl settings and cofiguration you used below."
   ]
  },
  {
   "cell_type": "code",
   "execution_count": 28,
   "metadata": {
    "gather": {
     "logged": 1598429217746
    },
    "jupyter": {
     "outputs_hidden": false,
     "source_hidden": false
    },
    "nteract": {
     "transient": {
      "deleting": false
     }
    }
   },
   "outputs": [],
   "source": [
    "# TODO: Put your automl settings here\n",
    "automl_settings = {\n",
    "    \"experiment_timeout_minutes\": 30,\n",
    "    \"max_concurrent_iterations\": 5,\n",
    "     \"n_cross_validations\": 25,\n",
    "     \"primary_metric\" : 'AUC_weighted'\n",
    "}\n",
    " #   \"primary_metric\" : 'AUC_weighted'\n",
    "# TODO: Put your automl config here\n",
    "automl_config = AutoMLConfig(compute_target=compute_target,\n",
    "                             task = \"classification\",\n",
    "                             training_data=dataset,\n",
    "                             label_column_name=\"DEATH_EVENT\",   \n",
    "                             enable_early_stopping= True,\n",
    "                             featurization= 'auto',\n",
    "                             debug_log = \"automl_errors.log\",\n",
    "                             **automl_settings\n",
    "                            )"
   ]
  },
  {
   "cell_type": "markdown",
   "metadata": {},
   "source": [
    "## Run Details\n",
    "\n",
    "OPTIONAL: Write about the different models trained and their performance. Why do you think some models did better than others?\n",
    "\n",
    "TODO: In the cell below, use the `RunDetails` widget to show the different experiments."
   ]
  },
  {
   "cell_type": "code",
   "execution_count": 29,
   "metadata": {},
   "outputs": [
    {
     "name": "stdout",
     "output_type": "stream",
     "text": [
      "Submitting remote run.\n"
     ]
    },
    {
     "data": {
      "text/html": [
       "<table style=\"width:100%\"><tr><th>Experiment</th><th>Id</th><th>Type</th><th>Status</th><th>Details Page</th><th>Docs Page</th></tr><tr><td>ml-experiment-1</td><td>AutoML_4cde3cab-81ac-44bf-b019-7a1ebec0790a</td><td>automl</td><td>NotStarted</td><td><a href=\"https://ml.azure.com/runs/AutoML_4cde3cab-81ac-44bf-b019-7a1ebec0790a?wsid=/subscriptions/2c48c51c-bd47-40d4-abbe-fb8eabd19c8c/resourcegroups/aml-quickstarts-192174/workspaces/quick-starts-ws-192174&amp;tid=660b3398-b80e-49d2-bc5b-ac1dc93b5254\" target=\"_blank\" rel=\"noopener\">Link to Azure Machine Learning studio</a></td><td><a href=\"https://docs.microsoft.com/en-us/python/api/overview/azure/ml/intro?view=azure-ml-py\" target=\"_blank\" rel=\"noopener\">Link to Documentation</a></td></tr></table>"
      ],
      "text/plain": [
       "<IPython.core.display.HTML object>"
      ]
     },
     "metadata": {},
     "output_type": "display_data"
    }
   ],
   "source": [
    "# TODO: Submit your experiment\n",
    "remote_run = experiment.submit(automl_config)\n"
   ]
  },
  {
   "cell_type": "code",
   "execution_count": 30,
   "metadata": {},
   "outputs": [
    {
     "data": {
      "application/vnd.jupyter.widget-view+json": {
       "model_id": "0102f7e58c654155b57c1f005c209e18",
       "version_major": 2,
       "version_minor": 0
      },
      "text/plain": [
       "_AutoMLWidget(widget_settings={'childWidgetDisplay': 'popup', 'send_telemetry': False, 'log_level': 'INFO', 's…"
      ]
     },
     "metadata": {},
     "output_type": "display_data"
    },
    {
     "data": {
      "application/aml.mini.widget.v1": "{\"status\": \"Completed\", \"workbench_run_details_uri\": \"https://ml.azure.com/runs/AutoML_4cde3cab-81ac-44bf-b019-7a1ebec0790a?wsid=/subscriptions/2c48c51c-bd47-40d4-abbe-fb8eabd19c8c/resourcegroups/aml-quickstarts-192174/workspaces/quick-starts-ws-192174&tid=660b3398-b80e-49d2-bc5b-ac1dc93b5254\", \"run_id\": \"AutoML_4cde3cab-81ac-44bf-b019-7a1ebec0790a\", \"run_properties\": {\"run_id\": \"AutoML_4cde3cab-81ac-44bf-b019-7a1ebec0790a\", \"created_utc\": \"2022-04-15T18:09:26.812824Z\", \"properties\": {\"num_iterations\": \"1000\", \"training_type\": \"TrainFull\", \"acquisition_function\": \"EI\", \"primary_metric\": \"AUC_weighted\", \"train_split\": \"0\", \"acquisition_parameter\": \"0\", \"num_cross_validation\": \"25\", \"target\": \"automl-cluster\", \"AMLSettingsJsonString\": \"{\\\"path\\\":null,\\\"name\\\":\\\"ml-experiment-1\\\",\\\"subscription_id\\\":\\\"2c48c51c-bd47-40d4-abbe-fb8eabd19c8c\\\",\\\"resource_group\\\":\\\"aml-quickstarts-192174\\\",\\\"workspace_name\\\":\\\"quick-starts-ws-192174\\\",\\\"region\\\":\\\"southcentralus\\\",\\\"compute_target\\\":\\\"automl-cluster\\\",\\\"spark_service\\\":null,\\\"azure_service\\\":\\\"remote\\\",\\\"many_models\\\":false,\\\"pipeline_fetch_max_batch_size\\\":1,\\\"enable_batch_run\\\":true,\\\"enable_run_restructure\\\":false,\\\"start_auxiliary_runs_before_parent_complete\\\":false,\\\"enable_code_generation\\\":false,\\\"iterations\\\":1000,\\\"primary_metric\\\":\\\"AUC_weighted\\\",\\\"task_type\\\":\\\"classification\\\",\\\"positive_label\\\":null,\\\"data_script\\\":null,\\\"test_size\\\":0.0,\\\"test_include_predictions_only\\\":false,\\\"validation_size\\\":0.0,\\\"n_cross_validations\\\":25,\\\"y_min\\\":null,\\\"y_max\\\":null,\\\"num_classes\\\":null,\\\"featurization\\\":\\\"auto\\\",\\\"_ignore_package_version_incompatibilities\\\":false,\\\"is_timeseries\\\":false,\\\"max_cores_per_iteration\\\":1,\\\"max_concurrent_iterations\\\":5,\\\"iteration_timeout_minutes\\\":null,\\\"mem_in_mb\\\":null,\\\"enforce_time_on_windows\\\":false,\\\"experiment_timeout_minutes\\\":30,\\\"experiment_exit_score\\\":null,\\\"partition_column_names\\\":null,\\\"whitelist_models\\\":null,\\\"blacklist_algos\\\":[\\\"TensorFlowLinearClassifier\\\",\\\"TensorFlowDNN\\\"],\\\"supported_models\\\":[\\\"TensorFlowDNN\\\",\\\"TabnetClassifier\\\",\\\"DecisionTree\\\",\\\"KNN\\\",\\\"LinearSVM\\\",\\\"SGD\\\",\\\"SVM\\\",\\\"XGBoostClassifier\\\",\\\"BernoulliNaiveBayes\\\",\\\"ExtremeRandomTrees\\\",\\\"AveragedPerceptronClassifier\\\",\\\"GradientBoosting\\\",\\\"LogisticRegression\\\",\\\"MultinomialNaiveBayes\\\",\\\"TensorFlowLinearClassifier\\\",\\\"LightGBM\\\",\\\"RandomForest\\\"],\\\"private_models\\\":[],\\\"auto_blacklist\\\":true,\\\"blacklist_samples_reached\\\":false,\\\"exclude_nan_labels\\\":true,\\\"verbosity\\\":20,\\\"_debug_log\\\":\\\"azureml_automl.log\\\",\\\"show_warnings\\\":false,\\\"model_explainability\\\":true,\\\"service_url\\\":null,\\\"sdk_url\\\":null,\\\"sdk_packages\\\":null,\\\"enable_onnx_compatible_models\\\":false,\\\"enable_split_onnx_featurizer_estimator_models\\\":false,\\\"vm_type\\\":\\\"STANDARD_DS12_V2\\\",\\\"telemetry_verbosity\\\":20,\\\"send_telemetry\\\":true,\\\"enable_dnn\\\":false,\\\"scenario\\\":\\\"SDK-1.13.0\\\",\\\"environment_label\\\":null,\\\"save_mlflow\\\":false,\\\"enable_categorical_indicators\\\":false,\\\"force_text_dnn\\\":false,\\\"enable_feature_sweeping\\\":true,\\\"enable_early_stopping\\\":true,\\\"early_stopping_n_iters\\\":10,\\\"arguments\\\":null,\\\"dataset_id\\\":\\\"b8ef73bd-e25a-4979-9b85-5b18a49a745c\\\",\\\"hyperdrive_config\\\":null,\\\"validation_dataset_id\\\":null,\\\"run_source\\\":null,\\\"metrics\\\":null,\\\"enable_metric_confidence\\\":false,\\\"enable_ensembling\\\":true,\\\"enable_stack_ensembling\\\":true,\\\"ensemble_iterations\\\":15,\\\"enable_tf\\\":false,\\\"enable_subsampling\\\":null,\\\"subsample_seed\\\":null,\\\"enable_nimbusml\\\":false,\\\"enable_streaming\\\":false,\\\"force_streaming\\\":false,\\\"track_child_runs\\\":true,\\\"allowed_private_models\\\":[],\\\"label_column_name\\\":\\\"DEATH_EVENT\\\",\\\"weight_column_name\\\":null,\\\"cv_split_column_names\\\":null,\\\"enable_local_managed\\\":false,\\\"_local_managed_run_id\\\":null,\\\"cost_mode\\\":1,\\\"lag_length\\\":0,\\\"metric_operation\\\":\\\"maximize\\\",\\\"preprocess\\\":true}\", \"DataPrepJsonString\": \"{\\\\\\\"training_data\\\\\\\": {\\\\\\\"datasetId\\\\\\\": \\\\\\\"b8ef73bd-e25a-4979-9b85-5b18a49a745c\\\\\\\"}, \\\\\\\"datasets\\\\\\\": 0}\", \"EnableSubsampling\": null, \"runTemplate\": \"AutoML\", \"azureml.runsource\": \"automl\", \"display_task_type\": \"classification\", \"dependencies_versions\": \"{\\\"azureml-widgets\\\": \\\"1.39.0\\\", \\\"azureml-training-tabular\\\": \\\"1.39.0\\\", \\\"azureml-train\\\": \\\"1.39.0\\\", \\\"azureml-train-restclients-hyperdrive\\\": \\\"1.39.0\\\", \\\"azureml-train-core\\\": \\\"1.39.0\\\", \\\"azureml-train-automl\\\": \\\"1.39.0\\\", \\\"azureml-train-automl-runtime\\\": \\\"1.39.0\\\", \\\"azureml-train-automl-client\\\": \\\"1.39.0\\\", \\\"azureml-tensorboard\\\": \\\"1.39.0\\\", \\\"azureml-telemetry\\\": \\\"1.39.0\\\", \\\"azureml-sdk\\\": \\\"1.39.0\\\", \\\"azureml-samples\\\": \\\"0+unknown\\\", \\\"azureml-responsibleai\\\": \\\"1.39.0\\\", \\\"azureml-pipeline\\\": \\\"1.39.0\\\", \\\"azureml-pipeline-steps\\\": \\\"1.39.0\\\", \\\"azureml-pipeline-core\\\": \\\"1.39.0\\\", \\\"azureml-opendatasets\\\": \\\"1.39.0\\\", \\\"azureml-mlflow\\\": \\\"1.39.0\\\", \\\"azureml-interpret\\\": \\\"1.39.0\\\", \\\"azureml-inference-server-http\\\": \\\"0.4.10\\\", \\\"azureml-explain-model\\\": \\\"1.39.0\\\", \\\"azureml-defaults\\\": \\\"1.39.0\\\", \\\"azureml-dataset-runtime\\\": \\\"1.39.0\\\", \\\"azureml-dataprep\\\": \\\"2.27.1\\\", \\\"azureml-dataprep-rslex\\\": \\\"2.3.1\\\", \\\"azureml-dataprep-native\\\": \\\"38.0.0\\\", \\\"azureml-datadrift\\\": \\\"1.39.0\\\", \\\"azureml-core\\\": \\\"1.39.0\\\", \\\"azureml-contrib-services\\\": \\\"1.39.0\\\", \\\"azureml-contrib-server\\\": \\\"1.39.0\\\", \\\"azureml-contrib-reinforcementlearning\\\": \\\"1.39.0\\\", \\\"azureml-contrib-pipeline-steps\\\": \\\"1.39.0\\\", \\\"azureml-contrib-notebook\\\": \\\"1.39.0\\\", \\\"azureml-contrib-fairness\\\": \\\"1.39.0\\\", \\\"azureml-contrib-dataset\\\": \\\"1.39.0\\\", \\\"azureml-contrib-automl-pipeline-steps\\\": \\\"1.39.0\\\", \\\"azureml-cli-common\\\": \\\"1.39.0\\\", \\\"azureml-automl-runtime\\\": \\\"1.39.0\\\", \\\"azureml-automl-dnn-nlp\\\": \\\"1.39.0\\\", \\\"azureml-automl-core\\\": \\\"1.39.0\\\", \\\"azureml-accel-models\\\": \\\"1.39.0\\\"}\", \"_aml_system_scenario_identification\": \"Remote.Parent\", \"ClientType\": \"SDK\", \"environment_cpu_name\": \"AzureML-AutoML\", \"environment_cpu_label\": \"prod\", \"environment_gpu_name\": \"AzureML-AutoML-GPU\", \"environment_gpu_label\": \"prod\", \"root_attribution\": \"automl\", \"attribution\": \"AutoML\", \"Orchestrator\": \"AutoML\", \"CancelUri\": \"https://southcentralus.api.azureml.ms/jasmine/v1.0/subscriptions/2c48c51c-bd47-40d4-abbe-fb8eabd19c8c/resourceGroups/aml-quickstarts-192174/providers/Microsoft.MachineLearningServices/workspaces/quick-starts-ws-192174/experimentids/c3771a42-e506-46f5-b24b-124b90228704/cancel/AutoML_4cde3cab-81ac-44bf-b019-7a1ebec0790a\", \"azureml.git.repository_uri\": \"https://github.com/camille-wilkens/AZ_Capstone.git\", \"mlflow.source.git.repoURL\": \"https://github.com/camille-wilkens/AZ_Capstone.git\", \"azureml.git.branch\": \"main\", \"mlflow.source.git.branch\": \"main\", \"azureml.git.commit\": \"7dbbb227e0fef08ad56a292a82af5125f8b185c5\", \"mlflow.source.git.commit\": \"7dbbb227e0fef08ad56a292a82af5125f8b185c5\", \"azureml.git.dirty\": \"True\", \"ClientSdkVersion\": \"1.40.0.post1\", \"snapshotId\": \"00000000-0000-0000-0000-000000000000\", \"SetupRunId\": \"AutoML_4cde3cab-81ac-44bf-b019-7a1ebec0790a_setup\", \"SetupRunContainerId\": \"dcid.AutoML_4cde3cab-81ac-44bf-b019-7a1ebec0790a_setup\", \"FeaturizationRunJsonPath\": \"featurizer_container.json\", \"FeaturizationRunId\": \"AutoML_4cde3cab-81ac-44bf-b019-7a1ebec0790a_featurize\", \"ProblemInfoJsonString\": \"{\\\"dataset_num_categorical\\\": 0, \\\"is_sparse\\\": false, \\\"subsampling\\\": false, \\\"has_extra_col\\\": true, \\\"dataset_classes\\\": 2, \\\"dataset_features\\\": 12, \\\"dataset_samples\\\": 299, \\\"single_frequency_class_detected\\\": false}\", \"ModelExplainRunId\": \"AutoML_4cde3cab-81ac-44bf-b019-7a1ebec0790a_ModelExplain\"}, \"tags\": {\"model_explain_run\": \"best_run\", \"_aml_system_automl_run_workspace_id\": \"36c39d8c-a019-4a6a-b2b0-c197689c3802\", \"_aml_system_azureml.automlComponent\": \"AutoML\", \"pipeline_id\": \"\", \"score\": \"\", \"predicted_cost\": \"\", \"fit_time\": \"\", \"training_percent\": \"\", \"iteration\": \"\", \"run_preprocessor\": \"\", \"run_algorithm\": \"\", \"dynamic_allowlisting_iterations\": \"<24>;<30>;<35>;<40>;<45>;\", \"_aml_system_azureml.automl_early_exit_message\": \"No scores improved over last 20 iterations, so experiment stopped early. This early stopping behavior can be disabled by setting enable_early_stopping = False in AutoMLConfig for notebook/python SDK runs.\", \"automl_best_child_run_id\": \"AutoML_4cde3cab-81ac-44bf-b019-7a1ebec0790a_48\", \"model_explain_best_run_child_id\": \"AutoML_4cde3cab-81ac-44bf-b019-7a1ebec0790a_48\"}, \"end_time_utc\": \"2022-04-15T18:32:43.439137Z\", \"status\": \"Completed\", \"log_files\": {}, \"log_groups\": [], \"run_duration\": \"0:23:16\", \"run_number\": \"1650046166\", \"run_queued_details\": {\"status\": \"Completed\", \"details\": null}}, \"child_runs\": [{\"run_id\": \"AutoML_4cde3cab-81ac-44bf-b019-7a1ebec0790a_setup\", \"run_number\": 1650046180, \"metric\": null, \"status\": \"Completed\", \"run_type\": \"azureml.scriptrun\", \"training_percent\": null, \"start_time\": \"2022-04-15T18:13:27.584508Z\", \"end_time\": \"2022-04-15T18:13:31.234634Z\", \"created_time\": \"2022-04-15T18:09:40.67345Z\", \"created_time_dt\": \"2022-04-15T18:09:40.67345Z\", \"duration\": \"0:03:50\", \"iteration\": null, \"goal\": null, \"run_name\": \"Completed\", \"run_properties\": null}, {\"run_id\": \"AutoML_4cde3cab-81ac-44bf-b019-7a1ebec0790a_featurize\", \"run_number\": 1650046411, \"metric\": null, \"status\": \"Completed\", \"run_type\": \"automl.featurization\", \"training_percent\": null, \"start_time\": \"2022-04-15T18:13:31.89664Z\", \"end_time\": \"2022-04-15T18:14:12.971236Z\", \"created_time\": \"2022-04-15T18:13:31.526412Z\", \"created_time_dt\": \"2022-04-15T18:13:31.526412Z\", \"duration\": \"0:00:41\", \"iteration\": null, \"goal\": null, \"run_name\": \"Completed\", \"run_properties\": null}, {\"run_id\": \"AutoML_4cde3cab-81ac-44bf-b019-7a1ebec0790a_0\", \"run_number\": 1650046454, \"metric\": null, \"status\": \"Completed\", \"run_type\": null, \"training_percent\": \"100\", \"start_time\": \"2022-04-15T18:14:26.969604Z\", \"end_time\": \"2022-04-15T18:14:43.712578Z\", \"created_time\": \"2022-04-15T18:14:14.191641Z\", \"created_time_dt\": \"2022-04-15T18:14:14.191641Z\", \"duration\": \"0:00:29\", \"iteration\": \"0\", \"goal\": \"AUC_weighted_max\", \"run_name\": \"MaxAbsScaler, LightGBM\", \"run_properties\": \"copy=True\", \"primary_metric\": 0.9038664, \"best_metric\": 0.9038664}, {\"run_id\": \"AutoML_4cde3cab-81ac-44bf-b019-7a1ebec0790a_3\", \"run_number\": 1650046455, \"metric\": null, \"status\": \"Completed\", \"run_type\": null, \"training_percent\": \"100\", \"start_time\": \"2022-04-15T18:15:17.335004Z\", \"end_time\": \"2022-04-15T18:15:33.342226Z\", \"created_time\": \"2022-04-15T18:14:15.293325Z\", \"created_time_dt\": \"2022-04-15T18:14:15.293325Z\", \"duration\": \"0:01:18\", \"iteration\": \"3\", \"goal\": \"AUC_weighted_max\", \"run_name\": \"MaxAbsScaler, RandomForest\", \"run_properties\": \"copy=True\", \"primary_metric\": 0.89760582, \"best_metric\": 0.9038664}, {\"run_id\": \"AutoML_4cde3cab-81ac-44bf-b019-7a1ebec0790a_5\", \"run_number\": 1650046456, \"metric\": null, \"status\": \"Completed\", \"run_type\": null, \"training_percent\": \"100\", \"start_time\": \"2022-04-15T18:17:09.904424Z\", \"end_time\": \"2022-04-15T18:17:26.257621Z\", \"created_time\": \"2022-04-15T18:14:16.275047Z\", \"created_time_dt\": \"2022-04-15T18:14:16.275047Z\", \"duration\": \"0:03:09\", \"iteration\": \"5\", \"goal\": \"AUC_weighted_max\", \"run_name\": \"StandardScalerWrapper, KNN\", \"run_properties\": \"copy=True, with_mean=True, with_std=False\", \"primary_metric\": 0.5179525, \"best_metric\": 0.9038664}, {\"run_id\": \"AutoML_4cde3cab-81ac-44bf-b019-7a1ebec0790a_worker_1\", \"run_number\": 1650046457, \"metric\": null, \"status\": \"Completed\", \"run_type\": \"azureml.scriptrun\", \"training_percent\": null, \"start_time\": \"2022-04-15T18:16:20.037342Z\", \"end_time\": \"2022-04-15T18:18:11.342311Z\", \"created_time\": \"2022-04-15T18:14:17.251756Z\", \"created_time_dt\": \"2022-04-15T18:14:17.251756Z\", \"duration\": \"0:03:54\", \"iteration\": null, \"goal\": null, \"run_name\": \"Completed\", \"run_properties\": null}, {\"run_id\": \"AutoML_4cde3cab-81ac-44bf-b019-7a1ebec0790a_12\", \"run_number\": 1650046458, \"metric\": null, \"status\": \"Completed\", \"run_type\": null, \"training_percent\": \"100\", \"start_time\": \"2022-04-15T18:15:53.123949Z\", \"end_time\": \"2022-04-15T18:16:09.270234Z\", \"created_time\": \"2022-04-15T18:14:18.891814Z\", \"created_time_dt\": \"2022-04-15T18:14:18.891814Z\", \"duration\": \"0:01:50\", \"iteration\": \"12\", \"goal\": \"AUC_weighted_max\", \"run_name\": \"StandardScalerWrapper, XGBoostClassifier\", \"run_properties\": \"copy=True, with_mean=False, with_std=False\", \"primary_metric\": 0.86246813, \"best_metric\": 0.9038664}, {\"run_id\": \"AutoML_4cde3cab-81ac-44bf-b019-7a1ebec0790a_13\", \"run_number\": 1650046459, \"metric\": null, \"status\": \"Completed\", \"run_type\": null, \"training_percent\": \"100\", \"start_time\": \"2022-04-15T18:16:09.463084Z\", \"end_time\": \"2022-04-15T18:16:24.996667Z\", \"created_time\": \"2022-04-15T18:14:19.250194Z\", \"created_time_dt\": \"2022-04-15T18:14:19.250194Z\", \"duration\": \"0:02:05\", \"iteration\": \"13\", \"goal\": \"AUC_weighted_max\", \"run_name\": \"SparseNormalizer, KNN\", \"run_properties\": \"copy=True, norm='max'\", \"primary_metric\": 0.74858123, \"best_metric\": 0.9038664}, {\"run_id\": \"AutoML_4cde3cab-81ac-44bf-b019-7a1ebec0790a_worker_3\", \"run_number\": 1650046460, \"metric\": null, \"status\": \"Completed\", \"run_type\": \"azureml.scriptrun\", \"training_percent\": null, \"start_time\": \"2022-04-15T18:16:58.769363Z\", \"end_time\": \"2022-04-15T18:17:02.472815Z\", \"created_time\": \"2022-04-15T18:14:20.210417Z\", \"created_time_dt\": \"2022-04-15T18:14:20.210417Z\", \"duration\": \"0:02:42\", \"iteration\": null, \"goal\": null, \"run_name\": \"Completed\", \"run_properties\": null}, {\"run_id\": \"AutoML_4cde3cab-81ac-44bf-b019-7a1ebec0790a_18\", \"run_number\": 1650046461, \"metric\": null, \"status\": \"Completed\", \"run_type\": null, \"training_percent\": \"100\", \"start_time\": \"2022-04-15T18:17:52.396217Z\", \"end_time\": \"2022-04-15T18:18:08.089559Z\", \"created_time\": \"2022-04-15T18:14:21.013341Z\", \"created_time_dt\": \"2022-04-15T18:14:21.013341Z\", \"duration\": \"0:03:47\", \"iteration\": \"18\", \"goal\": \"AUC_weighted_max\", \"run_name\": \"SparseNormalizer, LightGBM\", \"run_properties\": \"copy=True, norm='l1'\", \"primary_metric\": 0.87922222, \"best_metric\": 0.9038664}, {\"run_id\": \"AutoML_4cde3cab-81ac-44bf-b019-7a1ebec0790a_21\", \"run_number\": 1650046677, \"metric\": null, \"status\": \"Completed\", \"run_type\": \"azureml.scriptrun\", \"training_percent\": \"100\", \"start_time\": \"2022-04-15T18:18:53.027248Z\", \"end_time\": \"2022-04-15T18:18:56.741467Z\", \"created_time\": \"2022-04-15T18:17:57.216519Z\", \"created_time_dt\": \"2022-04-15T18:17:57.216519Z\", \"duration\": \"0:00:59\", \"iteration\": \"21\", \"goal\": \"AUC_weighted_max\", \"run_name\": \"StandardScalerWrapper, RandomForest\", \"run_properties\": \"copy=True, with_mean=False, with_std=False\", \"primary_metric\": 0.89417593, \"best_metric\": 0.9038664}, {\"run_id\": \"AutoML_4cde3cab-81ac-44bf-b019-7a1ebec0790a_22\", \"run_number\": 1650046689, \"metric\": null, \"status\": \"Completed\", \"run_type\": \"azureml.scriptrun\", \"training_percent\": \"100\", \"start_time\": \"2022-04-15T18:18:48.8269Z\", \"end_time\": \"2022-04-15T18:18:52.457093Z\", \"created_time\": \"2022-04-15T18:18:09.090333Z\", \"created_time_dt\": \"2022-04-15T18:18:09.090333Z\", \"duration\": \"0:00:43\", \"iteration\": \"22\", \"goal\": \"AUC_weighted_max\", \"run_name\": \"MaxAbsScaler, LightGBM\", \"run_properties\": \"copy=True\", \"primary_metric\": 0.89917063, \"best_metric\": 0.9038664}, {\"run_id\": \"AutoML_4cde3cab-81ac-44bf-b019-7a1ebec0790a_23\", \"run_number\": 1650046722, \"metric\": null, \"status\": \"Completed\", \"run_type\": \"azureml.scriptrun\", \"training_percent\": \"100\", \"start_time\": \"2022-04-15T18:20:39.800721Z\", \"end_time\": \"2022-04-15T18:20:43.470426Z\", \"created_time\": \"2022-04-15T18:18:42.413669Z\", \"created_time_dt\": \"2022-04-15T18:18:42.413669Z\", \"duration\": \"0:02:01\", \"iteration\": \"23\", \"goal\": \"AUC_weighted_max\", \"run_name\": \"MaxAbsScaler, LogisticRegression\", \"run_properties\": \"copy=True\", \"primary_metric\": 0.8573545, \"best_metric\": 0.9038664}, {\"run_id\": \"AutoML_4cde3cab-81ac-44bf-b019-7a1ebec0790a_24\", \"run_number\": 1650046737, \"metric\": null, \"status\": \"Completed\", \"run_type\": \"azureml.scriptrun\", \"training_percent\": \"100\", \"start_time\": \"2022-04-15T18:20:53.938811Z\", \"end_time\": \"2022-04-15T18:20:57.628332Z\", \"created_time\": \"2022-04-15T18:18:57.440239Z\", \"created_time_dt\": \"2022-04-15T18:18:57.440239Z\", \"duration\": \"0:02:00\", \"iteration\": \"24\", \"goal\": \"AUC_weighted_max\", \"run_name\": \"StandardScalerWrapper, XGBoostClassifier\", \"run_properties\": \"copy=True, with_mean=False, with_std=False\", \"primary_metric\": 0.87492328, \"best_metric\": 0.9038664}, {\"run_id\": \"AutoML_4cde3cab-81ac-44bf-b019-7a1ebec0790a_26\", \"run_number\": 1650046739, \"metric\": null, \"status\": \"Completed\", \"run_type\": \"azureml.scriptrun\", \"training_percent\": \"100\", \"start_time\": \"2022-04-15T18:20:49.07814Z\", \"end_time\": \"2022-04-15T18:20:52.791908Z\", \"created_time\": \"2022-04-15T18:18:59.685931Z\", \"created_time_dt\": \"2022-04-15T18:18:59.685931Z\", \"duration\": \"0:01:53\", \"iteration\": \"26\", \"goal\": \"AUC_weighted_max\", \"run_name\": \"StandardScalerWrapper, LogisticRegression\", \"run_properties\": \"copy=True, with_mean=False, with_std=True\", \"primary_metric\": 0.86760185, \"best_metric\": 0.9038664}, {\"run_id\": \"AutoML_4cde3cab-81ac-44bf-b019-7a1ebec0790a_27\", \"run_number\": 1650046776, \"metric\": null, \"status\": \"Completed\", \"run_type\": \"azureml.scriptrun\", \"training_percent\": \"100\", \"start_time\": \"2022-04-15T18:22:35.676611Z\", \"end_time\": \"2022-04-15T18:22:39.354627Z\", \"created_time\": \"2022-04-15T18:19:36.24278Z\", \"created_time_dt\": \"2022-04-15T18:19:36.24278Z\", \"duration\": \"0:03:03\", \"iteration\": \"27\", \"goal\": \"AUC_weighted_max\", \"run_name\": \"MinMaxScaler, RandomForest\", \"run_properties\": \"copy=True, feature_range=(0, 1\", \"primary_metric\": 0.89660053, \"best_metric\": 0.9038664}, {\"run_id\": \"AutoML_4cde3cab-81ac-44bf-b019-7a1ebec0790a_28\", \"run_number\": 1650046845, \"metric\": null, \"status\": \"Completed\", \"run_type\": \"azureml.scriptrun\", \"training_percent\": \"100\", \"start_time\": \"2022-04-15T18:23:12.018983Z\", \"end_time\": \"2022-04-15T18:23:15.748186Z\", \"created_time\": \"2022-04-15T18:20:45.021684Z\", \"created_time_dt\": \"2022-04-15T18:20:45.021684Z\", \"duration\": \"0:02:30\", \"iteration\": \"28\", \"goal\": \"AUC_weighted_max\", \"run_name\": \"MaxAbsScaler, ExtremeRandomTrees\", \"run_properties\": \"copy=True\", \"primary_metric\": 0.86679497, \"best_metric\": 0.9038664}, {\"run_id\": \"AutoML_4cde3cab-81ac-44bf-b019-7a1ebec0790a_29\", \"run_number\": 1650046854, \"metric\": null, \"status\": \"Completed\", \"run_type\": \"azureml.scriptrun\", \"training_percent\": \"100\", \"start_time\": \"2022-04-15T18:22:50.805813Z\", \"end_time\": \"2022-04-15T18:22:54.447275Z\", \"created_time\": \"2022-04-15T18:20:54.214602Z\", \"created_time_dt\": \"2022-04-15T18:20:54.214602Z\", \"duration\": \"0:02:00\", \"iteration\": \"29\", \"goal\": \"AUC_weighted_max\", \"run_name\": \"RobustScaler, SVM\", \"run_properties\": \"copy=True, quantile_range=[10, 90], with_centering=False,\\n             with_scaling=True\", \"primary_metric\": 0.80741667, \"best_metric\": 0.9038664}, {\"run_id\": \"AutoML_4cde3cab-81ac-44bf-b019-7a1ebec0790a_30\", \"run_number\": 1650046860, \"metric\": null, \"status\": \"Completed\", \"run_type\": \"azureml.scriptrun\", \"training_percent\": \"100\", \"start_time\": \"2022-04-15T18:22:53.225621Z\", \"end_time\": \"2022-04-15T18:22:56.901333Z\", \"created_time\": \"2022-04-15T18:21:00.052648Z\", \"created_time_dt\": \"2022-04-15T18:21:00.052648Z\", \"duration\": \"0:01:56\", \"iteration\": \"30\", \"goal\": \"AUC_weighted_max\", \"run_name\": \"StandardScalerWrapper, XGBoostClassifier\", \"run_properties\": \"copy=True, with_mean=False, with_std=False\", \"primary_metric\": 0.91649471, \"best_metric\": 0.91649471}, {\"run_id\": \"AutoML_4cde3cab-81ac-44bf-b019-7a1ebec0790a_31\", \"run_number\": 1650046862, \"metric\": null, \"status\": \"Completed\", \"run_type\": \"azureml.scriptrun\", \"training_percent\": \"100\", \"start_time\": \"2022-04-15T18:24:38.652529Z\", \"end_time\": \"2022-04-15T18:24:42.330199Z\", \"created_time\": \"2022-04-15T18:21:02.312941Z\", \"created_time_dt\": \"2022-04-15T18:21:02.312941Z\", \"duration\": \"0:03:40\", \"iteration\": \"31\", \"goal\": \"AUC_weighted_max\", \"run_name\": \"MaxAbsScaler, RandomForest\", \"run_properties\": \"copy=True\", \"primary_metric\": 0.88130291, \"best_metric\": 0.91649471}, {\"run_id\": \"AutoML_4cde3cab-81ac-44bf-b019-7a1ebec0790a_32\", \"run_number\": 1650046961, \"metric\": null, \"status\": \"Completed\", \"run_type\": \"azureml.scriptrun\", \"training_percent\": \"100\", \"start_time\": \"2022-04-15T18:24:51.45228Z\", \"end_time\": \"2022-04-15T18:24:55.215Z\", \"created_time\": \"2022-04-15T18:22:41.185702Z\", \"created_time_dt\": \"2022-04-15T18:22:41.185702Z\", \"duration\": \"0:02:14\", \"iteration\": \"32\", \"goal\": \"AUC_weighted_max\", \"run_name\": \"SparseNormalizer, LightGBM\", \"run_properties\": \"copy=True, norm='l2'\", \"primary_metric\": 0.87306614, \"best_metric\": 0.91649471}, {\"run_id\": \"AutoML_4cde3cab-81ac-44bf-b019-7a1ebec0790a_33\", \"run_number\": 1650046976, \"metric\": null, \"status\": \"Completed\", \"run_type\": \"azureml.scriptrun\", \"training_percent\": \"100\", \"start_time\": \"2022-04-15T18:24:56.032847Z\", \"end_time\": \"2022-04-15T18:24:59.649051Z\", \"created_time\": \"2022-04-15T18:22:56.794475Z\", \"created_time_dt\": \"2022-04-15T18:22:56.794475Z\", \"duration\": \"0:02:02\", \"iteration\": \"33\", \"goal\": \"AUC_weighted_max\", \"run_name\": \"MaxAbsScaler, ExtremeRandomTrees\", \"run_properties\": \"copy=True\", \"primary_metric\": 0.86484788, \"best_metric\": 0.91649471}, {\"run_id\": \"AutoML_4cde3cab-81ac-44bf-b019-7a1ebec0790a_34\", \"run_number\": 1650046981, \"metric\": null, \"status\": \"Completed\", \"run_type\": \"azureml.scriptrun\", \"training_percent\": \"100\", \"start_time\": \"2022-04-15T18:24:54.541011Z\", \"end_time\": \"2022-04-15T18:24:58.179471Z\", \"created_time\": \"2022-04-15T18:23:01.444248Z\", \"created_time_dt\": \"2022-04-15T18:23:01.444248Z\", \"duration\": \"0:01:56\", \"iteration\": \"34\", \"goal\": \"AUC_weighted_max\", \"run_name\": \"StandardScalerWrapper, LightGBM\", \"run_properties\": \"copy=True, with_mean=False, with_std=False\", \"primary_metric\": 0.90603439, \"best_metric\": 0.91649471}, {\"run_id\": \"AutoML_4cde3cab-81ac-44bf-b019-7a1ebec0790a_35\", \"run_number\": 1650046998, \"metric\": null, \"status\": \"Completed\", \"run_type\": \"azureml.scriptrun\", \"training_percent\": \"100\", \"start_time\": \"2022-04-15T18:26:35.287714Z\", \"end_time\": \"2022-04-15T18:26:38.966519Z\", \"created_time\": \"2022-04-15T18:23:18.442829Z\", \"created_time_dt\": \"2022-04-15T18:23:18.442829Z\", \"duration\": \"0:03:20\", \"iteration\": \"35\", \"goal\": \"AUC_weighted_max\", \"run_name\": \"PCA, XGBoostClassifier\", \"run_properties\": \"copy=True, iterated_power='auto', n_components=0.8510526315789474,\\n    random_state=None, svd_solver='auto', tol=0.0, whiten=True\", \"primary_metric\": 0.49274814, \"best_metric\": 0.91649471}, {\"run_id\": \"AutoML_4cde3cab-81ac-44bf-b019-7a1ebec0790a_36\", \"run_number\": 1650047084, \"metric\": null, \"status\": \"Completed\", \"run_type\": \"azureml.scriptrun\", \"training_percent\": \"100\", \"start_time\": \"2022-04-15T18:26:53.159886Z\", \"end_time\": \"2022-04-15T18:26:56.872533Z\", \"created_time\": \"2022-04-15T18:24:43.998846Z\", \"created_time_dt\": \"2022-04-15T18:24:43.998846Z\", \"duration\": \"0:02:12\", \"iteration\": \"36\", \"goal\": \"AUC_weighted_max\", \"run_name\": \"SparseNormalizer, XGBoostClassifier\", \"run_properties\": \"copy=True, norm='l2'\", \"primary_metric\": 0.8803836, \"best_metric\": 0.91649471}, {\"run_id\": \"AutoML_4cde3cab-81ac-44bf-b019-7a1ebec0790a_37\", \"run_number\": 1650047097, \"metric\": null, \"status\": \"Completed\", \"run_type\": \"azureml.scriptrun\", \"training_percent\": \"100\", \"start_time\": \"2022-04-15T18:26:53.443986Z\", \"end_time\": \"2022-04-15T18:26:57.094251Z\", \"created_time\": \"2022-04-15T18:24:57.840559Z\", \"created_time_dt\": \"2022-04-15T18:24:57.840559Z\", \"duration\": \"0:01:59\", \"iteration\": \"37\", \"goal\": \"AUC_weighted_max\", \"run_name\": \"StandardScalerWrapper, SVM\", \"run_properties\": \"copy=True, with_mean=False, with_std=True\", \"primary_metric\": 0.8648373, \"best_metric\": 0.91649471}, {\"run_id\": \"AutoML_4cde3cab-81ac-44bf-b019-7a1ebec0790a_38\", \"run_number\": 1650047100, \"metric\": null, \"status\": \"Completed\", \"run_type\": \"azureml.scriptrun\", \"training_percent\": \"100\", \"start_time\": \"2022-04-15T18:26:58.91768Z\", \"end_time\": \"2022-04-15T18:27:02.652082Z\", \"created_time\": \"2022-04-15T18:25:00.058395Z\", \"created_time_dt\": \"2022-04-15T18:25:00.058395Z\", \"duration\": \"0:02:02\", \"iteration\": \"38\", \"goal\": \"AUC_weighted_max\", \"run_name\": \"MinMaxScaler, RandomForest\", \"run_properties\": \"copy=True, feature_range=(0, 1\", \"primary_metric\": 0.89789153, \"best_metric\": 0.91649471}, {\"run_id\": \"AutoML_4cde3cab-81ac-44bf-b019-7a1ebec0790a_39\", \"run_number\": 1650047102, \"metric\": null, \"status\": \"Completed\", \"run_type\": \"azureml.scriptrun\", \"training_percent\": \"100\", \"start_time\": \"2022-04-15T18:28:40.194439Z\", \"end_time\": \"2022-04-15T18:28:43.873436Z\", \"created_time\": \"2022-04-15T18:25:02.257604Z\", \"created_time_dt\": \"2022-04-15T18:25:02.257604Z\", \"duration\": \"0:03:41\", \"iteration\": \"39\", \"goal\": \"AUC_weighted_max\", \"run_name\": \"RobustScaler, LightGBM\", \"run_properties\": \"copy=True, quantile_range=[10, 90], with_centering=True,\\n             with_scaling=False\", \"primary_metric\": 0.89396296, \"best_metric\": 0.91649471}, {\"run_id\": \"AutoML_4cde3cab-81ac-44bf-b019-7a1ebec0790a_40\", \"run_number\": 1650047201, \"metric\": null, \"status\": \"Completed\", \"run_type\": \"azureml.scriptrun\", \"training_percent\": \"100\", \"start_time\": \"2022-04-15T18:29:00.190659Z\", \"end_time\": \"2022-04-15T18:29:03.929941Z\", \"created_time\": \"2022-04-15T18:26:41.451285Z\", \"created_time_dt\": \"2022-04-15T18:26:41.451285Z\", \"duration\": \"0:02:22\", \"iteration\": \"40\", \"goal\": \"AUC_weighted_max\", \"run_name\": \"StandardScalerWrapper, XGBoostClassifier\", \"run_properties\": \"copy=True, with_mean=False, with_std=False\", \"primary_metric\": 0.89693651, \"best_metric\": 0.91649471}, {\"run_id\": \"AutoML_4cde3cab-81ac-44bf-b019-7a1ebec0790a_41\", \"run_number\": 1650047218, \"metric\": null, \"status\": \"Completed\", \"run_type\": \"azureml.scriptrun\", \"training_percent\": \"100\", \"start_time\": \"2022-04-15T18:28:53.974041Z\", \"end_time\": \"2022-04-15T18:28:57.615224Z\", \"created_time\": \"2022-04-15T18:26:58.330499Z\", \"created_time_dt\": \"2022-04-15T18:26:58.330499Z\", \"duration\": \"0:01:59\", \"iteration\": \"41\", \"goal\": \"AUC_weighted_max\", \"run_name\": \"StandardScalerWrapper, LightGBM\", \"run_properties\": \"copy=True, with_mean=False, with_std=False\", \"primary_metric\": 0.90818519, \"best_metric\": 0.91649471}, {\"run_id\": \"AutoML_4cde3cab-81ac-44bf-b019-7a1ebec0790a_42\", \"run_number\": 1650047220, \"metric\": null, \"status\": \"Completed\", \"run_type\": \"azureml.scriptrun\", \"training_percent\": \"100\", \"start_time\": \"2022-04-15T18:28:56.476888Z\", \"end_time\": \"2022-04-15T18:29:00.234189Z\", \"created_time\": \"2022-04-15T18:27:00.429128Z\", \"created_time_dt\": \"2022-04-15T18:27:00.429128Z\", \"duration\": \"0:01:59\", \"iteration\": \"42\", \"goal\": \"AUC_weighted_max\", \"run_name\": \"StandardScalerWrapper, XGBoostClassifier\", \"run_properties\": \"copy=True, with_mean=False, with_std=False\", \"primary_metric\": 0.87608862, \"best_metric\": 0.91649471}, {\"run_id\": \"AutoML_4cde3cab-81ac-44bf-b019-7a1ebec0790a_43\", \"run_number\": 1650047224, \"metric\": null, \"status\": \"Completed\", \"run_type\": \"azureml.scriptrun\", \"training_percent\": \"100\", \"start_time\": \"2022-04-15T18:30:37.350556Z\", \"end_time\": \"2022-04-15T18:30:41.029785Z\", \"created_time\": \"2022-04-15T18:27:04.150882Z\", \"created_time_dt\": \"2022-04-15T18:27:04.150882Z\", \"duration\": \"0:03:36\", \"iteration\": \"43\", \"goal\": \"AUC_weighted_max\", \"run_name\": \"StandardScalerWrapper, XGBoostClassifier\", \"run_properties\": \"copy=True, with_mean=False, with_std=False\", \"primary_metric\": 0.90383862, \"best_metric\": 0.91649471}, {\"run_id\": \"AutoML_4cde3cab-81ac-44bf-b019-7a1ebec0790a_44\", \"run_number\": 1650047325, \"metric\": null, \"status\": \"Canceled\", \"run_type\": \"azureml.scriptrun\", \"training_percent\": \"100\", \"start_time\": \"2022-04-15T18:30:42.474528Z\", \"end_time\": \"2022-04-15T18:30:42.6651Z\", \"created_time\": \"2022-04-15T18:28:45.530627Z\", \"created_time_dt\": \"2022-04-15T18:28:45.530627Z\", \"duration\": \"0:01:57\", \"iteration\": \"44\", \"goal\": null, \"run_name\": \"StandardScalerWrapper, XGBoostClassifier\", \"run_properties\": null}, {\"run_id\": \"AutoML_4cde3cab-81ac-44bf-b019-7a1ebec0790a_45\", \"run_number\": 1650047340, \"metric\": null, \"status\": \"Canceled\", \"run_type\": \"azureml.scriptrun\", \"training_percent\": \"100\", \"start_time\": \"2022-04-15T18:30:42.691081Z\", \"end_time\": \"2022-04-15T18:30:42.892268Z\", \"created_time\": \"2022-04-15T18:29:00.13541Z\", \"created_time_dt\": \"2022-04-15T18:29:00.13541Z\", \"duration\": \"0:01:42\", \"iteration\": \"45\", \"goal\": null, \"run_name\": \"StandardScalerWrapper, XGBoostClassifier\", \"run_properties\": null}, {\"run_id\": \"AutoML_4cde3cab-81ac-44bf-b019-7a1ebec0790a_46\", \"run_number\": 1650047342, \"metric\": null, \"status\": \"Canceled\", \"run_type\": \"azureml.scriptrun\", \"training_percent\": \"100\", \"start_time\": \"2022-04-15T18:30:42.387849Z\", \"end_time\": \"2022-04-15T18:30:42.641922Z\", \"created_time\": \"2022-04-15T18:29:02.311867Z\", \"created_time_dt\": \"2022-04-15T18:29:02.311867Z\", \"duration\": \"0:01:40\", \"iteration\": \"46\", \"goal\": null, \"run_name\": \"StandardScalerWrapper, XGBoostClassifier\", \"run_properties\": null}, {\"run_id\": \"AutoML_4cde3cab-81ac-44bf-b019-7a1ebec0790a_47\", \"run_number\": 1650047345, \"metric\": null, \"status\": \"Canceled\", \"run_type\": \"azureml.scriptrun\", \"training_percent\": \"100\", \"start_time\": \"2022-04-15T18:30:42.390112Z\", \"end_time\": \"2022-04-15T18:30:42.625307Z\", \"created_time\": \"2022-04-15T18:29:05.578827Z\", \"created_time_dt\": \"2022-04-15T18:29:05.578827Z\", \"duration\": \"0:01:37\", \"iteration\": \"47\", \"goal\": null, \"run_name\": \"Canceled\", \"run_properties\": null}, {\"run_id\": \"AutoML_4cde3cab-81ac-44bf-b019-7a1ebec0790a_48\", \"run_number\": 1650047443, \"metric\": null, \"status\": \"Completed\", \"run_type\": \"azureml.scriptrun\", \"training_percent\": \"100\", \"start_time\": \"2022-04-15T18:32:32.805607Z\", \"end_time\": \"2022-04-15T18:32:36.486528Z\", \"created_time\": \"2022-04-15T18:30:43.599557Z\", \"created_time_dt\": \"2022-04-15T18:30:43.599557Z\", \"duration\": \"0:01:52\", \"iteration\": \"48\", \"goal\": \"AUC_weighted_max\", \"run_name\": \"VotingEnsemble\", \"run_properties\": \"classification_labels=array([0, 1]\", \"primary_metric\": 0.92698942, \"best_metric\": 0.92698942}], \"children_metrics\": {\"categories\": [0], \"series\": {\"recall_score_macro\": [{\"categories\": [\"0\", \"3\", \"5\", \"12\", \"13\", \"18\", \"21\", \"22\", \"23\", \"24\", \"26\", \"27\", \"28\", \"29\", \"30\", \"31\", \"32\", \"33\", \"34\", \"35\", \"36\", \"37\", \"38\", \"39\", \"40\", \"41\", \"42\", \"43\", \"48\"], \"mode\": \"markers\", \"name\": \"recall_score_macro\", \"stepped\": false, \"type\": \"scatter\", \"data\": [0.8307222222222223, 0.8100476190476189, 0.5323636363636364, 0.7443008658008659, 0.673047619047619, 0.7937063492063491, 0.8112777777777778, 0.7872142857142858, 0.7712929292929293, 0.8134444444444445, 0.7881190476190477, 0.8151349206349207, 0.7549126984126984, 0.7419920634920635, 0.8155317460317459, 0.7686666666666666, 0.805952380952381, 0.8141746031746032, 0.8007142857142857, 0.4750382395382395, 0.8008650793650793, 0.7979285714285715, 0.8164999999999999, 0.7860238095238097, 0.780403318903319, 0.8226507936507936, 0.7689675324675325, 0.8121984126984126, 0.8200873015873016]}, {\"categories\": [\"0\", \"3\", \"5\", \"12\", \"13\", \"18\", \"21\", \"22\", \"23\", \"24\", \"26\", \"27\", \"28\", \"29\", \"30\", \"31\", \"32\", \"33\", \"34\", \"35\", \"36\", \"37\", \"38\", \"39\", \"40\", \"41\", \"42\", \"43\", \"48\"], \"mode\": \"lines\", \"name\": \"recall_score_macro_max\", \"stepped\": true, \"type\": \"scatter\", \"data\": [0.8307222222222223, 0.8307222222222223, 0.8307222222222223, 0.8307222222222223, 0.8307222222222223, 0.8307222222222223, 0.8307222222222223, 0.8307222222222223, 0.8307222222222223, 0.8307222222222223, 0.8307222222222223, 0.8307222222222223, 0.8307222222222223, 0.8307222222222223, 0.8307222222222223, 0.8307222222222223, 0.8307222222222223, 0.8307222222222223, 0.8307222222222223, 0.8307222222222223, 0.8307222222222223, 0.8307222222222223, 0.8307222222222223, 0.8307222222222223, 0.8307222222222223, 0.8307222222222223, 0.8307222222222223, 0.8307222222222223, 0.8307222222222223]}], \"f1_score_micro\": [{\"categories\": [\"0\", \"3\", \"5\", \"12\", \"13\", \"18\", \"21\", \"22\", \"23\", \"24\", \"26\", \"27\", \"28\", \"29\", \"30\", \"31\", \"32\", \"33\", \"34\", \"35\", \"36\", \"37\", \"38\", \"39\", \"40\", \"41\", \"42\", \"43\", \"48\"], \"mode\": \"markers\", \"name\": \"f1_score_micro\", \"stepped\": false, \"type\": \"scatter\", \"data\": [0.8587878787878788, 0.8290909090909091, 0.6460606060606061, 0.7954545454545454, 0.7651515151515151, 0.8357575757575756, 0.8487878787878788, 0.8321212121212122, 0.7815151515151516, 0.8387878787878789, 0.8324242424242424, 0.8251515151515152, 0.8193939393939392, 0.7924242424242424, 0.8457575757575758, 0.8293939393939394, 0.8421212121212122, 0.8351515151515153, 0.8493939393939393, 0.6021212121212122, 0.8393939393939394, 0.8354545454545454, 0.8351515151515152, 0.8290909090909091, 0.8151515151515152, 0.8524242424242423, 0.8051515151515152, 0.842121212121212, 0.8551515151515153]}, {\"categories\": [\"0\", \"3\", \"5\", \"12\", \"13\", \"18\", \"21\", \"22\", \"23\", \"24\", \"26\", \"27\", \"28\", \"29\", \"30\", \"31\", \"32\", \"33\", \"34\", \"35\", \"36\", \"37\", \"38\", \"39\", \"40\", \"41\", \"42\", \"43\", \"48\"], \"mode\": \"lines\", \"name\": \"f1_score_micro_max\", \"stepped\": true, \"type\": \"scatter\", \"data\": [0.8587878787878788, 0.8587878787878788, 0.8587878787878788, 0.8587878787878788, 0.8587878787878788, 0.8587878787878788, 0.8587878787878788, 0.8587878787878788, 0.8587878787878788, 0.8587878787878788, 0.8587878787878788, 0.8587878787878788, 0.8587878787878788, 0.8587878787878788, 0.8587878787878788, 0.8587878787878788, 0.8587878787878788, 0.8587878787878788, 0.8587878787878788, 0.8587878787878788, 0.8587878787878788, 0.8587878787878788, 0.8587878787878788, 0.8587878787878788, 0.8587878787878788, 0.8587878787878788, 0.8587878787878788, 0.8587878787878788, 0.8587878787878788]}], \"recall_score_weighted\": [{\"categories\": [\"0\", \"3\", \"5\", \"12\", \"13\", \"18\", \"21\", \"22\", \"23\", \"24\", \"26\", \"27\", \"28\", \"29\", \"30\", \"31\", \"32\", \"33\", \"34\", \"35\", \"36\", \"37\", \"38\", \"39\", \"40\", \"41\", \"42\", \"43\", \"48\"], \"mode\": \"markers\", \"name\": \"recall_score_weighted\", \"stepped\": false, \"type\": \"scatter\", \"data\": [0.8587878787878788, 0.8290909090909091, 0.6460606060606061, 0.7954545454545454, 0.7651515151515151, 0.8357575757575756, 0.8487878787878788, 0.8321212121212122, 0.7815151515151516, 0.8387878787878789, 0.8324242424242424, 0.8251515151515152, 0.8193939393939392, 0.7924242424242424, 0.8457575757575758, 0.8293939393939394, 0.8421212121212122, 0.8351515151515153, 0.8493939393939393, 0.6021212121212122, 0.8393939393939394, 0.8354545454545454, 0.8351515151515152, 0.8290909090909091, 0.8151515151515152, 0.8524242424242423, 0.8051515151515152, 0.842121212121212, 0.8551515151515153]}, {\"categories\": [\"0\", \"3\", \"5\", \"12\", \"13\", \"18\", \"21\", \"22\", \"23\", \"24\", \"26\", \"27\", \"28\", \"29\", \"30\", \"31\", \"32\", \"33\", \"34\", \"35\", \"36\", \"37\", \"38\", \"39\", \"40\", \"41\", \"42\", \"43\", \"48\"], \"mode\": \"lines\", \"name\": \"recall_score_weighted_max\", \"stepped\": true, \"type\": \"scatter\", \"data\": [0.8587878787878788, 0.8587878787878788, 0.8587878787878788, 0.8587878787878788, 0.8587878787878788, 0.8587878787878788, 0.8587878787878788, 0.8587878787878788, 0.8587878787878788, 0.8587878787878788, 0.8587878787878788, 0.8587878787878788, 0.8587878787878788, 0.8587878787878788, 0.8587878787878788, 0.8587878787878788, 0.8587878787878788, 0.8587878787878788, 0.8587878787878788, 0.8587878787878788, 0.8587878787878788, 0.8587878787878788, 0.8587878787878788, 0.8587878787878788, 0.8587878787878788, 0.8587878787878788, 0.8587878787878788, 0.8587878787878788, 0.8587878787878788]}], \"AUC_weighted\": [{\"categories\": [\"0\", \"3\", \"5\", \"12\", \"13\", \"18\", \"21\", \"22\", \"23\", \"24\", \"26\", \"27\", \"28\", \"29\", \"30\", \"31\", \"32\", \"33\", \"34\", \"35\", \"36\", \"37\", \"38\", \"39\", \"40\", \"41\", \"42\", \"43\", \"48\"], \"mode\": \"markers\", \"name\": \"AUC_weighted\", \"stepped\": false, \"type\": \"scatter\", \"data\": [0.9038664021164022, 0.8976058201058201, 0.5179525012025011, 0.8624681337181337, 0.748581228956229, 0.8792222222222221, 0.8941759259259259, 0.8991706349206349, 0.8573544973544975, 0.8749232804232803, 0.8676018518518519, 0.8966005291005291, 0.8667949735449736, 0.8074166666666668, 0.916494708994709, 0.88130291005291, 0.8730661375661376, 0.8648478835978836, 0.9060343915343916, 0.49274813612313606, 0.8803835978835979, 0.8648373015873017, 0.8978915343915344, 0.8939629629629628, 0.8969365079365079, 0.9081851851851852, 0.8760886243386244, 0.9038386243386243, 0.9269894179894181]}, {\"categories\": [\"0\", \"3\", \"5\", \"12\", \"13\", \"18\", \"21\", \"22\", \"23\", \"24\", \"26\", \"27\", \"28\", \"29\", \"30\", \"31\", \"32\", \"33\", \"34\", \"35\", \"36\", \"37\", \"38\", \"39\", \"40\", \"41\", \"42\", \"43\", \"48\"], \"mode\": \"lines\", \"name\": \"AUC_weighted_max\", \"stepped\": true, \"type\": \"scatter\", \"data\": [0.9038664021164022, 0.9038664021164022, 0.9038664021164022, 0.9038664021164022, 0.9038664021164022, 0.9038664021164022, 0.9038664021164022, 0.9038664021164022, 0.9038664021164022, 0.9038664021164022, 0.9038664021164022, 0.9038664021164022, 0.9038664021164022, 0.9038664021164022, 0.916494708994709, 0.916494708994709, 0.916494708994709, 0.916494708994709, 0.916494708994709, 0.916494708994709, 0.916494708994709, 0.916494708994709, 0.916494708994709, 0.916494708994709, 0.916494708994709, 0.916494708994709, 0.916494708994709, 0.916494708994709, 0.9269894179894181]}], \"matthews_correlation\": [{\"categories\": [\"0\", \"3\", \"5\", \"12\", \"13\", \"18\", \"21\", \"22\", \"23\", \"24\", \"26\", \"27\", \"28\", \"29\", \"30\", \"31\", \"32\", \"33\", \"34\", \"35\", \"36\", \"37\", \"38\", \"39\", \"40\", \"41\", \"42\", \"43\", \"48\"], \"mode\": \"markers\", \"name\": \"matthews_correlation\", \"stepped\": false, \"type\": \"scatter\", \"data\": [0.6823582047210636, 0.632303853617421, 0.07273894744293057, 0.5148357644824749, 0.4081773518465402, 0.6245392932675373, 0.6399139980202443, 0.6030416180199644, 0.524790140638657, 0.6369234188742504, 0.5905126865546569, 0.6172093218931762, 0.5770671523686532, 0.5183719124643545, 0.6542146293313088, 0.5856355403250347, 0.6335669895722408, 0.6227749489005804, 0.6408845513672458, -0.0709307939577306, 0.6121457161521925, 0.6158448483404266, 0.6306006383021636, 0.595386368885671, 0.5860695349621071, 0.6626747474427026, 0.5393697549553791, 0.6495419260052091, 0.6695312740890965]}, {\"categories\": [\"0\", \"3\", \"5\", \"12\", \"13\", \"18\", \"21\", \"22\", \"23\", \"24\", \"26\", \"27\", \"28\", \"29\", \"30\", \"31\", \"32\", \"33\", \"34\", \"35\", \"36\", \"37\", \"38\", \"39\", \"40\", \"41\", \"42\", \"43\", \"48\"], \"mode\": \"lines\", \"name\": \"matthews_correlation_max\", \"stepped\": true, \"type\": \"scatter\", \"data\": [0.6823582047210636, 0.6823582047210636, 0.6823582047210636, 0.6823582047210636, 0.6823582047210636, 0.6823582047210636, 0.6823582047210636, 0.6823582047210636, 0.6823582047210636, 0.6823582047210636, 0.6823582047210636, 0.6823582047210636, 0.6823582047210636, 0.6823582047210636, 0.6823582047210636, 0.6823582047210636, 0.6823582047210636, 0.6823582047210636, 0.6823582047210636, 0.6823582047210636, 0.6823582047210636, 0.6823582047210636, 0.6823582047210636, 0.6823582047210636, 0.6823582047210636, 0.6823582047210636, 0.6823582047210636, 0.6823582047210636, 0.6823582047210636]}], \"recall_score_micro\": [{\"categories\": [\"0\", \"3\", \"5\", \"12\", \"13\", \"18\", \"21\", \"22\", \"23\", \"24\", \"26\", \"27\", \"28\", \"29\", \"30\", \"31\", \"32\", \"33\", \"34\", \"35\", \"36\", \"37\", \"38\", \"39\", \"40\", \"41\", \"42\", \"43\", \"48\"], \"mode\": \"markers\", \"name\": \"recall_score_micro\", \"stepped\": false, \"type\": \"scatter\", \"data\": [0.8587878787878788, 0.8290909090909091, 0.6460606060606061, 0.7954545454545454, 0.7651515151515151, 0.8357575757575756, 0.8487878787878788, 0.8321212121212122, 0.7815151515151516, 0.8387878787878789, 0.8324242424242424, 0.8251515151515152, 0.8193939393939392, 0.7924242424242424, 0.8457575757575758, 0.8293939393939394, 0.8421212121212122, 0.8351515151515153, 0.8493939393939393, 0.6021212121212122, 0.8393939393939394, 0.8354545454545454, 0.8351515151515152, 0.8290909090909091, 0.8151515151515152, 0.8524242424242423, 0.8051515151515152, 0.842121212121212, 0.8551515151515153]}, {\"categories\": [\"0\", \"3\", \"5\", \"12\", \"13\", \"18\", \"21\", \"22\", \"23\", \"24\", \"26\", \"27\", \"28\", \"29\", \"30\", \"31\", \"32\", \"33\", \"34\", \"35\", \"36\", \"37\", \"38\", \"39\", \"40\", \"41\", \"42\", \"43\", \"48\"], \"mode\": \"lines\", \"name\": \"recall_score_micro_max\", \"stepped\": true, \"type\": \"scatter\", \"data\": [0.8587878787878788, 0.8587878787878788, 0.8587878787878788, 0.8587878787878788, 0.8587878787878788, 0.8587878787878788, 0.8587878787878788, 0.8587878787878788, 0.8587878787878788, 0.8587878787878788, 0.8587878787878788, 0.8587878787878788, 0.8587878787878788, 0.8587878787878788, 0.8587878787878788, 0.8587878787878788, 0.8587878787878788, 0.8587878787878788, 0.8587878787878788, 0.8587878787878788, 0.8587878787878788, 0.8587878787878788, 0.8587878787878788, 0.8587878787878788, 0.8587878787878788, 0.8587878787878788, 0.8587878787878788, 0.8587878787878788, 0.8587878787878788]}], \"norm_macro_recall\": [{\"categories\": [\"0\", \"3\", \"5\", \"12\", \"13\", \"18\", \"21\", \"22\", \"23\", \"24\", \"26\", \"27\", \"28\", \"29\", \"30\", \"31\", \"32\", \"33\", \"34\", \"35\", \"36\", \"37\", \"38\", \"39\", \"40\", \"41\", \"42\", \"43\", \"48\"], \"mode\": \"markers\", \"name\": \"norm_macro_recall\", \"stepped\": false, \"type\": \"scatter\", \"data\": [0.6614444444444443, 0.620095238095238, 0.11973015873015871, 0.48860173160173154, 0.3684126984126984, 0.5874126984126984, 0.6225555555555555, 0.5788730158730159, 0.5581414141414142, 0.6268888888888888, 0.5762380952380952, 0.6319365079365079, 0.5142698412698413, 0.49687301587301586, 0.631063492063492, 0.5373333333333333, 0.611904761904762, 0.630015873015873, 0.6014285714285714, 0.057269841269841255, 0.6017301587301587, 0.5958571428571429, 0.6346666666666666, 0.5764920634920635, 0.5624733044733045, 0.6453015873015873, 0.5396017316017315, 0.6243968253968253, 0.6418412698412698]}, {\"categories\": [\"0\", \"3\", \"5\", \"12\", \"13\", \"18\", \"21\", \"22\", \"23\", \"24\", \"26\", \"27\", \"28\", \"29\", \"30\", \"31\", \"32\", \"33\", \"34\", \"35\", \"36\", \"37\", \"38\", \"39\", \"40\", \"41\", \"42\", \"43\", \"48\"], \"mode\": \"lines\", \"name\": \"norm_macro_recall_max\", \"stepped\": true, \"type\": \"scatter\", \"data\": [0.6614444444444443, 0.6614444444444443, 0.6614444444444443, 0.6614444444444443, 0.6614444444444443, 0.6614444444444443, 0.6614444444444443, 0.6614444444444443, 0.6614444444444443, 0.6614444444444443, 0.6614444444444443, 0.6614444444444443, 0.6614444444444443, 0.6614444444444443, 0.6614444444444443, 0.6614444444444443, 0.6614444444444443, 0.6614444444444443, 0.6614444444444443, 0.6614444444444443, 0.6614444444444443, 0.6614444444444443, 0.6614444444444443, 0.6614444444444443, 0.6614444444444443, 0.6614444444444443, 0.6614444444444443, 0.6614444444444443, 0.6614444444444443]}], \"average_precision_score_macro\": [{\"categories\": [\"0\", \"3\", \"5\", \"12\", \"13\", \"18\", \"21\", \"22\", \"23\", \"24\", \"26\", \"27\", \"28\", \"29\", \"30\", \"31\", \"32\", \"33\", \"34\", \"35\", \"36\", \"37\", \"38\", \"39\", \"40\", \"41\", \"42\", \"43\", \"48\"], \"mode\": \"markers\", \"name\": \"average_precision_score_macro\", \"stepped\": false, \"type\": \"scatter\", \"data\": [0.9146286550310359, 0.9013144698114935, 0.6222547515715805, 0.8683375211869259, 0.773959151034151, 0.8924126809478, 0.897215206486635, 0.906584154183559, 0.8720136830321354, 0.8822486302938684, 0.8785227564763279, 0.9056963360933598, 0.8850475199844248, 0.8345410301999588, 0.922757679401727, 0.8857345573077717, 0.8867416995922949, 0.881996726333631, 0.9126578778144254, 0.5871847333622766, 0.8897004148629147, 0.8777566844751368, 0.9068668161203876, 0.8982315430380906, 0.90565046754392, 0.9170638173114363, 0.8885898786619024, 0.909839633580705, 0.9344637637715019]}, {\"categories\": [\"0\", \"3\", \"5\", \"12\", \"13\", \"18\", \"21\", \"22\", \"23\", \"24\", \"26\", \"27\", \"28\", \"29\", \"30\", \"31\", \"32\", \"33\", \"34\", \"35\", \"36\", \"37\", \"38\", \"39\", \"40\", \"41\", \"42\", \"43\", \"48\"], \"mode\": \"lines\", \"name\": \"average_precision_score_macro_max\", \"stepped\": true, \"type\": \"scatter\", \"data\": [0.9146286550310359, 0.9146286550310359, 0.9146286550310359, 0.9146286550310359, 0.9146286550310359, 0.9146286550310359, 0.9146286550310359, 0.9146286550310359, 0.9146286550310359, 0.9146286550310359, 0.9146286550310359, 0.9146286550310359, 0.9146286550310359, 0.9146286550310359, 0.922757679401727, 0.922757679401727, 0.922757679401727, 0.922757679401727, 0.922757679401727, 0.922757679401727, 0.922757679401727, 0.922757679401727, 0.922757679401727, 0.922757679401727, 0.922757679401727, 0.922757679401727, 0.922757679401727, 0.922757679401727, 0.9344637637715019]}], \"average_precision_score_micro\": [{\"categories\": [\"0\", \"3\", \"5\", \"12\", \"13\", \"18\", \"21\", \"22\", \"23\", \"24\", \"26\", \"27\", \"28\", \"29\", \"30\", \"31\", \"32\", \"33\", \"34\", \"35\", \"36\", \"37\", \"38\", \"39\", \"40\", \"41\", \"42\", \"43\", \"48\"], \"mode\": \"markers\", \"name\": \"average_precision_score_micro\", \"stepped\": false, \"type\": \"scatter\", \"data\": [0.9097810945025071, 0.9040972153323413, 0.6905745811331417, 0.8975150308211455, 0.8025487410859433, 0.9041440323927032, 0.9127578157306203, 0.9073314598889541, 0.8665784076722797, 0.9046203322771166, 0.8994760812034595, 0.9140520734687009, 0.8878357850452911, 0.8553892910586199, 0.9239483789605947, 0.898745791359154, 0.9046320628950525, 0.8862269820540601, 0.9193506760853372, 0.6820207798232936, 0.905237561325601, 0.8948580712828885, 0.9117479985017003, 0.9077892176713946, 0.9070690300100384, 0.9225303340827898, 0.8969962596456404, 0.9157299209817507, 0.9293660344786506]}, {\"categories\": [\"0\", \"3\", \"5\", \"12\", \"13\", \"18\", \"21\", \"22\", \"23\", \"24\", \"26\", \"27\", \"28\", \"29\", \"30\", \"31\", \"32\", \"33\", \"34\", \"35\", \"36\", \"37\", \"38\", \"39\", \"40\", \"41\", \"42\", \"43\", \"48\"], \"mode\": \"lines\", \"name\": \"average_precision_score_micro_max\", \"stepped\": true, \"type\": \"scatter\", \"data\": [0.9097810945025071, 0.9097810945025071, 0.9097810945025071, 0.9097810945025071, 0.9097810945025071, 0.9097810945025071, 0.9127578157306203, 0.9127578157306203, 0.9127578157306203, 0.9127578157306203, 0.9127578157306203, 0.9140520734687009, 0.9140520734687009, 0.9140520734687009, 0.9239483789605947, 0.9239483789605947, 0.9239483789605947, 0.9239483789605947, 0.9239483789605947, 0.9239483789605947, 0.9239483789605947, 0.9239483789605947, 0.9239483789605947, 0.9239483789605947, 0.9239483789605947, 0.9239483789605947, 0.9239483789605947, 0.9239483789605947, 0.9293660344786506]}], \"weighted_accuracy\": [{\"categories\": [\"0\", \"3\", \"5\", \"12\", \"13\", \"18\", \"21\", \"22\", \"23\", \"24\", \"26\", \"27\", \"28\", \"29\", \"30\", \"31\", \"32\", \"33\", \"34\", \"35\", \"36\", \"37\", \"38\", \"39\", \"40\", \"41\", \"42\", \"43\", \"48\"], \"mode\": \"markers\", \"name\": \"weighted_accuracy\", \"stepped\": false, \"type\": \"scatter\", \"data\": [0.8747144362486828, 0.8380852295920789, 0.7042920317059099, 0.8269346286983835, 0.8135923506294043, 0.8603564871510077, 0.8696222671565138, 0.8575848451190917, 0.7866484478916547, 0.8528474923817391, 0.8566073534018739, 0.8286635149374875, 0.8589728970276915, 0.8210661198606403, 0.8618509953578447, 0.8627539088087033, 0.8624954480296947, 0.8457529120268846, 0.8747982608530553, 0.6693647208333937, 0.8631936699607933, 0.856829474363721, 0.8447258849998578, 0.8535179563124768, 0.8356375103704994, 0.8677979285924491, 0.824520575024056, 0.8588007670473423, 0.8737778600518327]}, {\"categories\": [\"0\", \"3\", \"5\", \"12\", \"13\", \"18\", \"21\", \"22\", \"23\", \"24\", \"26\", \"27\", \"28\", \"29\", \"30\", \"31\", \"32\", \"33\", \"34\", \"35\", \"36\", \"37\", \"38\", \"39\", \"40\", \"41\", \"42\", \"43\", \"48\"], \"mode\": \"lines\", \"name\": \"weighted_accuracy_max\", \"stepped\": true, \"type\": \"scatter\", \"data\": [0.8747144362486828, 0.8747144362486828, 0.8747144362486828, 0.8747144362486828, 0.8747144362486828, 0.8747144362486828, 0.8747144362486828, 0.8747144362486828, 0.8747144362486828, 0.8747144362486828, 0.8747144362486828, 0.8747144362486828, 0.8747144362486828, 0.8747144362486828, 0.8747144362486828, 0.8747144362486828, 0.8747144362486828, 0.8747144362486828, 0.8747982608530553, 0.8747982608530553, 0.8747982608530553, 0.8747982608530553, 0.8747982608530553, 0.8747982608530553, 0.8747982608530553, 0.8747982608530553, 0.8747982608530553, 0.8747982608530553, 0.8747982608530553]}], \"precision_score_micro\": [{\"categories\": [\"0\", \"3\", \"5\", \"12\", \"13\", \"18\", \"21\", \"22\", \"23\", \"24\", \"26\", \"27\", \"28\", \"29\", \"30\", \"31\", \"32\", \"33\", \"34\", \"35\", \"36\", \"37\", \"38\", \"39\", \"40\", \"41\", \"42\", \"43\", \"48\"], \"mode\": \"markers\", \"name\": \"precision_score_micro\", \"stepped\": false, \"type\": \"scatter\", \"data\": [0.8587878787878788, 0.8290909090909091, 0.6460606060606061, 0.7954545454545454, 0.7651515151515151, 0.8357575757575756, 0.8487878787878788, 0.8321212121212122, 0.7815151515151516, 0.8387878787878789, 0.8324242424242424, 0.8251515151515152, 0.8193939393939392, 0.7924242424242424, 0.8457575757575758, 0.8293939393939394, 0.8421212121212122, 0.8351515151515153, 0.8493939393939393, 0.6021212121212122, 0.8393939393939394, 0.8354545454545454, 0.8351515151515152, 0.8290909090909091, 0.8151515151515152, 0.8524242424242423, 0.8051515151515152, 0.842121212121212, 0.8551515151515153]}, {\"categories\": [\"0\", \"3\", \"5\", \"12\", \"13\", \"18\", \"21\", \"22\", \"23\", \"24\", \"26\", \"27\", \"28\", \"29\", \"30\", \"31\", \"32\", \"33\", \"34\", \"35\", \"36\", \"37\", \"38\", \"39\", \"40\", \"41\", \"42\", \"43\", \"48\"], \"mode\": \"lines\", \"name\": \"precision_score_micro_max\", \"stepped\": true, \"type\": \"scatter\", \"data\": [0.8587878787878788, 0.8587878787878788, 0.8587878787878788, 0.8587878787878788, 0.8587878787878788, 0.8587878787878788, 0.8587878787878788, 0.8587878787878788, 0.8587878787878788, 0.8587878787878788, 0.8587878787878788, 0.8587878787878788, 0.8587878787878788, 0.8587878787878788, 0.8587878787878788, 0.8587878787878788, 0.8587878787878788, 0.8587878787878788, 0.8587878787878788, 0.8587878787878788, 0.8587878787878788, 0.8587878787878788, 0.8587878787878788, 0.8587878787878788, 0.8587878787878788, 0.8587878787878788, 0.8587878787878788, 0.8587878787878788, 0.8587878787878788]}], \"log_loss\": [{\"categories\": [\"0\", \"3\", \"5\", \"12\", \"13\", \"18\", \"21\", \"22\", \"23\", \"24\", \"26\", \"27\", \"28\", \"29\", \"30\", \"31\", \"32\", \"33\", \"34\", \"35\", \"36\", \"37\", \"38\", \"39\", \"40\", \"41\", \"42\", \"43\", \"48\"], \"mode\": \"markers\", \"name\": \"log_loss\", \"stepped\": false, \"type\": \"scatter\", \"data\": [0.45525454587247055, 0.3791599897275757, 0.6834405425022606, 0.42475324656997065, 1.2777182033823098, 0.4188363377605817, 0.3633272397678377, 0.42495535551420166, 0.4578320853839712, 0.38737166189149846, 0.4056427276361567, 0.4790767719238629, 0.45734564110057485, 0.47751039313069826, 0.38426334162931414, 0.4358305758015646, 0.39985166626717605, 0.48402783230287255, 0.40379996047663147, 0.6926263617695563, 0.4665208694604589, 0.42020827434562213, 0.36701320876824634, 0.3988369270562626, 0.5781583355140305, 0.3658383930131707, 0.6203076935894677, 0.4123803751940976, 0.3570054325605689]}, {\"categories\": [\"0\", \"3\", \"5\", \"12\", \"13\", \"18\", \"21\", \"22\", \"23\", \"24\", \"26\", \"27\", \"28\", \"29\", \"30\", \"31\", \"32\", \"33\", \"34\", \"35\", \"36\", \"37\", \"38\", \"39\", \"40\", \"41\", \"42\", \"43\", \"48\"], \"mode\": \"lines\", \"name\": \"log_loss_min\", \"stepped\": true, \"type\": \"scatter\", \"data\": [0.45525454587247055, 0.3791599897275757, 0.3791599897275757, 0.3791599897275757, 0.3791599897275757, 0.3791599897275757, 0.3633272397678377, 0.3633272397678377, 0.3633272397678377, 0.3633272397678377, 0.3633272397678377, 0.3633272397678377, 0.3633272397678377, 0.3633272397678377, 0.3633272397678377, 0.3633272397678377, 0.3633272397678377, 0.3633272397678377, 0.3633272397678377, 0.3633272397678377, 0.3633272397678377, 0.3633272397678377, 0.3633272397678377, 0.3633272397678377, 0.3633272397678377, 0.3633272397678377, 0.3633272397678377, 0.3633272397678377, 0.3570054325605689]}], \"precision_score_weighted\": [{\"categories\": [\"0\", \"3\", \"5\", \"12\", \"13\", \"18\", \"21\", \"22\", \"23\", \"24\", \"26\", \"27\", \"28\", \"29\", \"30\", \"31\", \"32\", \"33\", \"34\", \"35\", \"36\", \"37\", \"38\", \"39\", \"40\", \"41\", \"42\", \"43\", \"48\"], \"mode\": \"markers\", \"name\": \"precision_score_weighted\", \"stepped\": false, \"type\": \"scatter\", \"data\": [0.8776133958633959, 0.8644128186628187, 0.5923333333333334, 0.8170125060125061, 0.7911085858585858, 0.8605244107744108, 0.8641304713804714, 0.8443548581048581, 0.8273006253006252, 0.8619506974506974, 0.8501228956228957, 0.8567816257816259, 0.839917748917749, 0.8255867003367002, 0.8688964646464648, 0.8465387205387206, 0.8634822029822031, 0.8591705146705146, 0.8650126262626263, 0.5274208754208755, 0.8507878787878788, 0.8566963684463685, 0.8635670995670996, 0.8396239778739778, 0.8466284271284272, 0.8722542087542087, 0.830398027898028, 0.8681046176046177, 0.8741191678691678]}, {\"categories\": [\"0\", \"3\", \"5\", \"12\", \"13\", \"18\", \"21\", \"22\", \"23\", \"24\", \"26\", \"27\", \"28\", \"29\", \"30\", \"31\", \"32\", \"33\", \"34\", \"35\", \"36\", \"37\", \"38\", \"39\", \"40\", \"41\", \"42\", \"43\", \"48\"], \"mode\": \"lines\", \"name\": \"precision_score_weighted_max\", \"stepped\": true, \"type\": \"scatter\", \"data\": [0.8776133958633959, 0.8776133958633959, 0.8776133958633959, 0.8776133958633959, 0.8776133958633959, 0.8776133958633959, 0.8776133958633959, 0.8776133958633959, 0.8776133958633959, 0.8776133958633959, 0.8776133958633959, 0.8776133958633959, 0.8776133958633959, 0.8776133958633959, 0.8776133958633959, 0.8776133958633959, 0.8776133958633959, 0.8776133958633959, 0.8776133958633959, 0.8776133958633959, 0.8776133958633959, 0.8776133958633959, 0.8776133958633959, 0.8776133958633959, 0.8776133958633959, 0.8776133958633959, 0.8776133958633959, 0.8776133958633959, 0.8776133958633959]}], \"balanced_accuracy\": [{\"categories\": [\"0\", \"3\", \"5\", \"12\", \"13\", \"18\", \"21\", \"22\", \"23\", \"24\", \"26\", \"27\", \"28\", \"29\", \"30\", \"31\", \"32\", \"33\", \"34\", \"35\", \"36\", \"37\", \"38\", \"39\", \"40\", \"41\", \"42\", \"43\", \"48\"], \"mode\": \"markers\", \"name\": \"balanced_accuracy\", \"stepped\": false, \"type\": \"scatter\", \"data\": [0.8307222222222223, 0.8100476190476189, 0.5323636363636364, 0.7443008658008659, 0.673047619047619, 0.7937063492063491, 0.8112777777777778, 0.7872142857142858, 0.7712929292929293, 0.8134444444444445, 0.7881190476190477, 0.8151349206349207, 0.7549126984126984, 0.7419920634920635, 0.8155317460317459, 0.7686666666666666, 0.805952380952381, 0.8141746031746032, 0.8007142857142857, 0.4750382395382395, 0.8008650793650793, 0.7979285714285715, 0.8164999999999999, 0.7860238095238097, 0.780403318903319, 0.8226507936507936, 0.7689675324675325, 0.8121984126984126, 0.8200873015873016]}, {\"categories\": [\"0\", \"3\", \"5\", \"12\", \"13\", \"18\", \"21\", \"22\", \"23\", \"24\", \"26\", \"27\", \"28\", \"29\", \"30\", \"31\", \"32\", \"33\", \"34\", \"35\", \"36\", \"37\", \"38\", \"39\", \"40\", \"41\", \"42\", \"43\", \"48\"], \"mode\": \"lines\", \"name\": \"balanced_accuracy_max\", \"stepped\": true, \"type\": \"scatter\", \"data\": [0.8307222222222223, 0.8307222222222223, 0.8307222222222223, 0.8307222222222223, 0.8307222222222223, 0.8307222222222223, 0.8307222222222223, 0.8307222222222223, 0.8307222222222223, 0.8307222222222223, 0.8307222222222223, 0.8307222222222223, 0.8307222222222223, 0.8307222222222223, 0.8307222222222223, 0.8307222222222223, 0.8307222222222223, 0.8307222222222223, 0.8307222222222223, 0.8307222222222223, 0.8307222222222223, 0.8307222222222223, 0.8307222222222223, 0.8307222222222223, 0.8307222222222223, 0.8307222222222223, 0.8307222222222223, 0.8307222222222223, 0.8307222222222223]}], \"accuracy\": [{\"categories\": [\"0\", \"3\", \"5\", \"12\", \"13\", \"18\", \"21\", \"22\", \"23\", \"24\", \"26\", \"27\", \"28\", \"29\", \"30\", \"31\", \"32\", \"33\", \"34\", \"35\", \"36\", \"37\", \"38\", \"39\", \"40\", \"41\", \"42\", \"43\", \"48\"], \"mode\": \"markers\", \"name\": \"accuracy\", \"stepped\": false, \"type\": \"scatter\", \"data\": [0.8587878787878788, 0.8290909090909091, 0.6460606060606061, 0.7954545454545454, 0.7651515151515151, 0.8357575757575756, 0.8487878787878788, 0.8321212121212122, 0.7815151515151516, 0.8387878787878789, 0.8324242424242424, 0.8251515151515152, 0.8193939393939392, 0.7924242424242424, 0.8457575757575758, 0.8293939393939394, 0.8421212121212122, 0.8351515151515153, 0.8493939393939393, 0.6021212121212122, 0.8393939393939394, 0.8354545454545454, 0.8351515151515152, 0.8290909090909091, 0.8151515151515152, 0.8524242424242423, 0.8051515151515152, 0.842121212121212, 0.8551515151515153]}, {\"categories\": [\"0\", \"3\", \"5\", \"12\", \"13\", \"18\", \"21\", \"22\", \"23\", \"24\", \"26\", \"27\", \"28\", \"29\", \"30\", \"31\", \"32\", \"33\", \"34\", \"35\", \"36\", \"37\", \"38\", \"39\", \"40\", \"41\", \"42\", \"43\", \"48\"], \"mode\": \"lines\", \"name\": \"accuracy_max\", \"stepped\": true, \"type\": \"scatter\", \"data\": [0.8587878787878788, 0.8587878787878788, 0.8587878787878788, 0.8587878787878788, 0.8587878787878788, 0.8587878787878788, 0.8587878787878788, 0.8587878787878788, 0.8587878787878788, 0.8587878787878788, 0.8587878787878788, 0.8587878787878788, 0.8587878787878788, 0.8587878787878788, 0.8587878787878788, 0.8587878787878788, 0.8587878787878788, 0.8587878787878788, 0.8587878787878788, 0.8587878787878788, 0.8587878787878788, 0.8587878787878788, 0.8587878787878788, 0.8587878787878788, 0.8587878787878788, 0.8587878787878788, 0.8587878787878788, 0.8587878787878788, 0.8587878787878788]}], \"average_precision_score_weighted\": [{\"categories\": [\"0\", \"3\", \"5\", \"12\", \"13\", \"18\", \"21\", \"22\", \"23\", \"24\", \"26\", \"27\", \"28\", \"29\", \"30\", \"31\", \"32\", \"33\", \"34\", \"35\", \"36\", \"37\", \"38\", \"39\", \"40\", \"41\", \"42\", \"43\", \"48\"], \"mode\": \"markers\", \"name\": \"average_precision_score_weighted\", \"stepped\": false, \"type\": \"scatter\", \"data\": [0.9342339192793737, 0.9251968494468495, 0.6965435305435306, 0.9067338864838865, 0.8204567974113429, 0.9164290524290525, 0.9217815055315056, 0.9268742511697057, 0.9047149197603741, 0.9093955901001355, 0.9126520289474834, 0.9288923761423763, 0.9112077047531593, 0.8712360837815382, 0.941613035113035, 0.9140487012987013, 0.9137058682058682, 0.9089788687743233, 0.9346340788840789, 0.6688655275700731, 0.9137910052910052, 0.9089793497748043, 0.9287597402597402, 0.9230600048100048, 0.9269278499278499, 0.9358733766233766, 0.9157184944684944, 0.9329410774410775, 0.9511188071188071]}, {\"categories\": [\"0\", \"3\", \"5\", \"12\", \"13\", \"18\", \"21\", \"22\", \"23\", \"24\", \"26\", \"27\", \"28\", \"29\", \"30\", \"31\", \"32\", \"33\", \"34\", \"35\", \"36\", \"37\", \"38\", \"39\", \"40\", \"41\", \"42\", \"43\", \"48\"], \"mode\": \"lines\", \"name\": \"average_precision_score_weighted_max\", \"stepped\": true, \"type\": \"scatter\", \"data\": [0.9342339192793737, 0.9342339192793737, 0.9342339192793737, 0.9342339192793737, 0.9342339192793737, 0.9342339192793737, 0.9342339192793737, 0.9342339192793737, 0.9342339192793737, 0.9342339192793737, 0.9342339192793737, 0.9342339192793737, 0.9342339192793737, 0.9342339192793737, 0.941613035113035, 0.941613035113035, 0.941613035113035, 0.941613035113035, 0.941613035113035, 0.941613035113035, 0.941613035113035, 0.941613035113035, 0.941613035113035, 0.941613035113035, 0.941613035113035, 0.941613035113035, 0.941613035113035, 0.941613035113035, 0.9511188071188071]}], \"precision_score_macro\": [{\"categories\": [\"0\", \"3\", \"5\", \"12\", \"13\", \"18\", \"21\", \"22\", \"23\", \"24\", \"26\", \"27\", \"28\", \"29\", \"30\", \"31\", \"32\", \"33\", \"34\", \"35\", \"36\", \"37\", \"38\", \"39\", \"40\", \"41\", \"42\", \"43\", \"48\"], \"mode\": \"markers\", \"name\": \"precision_score_macro\", \"stepped\": false, \"type\": \"scatter\", \"data\": [0.855507215007215, 0.8279725829725829, 0.5013636363636365, 0.7795836940836942, 0.7468484848484848, 0.8405743145743146, 0.8315634920634922, 0.818465367965368, 0.7569682539682538, 0.8267929292929295, 0.8060454545454546, 0.8034761904761905, 0.8339841269841269, 0.7855101010101009, 0.8438001443001443, 0.8215772005772005, 0.8329891774891776, 0.8109206349206349, 0.8426738816738816, 0.4130707070707071, 0.8112518037518036, 0.8223629148629149, 0.8178391053391053, 0.8117590187590189, 0.813498556998557, 0.8437770562770562, 0.7707380952380953, 0.8430844155844156, 0.8544033189033189]}, {\"categories\": [\"0\", \"3\", \"5\", \"12\", \"13\", \"18\", \"21\", \"22\", \"23\", \"24\", \"26\", \"27\", \"28\", \"29\", \"30\", \"31\", \"32\", \"33\", \"34\", \"35\", \"36\", \"37\", \"38\", \"39\", \"40\", \"41\", \"42\", \"43\", \"48\"], \"mode\": \"lines\", \"name\": \"precision_score_macro_max\", \"stepped\": true, \"type\": \"scatter\", \"data\": [0.855507215007215, 0.855507215007215, 0.855507215007215, 0.855507215007215, 0.855507215007215, 0.855507215007215, 0.855507215007215, 0.855507215007215, 0.855507215007215, 0.855507215007215, 0.855507215007215, 0.855507215007215, 0.855507215007215, 0.855507215007215, 0.855507215007215, 0.855507215007215, 0.855507215007215, 0.855507215007215, 0.855507215007215, 0.855507215007215, 0.855507215007215, 0.855507215007215, 0.855507215007215, 0.855507215007215, 0.855507215007215, 0.855507215007215, 0.855507215007215, 0.855507215007215, 0.855507215007215]}], \"f1_score_macro\": [{\"categories\": [\"0\", \"3\", \"5\", \"12\", \"13\", \"18\", \"21\", \"22\", \"23\", \"24\", \"26\", \"27\", \"28\", \"29\", \"30\", \"31\", \"32\", \"33\", \"34\", \"35\", \"36\", \"37\", \"38\", \"39\", \"40\", \"41\", \"42\", \"43\", \"48\"], \"mode\": \"markers\", \"name\": \"f1_score_macro\", \"stepped\": false, \"type\": \"scatter\", \"data\": [0.8282960668502465, 0.7948403357908002, 0.4884678027510845, 0.7392042761160408, 0.6693327781908345, 0.7890071576170647, 0.8093988725412875, 0.7873643664556979, 0.7439230997760409, 0.8049218298041828, 0.7829870499297745, 0.7963678474947824, 0.7578623273870951, 0.7332322136068267, 0.811753132144773, 0.768157246606163, 0.8014410778420067, 0.7987457604315189, 0.8003319561415536, 0.42551991833415975, 0.787970456959621, 0.7931803524992379, 0.8014374079652717, 0.7826277121571239, 0.7717809548552581, 0.8177287652148333, 0.7512923469719135, 0.8075133169204376, 0.8212619539043686]}, {\"categories\": [\"0\", \"3\", \"5\", \"12\", \"13\", \"18\", \"21\", \"22\", \"23\", \"24\", \"26\", \"27\", \"28\", \"29\", \"30\", \"31\", \"32\", \"33\", \"34\", \"35\", \"36\", \"37\", \"38\", \"39\", \"40\", \"41\", \"42\", \"43\", \"48\"], \"mode\": \"lines\", \"name\": \"f1_score_macro_max\", \"stepped\": true, \"type\": \"scatter\", \"data\": [0.8282960668502465, 0.8282960668502465, 0.8282960668502465, 0.8282960668502465, 0.8282960668502465, 0.8282960668502465, 0.8282960668502465, 0.8282960668502465, 0.8282960668502465, 0.8282960668502465, 0.8282960668502465, 0.8282960668502465, 0.8282960668502465, 0.8282960668502465, 0.8282960668502465, 0.8282960668502465, 0.8282960668502465, 0.8282960668502465, 0.8282960668502465, 0.8282960668502465, 0.8282960668502465, 0.8282960668502465, 0.8282960668502465, 0.8282960668502465, 0.8282960668502465, 0.8282960668502465, 0.8282960668502465, 0.8282960668502465, 0.8282960668502465]}], \"f1_score_weighted\": [{\"categories\": [\"0\", \"3\", \"5\", \"12\", \"13\", \"18\", \"21\", \"22\", \"23\", \"24\", \"26\", \"27\", \"28\", \"29\", \"30\", \"31\", \"32\", \"33\", \"34\", \"35\", \"36\", \"37\", \"38\", \"39\", \"40\", \"41\", \"42\", \"43\", \"48\"], \"mode\": \"markers\", \"name\": \"f1_score_weighted\", \"stepped\": false, \"type\": \"scatter\", \"data\": [0.8571802159542098, 0.8259178435656764, 0.5943910422223115, 0.7908357062327651, 0.7451605815899799, 0.827366235845338, 0.846977895398948, 0.8250700251187867, 0.788909133894428, 0.8384413179413179, 0.8297220202111842, 0.8302536559014887, 0.8010741310346574, 0.7856642767850199, 0.8435771924440657, 0.8160754214825423, 0.8381952046348331, 0.8360487813127132, 0.8401663513072183, 0.5452128315441009, 0.8302905272688554, 0.8321316142864131, 0.8367820725312985, 0.8202443749061394, 0.8131925669216692, 0.8503059431395344, 0.8030650812609017, 0.8395438306103942, 0.8533016517079984]}, {\"categories\": [\"0\", \"3\", \"5\", \"12\", \"13\", \"18\", \"21\", \"22\", \"23\", \"24\", \"26\", \"27\", \"28\", \"29\", \"30\", \"31\", \"32\", \"33\", \"34\", \"35\", \"36\", \"37\", \"38\", \"39\", \"40\", \"41\", \"42\", \"43\", \"48\"], \"mode\": \"lines\", \"name\": \"f1_score_weighted_max\", \"stepped\": true, \"type\": \"scatter\", \"data\": [0.8571802159542098, 0.8571802159542098, 0.8571802159542098, 0.8571802159542098, 0.8571802159542098, 0.8571802159542098, 0.8571802159542098, 0.8571802159542098, 0.8571802159542098, 0.8571802159542098, 0.8571802159542098, 0.8571802159542098, 0.8571802159542098, 0.8571802159542098, 0.8571802159542098, 0.8571802159542098, 0.8571802159542098, 0.8571802159542098, 0.8571802159542098, 0.8571802159542098, 0.8571802159542098, 0.8571802159542098, 0.8571802159542098, 0.8571802159542098, 0.8571802159542098, 0.8571802159542098, 0.8571802159542098, 0.8571802159542098, 0.8571802159542098]}], \"AUC_macro\": [{\"categories\": [\"0\", \"3\", \"5\", \"12\", \"13\", \"18\", \"21\", \"22\", \"23\", \"24\", \"26\", \"27\", \"28\", \"29\", \"30\", \"31\", \"32\", \"33\", \"34\", \"35\", \"36\", \"37\", \"38\", \"39\", \"40\", \"41\", \"42\", \"43\", \"48\"], \"mode\": \"markers\", \"name\": \"AUC_macro\", \"stepped\": false, \"type\": \"scatter\", \"data\": [0.9038664021164021, 0.8976058201058201, 0.5179525012025012, 0.8624681337181337, 0.748581228956229, 0.8792222222222223, 0.8941759259259259, 0.8991706349206348, 0.8573544973544975, 0.8749232804232803, 0.8676018518518519, 0.8966005291005291, 0.8667949735449736, 0.8074166666666666, 0.9164947089947091, 0.88130291005291, 0.8730661375661376, 0.8648478835978836, 0.9060343915343916, 0.49274813612313617, 0.8803835978835979, 0.8648373015873015, 0.8978915343915344, 0.8939629629629628, 0.8969365079365077, 0.9081851851851852, 0.8760886243386244, 0.9038386243386243, 0.9269894179894181]}, {\"categories\": [\"0\", \"3\", \"5\", \"12\", \"13\", \"18\", \"21\", \"22\", \"23\", \"24\", \"26\", \"27\", \"28\", \"29\", \"30\", \"31\", \"32\", \"33\", \"34\", \"35\", \"36\", \"37\", \"38\", \"39\", \"40\", \"41\", \"42\", \"43\", \"48\"], \"mode\": \"lines\", \"name\": \"AUC_macro_max\", \"stepped\": true, \"type\": \"scatter\", \"data\": [0.9038664021164021, 0.9038664021164021, 0.9038664021164021, 0.9038664021164021, 0.9038664021164021, 0.9038664021164021, 0.9038664021164021, 0.9038664021164021, 0.9038664021164021, 0.9038664021164021, 0.9038664021164021, 0.9038664021164021, 0.9038664021164021, 0.9038664021164021, 0.9164947089947091, 0.9164947089947091, 0.9164947089947091, 0.9164947089947091, 0.9164947089947091, 0.9164947089947091, 0.9164947089947091, 0.9164947089947091, 0.9164947089947091, 0.9164947089947091, 0.9164947089947091, 0.9164947089947091, 0.9164947089947091, 0.9164947089947091, 0.9269894179894181]}], \"AUC_micro\": [{\"categories\": [\"0\", \"3\", \"5\", \"12\", \"13\", \"18\", \"21\", \"22\", \"23\", \"24\", \"26\", \"27\", \"28\", \"29\", \"30\", \"31\", \"32\", \"33\", \"34\", \"35\", \"36\", \"37\", \"38\", \"39\", \"40\", \"41\", \"42\", \"43\", \"48\"], \"mode\": \"markers\", \"name\": \"AUC_micro\", \"stepped\": false, \"type\": \"scatter\", \"data\": [0.9059825528007347, 0.8960468319559227, 0.6672773186409551, 0.8849104683195591, 0.8011685032139578, 0.8961799816345271, 0.9062993572084481, 0.9005325987144169, 0.8538820018365473, 0.8982047750229569, 0.8905073461891644, 0.9066965105601469, 0.8791046831955923, 0.8464462809917356, 0.9166689623507804, 0.8892217630853996, 0.8974494949494948, 0.8842516069788797, 0.9103328741965107, 0.6568147382920111, 0.8993939393939394, 0.8852823691460054, 0.9050964187327822, 0.8987465564738293, 0.8965243342516068, 0.9154522497704316, 0.8836019283746558, 0.9066827364554636, 0.921418732782369]}, {\"categories\": [\"0\", \"3\", \"5\", \"12\", \"13\", \"18\", \"21\", \"22\", \"23\", \"24\", \"26\", \"27\", \"28\", \"29\", \"30\", \"31\", \"32\", \"33\", \"34\", \"35\", \"36\", \"37\", \"38\", \"39\", \"40\", \"41\", \"42\", \"43\", \"48\"], \"mode\": \"lines\", \"name\": \"AUC_micro_max\", \"stepped\": true, \"type\": \"scatter\", \"data\": [0.9059825528007347, 0.9059825528007347, 0.9059825528007347, 0.9059825528007347, 0.9059825528007347, 0.9059825528007347, 0.9062993572084481, 0.9062993572084481, 0.9062993572084481, 0.9062993572084481, 0.9062993572084481, 0.9066965105601469, 0.9066965105601469, 0.9066965105601469, 0.9166689623507804, 0.9166689623507804, 0.9166689623507804, 0.9166689623507804, 0.9166689623507804, 0.9166689623507804, 0.9166689623507804, 0.9166689623507804, 0.9166689623507804, 0.9166689623507804, 0.9166689623507804, 0.9166689623507804, 0.9166689623507804, 0.9166689623507804, 0.921418732782369]}]}, \"metricName\": null, \"primaryMetricName\": \"AUC_weighted\", \"showLegend\": false}, \"run_metrics\": [{\"name\": \"experiment_status\", \"run_id\": \"AutoML_4cde3cab-81ac-44bf-b019-7a1ebec0790a\", \"categories\": [0, 1, 2, 3, 4, 5, 6, 7, 8, 9, 10, 11, 12, 13], \"series\": [{\"data\": [\"DatasetEvaluation\", \"FeaturesGeneration\", \"DatasetFeaturization\", \"DatasetFeaturizationCompleted\", \"DatasetCrossValidationSplit\", \"ModelSelection\", \"BestRunExplainModel\", \"ModelExplanationDataSetSetup\", \"PickSurrogateModel\", \"EngineeredFeatureExplanations\", \"EngineeredFeatureExplanations\", \"RawFeaturesExplanations\", \"RawFeaturesExplanations\", \"BestRunExplainModel\"]}]}, {\"name\": \"experiment_status_description\", \"run_id\": \"AutoML_4cde3cab-81ac-44bf-b019-7a1ebec0790a\", \"categories\": [0, 1, 2, 3, 4, 5, 6, 7, 8, 9, 10, 11, 12, 13], \"series\": [{\"data\": [\"Gathering dataset statistics.\", \"Generating features for the dataset.\", \"Beginning to fit featurizers and featurize the dataset.\", \"Completed fit featurizers and featurizing the dataset.\", \"Generating individually featurized CV splits.\", \"Beginning model selection.\", \"Best run model explanations started\", \"Model explanations data setup completed\", \"Choosing LightGBM as the surrogate model for explanations\", \"Computation of engineered features started\", \"Computation of engineered features completed\", \"Computation of raw features started\", \"Computation of raw features completed\", \"Best run model explanations completed\"]}]}, {\"name\": \"recall_score_weighted\", \"run_id\": \"AutoML_4cde3cab-81ac-44bf-b019-7a1ebec0790a\", \"categories\": [0], \"series\": [{\"data\": [0.8551515151515153]}]}, {\"name\": \"f1_score_micro\", \"run_id\": \"AutoML_4cde3cab-81ac-44bf-b019-7a1ebec0790a\", \"categories\": [0], \"series\": [{\"data\": [0.8551515151515153]}]}, {\"name\": \"precision_score_macro\", \"run_id\": \"AutoML_4cde3cab-81ac-44bf-b019-7a1ebec0790a\", \"categories\": [0], \"series\": [{\"data\": [0.8544033189033189]}]}, {\"name\": \"average_precision_score_macro\", \"run_id\": \"AutoML_4cde3cab-81ac-44bf-b019-7a1ebec0790a\", \"categories\": [0], \"series\": [{\"data\": [0.9344637637715019]}]}, {\"name\": \"recall_score_macro\", \"run_id\": \"AutoML_4cde3cab-81ac-44bf-b019-7a1ebec0790a\", \"categories\": [0], \"series\": [{\"data\": [0.8200873015873016]}]}, {\"name\": \"balanced_accuracy\", \"run_id\": \"AutoML_4cde3cab-81ac-44bf-b019-7a1ebec0790a\", \"categories\": [0], \"series\": [{\"data\": [0.8200873015873016]}]}, {\"name\": \"AUC_micro\", \"run_id\": \"AutoML_4cde3cab-81ac-44bf-b019-7a1ebec0790a\", \"categories\": [0], \"series\": [{\"data\": [0.921418732782369]}]}, {\"name\": \"AUC_weighted\", \"run_id\": \"AutoML_4cde3cab-81ac-44bf-b019-7a1ebec0790a\", \"categories\": [0], \"series\": [{\"data\": [0.9269894179894181]}]}, {\"name\": \"f1_score_weighted\", \"run_id\": \"AutoML_4cde3cab-81ac-44bf-b019-7a1ebec0790a\", \"categories\": [0], \"series\": [{\"data\": [0.8533016517079984]}]}, {\"name\": \"accuracy\", \"run_id\": \"AutoML_4cde3cab-81ac-44bf-b019-7a1ebec0790a\", \"categories\": [0], \"series\": [{\"data\": [0.8551515151515153]}]}, {\"name\": \"weighted_accuracy\", \"run_id\": \"AutoML_4cde3cab-81ac-44bf-b019-7a1ebec0790a\", \"categories\": [0], \"series\": [{\"data\": [0.8737778600518327]}]}, {\"name\": \"precision_score_micro\", \"run_id\": \"AutoML_4cde3cab-81ac-44bf-b019-7a1ebec0790a\", \"categories\": [0], \"series\": [{\"data\": [0.8551515151515153]}]}, {\"name\": \"average_precision_score_weighted\", \"run_id\": \"AutoML_4cde3cab-81ac-44bf-b019-7a1ebec0790a\", \"categories\": [0], \"series\": [{\"data\": [0.9511188071188071]}]}, {\"name\": \"f1_score_macro\", \"run_id\": \"AutoML_4cde3cab-81ac-44bf-b019-7a1ebec0790a\", \"categories\": [0], \"series\": [{\"data\": [0.8212619539043686]}]}, {\"name\": \"AUC_macro\", \"run_id\": \"AutoML_4cde3cab-81ac-44bf-b019-7a1ebec0790a\", \"categories\": [0], \"series\": [{\"data\": [0.9269894179894181]}]}, {\"name\": \"recall_score_micro\", \"run_id\": \"AutoML_4cde3cab-81ac-44bf-b019-7a1ebec0790a\", \"categories\": [0], \"series\": [{\"data\": [0.8551515151515153]}]}, {\"name\": \"matthews_correlation\", \"run_id\": \"AutoML_4cde3cab-81ac-44bf-b019-7a1ebec0790a\", \"categories\": [0], \"series\": [{\"data\": [0.6695312740890965]}]}, {\"name\": \"log_loss\", \"run_id\": \"AutoML_4cde3cab-81ac-44bf-b019-7a1ebec0790a\", \"categories\": [0], \"series\": [{\"data\": [0.3570054325605689]}]}, {\"name\": \"average_precision_score_micro\", \"run_id\": \"AutoML_4cde3cab-81ac-44bf-b019-7a1ebec0790a\", \"categories\": [0], \"series\": [{\"data\": [0.9293660344786506]}]}, {\"name\": \"norm_macro_recall\", \"run_id\": \"AutoML_4cde3cab-81ac-44bf-b019-7a1ebec0790a\", \"categories\": [0], \"series\": [{\"data\": [0.6418412698412698]}]}, {\"name\": \"precision_score_weighted\", \"run_id\": \"AutoML_4cde3cab-81ac-44bf-b019-7a1ebec0790a\", \"categories\": [0], \"series\": [{\"data\": [0.8741191678691678]}]}], \"run_logs\": \"\\nRun is completed.\", \"graph\": {}, \"widget_settings\": {\"childWidgetDisplay\": \"popup\", \"send_telemetry\": false, \"log_level\": \"INFO\", \"sdk_version\": \"1.39.0\"}, \"loading\": false}"
     },
     "metadata": {},
     "output_type": "display_data"
    }
   ],
   "source": [
    "\n",
    "RunDetails(remote_run).show()"
   ]
  },
  {
   "cell_type": "code",
   "execution_count": 31,
   "metadata": {},
   "outputs": [
    {
     "data": {
      "text/html": [
       "<table style=\"width:100%\"><tr><th>Experiment</th><th>Id</th><th>Type</th><th>Status</th><th>Details Page</th><th>Docs Page</th></tr><tr><td>ml-experiment-1</td><td>AutoML_4cde3cab-81ac-44bf-b019-7a1ebec0790a</td><td>automl</td><td>NotStarted</td><td><a href=\"https://ml.azure.com/runs/AutoML_4cde3cab-81ac-44bf-b019-7a1ebec0790a?wsid=/subscriptions/2c48c51c-bd47-40d4-abbe-fb8eabd19c8c/resourcegroups/aml-quickstarts-192174/workspaces/quick-starts-ws-192174&amp;tid=660b3398-b80e-49d2-bc5b-ac1dc93b5254\" target=\"_blank\" rel=\"noopener\">Link to Azure Machine Learning studio</a></td><td><a href=\"https://docs.microsoft.com/en-us/python/api/overview/azure/ml/intro?view=azure-ml-py\" target=\"_blank\" rel=\"noopener\">Link to Documentation</a></td></tr></table>"
      ],
      "text/plain": [
       "<IPython.core.display.HTML object>"
      ]
     },
     "metadata": {},
     "output_type": "display_data"
    },
    {
     "name": "stdout",
     "output_type": "stream",
     "text": [
      "\n",
      "Current status: FeaturesGeneration. Generating features for the dataset.\n",
      "Current status: DatasetCrossValidationSplit. Generating individually featurized CV splits.\n",
      "Current status: ModelSelection. Beginning model selection.\n",
      "\n",
      "********************************************************************************************\n",
      "DATA GUARDRAILS: \n",
      "\n",
      "TYPE:         Class balancing detection\n",
      "STATUS:       PASSED\n",
      "DESCRIPTION:  Your inputs were analyzed, and all classes are balanced in your training data.\n",
      "              Learn more about imbalanced data: https://aka.ms/AutomatedMLImbalancedData\n",
      "\n",
      "********************************************************************************************\n",
      "\n",
      "TYPE:         Missing feature values imputation\n",
      "STATUS:       PASSED\n",
      "DESCRIPTION:  No feature missing values were detected in the training data.\n",
      "              Learn more about missing value imputation: https://aka.ms/AutomatedMLFeaturization\n",
      "\n",
      "********************************************************************************************\n",
      "\n",
      "TYPE:         High cardinality feature detection\n",
      "STATUS:       PASSED\n",
      "DESCRIPTION:  Your inputs were analyzed, and no high cardinality features were detected.\n",
      "              Learn more about high cardinality feature handling: https://aka.ms/AutomatedMLFeaturization\n",
      "\n",
      "********************************************************************************************\n",
      "\n",
      "********************************************************************************************\n",
      "ITER: The iteration being evaluated.\n",
      "PIPELINE: A summary description of the pipeline being evaluated.\n",
      "DURATION: Time taken for the current iteration.\n",
      "METRIC: The result of computing score on the fitted pipeline.\n",
      "BEST: The best observed score thus far.\n",
      "********************************************************************************************\n",
      "\n",
      " ITER   PIPELINE                                       DURATION            METRIC      BEST\n",
      "    0   MaxAbsScaler LightGBM                          0:00:17             0.9039    0.9039\n",
      "    1   MaxAbsScaler XGBoostClassifier                 0:00:17             0.9052    0.9052\n",
      "    2   MaxAbsScaler ExtremeRandomTrees                0:00:16             0.8753    0.9052\n",
      "    3   MaxAbsScaler RandomForest                      0:00:16             0.8976    0.9052\n",
      "    8   RobustScaler KNN                               0:00:16             0.8445    0.9052\n",
      "    4   StandardScalerWrapper LightGBM                 0:00:17             0.9015    0.9052\n",
      "    5   StandardScalerWrapper KNN                      0:00:16             0.5180    0.9052\n",
      "    9   MinMaxScaler RandomForest                      0:00:17             0.8923    0.9052\n",
      "   10   StandardScalerWrapper LogisticRegression       0:00:16             0.8570    0.9052\n",
      "   12   StandardScalerWrapper XGBoostClassifier        0:00:16             0.8625    0.9052\n",
      "    6   SparseNormalizer XGBoostClassifier             0:00:17             0.8775    0.9052\n",
      "   11   StandardScalerWrapper SVM                      0:00:16             0.7739    0.9052\n",
      "   13   SparseNormalizer KNN                           0:00:16             0.7486    0.9052\n",
      "   14   RobustScaler ExtremeRandomTrees                0:00:16             0.8768    0.9052\n",
      "   15   SparseNormalizer XGBoostClassifier             0:00:16             0.8904    0.9052\n",
      "   16   MinMaxScaler ExtremeRandomTrees                0:00:18             0.8989    0.9052\n",
      "   17   MinMaxScaler ExtremeRandomTrees                0:00:17             0.8964    0.9052\n",
      "   18   SparseNormalizer LightGBM                      0:00:16             0.8792    0.9052\n",
      "    7   SparseNormalizer RandomForest                  0:00:23             0.8917    0.9052\n",
      "   19   MaxAbsScaler ExtremeRandomTrees                0:00:32             0.8606    0.9052\n",
      "   22   MaxAbsScaler LightGBM                          0:00:04             0.8992    0.9052\n",
      "   21   StandardScalerWrapper RandomForest             0:00:04             0.8942    0.9052\n",
      "   20   StandardScalerWrapper XGBoostClassifier        0:00:04             0.9008    0.9052\n",
      "   23   MaxAbsScaler LogisticRegression                0:00:04             0.8574    0.9052\n",
      "   24   StandardScalerWrapper XGBoostClassifier        0:00:04             0.8749    0.9052\n",
      "   25   StandardScalerWrapper ExtremeRandomTrees       0:00:04             0.9000    0.9052\n",
      "   26   StandardScalerWrapper LogisticRegression       0:00:04             0.8676    0.9052\n",
      "   27   MinMaxScaler RandomForest                      0:00:04             0.8966    0.9052\n",
      "   29   RobustScaler SVM                               0:00:04             0.8074    0.9052\n",
      "   30   StandardScalerWrapper XGBoostClassifier        0:00:04             0.9165    0.9165\n",
      "   28   MaxAbsScaler ExtremeRandomTrees                0:00:04             0.8668    0.9165\n",
      "   31   MaxAbsScaler RandomForest                      0:00:04             0.8813    0.9165\n",
      "   32   SparseNormalizer LightGBM                      0:00:04             0.8731    0.9165\n",
      "   33   MaxAbsScaler ExtremeRandomTrees                0:00:04             0.8648    0.9165\n",
      "   34   StandardScalerWrapper LightGBM                 0:00:04             0.9060    0.9165\n",
      "   35   PCA XGBoostClassifier                          0:00:04             0.4927    0.9165\n",
      "   36   SparseNormalizer XGBoostClassifier             0:00:04             0.8804    0.9165\n",
      "   37   StandardScalerWrapper SVM                      0:00:04             0.8648    0.9165\n",
      "   38   MinMaxScaler RandomForest                      0:00:04             0.8979    0.9165\n",
      "   39   RobustScaler LightGBM                          0:00:04             0.8940    0.9165\n",
      "   41   StandardScalerWrapper LightGBM                 0:00:04             0.9082    0.9165\n",
      "   42   StandardScalerWrapper XGBoostClassifier        0:00:04             0.8761    0.9165\n",
      "   40   StandardScalerWrapper XGBoostClassifier        0:00:04             0.8969    0.9165\n",
      "   43   StandardScalerWrapper XGBoostClassifier        0:00:04             0.9038    0.9165\n",
      "   44   StandardScalerWrapper XGBoostClassifier        0:00:00                nan    0.9165\n",
      "ERROR: {\n",
      "    \"additional_properties\": {},\n",
      "    \"error\": {\n",
      "        \"additional_properties\": {\n",
      "            \"debugInfo\": null\n",
      "        },\n",
      "        \"code\": \"UserError\",\n",
      "        \"severity\": null,\n",
      "        \"message\": \"{'code': ReceivedTerminationSignal, 'message': Job was terminated due to: Runtime received an OS termination signal., 'target': , 'category': UserError, 'error_details': [], 'inner_error': null}\",\n",
      "        \"message_format\": null,\n",
      "        \"message_parameters\": {},\n",
      "        \"reference_code\": null,\n",
      "        \"details_uri\": null,\n",
      "        \"target\": null,\n",
      "        \"details\": [],\n",
      "        \"inner_error\": null,\n",
      "        \"additional_info\": null\n",
      "    },\n",
      "    \"correlation\": null,\n",
      "    \"environment\": null,\n",
      "    \"location\": null,\n",
      "    \"time\": {},\n",
      "    \"component_name\": null\n",
      "}\n",
      "   45   StandardScalerWrapper XGBoostClassifier        0:00:00                nan    0.9165\n",
      "ERROR: {\n",
      "    \"additional_properties\": {},\n",
      "    \"error\": {\n",
      "        \"additional_properties\": {\n",
      "            \"debugInfo\": null\n",
      "        },\n",
      "        \"code\": \"UserError\",\n",
      "        \"severity\": null,\n",
      "        \"message\": \"{'code': ReceivedTerminationSignal, 'message': Job was terminated due to: Runtime received an OS termination signal., 'target': , 'category': UserError, 'error_details': [], 'inner_error': null}\",\n",
      "        \"message_format\": null,\n",
      "        \"message_parameters\": {},\n",
      "        \"reference_code\": null,\n",
      "        \"details_uri\": null,\n",
      "        \"target\": null,\n",
      "        \"details\": [],\n",
      "        \"inner_error\": null,\n",
      "        \"additional_info\": null\n",
      "    },\n",
      "    \"correlation\": null,\n",
      "    \"environment\": null,\n",
      "    \"location\": null,\n",
      "    \"time\": {},\n",
      "    \"component_name\": null\n",
      "}\n",
      "   46   StandardScalerWrapper XGBoostClassifier        0:00:00                nan    0.9165\n",
      "ERROR: {\n",
      "    \"additional_properties\": {},\n",
      "    \"error\": {\n",
      "        \"additional_properties\": {\n",
      "            \"debugInfo\": null\n",
      "        },\n",
      "        \"code\": \"UserError\",\n",
      "        \"severity\": null,\n",
      "        \"message\": \"{'code': ReceivedTerminationSignal, 'message': Job was terminated due to: Runtime received an OS termination signal., 'target': , 'category': UserError, 'error_details': [], 'inner_error': null}\",\n",
      "        \"message_format\": null,\n",
      "        \"message_parameters\": {},\n",
      "        \"reference_code\": null,\n",
      "        \"details_uri\": null,\n",
      "        \"target\": null,\n",
      "        \"details\": [],\n",
      "        \"inner_error\": null,\n",
      "        \"additional_info\": null\n",
      "    },\n",
      "    \"correlation\": null,\n",
      "    \"environment\": null,\n",
      "    \"location\": null,\n",
      "    \"time\": {},\n",
      "    \"component_name\": null\n",
      "}\n"
     ]
    },
    {
     "name": "stdout",
     "output_type": "stream",
     "text": [
      "   47                                                  0:00:00                nan    0.9165\n",
      "   48    VotingEnsemble                                0:00:04             0.9270    0.9270\n",
      "   49    StackEnsemble                                 0:00:04             0.9170    0.9270\n"
     ]
    },
    {
     "data": {
      "text/plain": [
       "{'runId': 'AutoML_4cde3cab-81ac-44bf-b019-7a1ebec0790a',\n",
       " 'target': 'automl-cluster',\n",
       " 'status': 'Completed',\n",
       " 'startTimeUtc': '2022-04-15T18:09:41.612963Z',\n",
       " 'endTimeUtc': '2022-04-15T18:32:43.439137Z',\n",
       " 'services': {},\n",
       " 'warnings': [{'source': 'JasmineService',\n",
       "   'message': 'No scores improved over last 20 iterations, so experiment stopped early. This early stopping behavior can be disabled by setting enable_early_stopping = False in AutoMLConfig for notebook/python SDK runs.'}],\n",
       " 'properties': {'num_iterations': '1000',\n",
       "  'training_type': 'TrainFull',\n",
       "  'acquisition_function': 'EI',\n",
       "  'primary_metric': 'AUC_weighted',\n",
       "  'train_split': '0',\n",
       "  'acquisition_parameter': '0',\n",
       "  'num_cross_validation': '25',\n",
       "  'target': 'automl-cluster',\n",
       "  'AMLSettingsJsonString': '{\"path\":null,\"name\":\"ml-experiment-1\",\"subscription_id\":\"2c48c51c-bd47-40d4-abbe-fb8eabd19c8c\",\"resource_group\":\"aml-quickstarts-192174\",\"workspace_name\":\"quick-starts-ws-192174\",\"region\":\"southcentralus\",\"compute_target\":\"automl-cluster\",\"spark_service\":null,\"azure_service\":\"remote\",\"many_models\":false,\"pipeline_fetch_max_batch_size\":1,\"enable_batch_run\":true,\"enable_run_restructure\":false,\"start_auxiliary_runs_before_parent_complete\":false,\"enable_code_generation\":false,\"iterations\":1000,\"primary_metric\":\"AUC_weighted\",\"task_type\":\"classification\",\"positive_label\":null,\"data_script\":null,\"test_size\":0.0,\"test_include_predictions_only\":false,\"validation_size\":0.0,\"n_cross_validations\":25,\"y_min\":null,\"y_max\":null,\"num_classes\":null,\"featurization\":\"auto\",\"_ignore_package_version_incompatibilities\":false,\"is_timeseries\":false,\"max_cores_per_iteration\":1,\"max_concurrent_iterations\":5,\"iteration_timeout_minutes\":null,\"mem_in_mb\":null,\"enforce_time_on_windows\":false,\"experiment_timeout_minutes\":30,\"experiment_exit_score\":null,\"partition_column_names\":null,\"whitelist_models\":null,\"blacklist_algos\":[\"TensorFlowLinearClassifier\",\"TensorFlowDNN\"],\"supported_models\":[\"TensorFlowDNN\",\"TabnetClassifier\",\"DecisionTree\",\"KNN\",\"LinearSVM\",\"SGD\",\"SVM\",\"XGBoostClassifier\",\"BernoulliNaiveBayes\",\"ExtremeRandomTrees\",\"AveragedPerceptronClassifier\",\"GradientBoosting\",\"LogisticRegression\",\"MultinomialNaiveBayes\",\"TensorFlowLinearClassifier\",\"LightGBM\",\"RandomForest\"],\"private_models\":[],\"auto_blacklist\":true,\"blacklist_samples_reached\":false,\"exclude_nan_labels\":true,\"verbosity\":20,\"_debug_log\":\"azureml_automl.log\",\"show_warnings\":false,\"model_explainability\":true,\"service_url\":null,\"sdk_url\":null,\"sdk_packages\":null,\"enable_onnx_compatible_models\":false,\"enable_split_onnx_featurizer_estimator_models\":false,\"vm_type\":\"STANDARD_DS12_V2\",\"telemetry_verbosity\":20,\"send_telemetry\":true,\"enable_dnn\":false,\"scenario\":\"SDK-1.13.0\",\"environment_label\":null,\"save_mlflow\":false,\"enable_categorical_indicators\":false,\"force_text_dnn\":false,\"enable_feature_sweeping\":true,\"enable_early_stopping\":true,\"early_stopping_n_iters\":10,\"arguments\":null,\"dataset_id\":\"b8ef73bd-e25a-4979-9b85-5b18a49a745c\",\"hyperdrive_config\":null,\"validation_dataset_id\":null,\"run_source\":null,\"metrics\":null,\"enable_metric_confidence\":false,\"enable_ensembling\":true,\"enable_stack_ensembling\":true,\"ensemble_iterations\":15,\"enable_tf\":false,\"enable_subsampling\":null,\"subsample_seed\":null,\"enable_nimbusml\":false,\"enable_streaming\":false,\"force_streaming\":false,\"track_child_runs\":true,\"allowed_private_models\":[],\"label_column_name\":\"DEATH_EVENT\",\"weight_column_name\":null,\"cv_split_column_names\":null,\"enable_local_managed\":false,\"_local_managed_run_id\":null,\"cost_mode\":1,\"lag_length\":0,\"metric_operation\":\"maximize\",\"preprocess\":true}',\n",
       "  'DataPrepJsonString': '{\\\\\"training_data\\\\\": {\\\\\"datasetId\\\\\": \\\\\"b8ef73bd-e25a-4979-9b85-5b18a49a745c\\\\\"}, \\\\\"datasets\\\\\": 0}',\n",
       "  'EnableSubsampling': None,\n",
       "  'runTemplate': 'AutoML',\n",
       "  'azureml.runsource': 'automl',\n",
       "  'display_task_type': 'classification',\n",
       "  'dependencies_versions': '{\"azureml-widgets\": \"1.39.0\", \"azureml-training-tabular\": \"1.39.0\", \"azureml-train\": \"1.39.0\", \"azureml-train-restclients-hyperdrive\": \"1.39.0\", \"azureml-train-core\": \"1.39.0\", \"azureml-train-automl\": \"1.39.0\", \"azureml-train-automl-runtime\": \"1.39.0\", \"azureml-train-automl-client\": \"1.39.0\", \"azureml-tensorboard\": \"1.39.0\", \"azureml-telemetry\": \"1.39.0\", \"azureml-sdk\": \"1.39.0\", \"azureml-samples\": \"0+unknown\", \"azureml-responsibleai\": \"1.39.0\", \"azureml-pipeline\": \"1.39.0\", \"azureml-pipeline-steps\": \"1.39.0\", \"azureml-pipeline-core\": \"1.39.0\", \"azureml-opendatasets\": \"1.39.0\", \"azureml-mlflow\": \"1.39.0\", \"azureml-interpret\": \"1.39.0\", \"azureml-inference-server-http\": \"0.4.10\", \"azureml-explain-model\": \"1.39.0\", \"azureml-defaults\": \"1.39.0\", \"azureml-dataset-runtime\": \"1.39.0\", \"azureml-dataprep\": \"2.27.1\", \"azureml-dataprep-rslex\": \"2.3.1\", \"azureml-dataprep-native\": \"38.0.0\", \"azureml-datadrift\": \"1.39.0\", \"azureml-core\": \"1.39.0\", \"azureml-contrib-services\": \"1.39.0\", \"azureml-contrib-server\": \"1.39.0\", \"azureml-contrib-reinforcementlearning\": \"1.39.0\", \"azureml-contrib-pipeline-steps\": \"1.39.0\", \"azureml-contrib-notebook\": \"1.39.0\", \"azureml-contrib-fairness\": \"1.39.0\", \"azureml-contrib-dataset\": \"1.39.0\", \"azureml-contrib-automl-pipeline-steps\": \"1.39.0\", \"azureml-cli-common\": \"1.39.0\", \"azureml-automl-runtime\": \"1.39.0\", \"azureml-automl-dnn-nlp\": \"1.39.0\", \"azureml-automl-core\": \"1.39.0\", \"azureml-accel-models\": \"1.39.0\"}',\n",
       "  '_aml_system_scenario_identification': 'Remote.Parent',\n",
       "  'ClientType': 'SDK',\n",
       "  'environment_cpu_name': 'AzureML-AutoML',\n",
       "  'environment_cpu_label': 'prod',\n",
       "  'environment_gpu_name': 'AzureML-AutoML-GPU',\n",
       "  'environment_gpu_label': 'prod',\n",
       "  'root_attribution': 'automl',\n",
       "  'attribution': 'AutoML',\n",
       "  'Orchestrator': 'AutoML',\n",
       "  'CancelUri': 'https://southcentralus.api.azureml.ms/jasmine/v1.0/subscriptions/2c48c51c-bd47-40d4-abbe-fb8eabd19c8c/resourceGroups/aml-quickstarts-192174/providers/Microsoft.MachineLearningServices/workspaces/quick-starts-ws-192174/experimentids/c3771a42-e506-46f5-b24b-124b90228704/cancel/AutoML_4cde3cab-81ac-44bf-b019-7a1ebec0790a',\n",
       "  'azureml.git.repository_uri': 'https://github.com/camille-wilkens/AZ_Capstone.git',\n",
       "  'mlflow.source.git.repoURL': 'https://github.com/camille-wilkens/AZ_Capstone.git',\n",
       "  'azureml.git.branch': 'main',\n",
       "  'mlflow.source.git.branch': 'main',\n",
       "  'azureml.git.commit': '7dbbb227e0fef08ad56a292a82af5125f8b185c5',\n",
       "  'mlflow.source.git.commit': '7dbbb227e0fef08ad56a292a82af5125f8b185c5',\n",
       "  'azureml.git.dirty': 'True',\n",
       "  'ClientSdkVersion': '1.40.0.post1',\n",
       "  'snapshotId': '00000000-0000-0000-0000-000000000000',\n",
       "  'SetupRunId': 'AutoML_4cde3cab-81ac-44bf-b019-7a1ebec0790a_setup',\n",
       "  'SetupRunContainerId': 'dcid.AutoML_4cde3cab-81ac-44bf-b019-7a1ebec0790a_setup',\n",
       "  'FeaturizationRunJsonPath': 'featurizer_container.json',\n",
       "  'FeaturizationRunId': 'AutoML_4cde3cab-81ac-44bf-b019-7a1ebec0790a_featurize',\n",
       "  'ProblemInfoJsonString': '{\"dataset_num_categorical\": 0, \"is_sparse\": false, \"subsampling\": false, \"has_extra_col\": true, \"dataset_classes\": 2, \"dataset_features\": 12, \"dataset_samples\": 299, \"single_frequency_class_detected\": false}',\n",
       "  'ModelExplainRunId': 'AutoML_4cde3cab-81ac-44bf-b019-7a1ebec0790a_ModelExplain'},\n",
       " 'inputDatasets': [{'dataset': {'id': 'b8ef73bd-e25a-4979-9b85-5b18a49a745c'}, 'consumptionDetails': {'type': 'RunInput', 'inputName': 'training_data', 'mechanism': 'Direct'}}],\n",
       " 'outputDatasets': [],\n",
       " 'logFiles': {},\n",
       " 'submittedBy': 'ODL_User 192174'}"
      ]
     },
     "execution_count": 31,
     "metadata": {},
     "output_type": "execute_result"
    }
   ],
   "source": [
    "\n",
    "remote_run.wait_for_completion(show_output=True)"
   ]
  },
  {
   "cell_type": "markdown",
   "metadata": {},
   "source": [
    "## Best Model\n",
    "\n",
    "TODO: In the cell below, get the best model from the automl experiments and display all the properties of the model.\n",
    "\n"
   ]
  },
  {
   "cell_type": "code",
   "execution_count": 32,
   "metadata": {
    "gather": {
     "logged": 1598431425670
    },
    "jupyter": {
     "outputs_hidden": false,
     "source_hidden": false
    },
    "nteract": {
     "transient": {
      "deleting": false
     }
    }
   },
   "outputs": [
    {
     "name": "stderr",
     "output_type": "stream",
     "text": [
      "WARNING:root:The version of the SDK does not match the version the model was trained on.\n",
      "WARNING:root:The consistency in the result may not be guaranteed.\n",
      "WARNING:root:Package:azureml-automl-core, training version:1.40.0, current version:1.39.0\n",
      "Package:azureml-automl-runtime, training version:1.40.0, current version:1.39.0\n",
      "Package:azureml-core, training version:1.40.0, current version:1.39.0\n",
      "Package:azureml-dataprep, training version:3.0.1, current version:2.27.1\n",
      "Package:azureml-dataprep-rslex, training version:2.4.1, current version:2.3.1\n",
      "Package:azureml-dataset-runtime, training version:1.40.0, current version:1.39.0\n",
      "Package:azureml-defaults, training version:1.40.0, current version:1.39.0\n",
      "Package:azureml-interpret, training version:1.40.0, current version:1.39.0\n",
      "Package:azureml-mlflow, training version:1.40.0, current version:1.39.0\n",
      "Package:azureml-pipeline-core, training version:1.40.0, current version:1.39.0\n",
      "Package:azureml-responsibleai, training version:1.40.0, current version:1.39.0\n",
      "Package:azureml-telemetry, training version:1.40.0, current version:1.39.0\n",
      "Package:azureml-train-automl-client, training version:1.40.0, current version:1.39.0\n",
      "Package:azureml-train-automl-runtime, training version:1.40.0.post1, current version:1.39.0\n",
      "Package:azureml-train-core, training version:1.40.0, current version:1.39.0\n",
      "Package:azureml-train-restclients-hyperdrive, training version:1.40.0, current version:1.39.0\n",
      "Package:azureml-training-tabular, training version:1.40.0, current version:1.39.0\n",
      "WARNING:root:Please ensure the version of your local conda dependencies match the version on which your model was trained in order to properly retrieve your model.\n"
     ]
    },
    {
     "name": "stdout",
     "output_type": "stream",
     "text": [
      "Best Run: AutoML_4cde3cab-81ac-44bf-b019-7a1ebec0790a_48\n",
      "Run(Experiment: ml-experiment-1,\n",
      "Id: AutoML_4cde3cab-81ac-44bf-b019-7a1ebec0790a_48,\n",
      "Type: azureml.scriptrun,\n",
      "Status: Completed)\n",
      "Fitted Model: Pipeline(memory=None,\n",
      "         steps=[('datatransformer',\n",
      "                 DataTransformer(enable_dnn=False, enable_feature_sweeping=True, feature_sweeping_config={}, feature_sweeping_timeout=86400, featurization_config=None, force_text_dnn=False, is_cross_validation=True, is_onnx_compatible=False, observer=None, task='classification', working_dir='/mnt/batch/tasks/shared/LS_root/mount...\n",
      "                 PreFittedSoftVotingClassifier(classification_labels=array([0, 1]), estimators=[('30', Pipeline(memory=None, steps=[('standardscalerwrapper', StandardScalerWrapper(copy=True, with_mean=False, with_std=False)), ('xgboostclassifier', XGBoostClassifier(booster='gbtree', colsample_bytree=0.8, eta=0.1, grow_policy='lossguide', max_bin=255, max_depth=3, max_leaves=7, n_estimators=100, n_jobs=1, objective='reg:logistic', problem_info=ProblemInfo(gpu_training_param_dict={'processing_unit_type': 'cpu'}), random_state=0, reg_alpha=0, reg_lambda=0.10416666666666667, subsample=0.6, tree_method='hist'))], verbose=False)), ('41', Pipeline(memory=None, steps=[('standardscalerwrapper', StandardScalerWrapper(copy=True, with_mean=False, with_std=False)), ('lightgbmclassifier', LightGBMClassifier(boosting_type='goss', colsample_bytree=0.3966666666666666, learning_rate=0.06842421052631578, max_bin=290, max_depth=5, min_child_weight=4, min_data_in_leaf=0.013801724137931036, min_split_gain=0.10526315789473684, n_estimators=200, n_jobs=1, num_leaves=167, problem_info=ProblemInfo(gpu_training_param_dict={'processing_unit_type': 'cpu'}), random_state=None, reg_alpha=0.3157894736842105, reg_lambda=0.42105263157894735, subsample=1))], verbose=False)), ('34', Pipeline(memory=None, steps=[('standardscalerwrapper', StandardScalerWrapper(copy=True, with_mean=False, with_std=False)), ('lightgbmclassifier', LightGBMClassifier(boosting_type='goss', colsample_bytree=0.3966666666666666, learning_rate=0.010535263157894737, max_bin=220, max_depth=6, min_child_weight=4, min_data_in_leaf=0.020697586206896556, min_split_gain=0.47368421052631576, n_estimators=200, n_jobs=1, num_leaves=89, problem_info=ProblemInfo(gpu_training_param_dict={'processing_unit_type': 'cpu'}), random_state=None, reg_alpha=0.7894736842105263, reg_lambda=0.42105263157894735, subsample=1))], verbose=False)), ('1', Pipeline(memory=None, steps=[('maxabsscaler', MaxAbsScaler(copy=True)), ('xgboostclassifier', XGBoostClassifier(n_jobs=1, problem_info=ProblemInfo(gpu_training_param_dict={'processing_unit_type': 'cpu'}), random_state=0, tree_method='auto'))], verbose=False)), ('0', Pipeline(memory=None, steps=[('maxabsscaler', MaxAbsScaler(copy=True)), ('lightgbmclassifier', LightGBMClassifier(min_data_in_leaf=20, n_jobs=1, problem_info=ProblemInfo(gpu_training_param_dict={'processing_unit_type': 'cpu'}), random_state=None))], verbose=False))], flatten_transform=None, weights=[0.1, 0.1, 0.3, 0.1, 0.4]))],\n",
      "         verbose=False)\n",
      "Fitted Model Steps:\n",
      "[('datatransformer', DataTransformer(enable_dnn=False, enable_feature_sweeping=True, feature_sweeping_config={}, feature_sweeping_timeout=86400, featurization_config=None, force_text_dnn=False, is_cross_validation=True, is_onnx_compatible=False, task='classification')), ('prefittedsoftvotingclassifier', PreFittedSoftVotingClassifier(classification_labels=array([0, 1]), estimators=[('30', Pipeline(memory=None, steps=[('standardscalerwrapper', StandardScalerWrapper(copy=True, with_mean=False, with_std=False)), ('xgboostclassifier', XGBoostClassifier(booster='gbtree', colsample_bytree=0.8, eta=0.1, grow_policy='lossguide', max_bin=255, max_depth=3, max_leaves=7, n_estimators=100, n_jobs=1, objective='reg:logistic', problem_info=ProblemInfo(gpu_training_param_dict={'processing_unit_type': 'cpu'}), random_state=0, reg_alpha=0, reg_lambda=0.10416666666666667, subsample=0.6, tree_method='hist'))], verbose=False)), ('41', Pipeline(memory=None, steps=[('standardscalerwrapper', StandardScalerWrapper(copy=True, with_mean=False, with_std=False)), ('lightgbmclassifier', LightGBMClassifier(boosting_type='goss', colsample_bytree=0.3966666666666666, learning_rate=0.06842421052631578, max_bin=290, max_depth=5, min_child_weight=4, min_data_in_leaf=0.013801724137931036, min_split_gain=0.10526315789473684, n_estimators=200, n_jobs=1, num_leaves=167, problem_info=ProblemInfo(gpu_training_param_dict={'processing_unit_type': 'cpu'}), random_state=None, reg_alpha=0.3157894736842105, reg_lambda=0.42105263157894735, subsample=1))], verbose=False)), ('34', Pipeline(memory=None, steps=[('standardscalerwrapper', StandardScalerWrapper(copy=True, with_mean=False, with_std=False)), ('lightgbmclassifier', LightGBMClassifier(boosting_type='goss', colsample_bytree=0.3966666666666666, learning_rate=0.010535263157894737, max_bin=220, max_depth=6, min_child_weight=4, min_data_in_leaf=0.020697586206896556, min_split_gain=0.47368421052631576, n_estimators=200, n_jobs=1, num_leaves=89, problem_info=ProblemInfo(gpu_training_param_dict={'processing_unit_type': 'cpu'}), random_state=None, reg_alpha=0.7894736842105263, reg_lambda=0.42105263157894735, subsample=1))], verbose=False)), ('1', Pipeline(memory=None, steps=[('maxabsscaler', MaxAbsScaler(copy=True)), ('xgboostclassifier', XGBoostClassifier(n_jobs=1, problem_info=ProblemInfo(gpu_training_param_dict={'processing_unit_type': 'cpu'}), random_state=0, tree_method='auto'))], verbose=False)), ('0', Pipeline(memory=None, steps=[('maxabsscaler', MaxAbsScaler(copy=True)), ('lightgbmclassifier', LightGBMClassifier(min_data_in_leaf=20, n_jobs=1, problem_info=ProblemInfo(gpu_training_param_dict={'processing_unit_type': 'cpu'}), random_state=None))], verbose=False))], flatten_transform=None, weights=[0.1, 0.1, 0.3, 0.1, 0.4]))]\n",
      "Best Run Metrics\n",
      "{'precision_score_weighted': 0.8741191678691678, 'norm_macro_recall': 0.6418412698412698, 'AUC_macro': 0.9269894179894181, 'recall_score_micro': 0.8551515151515153, 'average_precision_score_micro': 0.9293660344786506, 'precision_score_macro': 0.8544033189033189, 'weighted_accuracy': 0.8737778600518327, 'f1_score_weighted': 0.8533016517079984, 'log_loss': 0.3570054325605689, 'AUC_weighted': 0.9269894179894181, 'f1_score_micro': 0.8551515151515153, 'recall_score_macro': 0.8200873015873016, 'precision_score_micro': 0.8551515151515153, 'average_precision_score_macro': 0.9344637637715019, 'average_precision_score_weighted': 0.9511188071188071, 'matthews_correlation': 0.6695312740890965, 'accuracy': 0.8551515151515153, 'AUC_micro': 0.921418732782369, 'balanced_accuracy': 0.8200873015873016, 'f1_score_macro': 0.8212619539043686, 'recall_score_weighted': 0.8551515151515153, 'confusion_matrix': 'aml://artifactId/ExperimentRun/dcid.AutoML_4cde3cab-81ac-44bf-b019-7a1ebec0790a_48/confusion_matrix', 'accuracy_table': 'aml://artifactId/ExperimentRun/dcid.AutoML_4cde3cab-81ac-44bf-b019-7a1ebec0790a_48/accuracy_table'}\n",
      "\n",
      " precision_score_weighted 0.8741191678691678\n",
      "\n",
      " norm_macro_recall 0.6418412698412698\n",
      "\n",
      " AUC_macro 0.9269894179894181\n",
      "\n",
      " recall_score_micro 0.8551515151515153\n",
      "\n",
      " average_precision_score_micro 0.9293660344786506\n",
      "\n",
      " precision_score_macro 0.8544033189033189\n",
      "\n",
      " weighted_accuracy 0.8737778600518327\n",
      "\n",
      " f1_score_weighted 0.8533016517079984\n",
      "\n",
      " log_loss 0.3570054325605689\n",
      "\n",
      " AUC_weighted 0.9269894179894181\n",
      "\n",
      " f1_score_micro 0.8551515151515153\n",
      "\n",
      " recall_score_macro 0.8200873015873016\n",
      "\n",
      " precision_score_micro 0.8551515151515153\n",
      "\n",
      " average_precision_score_macro 0.9344637637715019\n",
      "\n",
      " average_precision_score_weighted 0.9511188071188071\n",
      "\n",
      " matthews_correlation 0.6695312740890965\n",
      "\n",
      " accuracy 0.8551515151515153\n",
      "\n",
      " AUC_micro 0.921418732782369\n",
      "\n",
      " balanced_accuracy 0.8200873015873016\n",
      "\n",
      " f1_score_macro 0.8212619539043686\n",
      "\n",
      " recall_score_weighted 0.8551515151515153\n",
      "\n",
      " confusion_matrix aml://artifactId/ExperimentRun/dcid.AutoML_4cde3cab-81ac-44bf-b019-7a1ebec0790a_48/confusion_matrix\n",
      "\n",
      " accuracy_table aml://artifactId/ExperimentRun/dcid.AutoML_4cde3cab-81ac-44bf-b019-7a1ebec0790a_48/accuracy_table\n"
     ]
    }
   ],
   "source": [
    "best_run,fitted_model = remote_run.get_output()\n",
    "best_run_metrics = best_run.get_metrics() \n",
    "\n",
    "print(\"Best Run:\",best_run.id)\n",
    "print(best_run)\n",
    "print(\"Fitted Model:\", fitted_model)\n",
    "print(\"Fitted Model Steps:\")\n",
    "print(fitted_model.steps)\n",
    "print(\"Best Run Metrics\")\n",
    "print(best_run_metrics)\n",
    "\n",
    "for i in best_run_metrics:\n",
    "    x = best_run_metrics[i]\n",
    "    print(i,x )\n"
   ]
  },
  {
   "cell_type": "code",
   "execution_count": 64,
   "metadata": {},
   "outputs": [
    {
     "name": "stdout",
     "output_type": "stream",
     "text": [
      "[('datatransformer', DataTransformer(enable_dnn=False, enable_feature_sweeping=True, feature_sweeping_config={}, feature_sweeping_timeout=86400, featurization_config=None, force_text_dnn=False, is_cross_validation=True, is_onnx_compatible=False, task='classification')), ('prefittedsoftvotingclassifier', PreFittedSoftVotingClassifier(classification_labels=array([0, 1]), estimators=[('30', Pipeline(memory=None, steps=[('standardscalerwrapper', StandardScalerWrapper(copy=True, with_mean=False, with_std=False)), ('xgboostclassifier', XGBoostClassifier(booster='gbtree', colsample_bytree=0.8, eta=0.1, grow_policy='lossguide', max_bin=255, max_depth=3, max_leaves=7, n_estimators=100, n_jobs=1, objective='reg:logistic', problem_info=ProblemInfo(gpu_training_param_dict={'processing_unit_type': 'cpu'}), random_state=0, reg_alpha=0, reg_lambda=0.10416666666666667, subsample=0.6, tree_method='hist'))], verbose=False)), ('41', Pipeline(memory=None, steps=[('standardscalerwrapper', StandardScalerWrapper(copy=True, with_mean=False, with_std=False)), ('lightgbmclassifier', LightGBMClassifier(boosting_type='goss', colsample_bytree=0.3966666666666666, learning_rate=0.06842421052631578, max_bin=290, max_depth=5, min_child_weight=4, min_data_in_leaf=0.013801724137931036, min_split_gain=0.10526315789473684, n_estimators=200, n_jobs=1, num_leaves=167, problem_info=ProblemInfo(gpu_training_param_dict={'processing_unit_type': 'cpu'}), random_state=None, reg_alpha=0.3157894736842105, reg_lambda=0.42105263157894735, subsample=1))], verbose=False)), ('34', Pipeline(memory=None, steps=[('standardscalerwrapper', StandardScalerWrapper(copy=True, with_mean=False, with_std=False)), ('lightgbmclassifier', LightGBMClassifier(boosting_type='goss', colsample_bytree=0.3966666666666666, learning_rate=0.010535263157894737, max_bin=220, max_depth=6, min_child_weight=4, min_data_in_leaf=0.020697586206896556, min_split_gain=0.47368421052631576, n_estimators=200, n_jobs=1, num_leaves=89, problem_info=ProblemInfo(gpu_training_param_dict={'processing_unit_type': 'cpu'}), random_state=None, reg_alpha=0.7894736842105263, reg_lambda=0.42105263157894735, subsample=1))], verbose=False)), ('1', Pipeline(memory=None, steps=[('maxabsscaler', MaxAbsScaler(copy=True)), ('xgboostclassifier', XGBoostClassifier(n_jobs=1, problem_info=ProblemInfo(gpu_training_param_dict={'processing_unit_type': 'cpu'}), random_state=0, tree_method='auto'))], verbose=False)), ('0', Pipeline(memory=None, steps=[('maxabsscaler', MaxAbsScaler(copy=True)), ('lightgbmclassifier', LightGBMClassifier(min_data_in_leaf=20, n_jobs=1, problem_info=ProblemInfo(gpu_training_param_dict={'processing_unit_type': 'cpu'}), random_state=None))], verbose=False))], flatten_transform=None, weights=[0.1, 0.1, 0.3, 0.1, 0.4]))]\n"
     ]
    }
   ],
   "source": [
    "print(fitted_model.steps)"
   ]
  },
  {
   "cell_type": "markdown",
   "metadata": {},
   "source": [
    "## Model Deployment\n",
    "\n",
    "Remember you have to deploy only one of the two models you trained but you still need to register both the models. Perform the steps in the rest of this notebook only if you wish to deploy this model.\n",
    "\n",
    "TODO: In the cell below, register the model, create an inference config and deploy the model as a web service."
   ]
  },
  {
   "cell_type": "markdown",
   "metadata": {},
   "source": [
    "### Register Model"
   ]
  },
  {
   "cell_type": "code",
   "execution_count": 58,
   "metadata": {
    "gather": {
     "logged": 1598431435189
    },
    "jupyter": {
     "outputs_hidden": false,
     "source_hidden": false
    },
    "nteract": {
     "transient": {
      "deleting": false
     }
    }
   },
   "outputs": [
    {
     "data": {
      "text/plain": [
       "'outputs/model.pkl'"
      ]
     },
     "execution_count": 58,
     "metadata": {},
     "output_type": "execute_result"
    }
   ],
   "source": [
    "#Steps Followed from: https://docs.microsoft.com/en-us/azure/machine-learning/how-to-deploy-and-where?tabs=azcli\n",
    "\n",
    "from azureml.core import Model\n",
    "\n",
    "automl_model = remote_run.register_model(model_name='Heart_Failure_Prediction_Model')\n",
    "automl_model.download(target_dir=\"outputs\", exist_ok = True)\n",
    "\n",
    "#model = Model(ws,'Heart_Failure_Prediction_Model')"
   ]
  },
  {
   "cell_type": "code",
   "execution_count": 57,
   "metadata": {},
   "outputs": [
    {
     "name": "stdout",
     "output_type": "stream",
     "text": [
      "Heart_Failure_Prediction_Modela 1\n",
      "Heart_Failure_Prediction_Model 6\n",
      "Heart_Failure_Prediction_Model 5\n",
      "Heart_Failure_Prediction_Model 4\n",
      "Heart_Failure_Prediction_Model 3\n",
      "Heart_Failure_Prediction_Model 2\n"
     ]
    }
   ],
   "source": [
    "for model in Model.list(ws):\n",
    "    print(model.name,model.version)"
   ]
  },
  {
   "cell_type": "markdown",
   "metadata": {
    "collapsed": true,
    "gather": {
     "logged": 1598431657736
    },
    "jupyter": {
     "outputs_hidden": false,
     "source_hidden": false
    },
    "nteract": {
     "transient": {
      "deleting": false
     }
    }
   },
   "source": [
    "### Create Inference Config"
   ]
  },
  {
   "cell_type": "code",
   "execution_count": 61,
   "metadata": {
    "gather": {
     "logged": 1598432707604
    },
    "jupyter": {
     "outputs_hidden": false,
     "source_hidden": false
    },
    "nteract": {
     "transient": {
      "deleting": false
     }
    }
   },
   "outputs": [],
   "source": [
    "\n",
    "from azureml.automl.core.shared import constants\n",
    "from azureml.core.environment import Environment\n",
    "from azureml.core.model import InferenceConfig\n",
    "\n",
    "myenv = Environment.from_conda_specification(name=\"env\", file_path=\"project_environment.yml\")\n",
    "inference_config = InferenceConfig(entry_script=\"score.py\",environment=myenv)"
   ]
  },
  {
   "cell_type": "markdown",
   "metadata": {
    "collapsed": true,
    "gather": {
     "logged": 1598432765711
    },
    "jupyter": {
     "outputs_hidden": false,
     "source_hidden": false
    },
    "nteract": {
     "transient": {
      "deleting": false
     }
    }
   },
   "source": [
    "TODO: In the cell below, print the logs of the web service and delete the service"
   ]
  },
  {
   "cell_type": "markdown",
   "metadata": {},
   "source": [
    "### Deploy Webservice"
   ]
  },
  {
   "cell_type": "code",
   "execution_count": 62,
   "metadata": {
    "jupyter": {
     "outputs_hidden": false,
     "source_hidden": false
    },
    "nteract": {
     "transient": {
      "deleting": false
     }
    }
   },
   "outputs": [
    {
     "name": "stdout",
     "output_type": "stream",
     "text": [
      "Tips: You can try get_logs(): https://aka.ms/debugimage#dockerlog or local deployment: https://aka.ms/debugimage#debug-locally to debug if deployment takes longer than 10 minutes.\n",
      "Running\n",
      "2022-04-15 19:40:37+00:00 Creating Container Registry if not exists.\n",
      "2022-04-15 19:40:37+00:00 Registering the environment.\n",
      "2022-04-15 19:40:38+00:00 Use the existing image.\n",
      "2022-04-15 19:40:38+00:00 Generating deployment configuration.\n",
      "2022-04-15 19:40:39+00:00 Submitting deployment to compute.\n",
      "2022-04-15 19:40:42+00:00 Checking the status of deployment heart-failure-service-d..\n",
      "2022-04-15 19:43:17+00:00 Checking the status of inference endpoint heart-failure-service-d.\n",
      "Failed\n"
     ]
    },
    {
     "name": "stderr",
     "output_type": "stream",
     "text": [
      "ERROR:azureml.core.webservice.webservice:Service deployment polling reached non-successful terminal state, current service state: Failed\n",
      "Operation ID: d4a42db2-ab4d-4eb9-a380-83ebfd05f92b\n",
      "More information can be found using '.get_logs()'\n",
      "Error:\n",
      "{\n",
      "  \"code\": \"AciDeploymentFailed\",\n",
      "  \"statusCode\": 400,\n",
      "  \"message\": \"Aci Deployment failed with exception: Error in entry script, AttributeError: module 'xgboost.compat' has no attribute 'XGBoostLabelEncoder', please run print(service.get_logs()) to get details.\",\n",
      "  \"details\": [\n",
      "    {\n",
      "      \"code\": \"CrashLoopBackOff\",\n",
      "      \"message\": \"Error in entry script, AttributeError: module 'xgboost.compat' has no attribute 'XGBoostLabelEncoder', please run print(service.get_logs()) to get details.\"\n",
      "    }\n",
      "  ]\n",
      "}\n",
      "\n"
     ]
    },
    {
     "ename": "WebserviceException",
     "evalue": "WebserviceException:\n\tMessage: Service deployment polling reached non-successful terminal state, current service state: Failed\nOperation ID: d4a42db2-ab4d-4eb9-a380-83ebfd05f92b\nMore information can be found using '.get_logs()'\nError:\n{\n  \"code\": \"AciDeploymentFailed\",\n  \"statusCode\": 400,\n  \"message\": \"Aci Deployment failed with exception: Error in entry script, AttributeError: module 'xgboost.compat' has no attribute 'XGBoostLabelEncoder', please run print(service.get_logs()) to get details.\",\n  \"details\": [\n    {\n      \"code\": \"CrashLoopBackOff\",\n      \"message\": \"Error in entry script, AttributeError: module 'xgboost.compat' has no attribute 'XGBoostLabelEncoder', please run print(service.get_logs()) to get details.\"\n    }\n  ]\n}\n\tInnerException None\n\tErrorResponse \n{\n    \"error\": {\n        \"message\": \"Service deployment polling reached non-successful terminal state, current service state: Failed\\nOperation ID: d4a42db2-ab4d-4eb9-a380-83ebfd05f92b\\nMore information can be found using '.get_logs()'\\nError:\\n{\\n  \\\"code\\\": \\\"AciDeploymentFailed\\\",\\n  \\\"statusCode\\\": 400,\\n  \\\"message\\\": \\\"Aci Deployment failed with exception: Error in entry script, AttributeError: module 'xgboost.compat' has no attribute 'XGBoostLabelEncoder', please run print(service.get_logs()) to get details.\\\",\\n  \\\"details\\\": [\\n    {\\n      \\\"code\\\": \\\"CrashLoopBackOff\\\",\\n      \\\"message\\\": \\\"Error in entry script, AttributeError: module 'xgboost.compat' has no attribute 'XGBoostLabelEncoder', please run print(service.get_logs()) to get details.\\\"\\n    }\\n  ]\\n}\"\n    }\n}",
     "output_type": "error",
     "traceback": [
      "\u001b[0;31m---------------------------------------------------------------------------\u001b[0m",
      "\u001b[0;31mWebserviceException\u001b[0m                       Traceback (most recent call last)",
      "\u001b[0;32m<ipython-input-62-e75f923c1276>\u001b[0m in \u001b[0;36m<module>\u001b[0;34m\u001b[0m\n\u001b[1;32m     11\u001b[0m                     deployment_config=deployment_config)\n\u001b[1;32m     12\u001b[0m \u001b[0;34m\u001b[0m\u001b[0m\n\u001b[0;32m---> 13\u001b[0;31m \u001b[0mservice\u001b[0m\u001b[0;34m.\u001b[0m\u001b[0mwait_for_deployment\u001b[0m\u001b[0;34m(\u001b[0m\u001b[0mshow_output\u001b[0m\u001b[0;34m=\u001b[0m\u001b[0;32mTrue\u001b[0m\u001b[0;34m)\u001b[0m\u001b[0;34m\u001b[0m\u001b[0;34m\u001b[0m\u001b[0m\n\u001b[0m\u001b[1;32m     14\u001b[0m \u001b[0;34m\u001b[0m\u001b[0m\n\u001b[1;32m     15\u001b[0m \u001b[0;34m\u001b[0m\u001b[0m\n",
      "\u001b[0;32m/anaconda/envs/azureml_py38/lib/python3.8/site-packages/azureml/core/webservice/webservice.py\u001b[0m in \u001b[0;36mwait_for_deployment\u001b[0;34m(self, show_output, timeout_sec)\u001b[0m\n\u001b[1;32m    917\u001b[0m                     \u001b[0mlogs_response\u001b[0m \u001b[0;34m=\u001b[0m \u001b[0;34m'Current sub-operation type not known, more logs unavailable.'\u001b[0m\u001b[0;34m\u001b[0m\u001b[0;34m\u001b[0m\u001b[0m\n\u001b[1;32m    918\u001b[0m \u001b[0;34m\u001b[0m\u001b[0m\n\u001b[0;32m--> 919\u001b[0;31m                 raise WebserviceException('Service deployment polling reached non-successful terminal state, current '\n\u001b[0m\u001b[1;32m    920\u001b[0m                                           \u001b[0;34m'service state: {}\\n'\u001b[0m\u001b[0;34m\u001b[0m\u001b[0;34m\u001b[0m\u001b[0m\n\u001b[1;32m    921\u001b[0m                                           \u001b[0;34m'Operation ID: {}\\n'\u001b[0m\u001b[0;34m\u001b[0m\u001b[0;34m\u001b[0m\u001b[0m\n",
      "\u001b[0;31mWebserviceException\u001b[0m: WebserviceException:\n\tMessage: Service deployment polling reached non-successful terminal state, current service state: Failed\nOperation ID: d4a42db2-ab4d-4eb9-a380-83ebfd05f92b\nMore information can be found using '.get_logs()'\nError:\n{\n  \"code\": \"AciDeploymentFailed\",\n  \"statusCode\": 400,\n  \"message\": \"Aci Deployment failed with exception: Error in entry script, AttributeError: module 'xgboost.compat' has no attribute 'XGBoostLabelEncoder', please run print(service.get_logs()) to get details.\",\n  \"details\": [\n    {\n      \"code\": \"CrashLoopBackOff\",\n      \"message\": \"Error in entry script, AttributeError: module 'xgboost.compat' has no attribute 'XGBoostLabelEncoder', please run print(service.get_logs()) to get details.\"\n    }\n  ]\n}\n\tInnerException None\n\tErrorResponse \n{\n    \"error\": {\n        \"message\": \"Service deployment polling reached non-successful terminal state, current service state: Failed\\nOperation ID: d4a42db2-ab4d-4eb9-a380-83ebfd05f92b\\nMore information can be found using '.get_logs()'\\nError:\\n{\\n  \\\"code\\\": \\\"AciDeploymentFailed\\\",\\n  \\\"statusCode\\\": 400,\\n  \\\"message\\\": \\\"Aci Deployment failed with exception: Error in entry script, AttributeError: module 'xgboost.compat' has no attribute 'XGBoostLabelEncoder', please run print(service.get_logs()) to get details.\\\",\\n  \\\"details\\\": [\\n    {\\n      \\\"code\\\": \\\"CrashLoopBackOff\\\",\\n      \\\"message\\\": \\\"Error in entry script, AttributeError: module 'xgboost.compat' has no attribute 'XGBoostLabelEncoder', please run print(service.get_logs()) to get details.\\\"\\n    }\\n  ]\\n}\"\n    }\n}"
     ]
    }
   ],
   "source": [
    "from azureml.core.webservice import Webservice, AciWebservice\n",
    "model = Model(ws,'Heart_Failure_Prediction_Model')\n",
    "\n",
    "deployment_config = AciWebservice.deploy_configuration(cpu_cores=1, memory_gb = 2, \n",
    "                                                       description='Heart_Failure_Prediction_Model',enable_app_insights=True )\n",
    "\n",
    "\n",
    "service=Model.deploy(workspace=ws,\n",
    "                    name=\"heart-failure-service\",\n",
    "                    models=[model],\n",
    "                    inference_config=inference_config,\n",
    "                    deployment_config=deployment_config)\n",
    "\n",
    "service.wait_for_deployment(show_output=True)\n",
    "\n",
    "\n",
    "\n"
   ]
  },
  {
   "cell_type": "code",
   "execution_count": 54,
   "metadata": {},
   "outputs": [
    {
     "name": "stdout",
     "output_type": "stream",
     "text": [
      "2022-04-15T19:15:54,246674100+00:00 - gunicorn/run \n",
      "Dynamic Python package installation is disabled.\n",
      "Starting HTTP server\n",
      "2022-04-15T19:15:54,257013900+00:00 - rsyslog/run \n",
      "2022-04-15T19:15:54,268594800+00:00 - nginx/run \n",
      "2022-04-15T19:15:54,265849500+00:00 - iot-server/run \n",
      "rsyslogd: /azureml-envs/azureml_fc7e1840225416a471556263041ca33e/lib/libuuid.so.1: no version information available (required by rsyslogd)\n",
      "EdgeHubConnectionString and IOTEDGE_IOTHUBHOSTNAME are not set. Exiting...\n",
      "2022-04-15T19:15:54,661630600+00:00 - iot-server/finish 1 0\n",
      "2022-04-15T19:15:54,668077000+00:00 - Exit code 1 is normal. Not restarting iot-server.\n",
      "Starting gunicorn 19.9.0\n",
      "Listening at: http://127.0.0.1:31311 (379)\n",
      "Using worker: sync\n",
      "worker timeout is set to 300\n",
      "Booting worker with pid: 407\n",
      "SPARK_HOME not set. Skipping PySpark Initialization.\n",
      "Generating new fontManager, this may take some time...\n",
      "Initializing logger\n",
      "2022-04-15 19:16:00,108 | root | INFO | Starting up app insights client\n",
      "logging socket was found. logging is available.\n",
      "logging socket was found. logging is available.\n",
      "2022-04-15 19:16:00,113 | root | INFO | Starting up request id generator\n",
      "2022-04-15 19:16:00,113 | root | INFO | Starting up app insight hooks\n",
      "2022-04-15 19:16:00,113 | root | INFO | Invoking user's init function\n",
      "2022-04-15 19:16:01,855 | root | ERROR | User's init function failed\n",
      "2022-04-15 19:16:01,856 | root | ERROR | Encountered Exception Traceback (most recent call last):\n",
      "  File \"/azureml-envs/azureml_fc7e1840225416a471556263041ca33e/lib/python3.6/pickle.py\", line 269, in _getattribute\n",
      "    obj = getattr(obj, subpath)\n",
      "AttributeError: module 'xgboost.compat' has no attribute 'XGBoostLabelEncoder'\n",
      "\n",
      "During handling of the above exception, another exception occurred:\n",
      "\n",
      "Traceback (most recent call last):\n",
      "  File \"/var/azureml-server/aml_blueprint.py\", line 191, in register\n",
      "    main.init()\n",
      "  File \"/var/azureml-app/score.py\", line 16, in init\n",
      "    model = joblib.load(heart_model)\n",
      "  File \"/azureml-envs/azureml_fc7e1840225416a471556263041ca33e/lib/python3.6/site-packages/joblib/numpy_pickle.py\", line 605, in load\n",
      "    obj = _unpickle(fobj, filename, mmap_mode)\n",
      "  File \"/azureml-envs/azureml_fc7e1840225416a471556263041ca33e/lib/python3.6/site-packages/joblib/numpy_pickle.py\", line 529, in _unpickle\n",
      "    obj = unpickler.load()\n",
      "  File \"/azureml-envs/azureml_fc7e1840225416a471556263041ca33e/lib/python3.6/pickle.py\", line 1050, in load\n",
      "    dispatch[key[0]](self)\n",
      "  File \"/azureml-envs/azureml_fc7e1840225416a471556263041ca33e/lib/python3.6/pickle.py\", line 1347, in load_stack_global\n",
      "    self.append(self.find_class(module, name))\n",
      "  File \"/azureml-envs/azureml_fc7e1840225416a471556263041ca33e/lib/python3.6/pickle.py\", line 1390, in find_class\n",
      "    return _getattribute(sys.modules[module], name)[0]\n",
      "  File \"/azureml-envs/azureml_fc7e1840225416a471556263041ca33e/lib/python3.6/pickle.py\", line 272, in _getattribute\n",
      "    .format(name, obj))\n",
      "AttributeError: Can't get attribute 'XGBoostLabelEncoder' on <module 'xgboost.compat' from '/azureml-envs/azureml_fc7e1840225416a471556263041ca33e/lib/python3.6/site-packages/xgboost/compat.py'>\n",
      "\n",
      "2022-04-15 19:16:01,862 | root | INFO | Waiting for logs to be sent to Application Insights before exit.\n",
      "2022-04-15 19:16:01,862 | root | INFO | Waiting 30 seconds for upload.\n",
      "\n"
     ]
    }
   ],
   "source": [
    "print(service.get_logs())"
   ]
  },
  {
   "cell_type": "markdown",
   "metadata": {},
   "source": [
    "### Test Webservice"
   ]
  },
  {
   "cell_type": "code",
   "execution_count": null,
   "metadata": {},
   "outputs": [],
   "source": [
    "import json\n",
    "import requests\n",
    "\n",
    "\n",
    "test = {\n",
    "  \"data\": [ {\n",
    "      \"age\": 90,\n",
    "      \"anaemia\": 0,\n",
    "      \"creatinine_phosphokinase\": 500, \n",
    "      \"diabetes\":  1,\n",
    "      \"ejection_fraction\": 150,\n",
    "      \"high_blood_pressure\": 0,\n",
    "      \"platelets\": 100000,\n",
    "      \"serum_creatinine\": 2.75,\n",
    "      \"serum_sodium\": 140,\n",
    "      \"sex\": 1,\n",
    "      \"smoking\": 0,\n",
    "      \"time\": 500 },\n",
    "      \n",
    "      {\"age\": 45,\n",
    "      \"anaemia\": 1,\n",
    "      \"creatinine_phosphokinase\": 500, \n",
    "      \"diabetes\":  1,\n",
    "      \"ejection_fraction\": 50,\n",
    "      \"high_blood_pressure\": 1,\n",
    "      \"platelets\": 100000,\n",
    "      \"serum_creatinine\": 1.75,\n",
    "      \"serum_sodium\": 140,\n",
    "      \"sex\": 0,\n",
    "      \"smoking\": 1,\n",
    "      \"time\": 213}\n",
    "  ]\n",
    "}\n",
    "\n",
    "\n",
    "test_data = json.dumps(test)\n",
    "\n",
    "# Make the request and display the response\n",
    "response = requests.post(service.scoring_uri, test_data, headers={'Content-Type': 'application/json'})\n",
    "\n",
    "\n",
    "print(response.json())\n"
   ]
  },
  {
   "cell_type": "markdown",
   "metadata": {},
   "source": [
    "### Delete Webservice"
   ]
  },
  {
   "cell_type": "code",
   "execution_count": 22,
   "metadata": {},
   "outputs": [],
   "source": [
    "service.delete()\n",
    "\n",
    "model.delete()"
   ]
  },
  {
   "cell_type": "markdown",
   "metadata": {},
   "source": [
    "**Submission Checklist**\n",
    "- I have registered the model.\n",
    "- I have deployed the model with the best accuracy as a webservice.\n",
    "- I have tested the webservice by sending a request to the model endpoint.\n",
    "- I have deleted the webservice and shutdown all the computes that I have used.\n",
    "- I have taken a screenshot showing the model endpoint as active.\n",
    "- The project includes a file containing the environment details.\n"
   ]
  },
  {
   "cell_type": "markdown",
   "metadata": {},
   "source": []
  }
 ],
 "metadata": {
  "kernel_info": {
   "name": "python38-azureml"
  },
  "kernelspec": {
   "display_name": "Python 3",
   "language": "python",
   "name": "python3"
  },
  "language_info": {
   "codemirror_mode": {
    "name": "ipython",
    "version": 3
   },
   "file_extension": ".py",
   "mimetype": "text/x-python",
   "name": "python",
   "nbconvert_exporter": "python",
   "pygments_lexer": "ipython3",
   "version": "3.6.3"
  },
  "nteract": {
   "version": "nteract-front-end@1.0.0"
  }
 },
 "nbformat": 4,
 "nbformat_minor": 2
}
