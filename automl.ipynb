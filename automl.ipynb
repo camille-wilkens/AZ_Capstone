{
 "cells": [
  {
   "cell_type": "markdown",
   "metadata": {},
   "source": [
    "# Automated ML\n",
    "\n",
    "In this notebook, I will perform the following steps:\n",
    "\n",
    "Import Dependencies\n",
    "Create an Experiment in an existing Workspace.\n",
    "Create or Attach existing AmlCompute to a workspace.\n",
    "Define data loading in a TabularDataset.\n",
    "Configure AutoML using AutoMLConfig.\n",
    "Use AutoMLStep\n",
    "Train the model using AmlCompute\n",
    "Explore the results.\n",
    "Test the best fitted model."
   ]
  },
  {
   "cell_type": "markdown",
   "metadata": {},
   "source": [
    "## Import Dependcies\n",
    "\n",
    "TODO: Import Dependencies. In the cell below, import all the dependencies that you will need to complete the project."
   ]
  },
  {
   "cell_type": "code",
   "execution_count": 1,
   "metadata": {},
   "outputs": [
    {
     "name": "stdout",
     "output_type": "stream",
     "text": [
      "/bin/bash: pip: command not found\r\n"
     ]
    }
   ],
   "source": [
    "!pip install --upgrade --upgrade-strategy eager azureml-sdk[automl,widgets]"
   ]
  },
  {
   "cell_type": "code",
   "execution_count": 2,
   "metadata": {
    "gather": {
     "logged": 1598423888013
    },
    "jupyter": {
     "outputs_hidden": false,
     "source_hidden": false
    },
    "nteract": {
     "transient": {
      "deleting": false
     }
    }
   },
   "outputs": [
    {
     "name": "stdout",
     "output_type": "stream",
     "text": [
      "SDK version: 1.40.0\n"
     ]
    }
   ],
   "source": [
    "import logging\n",
    "import os\n",
    "import csv\n",
    "\n",
    "from matplotlib import pyplot as plt\n",
    "import numpy as np\n",
    "import pandas as pd\n",
    "from sklearn import datasets\n",
    "import pkg_resources\n",
    "import json\n",
    "import pickle\n",
    "\n",
    "import azureml.core\n",
    "from azureml.core import Model\n",
    "from azureml.core.environment import Environment\n",
    "from azureml.core.experiment import Experiment\n",
    "from azureml.core.workspace import Workspace\n",
    "from azureml.train.automl import AutoMLConfig\n",
    "from azureml.core.dataset import Dataset\n",
    "\n",
    "from azureml.pipeline.steps import AutoMLStep\n",
    "from azureml.widgets import RunDetails\n",
    "from azureml.core.compute import AmlCompute\n",
    "from azureml.core.compute import ComputeTarget\n",
    "from azureml.core.compute_target import ComputeTargetException\n",
    "from azureml.core.model import Model\n",
    "from azureml.core.webservice import LocalWebservice\n",
    "from azureml.pipeline.core import PipelineData, TrainingOutput\n",
    "from azureml.core.model import Model\n",
    "\n",
    "# Check core SDK version number\n",
    "print(\"SDK version:\", azureml.core.VERSION)\n",
    "\n",
    "import urllib.request\n",
    "\n",
    "\n",
    "import joblib\n",
    "\n"
   ]
  },
  {
   "cell_type": "markdown",
   "metadata": {},
   "source": [
    "## Create an Azure ML experiment"
   ]
  },
  {
   "cell_type": "code",
   "execution_count": 3,
   "metadata": {},
   "outputs": [
    {
     "name": "stdout",
     "output_type": "stream",
     "text": [
      "quick-starts-ws-192362\n",
      "aml-quickstarts-192362\n",
      "southcentralus\n",
      "61c5c3f0-6dc7-4ed9-a7f3-c704b20e3b30\n"
     ]
    }
   ],
   "source": [
    "ws = Workspace.from_config()\n",
    "\n",
    "# Choose a name for the run history container in the workspace.\n",
    "experiment_name = 'ml-experiment-1'\n",
    "project_folder = './automl-project'\n",
    "\n",
    "experiment = Experiment(ws, experiment_name)\n",
    "print(ws.name, ws.resource_group, ws.location, ws.subscription_id, sep = '\\n')"
   ]
  },
  {
   "cell_type": "markdown",
   "metadata": {},
   "source": [
    "## Create or Attach an AmlCompute cluster"
   ]
  },
  {
   "cell_type": "code",
   "execution_count": 4,
   "metadata": {},
   "outputs": [
    {
     "name": "stdout",
     "output_type": "stream",
     "text": [
      "Found existing cluster, use it.\n",
      "Succeeded.....................................................................................................................\n",
      "AmlCompute wait for completion finished\n",
      "\n",
      "Wait timeout has been reached\n",
      "Current provisioning state of AmlCompute is \"Succeeded\" and current node count is \"0\"\n"
     ]
    }
   ],
   "source": [
    "# Choose a name for your CPU cluster\n",
    "amlcompute_cluster_name = \"automl-cluster\"\n",
    "\n",
    "# Verify that cluster does not exist already\n",
    "try:\n",
    "    compute_target = ComputeTarget(workspace=ws, name=amlcompute_cluster_name)\n",
    "    print('Found existing cluster, use it.')\n",
    "except ComputeTargetException:\n",
    "    compute_config = AmlCompute.provisioning_configuration(vm_size='STANDARD_DS12_V2',# for GPU, use \"STANDARD_NC6\"\n",
    "                                                           #vm_priority = 'lowpriority', # optional\n",
    "                                                           max_nodes=4)\n",
    "    compute_target = ComputeTarget.create(ws, amlcompute_cluster_name, compute_config)\n",
    "\n",
    "compute_target.wait_for_completion(show_output=True, min_node_count = 1, timeout_in_minutes = 10)"
   ]
  },
  {
   "cell_type": "markdown",
   "metadata": {},
   "source": [
    "## Dataset\n",
    "\n",
    "### Overview\n",
    "TODO: In this markdown cell, give an overview of the dataset you are using. Also mention the task you will be performing.\n",
    "\n",
    "\n",
    "TODO: Get data. In the cell below, write code to access the data you will be using in this project. Remember that the dataset needs to be external."
   ]
  },
  {
   "cell_type": "code",
   "execution_count": 5,
   "metadata": {},
   "outputs": [
    {
     "data": {
      "text/html": [
       "<div>\n",
       "<style scoped>\n",
       "    .dataframe tbody tr th:only-of-type {\n",
       "        vertical-align: middle;\n",
       "    }\n",
       "\n",
       "    .dataframe tbody tr th {\n",
       "        vertical-align: top;\n",
       "    }\n",
       "\n",
       "    .dataframe thead th {\n",
       "        text-align: right;\n",
       "    }\n",
       "</style>\n",
       "<table border=\"1\" class=\"dataframe\">\n",
       "  <thead>\n",
       "    <tr style=\"text-align: right;\">\n",
       "      <th></th>\n",
       "      <th>age</th>\n",
       "      <th>anaemia</th>\n",
       "      <th>creatinine_phosphokinase</th>\n",
       "      <th>diabetes</th>\n",
       "      <th>ejection_fraction</th>\n",
       "      <th>high_blood_pressure</th>\n",
       "      <th>platelets</th>\n",
       "      <th>serum_creatinine</th>\n",
       "      <th>serum_sodium</th>\n",
       "      <th>sex</th>\n",
       "      <th>smoking</th>\n",
       "      <th>time</th>\n",
       "      <th>DEATH_EVENT</th>\n",
       "    </tr>\n",
       "  </thead>\n",
       "  <tbody>\n",
       "    <tr>\n",
       "      <th>count</th>\n",
       "      <td>299.000000</td>\n",
       "      <td>299.000000</td>\n",
       "      <td>299.000000</td>\n",
       "      <td>299.000000</td>\n",
       "      <td>299.000000</td>\n",
       "      <td>299.000000</td>\n",
       "      <td>299.000000</td>\n",
       "      <td>299.00000</td>\n",
       "      <td>299.000000</td>\n",
       "      <td>299.000000</td>\n",
       "      <td>299.00000</td>\n",
       "      <td>299.000000</td>\n",
       "      <td>299.00000</td>\n",
       "    </tr>\n",
       "    <tr>\n",
       "      <th>mean</th>\n",
       "      <td>60.833893</td>\n",
       "      <td>0.431438</td>\n",
       "      <td>581.839465</td>\n",
       "      <td>0.418060</td>\n",
       "      <td>38.083612</td>\n",
       "      <td>0.351171</td>\n",
       "      <td>263358.029264</td>\n",
       "      <td>1.39388</td>\n",
       "      <td>136.625418</td>\n",
       "      <td>0.648829</td>\n",
       "      <td>0.32107</td>\n",
       "      <td>130.260870</td>\n",
       "      <td>0.32107</td>\n",
       "    </tr>\n",
       "    <tr>\n",
       "      <th>std</th>\n",
       "      <td>11.894809</td>\n",
       "      <td>0.496107</td>\n",
       "      <td>970.287881</td>\n",
       "      <td>0.494067</td>\n",
       "      <td>11.834841</td>\n",
       "      <td>0.478136</td>\n",
       "      <td>97804.236869</td>\n",
       "      <td>1.03451</td>\n",
       "      <td>4.412477</td>\n",
       "      <td>0.478136</td>\n",
       "      <td>0.46767</td>\n",
       "      <td>77.614208</td>\n",
       "      <td>0.46767</td>\n",
       "    </tr>\n",
       "    <tr>\n",
       "      <th>min</th>\n",
       "      <td>40.000000</td>\n",
       "      <td>0.000000</td>\n",
       "      <td>23.000000</td>\n",
       "      <td>0.000000</td>\n",
       "      <td>14.000000</td>\n",
       "      <td>0.000000</td>\n",
       "      <td>25100.000000</td>\n",
       "      <td>0.50000</td>\n",
       "      <td>113.000000</td>\n",
       "      <td>0.000000</td>\n",
       "      <td>0.00000</td>\n",
       "      <td>4.000000</td>\n",
       "      <td>0.00000</td>\n",
       "    </tr>\n",
       "    <tr>\n",
       "      <th>25%</th>\n",
       "      <td>51.000000</td>\n",
       "      <td>0.000000</td>\n",
       "      <td>116.500000</td>\n",
       "      <td>0.000000</td>\n",
       "      <td>30.000000</td>\n",
       "      <td>0.000000</td>\n",
       "      <td>212500.000000</td>\n",
       "      <td>0.90000</td>\n",
       "      <td>134.000000</td>\n",
       "      <td>0.000000</td>\n",
       "      <td>0.00000</td>\n",
       "      <td>73.000000</td>\n",
       "      <td>0.00000</td>\n",
       "    </tr>\n",
       "    <tr>\n",
       "      <th>50%</th>\n",
       "      <td>60.000000</td>\n",
       "      <td>0.000000</td>\n",
       "      <td>250.000000</td>\n",
       "      <td>0.000000</td>\n",
       "      <td>38.000000</td>\n",
       "      <td>0.000000</td>\n",
       "      <td>262000.000000</td>\n",
       "      <td>1.10000</td>\n",
       "      <td>137.000000</td>\n",
       "      <td>1.000000</td>\n",
       "      <td>0.00000</td>\n",
       "      <td>115.000000</td>\n",
       "      <td>0.00000</td>\n",
       "    </tr>\n",
       "    <tr>\n",
       "      <th>75%</th>\n",
       "      <td>70.000000</td>\n",
       "      <td>1.000000</td>\n",
       "      <td>582.000000</td>\n",
       "      <td>1.000000</td>\n",
       "      <td>45.000000</td>\n",
       "      <td>1.000000</td>\n",
       "      <td>303500.000000</td>\n",
       "      <td>1.40000</td>\n",
       "      <td>140.000000</td>\n",
       "      <td>1.000000</td>\n",
       "      <td>1.00000</td>\n",
       "      <td>203.000000</td>\n",
       "      <td>1.00000</td>\n",
       "    </tr>\n",
       "    <tr>\n",
       "      <th>max</th>\n",
       "      <td>95.000000</td>\n",
       "      <td>1.000000</td>\n",
       "      <td>7861.000000</td>\n",
       "      <td>1.000000</td>\n",
       "      <td>80.000000</td>\n",
       "      <td>1.000000</td>\n",
       "      <td>850000.000000</td>\n",
       "      <td>9.40000</td>\n",
       "      <td>148.000000</td>\n",
       "      <td>1.000000</td>\n",
       "      <td>1.00000</td>\n",
       "      <td>285.000000</td>\n",
       "      <td>1.00000</td>\n",
       "    </tr>\n",
       "  </tbody>\n",
       "</table>\n",
       "</div>"
      ],
      "text/plain": [
       "              age     anaemia  creatinine_phosphokinase    diabetes  \\\n",
       "count  299.000000  299.000000                299.000000  299.000000   \n",
       "mean    60.833893    0.431438                581.839465    0.418060   \n",
       "std     11.894809    0.496107                970.287881    0.494067   \n",
       "min     40.000000    0.000000                 23.000000    0.000000   \n",
       "25%     51.000000    0.000000                116.500000    0.000000   \n",
       "50%     60.000000    0.000000                250.000000    0.000000   \n",
       "75%     70.000000    1.000000                582.000000    1.000000   \n",
       "max     95.000000    1.000000               7861.000000    1.000000   \n",
       "\n",
       "       ejection_fraction  high_blood_pressure      platelets  \\\n",
       "count         299.000000           299.000000     299.000000   \n",
       "mean           38.083612             0.351171  263358.029264   \n",
       "std            11.834841             0.478136   97804.236869   \n",
       "min            14.000000             0.000000   25100.000000   \n",
       "25%            30.000000             0.000000  212500.000000   \n",
       "50%            38.000000             0.000000  262000.000000   \n",
       "75%            45.000000             1.000000  303500.000000   \n",
       "max            80.000000             1.000000  850000.000000   \n",
       "\n",
       "       serum_creatinine  serum_sodium         sex    smoking        time  \\\n",
       "count         299.00000    299.000000  299.000000  299.00000  299.000000   \n",
       "mean            1.39388    136.625418    0.648829    0.32107  130.260870   \n",
       "std             1.03451      4.412477    0.478136    0.46767   77.614208   \n",
       "min             0.50000    113.000000    0.000000    0.00000    4.000000   \n",
       "25%             0.90000    134.000000    0.000000    0.00000   73.000000   \n",
       "50%             1.10000    137.000000    1.000000    0.00000  115.000000   \n",
       "75%             1.40000    140.000000    1.000000    1.00000  203.000000   \n",
       "max             9.40000    148.000000    1.000000    1.00000  285.000000   \n",
       "\n",
       "       DEATH_EVENT  \n",
       "count    299.00000  \n",
       "mean       0.32107  \n",
       "std        0.46767  \n",
       "min        0.00000  \n",
       "25%        0.00000  \n",
       "50%        0.00000  \n",
       "75%        1.00000  \n",
       "max        1.00000  "
      ]
     },
     "execution_count": 5,
     "metadata": {},
     "output_type": "execute_result"
    }
   ],
   "source": [
    "# Try to load the dataset from the Workspace. Otherwise, create it from the file\n",
    "# NOTE: update the key to match the dataset name\n",
    "found = False\n",
    "key = \"Heart_Prediction_Dataset\"\n",
    "description_text = \"Heart Prediction Dataset\"\n",
    "\n",
    "if key in ws.datasets.keys(): \n",
    "        found = True\n",
    "        dataset = ws.datasets[key] \n",
    "\n",
    "if not found:\n",
    "        # Create AML Dataset and register it into Workspace\n",
    "        example_data = 'https://raw.githubusercontent.com/camille-wilkens/AZ_Capstone/main/heart_failure_clinical_records_dataset.csv'\n",
    "        dataset = Dataset.Tabular.from_delimited_files(example_data)        \n",
    "        #Register Dataset in Workspace\n",
    "        dataset = dataset.register(workspace=ws,\n",
    "                                   name=key,\n",
    "                                   description=description_text)\n",
    "\n",
    "\n",
    "df = dataset.to_pandas_dataframe()\n",
    "df.describe()"
   ]
  },
  {
   "cell_type": "markdown",
   "metadata": {},
   "source": [
    "## Review the Dataset Result"
   ]
  },
  {
   "cell_type": "code",
   "execution_count": 6,
   "metadata": {},
   "outputs": [
    {
     "data": {
      "text/html": [
       "<div>\n",
       "<style scoped>\n",
       "    .dataframe tbody tr th:only-of-type {\n",
       "        vertical-align: middle;\n",
       "    }\n",
       "\n",
       "    .dataframe tbody tr th {\n",
       "        vertical-align: top;\n",
       "    }\n",
       "\n",
       "    .dataframe thead th {\n",
       "        text-align: right;\n",
       "    }\n",
       "</style>\n",
       "<table border=\"1\" class=\"dataframe\">\n",
       "  <thead>\n",
       "    <tr style=\"text-align: right;\">\n",
       "      <th></th>\n",
       "      <th>age</th>\n",
       "      <th>anaemia</th>\n",
       "      <th>creatinine_phosphokinase</th>\n",
       "      <th>diabetes</th>\n",
       "      <th>ejection_fraction</th>\n",
       "      <th>high_blood_pressure</th>\n",
       "      <th>platelets</th>\n",
       "      <th>serum_creatinine</th>\n",
       "      <th>serum_sodium</th>\n",
       "      <th>sex</th>\n",
       "      <th>smoking</th>\n",
       "      <th>time</th>\n",
       "      <th>DEATH_EVENT</th>\n",
       "    </tr>\n",
       "  </thead>\n",
       "  <tbody>\n",
       "    <tr>\n",
       "      <th>0</th>\n",
       "      <td>75.0</td>\n",
       "      <td>0</td>\n",
       "      <td>582</td>\n",
       "      <td>0</td>\n",
       "      <td>20</td>\n",
       "      <td>1</td>\n",
       "      <td>265000.00</td>\n",
       "      <td>1.9</td>\n",
       "      <td>130</td>\n",
       "      <td>1</td>\n",
       "      <td>0</td>\n",
       "      <td>4</td>\n",
       "      <td>1</td>\n",
       "    </tr>\n",
       "    <tr>\n",
       "      <th>1</th>\n",
       "      <td>55.0</td>\n",
       "      <td>0</td>\n",
       "      <td>7861</td>\n",
       "      <td>0</td>\n",
       "      <td>38</td>\n",
       "      <td>0</td>\n",
       "      <td>263358.03</td>\n",
       "      <td>1.1</td>\n",
       "      <td>136</td>\n",
       "      <td>1</td>\n",
       "      <td>0</td>\n",
       "      <td>6</td>\n",
       "      <td>1</td>\n",
       "    </tr>\n",
       "    <tr>\n",
       "      <th>2</th>\n",
       "      <td>65.0</td>\n",
       "      <td>0</td>\n",
       "      <td>146</td>\n",
       "      <td>0</td>\n",
       "      <td>20</td>\n",
       "      <td>0</td>\n",
       "      <td>162000.00</td>\n",
       "      <td>1.3</td>\n",
       "      <td>129</td>\n",
       "      <td>1</td>\n",
       "      <td>1</td>\n",
       "      <td>7</td>\n",
       "      <td>1</td>\n",
       "    </tr>\n",
       "    <tr>\n",
       "      <th>3</th>\n",
       "      <td>50.0</td>\n",
       "      <td>1</td>\n",
       "      <td>111</td>\n",
       "      <td>0</td>\n",
       "      <td>20</td>\n",
       "      <td>0</td>\n",
       "      <td>210000.00</td>\n",
       "      <td>1.9</td>\n",
       "      <td>137</td>\n",
       "      <td>1</td>\n",
       "      <td>0</td>\n",
       "      <td>7</td>\n",
       "      <td>1</td>\n",
       "    </tr>\n",
       "    <tr>\n",
       "      <th>4</th>\n",
       "      <td>65.0</td>\n",
       "      <td>1</td>\n",
       "      <td>160</td>\n",
       "      <td>1</td>\n",
       "      <td>20</td>\n",
       "      <td>0</td>\n",
       "      <td>327000.00</td>\n",
       "      <td>2.7</td>\n",
       "      <td>116</td>\n",
       "      <td>0</td>\n",
       "      <td>0</td>\n",
       "      <td>8</td>\n",
       "      <td>1</td>\n",
       "    </tr>\n",
       "  </tbody>\n",
       "</table>\n",
       "</div>"
      ],
      "text/plain": [
       "    age  anaemia  creatinine_phosphokinase  diabetes  ejection_fraction  \\\n",
       "0  75.0        0                       582         0                 20   \n",
       "1  55.0        0                      7861         0                 38   \n",
       "2  65.0        0                       146         0                 20   \n",
       "3  50.0        1                       111         0                 20   \n",
       "4  65.0        1                       160         1                 20   \n",
       "\n",
       "   high_blood_pressure  platelets  serum_creatinine  serum_sodium  sex  \\\n",
       "0                    1  265000.00               1.9           130    1   \n",
       "1                    0  263358.03               1.1           136    1   \n",
       "2                    0  162000.00               1.3           129    1   \n",
       "3                    0  210000.00               1.9           137    1   \n",
       "4                    0  327000.00               2.7           116    0   \n",
       "\n",
       "   smoking  time  DEATH_EVENT  \n",
       "0        0     4            1  \n",
       "1        0     6            1  \n",
       "2        1     7            1  \n",
       "3        0     7            1  \n",
       "4        0     8            1  "
      ]
     },
     "execution_count": 6,
     "metadata": {},
     "output_type": "execute_result"
    }
   ],
   "source": [
    "dataset.take(5).to_pandas_dataframe()"
   ]
  },
  {
   "cell_type": "markdown",
   "metadata": {},
   "source": [
    "## AutoML Configuration\n",
    "\n",
    "TODO: Explain why you chose the automl settings and cofiguration you used below."
   ]
  },
  {
   "cell_type": "code",
   "execution_count": 7,
   "metadata": {
    "gather": {
     "logged": 1598429217746
    },
    "jupyter": {
     "outputs_hidden": false,
     "source_hidden": false
    },
    "nteract": {
     "transient": {
      "deleting": false
     }
    }
   },
   "outputs": [],
   "source": [
    "# TODO: Put your automl settings here\n",
    "automl_settings = {\n",
    "    \"experiment_timeout_minutes\": 30,\n",
    "    \"max_concurrent_iterations\": 5,\n",
    "     \"n_cross_validations\": 25,\n",
    "     \"primary_metric\" : 'AUC_weighted'\n",
    "}\n",
    " #   \"primary_metric\" : 'AUC_weighted'\n",
    "# TODO: Put your automl config here\n",
    "automl_config = AutoMLConfig(compute_target=compute_target,\n",
    "                             task = \"classification\",\n",
    "                             training_data=dataset,\n",
    "                             label_column_name=\"DEATH_EVENT\",   \n",
    "                             enable_early_stopping= True,\n",
    "                             featurization= 'auto',\n",
    "                             debug_log = \"automl_errors.log\",\n",
    "                             **automl_settings\n",
    "                            )"
   ]
  },
  {
   "cell_type": "markdown",
   "metadata": {},
   "source": [
    "## Run Details\n",
    "\n",
    "OPTIONAL: Write about the different models trained and their performance. Why do you think some models did better than others?\n",
    "\n",
    "TODO: In the cell below, use the `RunDetails` widget to show the different experiments."
   ]
  },
  {
   "cell_type": "code",
   "execution_count": 8,
   "metadata": {},
   "outputs": [
    {
     "name": "stdout",
     "output_type": "stream",
     "text": [
      "Submitting remote run.\n"
     ]
    },
    {
     "data": {
      "text/html": [
       "<table style=\"width:100%\"><tr><th>Experiment</th><th>Id</th><th>Type</th><th>Status</th><th>Details Page</th><th>Docs Page</th></tr><tr><td>ml-experiment-1</td><td>AutoML_11620fab-74d8-4a45-b233-a596d2fcec2f</td><td>automl</td><td>NotStarted</td><td><a href=\"https://ml.azure.com/runs/AutoML_11620fab-74d8-4a45-b233-a596d2fcec2f?wsid=/subscriptions/61c5c3f0-6dc7-4ed9-a7f3-c704b20e3b30/resourcegroups/aml-quickstarts-192362/workspaces/quick-starts-ws-192362&amp;tid=660b3398-b80e-49d2-bc5b-ac1dc93b5254\" target=\"_blank\" rel=\"noopener\">Link to Azure Machine Learning studio</a></td><td><a href=\"https://docs.microsoft.com/en-us/python/api/overview/azure/ml/intro?view=azure-ml-py\" target=\"_blank\" rel=\"noopener\">Link to Documentation</a></td></tr></table>"
      ],
      "text/plain": [
       "<IPython.core.display.HTML object>"
      ]
     },
     "metadata": {},
     "output_type": "display_data"
    }
   ],
   "source": [
    "# TODO: Submit your experiment\n",
    "remote_run = experiment.submit(automl_config)\n"
   ]
  },
  {
   "cell_type": "code",
   "execution_count": 9,
   "metadata": {},
   "outputs": [
    {
     "data": {
      "application/vnd.jupyter.widget-view+json": {
       "model_id": "5dfef653dd4d4248a7091adcc7bf46f1",
       "version_major": 2,
       "version_minor": 0
      },
      "text/plain": [
       "_AutoMLWidget(widget_settings={'childWidgetDisplay': 'popup', 'send_telemetry': False, 'log_level': 'INFO', 's…"
      ]
     },
     "metadata": {},
     "output_type": "display_data"
    },
    {
     "data": {
      "application/aml.mini.widget.v1": "{\"status\": \"Completed\", \"workbench_run_details_uri\": \"https://ml.azure.com/runs/AutoML_11620fab-74d8-4a45-b233-a596d2fcec2f?wsid=/subscriptions/61c5c3f0-6dc7-4ed9-a7f3-c704b20e3b30/resourcegroups/aml-quickstarts-192362/workspaces/quick-starts-ws-192362&tid=660b3398-b80e-49d2-bc5b-ac1dc93b5254\", \"run_id\": \"AutoML_11620fab-74d8-4a45-b233-a596d2fcec2f\", \"run_properties\": {\"run_id\": \"AutoML_11620fab-74d8-4a45-b233-a596d2fcec2f\", \"created_utc\": \"2022-04-17T13:49:58.343594Z\", \"properties\": {\"num_iterations\": \"1000\", \"training_type\": \"TrainFull\", \"acquisition_function\": \"EI\", \"primary_metric\": \"AUC_weighted\", \"train_split\": \"0\", \"acquisition_parameter\": \"0\", \"num_cross_validation\": \"25\", \"target\": \"automl-cluster\", \"AMLSettingsJsonString\": \"{\\\"path\\\":null,\\\"name\\\":\\\"ml-experiment-1\\\",\\\"subscription_id\\\":\\\"61c5c3f0-6dc7-4ed9-a7f3-c704b20e3b30\\\",\\\"resource_group\\\":\\\"aml-quickstarts-192362\\\",\\\"workspace_name\\\":\\\"quick-starts-ws-192362\\\",\\\"region\\\":\\\"southcentralus\\\",\\\"compute_target\\\":\\\"automl-cluster\\\",\\\"spark_service\\\":null,\\\"azure_service\\\":\\\"remote\\\",\\\"many_models\\\":false,\\\"pipeline_fetch_max_batch_size\\\":1,\\\"enable_batch_run\\\":true,\\\"enable_run_restructure\\\":false,\\\"start_auxiliary_runs_before_parent_complete\\\":false,\\\"enable_code_generation\\\":false,\\\"iterations\\\":1000,\\\"primary_metric\\\":\\\"AUC_weighted\\\",\\\"task_type\\\":\\\"classification\\\",\\\"positive_label\\\":null,\\\"data_script\\\":null,\\\"test_size\\\":0.0,\\\"test_include_predictions_only\\\":false,\\\"validation_size\\\":0.0,\\\"n_cross_validations\\\":25,\\\"y_min\\\":null,\\\"y_max\\\":null,\\\"num_classes\\\":null,\\\"featurization\\\":\\\"auto\\\",\\\"_ignore_package_version_incompatibilities\\\":false,\\\"is_timeseries\\\":false,\\\"max_cores_per_iteration\\\":1,\\\"max_concurrent_iterations\\\":5,\\\"iteration_timeout_minutes\\\":null,\\\"mem_in_mb\\\":null,\\\"enforce_time_on_windows\\\":false,\\\"experiment_timeout_minutes\\\":30,\\\"experiment_exit_score\\\":null,\\\"partition_column_names\\\":null,\\\"whitelist_models\\\":null,\\\"blacklist_algos\\\":[\\\"TensorFlowLinearClassifier\\\",\\\"TensorFlowDNN\\\"],\\\"supported_models\\\":[\\\"LinearSVM\\\",\\\"ExtremeRandomTrees\\\",\\\"BernoulliNaiveBayes\\\",\\\"SVM\\\",\\\"RandomForest\\\",\\\"TabnetClassifier\\\",\\\"TensorFlowLinearClassifier\\\",\\\"DecisionTree\\\",\\\"GradientBoosting\\\",\\\"SGD\\\",\\\"MultinomialNaiveBayes\\\",\\\"AveragedPerceptronClassifier\\\",\\\"LogisticRegression\\\",\\\"XGBoostClassifier\\\",\\\"LightGBM\\\",\\\"KNN\\\",\\\"TensorFlowDNN\\\"],\\\"private_models\\\":[],\\\"auto_blacklist\\\":true,\\\"blacklist_samples_reached\\\":false,\\\"exclude_nan_labels\\\":true,\\\"verbosity\\\":20,\\\"_debug_log\\\":\\\"azureml_automl.log\\\",\\\"show_warnings\\\":false,\\\"model_explainability\\\":true,\\\"service_url\\\":null,\\\"sdk_url\\\":null,\\\"sdk_packages\\\":null,\\\"enable_onnx_compatible_models\\\":false,\\\"enable_split_onnx_featurizer_estimator_models\\\":false,\\\"vm_type\\\":\\\"STANDARD_DS12_V2\\\",\\\"telemetry_verbosity\\\":20,\\\"send_telemetry\\\":true,\\\"enable_dnn\\\":false,\\\"scenario\\\":\\\"SDK-1.13.0\\\",\\\"environment_label\\\":null,\\\"save_mlflow\\\":false,\\\"enable_categorical_indicators\\\":false,\\\"force_text_dnn\\\":false,\\\"enable_feature_sweeping\\\":true,\\\"enable_early_stopping\\\":true,\\\"early_stopping_n_iters\\\":10,\\\"arguments\\\":null,\\\"dataset_id\\\":\\\"f433351f-a908-4d83-b409-632aa096770d\\\",\\\"hyperdrive_config\\\":null,\\\"validation_dataset_id\\\":null,\\\"run_source\\\":null,\\\"metrics\\\":null,\\\"enable_metric_confidence\\\":false,\\\"enable_ensembling\\\":true,\\\"enable_stack_ensembling\\\":true,\\\"ensemble_iterations\\\":15,\\\"enable_tf\\\":false,\\\"enable_subsampling\\\":null,\\\"subsample_seed\\\":null,\\\"enable_nimbusml\\\":false,\\\"enable_streaming\\\":false,\\\"force_streaming\\\":false,\\\"track_child_runs\\\":true,\\\"allowed_private_models\\\":[],\\\"label_column_name\\\":\\\"DEATH_EVENT\\\",\\\"weight_column_name\\\":null,\\\"cv_split_column_names\\\":null,\\\"enable_local_managed\\\":false,\\\"_local_managed_run_id\\\":null,\\\"cost_mode\\\":1,\\\"lag_length\\\":0,\\\"metric_operation\\\":\\\"maximize\\\",\\\"preprocess\\\":true}\", \"DataPrepJsonString\": \"{\\\\\\\"training_data\\\\\\\": {\\\\\\\"datasetId\\\\\\\": \\\\\\\"f433351f-a908-4d83-b409-632aa096770d\\\\\\\"}, \\\\\\\"datasets\\\\\\\": 0}\", \"EnableSubsampling\": null, \"runTemplate\": \"AutoML\", \"azureml.runsource\": \"automl\", \"display_task_type\": \"classification\", \"dependencies_versions\": \"{\\\"azureml-dataprep-native\\\": \\\"38.0.0\\\", \\\"azureml-dataprep\\\": \\\"3.0.2\\\", \\\"azureml-dataprep-rslex\\\": \\\"2.4.2\\\", \\\"azureml-train-automl-runtime\\\": \\\"1.40.0.post2\\\", \\\"azureml-core\\\": \\\"1.40.0.post2\\\", \\\"azureml-automl-core\\\": \\\"1.40.0\\\", \\\"azureml-automl-runtime\\\": \\\"1.40.0\\\", \\\"azureml-defaults\\\": \\\"1.40.0\\\", \\\"azureml-train-automl\\\": \\\"1.40.0\\\", \\\"azureml-interpret\\\": \\\"1.40.0\\\", \\\"azureml-mlflow\\\": \\\"1.40.0\\\", \\\"azureml-telemetry\\\": \\\"1.40.0\\\", \\\"azureml-pipeline-core\\\": \\\"1.40.0\\\", \\\"azureml-train-automl-client\\\": \\\"1.40.0\\\", \\\"azureml-train-core\\\": \\\"1.40.0\\\", \\\"azureml-dataset-runtime\\\": \\\"1.40.0\\\", \\\"azureml-pipeline-steps\\\": \\\"1.40.0\\\", \\\"azureml-training-tabular\\\": \\\"1.40.0\\\", \\\"azureml-sdk\\\": \\\"1.40.0\\\", \\\"azureml-train-restclients-hyperdrive\\\": \\\"1.40.0\\\", \\\"azureml-pipeline\\\": \\\"1.40.0\\\", \\\"azureml-responsibleai\\\": \\\"1.39.0\\\", \\\"azureml-widgets\\\": \\\"1.39.0\\\", \\\"azureml-opendatasets\\\": \\\"1.39.0\\\", \\\"azureml-contrib-notebook\\\": \\\"1.39.0\\\", \\\"azureml-tensorboard\\\": \\\"1.39.0\\\", \\\"azureml-datadrift\\\": \\\"1.39.0\\\", \\\"azureml-contrib-automl-pipeline-steps\\\": \\\"1.39.0\\\", \\\"azureml-train\\\": \\\"1.39.0\\\", \\\"azureml-contrib-dataset\\\": \\\"1.39.0\\\", \\\"azureml-contrib-fairness\\\": \\\"1.39.0\\\", \\\"azureml-contrib-services\\\": \\\"1.39.0\\\", \\\"azureml-contrib-server\\\": \\\"1.39.0\\\", \\\"azureml-accel-models\\\": \\\"1.39.0\\\", \\\"azureml-automl-dnn-nlp\\\": \\\"1.39.0\\\", \\\"azureml-contrib-pipeline-steps\\\": \\\"1.39.0\\\", \\\"azureml-cli-common\\\": \\\"1.39.0\\\", \\\"azureml-contrib-reinforcementlearning\\\": \\\"1.39.0\\\", \\\"azureml-explain-model\\\": \\\"1.39.0\\\", \\\"azureml-inference-server-http\\\": \\\"0.4.13\\\", \\\"azureml-samples\\\": \\\"0+unknown\\\"}\", \"_aml_system_scenario_identification\": \"Remote.Parent\", \"ClientType\": \"SDK\", \"environment_cpu_name\": \"AzureML-AutoML\", \"environment_cpu_label\": \"prod\", \"environment_gpu_name\": \"AzureML-AutoML-GPU\", \"environment_gpu_label\": \"prod\", \"root_attribution\": \"automl\", \"attribution\": \"AutoML\", \"Orchestrator\": \"AutoML\", \"CancelUri\": \"https://southcentralus.api.azureml.ms/jasmine/v1.0/subscriptions/61c5c3f0-6dc7-4ed9-a7f3-c704b20e3b30/resourceGroups/aml-quickstarts-192362/providers/Microsoft.MachineLearningServices/workspaces/quick-starts-ws-192362/experimentids/4442e48f-f12f-4502-88fa-ca39649714ac/cancel/AutoML_11620fab-74d8-4a45-b233-a596d2fcec2f\", \"ClientSdkVersion\": \"1.40.0.post1\", \"snapshotId\": \"00000000-0000-0000-0000-000000000000\", \"SetupRunId\": \"AutoML_11620fab-74d8-4a45-b233-a596d2fcec2f_setup\", \"SetupRunContainerId\": \"dcid.AutoML_11620fab-74d8-4a45-b233-a596d2fcec2f_setup\", \"FeaturizationRunJsonPath\": \"featurizer_container.json\", \"FeaturizationRunId\": \"AutoML_11620fab-74d8-4a45-b233-a596d2fcec2f_featurize\", \"ProblemInfoJsonString\": \"{\\\"dataset_num_categorical\\\": 0, \\\"is_sparse\\\": false, \\\"subsampling\\\": false, \\\"has_extra_col\\\": true, \\\"dataset_classes\\\": 2, \\\"dataset_features\\\": 12, \\\"dataset_samples\\\": 299, \\\"single_frequency_class_detected\\\": false}\", \"ModelExplainRunId\": \"AutoML_11620fab-74d8-4a45-b233-a596d2fcec2f_ModelExplain\"}, \"tags\": {\"model_explain_run\": \"best_run\", \"_aml_system_automl_run_workspace_id\": \"6653289b-d20a-40c7-b233-7c0c18aba0fe\", \"_aml_system_azureml.automlComponent\": \"AutoML\", \"pipeline_id\": \"\", \"score\": \"\", \"predicted_cost\": \"\", \"fit_time\": \"\", \"training_percent\": \"\", \"iteration\": \"\", \"run_preprocessor\": \"\", \"run_algorithm\": \"\", \"dynamic_allowlisting_iterations\": \"<22>;<30>;<35>;\", \"_aml_system_azureml.automl_early_exit_message\": \"No scores improved over last 20 iterations, so experiment stopped early. This early stopping behavior can be disabled by setting enable_early_stopping = False in AutoMLConfig for notebook/python SDK runs.\", \"automl_best_child_run_id\": \"AutoML_11620fab-74d8-4a45-b233-a596d2fcec2f_38\", \"model_explain_best_run_child_id\": \"AutoML_11620fab-74d8-4a45-b233-a596d2fcec2f_38\"}, \"end_time_utc\": \"2022-04-17T14:07:39.621808Z\", \"status\": \"Completed\", \"log_files\": {}, \"log_groups\": [], \"run_duration\": \"0:17:41\", \"run_number\": \"1650203398\", \"run_queued_details\": {\"status\": \"Completed\", \"details\": null}}, \"child_runs\": [{\"run_id\": \"AutoML_11620fab-74d8-4a45-b233-a596d2fcec2f_setup\", \"run_number\": 1650203410, \"metric\": null, \"status\": \"Completed\", \"run_type\": \"azureml.scriptrun\", \"training_percent\": null, \"start_time\": \"2022-04-17T13:52:15.474875Z\", \"end_time\": \"2022-04-17T13:53:24.190569Z\", \"created_time\": \"2022-04-17T13:50:10.803109Z\", \"created_time_dt\": \"2022-04-17T13:50:10.803109Z\", \"duration\": \"0:03:13\", \"iteration\": null, \"goal\": null, \"run_name\": \"Completed\", \"run_properties\": null}, {\"run_id\": \"AutoML_11620fab-74d8-4a45-b233-a596d2fcec2f_featurize\", \"run_number\": 1650203604, \"metric\": null, \"status\": \"Completed\", \"run_type\": \"automl.featurization\", \"training_percent\": null, \"start_time\": \"2022-04-17T13:53:24.863813Z\", \"end_time\": \"2022-04-17T13:54:01.954739Z\", \"created_time\": \"2022-04-17T13:53:24.587306Z\", \"created_time_dt\": \"2022-04-17T13:53:24.587306Z\", \"duration\": \"0:00:37\", \"iteration\": null, \"goal\": null, \"run_name\": \"Completed\", \"run_properties\": null}, {\"run_id\": \"AutoML_11620fab-74d8-4a45-b233-a596d2fcec2f_0\", \"run_number\": 1650203643, \"metric\": null, \"status\": \"Completed\", \"run_type\": null, \"training_percent\": \"100\", \"start_time\": \"2022-04-17T13:54:16.87608Z\", \"end_time\": \"2022-04-17T13:54:32.083246Z\", \"created_time\": \"2022-04-17T13:54:03.189412Z\", \"created_time_dt\": \"2022-04-17T13:54:03.189412Z\", \"duration\": \"0:00:28\", \"iteration\": \"0\", \"goal\": \"AUC_weighted_max\", \"run_name\": \"MaxAbsScaler, LightGBM\", \"run_properties\": \"copy=True\", \"primary_metric\": 0.9038664, \"best_metric\": 0.9038664}, {\"run_id\": \"AutoML_11620fab-74d8-4a45-b233-a596d2fcec2f_2\", \"run_number\": 1650203644, \"metric\": null, \"status\": \"Completed\", \"run_type\": null, \"training_percent\": \"100\", \"start_time\": \"2022-04-17T13:54:48.396802Z\", \"end_time\": \"2022-04-17T13:55:03.126346Z\", \"created_time\": \"2022-04-17T13:54:04.117728Z\", \"created_time_dt\": \"2022-04-17T13:54:04.117728Z\", \"duration\": \"0:00:59\", \"iteration\": \"2\", \"goal\": \"AUC_weighted_max\", \"run_name\": \"MaxAbsScaler, ExtremeRandomTrees\", \"run_properties\": \"copy=True\", \"primary_metric\": 0.88279101, \"best_metric\": 0.9038664}, {\"run_id\": \"AutoML_11620fab-74d8-4a45-b233-a596d2fcec2f_4\", \"run_number\": 1650203645, \"metric\": null, \"status\": \"Completed\", \"run_type\": null, \"training_percent\": \"100\", \"start_time\": \"2022-04-17T13:55:36.21204Z\", \"end_time\": \"2022-04-17T13:55:51.167217Z\", \"created_time\": \"2022-04-17T13:54:05.000338Z\", \"created_time_dt\": \"2022-04-17T13:54:05.000338Z\", \"duration\": \"0:01:46\", \"iteration\": \"4\", \"goal\": \"AUC_weighted_max\", \"run_name\": \"StandardScalerWrapper, LightGBM\", \"run_properties\": \"copy=True, with_mean=False, with_std=True\", \"primary_metric\": 0.90153439, \"best_metric\": 0.9038664}, {\"run_id\": \"AutoML_11620fab-74d8-4a45-b233-a596d2fcec2f_worker_1\", \"run_number\": 1650203646, \"metric\": null, \"status\": \"Completed\", \"run_type\": \"azureml.scriptrun\", \"training_percent\": null, \"start_time\": \"2022-04-17T13:56:09.826013Z\", \"end_time\": \"2022-04-17T13:56:45.623824Z\", \"created_time\": \"2022-04-17T13:54:06.836618Z\", \"created_time_dt\": \"2022-04-17T13:54:06.836618Z\", \"duration\": \"0:02:38\", \"iteration\": null, \"goal\": null, \"run_name\": \"Completed\", \"run_properties\": null}, {\"run_id\": \"AutoML_11620fab-74d8-4a45-b233-a596d2fcec2f_8\", \"run_number\": 1650203647, \"metric\": null, \"status\": \"Completed\", \"run_type\": null, \"training_percent\": \"100\", \"start_time\": \"2022-04-17T13:57:03.425989Z\", \"end_time\": \"2022-04-17T13:57:19.898243Z\", \"created_time\": \"2022-04-17T13:54:06.992427Z\", \"created_time_dt\": \"2022-04-17T13:54:06.992427Z\", \"duration\": \"0:03:12\", \"iteration\": \"8\", \"goal\": \"AUC_weighted_max\", \"run_name\": \"RobustScaler, KNN\", \"run_properties\": \"copy=True, quantile_range=[25, 75], with_centering=False,\\n             with_scaling=True\", \"primary_metric\": 0.84450926, \"best_metric\": 0.9038664}, {\"run_id\": \"AutoML_11620fab-74d8-4a45-b233-a596d2fcec2f_12\", \"run_number\": 1650203648, \"metric\": null, \"status\": \"Completed\", \"run_type\": null, \"training_percent\": \"100\", \"start_time\": \"2022-04-17T13:57:06.529745Z\", \"end_time\": \"2022-04-17T13:57:22.453895Z\", \"created_time\": \"2022-04-17T13:54:08.765157Z\", \"created_time_dt\": \"2022-04-17T13:54:08.765157Z\", \"duration\": \"0:03:13\", \"iteration\": \"12\", \"goal\": \"AUC_weighted_max\", \"run_name\": \"StandardScalerWrapper, XGBoostClassifier\", \"run_properties\": \"copy=True, with_mean=False, with_std=False\", \"primary_metric\": 0.86246813, \"best_metric\": 0.9038664}, {\"run_id\": \"AutoML_11620fab-74d8-4a45-b233-a596d2fcec2f_13\", \"run_number\": 1650203649, \"metric\": null, \"status\": \"Completed\", \"run_type\": null, \"training_percent\": \"100\", \"start_time\": \"2022-04-17T13:57:22.666314Z\", \"end_time\": \"2022-04-17T13:57:38.312491Z\", \"created_time\": \"2022-04-17T13:54:09.180629Z\", \"created_time_dt\": \"2022-04-17T13:54:09.180629Z\", \"duration\": \"0:03:29\", \"iteration\": \"13\", \"goal\": \"AUC_weighted_max\", \"run_name\": \"SparseNormalizer, KNN\", \"run_properties\": \"copy=True, norm='max'\", \"primary_metric\": 0.74858123, \"best_metric\": 0.9038664}, {\"run_id\": \"AutoML_11620fab-74d8-4a45-b233-a596d2fcec2f_worker_3\", \"run_number\": 1650203650, \"metric\": null, \"status\": \"Completed\", \"run_type\": \"azureml.scriptrun\", \"training_percent\": null, \"start_time\": \"2022-04-17T13:56:16.746989Z\", \"end_time\": \"2022-04-17T13:58:16.101802Z\", \"created_time\": \"2022-04-17T13:54:10.314125Z\", \"created_time_dt\": \"2022-04-17T13:54:10.314125Z\", \"duration\": \"0:04:05\", \"iteration\": null, \"goal\": null, \"run_name\": \"Completed\", \"run_properties\": null}, {\"run_id\": \"AutoML_11620fab-74d8-4a45-b233-a596d2fcec2f_18\", \"run_number\": 1650203651, \"metric\": null, \"status\": \"Completed\", \"run_type\": null, \"training_percent\": \"100\", \"start_time\": \"2022-04-17T13:57:29.714374Z\", \"end_time\": \"2022-04-17T13:57:44.291359Z\", \"created_time\": \"2022-04-17T13:54:11.351464Z\", \"created_time_dt\": \"2022-04-17T13:54:11.351464Z\", \"duration\": \"0:03:32\", \"iteration\": \"18\", \"goal\": \"AUC_weighted_max\", \"run_name\": \"SparseNormalizer, LightGBM\", \"run_properties\": \"copy=True, norm='l1'\", \"primary_metric\": 0.87922222, \"best_metric\": 0.9038664}, {\"run_id\": \"AutoML_11620fab-74d8-4a45-b233-a596d2fcec2f_worker_4\", \"run_number\": 1650203652, \"metric\": null, \"status\": \"Completed\", \"run_type\": \"azureml.scriptrun\", \"training_percent\": null, \"start_time\": \"2022-04-17T13:58:09.046436Z\", \"end_time\": \"2022-04-17T13:58:16.598454Z\", \"created_time\": \"2022-04-17T13:54:12.034945Z\", \"created_time_dt\": \"2022-04-17T13:54:12.034945Z\", \"duration\": \"0:04:04\", \"iteration\": null, \"goal\": null, \"run_name\": \"Completed\", \"run_properties\": null}, {\"run_id\": \"AutoML_11620fab-74d8-4a45-b233-a596d2fcec2f_20\", \"run_number\": 1650203874, \"metric\": null, \"status\": \"Completed\", \"run_type\": \"azureml.scriptrun\", \"training_percent\": \"100\", \"start_time\": \"2022-04-17T13:58:44.784601Z\", \"end_time\": \"2022-04-17T13:58:48.381873Z\", \"created_time\": \"2022-04-17T13:57:54.587645Z\", \"created_time_dt\": \"2022-04-17T13:57:54.587645Z\", \"duration\": \"0:00:53\", \"iteration\": \"20\", \"goal\": \"AUC_weighted_max\", \"run_name\": \"StandardScalerWrapper, XGBoostClassifier\", \"run_properties\": \"copy=True, with_mean=False, with_std=False\", \"primary_metric\": 0.90082672, \"best_metric\": 0.9038664}, {\"run_id\": \"AutoML_11620fab-74d8-4a45-b233-a596d2fcec2f_24\", \"run_number\": 1650203932, \"metric\": null, \"status\": \"Completed\", \"run_type\": \"azureml.scriptrun\", \"training_percent\": \"100\", \"start_time\": \"2022-04-17T14:00:33.731239Z\", \"end_time\": \"2022-04-17T14:00:37.335667Z\", \"created_time\": \"2022-04-17T13:58:52.382087Z\", \"created_time_dt\": \"2022-04-17T13:58:52.382087Z\", \"duration\": \"0:01:44\", \"iteration\": \"24\", \"goal\": \"AUC_weighted_max\", \"run_name\": \"MaxAbsScaler, LogisticRegression\", \"run_properties\": \"copy=True\", \"primary_metric\": 0.8573545, \"best_metric\": 0.9038664}, {\"run_id\": \"AutoML_11620fab-74d8-4a45-b233-a596d2fcec2f_26\", \"run_number\": 1650204008, \"metric\": null, \"status\": \"Completed\", \"run_type\": \"azureml.scriptrun\", \"training_percent\": \"100\", \"start_time\": \"2022-04-17T14:02:37.587764Z\", \"end_time\": \"2022-04-17T14:02:41.183513Z\", \"created_time\": \"2022-04-17T14:00:08.195701Z\", \"created_time_dt\": \"2022-04-17T14:00:08.195701Z\", \"duration\": \"0:02:32\", \"iteration\": \"26\", \"goal\": \"AUC_weighted_max\", \"run_name\": \"RobustScaler, SVM\", \"run_properties\": \"copy=True, quantile_range=[10, 90], with_centering=False,\\n             with_scaling=True\", \"primary_metric\": 0.80741667, \"best_metric\": 0.9038664}, {\"run_id\": \"AutoML_11620fab-74d8-4a45-b233-a596d2fcec2f_27\", \"run_number\": 1650204038, \"metric\": null, \"status\": \"Completed\", \"run_type\": \"azureml.scriptrun\", \"training_percent\": \"100\", \"start_time\": \"2022-04-17T14:02:42.340351Z\", \"end_time\": \"2022-04-17T14:02:53.129211Z\", \"created_time\": \"2022-04-17T14:00:38.968188Z\", \"created_time_dt\": \"2022-04-17T14:00:38.968188Z\", \"duration\": \"0:02:14\", \"iteration\": \"27\", \"goal\": \"AUC_weighted_max\", \"run_name\": \"MinMaxScaler, RandomForest\", \"run_properties\": \"copy=True, feature_range=(0, 1\", \"primary_metric\": 0.89797487, \"best_metric\": 0.9038664}, {\"run_id\": \"AutoML_11620fab-74d8-4a45-b233-a596d2fcec2f_28\", \"run_number\": 1650204048, \"metric\": null, \"status\": \"Completed\", \"run_type\": \"azureml.scriptrun\", \"training_percent\": \"100\", \"start_time\": \"2022-04-17T14:03:01.739412Z\", \"end_time\": \"2022-04-17T14:03:05.337607Z\", \"created_time\": \"2022-04-17T14:00:48.642301Z\", \"created_time_dt\": \"2022-04-17T14:00:48.642301Z\", \"duration\": \"0:02:16\", \"iteration\": \"28\", \"goal\": \"AUC_weighted_max\", \"run_name\": \"MaxAbsScaler, ExtremeRandomTrees\", \"run_properties\": \"copy=True\", \"primary_metric\": 0.85970767, \"best_metric\": 0.9038664}, {\"run_id\": \"AutoML_11620fab-74d8-4a45-b233-a596d2fcec2f_29\", \"run_number\": 1650204050, \"metric\": null, \"status\": \"Completed\", \"run_type\": \"azureml.scriptrun\", \"training_percent\": \"100\", \"start_time\": \"2022-04-17T14:04:01.945679Z\", \"end_time\": \"2022-04-17T14:04:05.538204Z\", \"created_time\": \"2022-04-17T14:00:50.80496Z\", \"created_time_dt\": \"2022-04-17T14:00:50.80496Z\", \"duration\": \"0:03:14\", \"iteration\": \"29\", \"goal\": \"AUC_weighted_max\", \"run_name\": \"MaxAbsScaler, LightGBM\", \"run_properties\": \"copy=True\", \"primary_metric\": 0.89687302, \"best_metric\": 0.9038664}, {\"run_id\": \"AutoML_11620fab-74d8-4a45-b233-a596d2fcec2f_30\", \"run_number\": 1650204123, \"metric\": null, \"status\": \"Completed\", \"run_type\": \"azureml.scriptrun\", \"training_percent\": \"100\", \"start_time\": \"2022-04-17T14:04:43.678245Z\", \"end_time\": \"2022-04-17T14:04:47.258395Z\", \"created_time\": \"2022-04-17T14:02:03.815856Z\", \"created_time_dt\": \"2022-04-17T14:02:03.815856Z\", \"duration\": \"0:02:43\", \"iteration\": \"30\", \"goal\": \"AUC_weighted_max\", \"run_name\": \"SparseNormalizer, XGBoostClassifier\", \"run_properties\": \"copy=True, norm='l1'\", \"primary_metric\": 0.86817063, \"best_metric\": 0.9038664}, {\"run_id\": \"AutoML_11620fab-74d8-4a45-b233-a596d2fcec2f_31\", \"run_number\": 1650204163, \"metric\": null, \"status\": \"Completed\", \"run_type\": \"azureml.scriptrun\", \"training_percent\": \"100\", \"start_time\": \"2022-04-17T14:04:55.345135Z\", \"end_time\": \"2022-04-17T14:04:58.994454Z\", \"created_time\": \"2022-04-17T14:02:43.011525Z\", \"created_time_dt\": \"2022-04-17T14:02:43.011525Z\", \"duration\": \"0:02:15\", \"iteration\": \"31\", \"goal\": \"AUC_weighted_max\", \"run_name\": \"RobustScaler, ExtremeRandomTrees\", \"run_properties\": \"copy=True, quantile_range=[10, 90], with_centering=True,\\n             with_scaling=False\", \"primary_metric\": 0.84415079, \"best_metric\": 0.9038664}, {\"run_id\": \"AutoML_11620fab-74d8-4a45-b233-a596d2fcec2f_32\", \"run_number\": 1650204174, \"metric\": null, \"status\": \"Completed\", \"run_type\": \"azureml.scriptrun\", \"training_percent\": \"100\", \"start_time\": \"2022-04-17T14:04:45.465394Z\", \"end_time\": \"2022-04-17T14:04:49.05198Z\", \"created_time\": \"2022-04-17T14:02:54.858873Z\", \"created_time_dt\": \"2022-04-17T14:02:54.858873Z\", \"duration\": \"0:01:54\", \"iteration\": \"32\", \"goal\": \"AUC_weighted_max\", \"run_name\": \"SparseNormalizer, LightGBM\", \"run_properties\": \"copy=True, norm='l2'\", \"primary_metric\": 0.87306614, \"best_metric\": 0.9038664}, {\"run_id\": \"AutoML_11620fab-74d8-4a45-b233-a596d2fcec2f_33\", \"run_number\": 1650204186, \"metric\": null, \"status\": \"Completed\", \"run_type\": \"azureml.scriptrun\", \"training_percent\": \"100\", \"start_time\": \"2022-04-17T14:06:03.824095Z\", \"end_time\": \"2022-04-17T14:06:07.398543Z\", \"created_time\": \"2022-04-17T14:03:06.938311Z\", \"created_time_dt\": \"2022-04-17T14:03:06.938311Z\", \"duration\": \"0:03:00\", \"iteration\": \"33\", \"goal\": \"AUC_weighted_max\", \"run_name\": \"SparseNormalizer, XGBoostClassifier\", \"run_properties\": \"copy=True, norm='l2'\", \"primary_metric\": 0.8803836, \"best_metric\": 0.9038664}, {\"run_id\": \"AutoML_11620fab-74d8-4a45-b233-a596d2fcec2f_34\", \"run_number\": 1650204247, \"metric\": null, \"status\": \"Canceled\", \"run_type\": \"azureml.scriptrun\", \"training_percent\": \"100\", \"start_time\": \"2022-04-17T14:06:08.054473Z\", \"end_time\": \"2022-04-17T14:06:08.277252Z\", \"created_time\": \"2022-04-17T14:04:07.176523Z\", \"created_time_dt\": \"2022-04-17T14:04:07.176523Z\", \"duration\": \"0:02:01\", \"iteration\": \"34\", \"goal\": null, \"run_name\": \"Canceled\", \"run_properties\": null}, {\"run_id\": \"AutoML_11620fab-74d8-4a45-b233-a596d2fcec2f_35\", \"run_number\": 1650204289, \"metric\": null, \"status\": \"Canceled\", \"run_type\": \"azureml.scriptrun\", \"training_percent\": \"100\", \"start_time\": \"2022-04-17T14:06:08.070449Z\", \"end_time\": \"2022-04-17T14:06:08.229184Z\", \"created_time\": \"2022-04-17T14:04:49.985127Z\", \"created_time_dt\": \"2022-04-17T14:04:49.985127Z\", \"duration\": \"0:01:18\", \"iteration\": \"35\", \"goal\": null, \"run_name\": \"Canceled\", \"run_properties\": null}, {\"run_id\": \"AutoML_11620fab-74d8-4a45-b233-a596d2fcec2f_36\", \"run_number\": 1650204292, \"metric\": null, \"status\": \"Canceled\", \"run_type\": \"azureml.scriptrun\", \"training_percent\": \"100\", \"start_time\": \"2022-04-17T14:06:08.084686Z\", \"end_time\": \"2022-04-17T14:06:08.288102Z\", \"created_time\": \"2022-04-17T14:04:52.380226Z\", \"created_time_dt\": \"2022-04-17T14:04:52.380226Z\", \"duration\": \"0:01:15\", \"iteration\": \"36\", \"goal\": null, \"run_name\": \"Canceled\", \"run_properties\": null}, {\"run_id\": \"AutoML_11620fab-74d8-4a45-b233-a596d2fcec2f_37\", \"run_number\": 1650204300, \"metric\": null, \"status\": \"Canceled\", \"run_type\": \"azureml.scriptrun\", \"training_percent\": \"100\", \"start_time\": \"2022-04-17T14:06:08.089019Z\", \"end_time\": \"2022-04-17T14:06:08.333129Z\", \"created_time\": \"2022-04-17T14:05:00.759763Z\", \"created_time_dt\": \"2022-04-17T14:05:00.759763Z\", \"duration\": \"0:01:07\", \"iteration\": \"37\", \"goal\": null, \"run_name\": \"Canceled\", \"run_properties\": null}, {\"run_id\": \"AutoML_11620fab-74d8-4a45-b233-a596d2fcec2f_38\", \"run_number\": 1650204369, \"metric\": null, \"status\": \"Completed\", \"run_type\": \"azureml.scriptrun\", \"training_percent\": \"100\", \"start_time\": \"2022-04-17T14:07:25.488864Z\", \"end_time\": \"2022-04-17T14:07:29.081483Z\", \"created_time\": \"2022-04-17T14:06:09.172751Z\", \"created_time_dt\": \"2022-04-17T14:06:09.172751Z\", \"duration\": \"0:01:19\", \"iteration\": \"38\", \"goal\": \"AUC_weighted_max\", \"run_name\": \"VotingEnsemble\", \"run_properties\": \"classification_labels=array([0, 1]\", \"primary_metric\": 0.92311508, \"best_metric\": 0.92311508}], \"children_metrics\": {\"categories\": [0], \"series\": {\"AUC_weighted\": [{\"categories\": [\"0\", \"2\", \"4\", \"8\", \"12\", \"13\", \"18\", \"20\", \"24\", \"26\", \"27\", \"28\", \"29\", \"30\", \"31\", \"32\", \"33\", \"38\"], \"mode\": \"markers\", \"name\": \"AUC_weighted\", \"stepped\": false, \"type\": \"scatter\", \"data\": [0.9038664021164022, 0.8827910052910053, 0.9015343915343915, 0.8445092592592595, 0.8624681337181337, 0.748581228956229, 0.8792222222222221, 0.9008267195767197, 0.8573544973544975, 0.8074166666666668, 0.8979748677248677, 0.859707671957672, 0.8968730158730159, 0.868170634920635, 0.8441507936507936, 0.8730661375661376, 0.8803835978835979, 0.9231150793650794]}, {\"categories\": [\"0\", \"2\", \"4\", \"8\", \"12\", \"13\", \"18\", \"20\", \"24\", \"26\", \"27\", \"28\", \"29\", \"30\", \"31\", \"32\", \"33\", \"38\"], \"mode\": \"lines\", \"name\": \"AUC_weighted_max\", \"stepped\": true, \"type\": \"scatter\", \"data\": [0.9038664021164022, 0.9038664021164022, 0.9038664021164022, 0.9038664021164022, 0.9038664021164022, 0.9038664021164022, 0.9038664021164022, 0.9038664021164022, 0.9038664021164022, 0.9038664021164022, 0.9038664021164022, 0.9038664021164022, 0.9038664021164022, 0.9038664021164022, 0.9038664021164022, 0.9038664021164022, 0.9038664021164022, 0.9231150793650794]}], \"AUC_macro\": [{\"categories\": [\"0\", \"2\", \"4\", \"8\", \"12\", \"13\", \"18\", \"20\", \"24\", \"26\", \"27\", \"28\", \"29\", \"30\", \"31\", \"32\", \"33\", \"38\"], \"mode\": \"markers\", \"name\": \"AUC_macro\", \"stepped\": false, \"type\": \"scatter\", \"data\": [0.9038664021164021, 0.8827910052910052, 0.9015343915343915, 0.8445092592592595, 0.8624681337181337, 0.748581228956229, 0.8792222222222223, 0.9008267195767197, 0.8573544973544975, 0.8074166666666666, 0.8979748677248677, 0.859707671957672, 0.8968730158730159, 0.868170634920635, 0.8441507936507936, 0.8730661375661376, 0.8803835978835979, 0.9231150793650795]}, {\"categories\": [\"0\", \"2\", \"4\", \"8\", \"12\", \"13\", \"18\", \"20\", \"24\", \"26\", \"27\", \"28\", \"29\", \"30\", \"31\", \"32\", \"33\", \"38\"], \"mode\": \"lines\", \"name\": \"AUC_macro_max\", \"stepped\": true, \"type\": \"scatter\", \"data\": [0.9038664021164021, 0.9038664021164021, 0.9038664021164021, 0.9038664021164021, 0.9038664021164021, 0.9038664021164021, 0.9038664021164021, 0.9038664021164021, 0.9038664021164021, 0.9038664021164021, 0.9038664021164021, 0.9038664021164021, 0.9038664021164021, 0.9038664021164021, 0.9038664021164021, 0.9038664021164021, 0.9038664021164021, 0.9231150793650795]}], \"recall_score_macro\": [{\"categories\": [\"0\", \"2\", \"4\", \"8\", \"12\", \"13\", \"18\", \"20\", \"24\", \"26\", \"27\", \"28\", \"29\", \"30\", \"31\", \"32\", \"33\", \"38\"], \"mode\": \"markers\", \"name\": \"recall_score_macro\", \"stepped\": false, \"type\": \"scatter\", \"data\": [0.8307222222222223, 0.7947380952380952, 0.7713015873015874, 0.6116190476190476, 0.7443008658008659, 0.673047619047619, 0.7937063492063491, 0.8206190476190477, 0.7712929292929293, 0.726857142857143, 0.8163571428571429, 0.7499126984126984, 0.7941746031746031, 0.7555396825396826, 0.7938492063492064, 0.805952380952381, 0.8008650793650793, 0.8267539682539683]}, {\"categories\": [\"0\", \"2\", \"4\", \"8\", \"12\", \"13\", \"18\", \"20\", \"24\", \"26\", \"27\", \"28\", \"29\", \"30\", \"31\", \"32\", \"33\", \"38\"], \"mode\": \"lines\", \"name\": \"recall_score_macro_max\", \"stepped\": true, \"type\": \"scatter\", \"data\": [0.8307222222222223, 0.8307222222222223, 0.8307222222222223, 0.8307222222222223, 0.8307222222222223, 0.8307222222222223, 0.8307222222222223, 0.8307222222222223, 0.8307222222222223, 0.8307222222222223, 0.8307222222222223, 0.8307222222222223, 0.8307222222222223, 0.8307222222222223, 0.8307222222222223, 0.8307222222222223, 0.8307222222222223, 0.8307222222222223]}], \"recall_score_weighted\": [{\"categories\": [\"0\", \"2\", \"4\", \"8\", \"12\", \"13\", \"18\", \"20\", \"24\", \"26\", \"27\", \"28\", \"29\", \"30\", \"31\", \"32\", \"33\", \"38\"], \"mode\": \"markers\", \"name\": \"recall_score_weighted\", \"stepped\": false, \"type\": \"scatter\", \"data\": [0.8587878787878788, 0.8424242424242425, 0.8187878787878788, 0.7224242424242425, 0.7954545454545454, 0.7651515151515151, 0.8357575757575756, 0.8454545454545455, 0.7815151515151516, 0.7857575757575758, 0.8290909090909091, 0.8160606060606059, 0.8460606060606061, 0.8190909090909091, 0.8081818181818181, 0.8421212121212122, 0.8393939393939394, 0.8584848484848486]}, {\"categories\": [\"0\", \"2\", \"4\", \"8\", \"12\", \"13\", \"18\", \"20\", \"24\", \"26\", \"27\", \"28\", \"29\", \"30\", \"31\", \"32\", \"33\", \"38\"], \"mode\": \"lines\", \"name\": \"recall_score_weighted_max\", \"stepped\": true, \"type\": \"scatter\", \"data\": [0.8587878787878788, 0.8587878787878788, 0.8587878787878788, 0.8587878787878788, 0.8587878787878788, 0.8587878787878788, 0.8587878787878788, 0.8587878787878788, 0.8587878787878788, 0.8587878787878788, 0.8587878787878788, 0.8587878787878788, 0.8587878787878788, 0.8587878787878788, 0.8587878787878788, 0.8587878787878788, 0.8587878787878788, 0.8587878787878788]}], \"balanced_accuracy\": [{\"categories\": [\"0\", \"2\", \"4\", \"8\", \"12\", \"13\", \"18\", \"20\", \"24\", \"26\", \"27\", \"28\", \"29\", \"30\", \"31\", \"32\", \"33\", \"38\"], \"mode\": \"markers\", \"name\": \"balanced_accuracy\", \"stepped\": false, \"type\": \"scatter\", \"data\": [0.8307222222222223, 0.7947380952380952, 0.7713015873015874, 0.6116190476190476, 0.7443008658008659, 0.673047619047619, 0.7937063492063491, 0.8206190476190477, 0.7712929292929293, 0.726857142857143, 0.8163571428571429, 0.7499126984126984, 0.7941746031746031, 0.7555396825396826, 0.7938492063492064, 0.805952380952381, 0.8008650793650793, 0.8267539682539683]}, {\"categories\": [\"0\", \"2\", \"4\", \"8\", \"12\", \"13\", \"18\", \"20\", \"24\", \"26\", \"27\", \"28\", \"29\", \"30\", \"31\", \"32\", \"33\", \"38\"], \"mode\": \"lines\", \"name\": \"balanced_accuracy_max\", \"stepped\": true, \"type\": \"scatter\", \"data\": [0.8307222222222223, 0.8307222222222223, 0.8307222222222223, 0.8307222222222223, 0.8307222222222223, 0.8307222222222223, 0.8307222222222223, 0.8307222222222223, 0.8307222222222223, 0.8307222222222223, 0.8307222222222223, 0.8307222222222223, 0.8307222222222223, 0.8307222222222223, 0.8307222222222223, 0.8307222222222223, 0.8307222222222223, 0.8307222222222223]}], \"average_precision_score_micro\": [{\"categories\": [\"0\", \"2\", \"4\", \"8\", \"12\", \"13\", \"18\", \"20\", \"24\", \"26\", \"27\", \"28\", \"29\", \"30\", \"31\", \"32\", \"33\", \"38\"], \"mode\": \"markers\", \"name\": \"average_precision_score_micro\", \"stepped\": false, \"type\": \"scatter\", \"data\": [0.9097810945025071, 0.9037209021628527, 0.9104869650902933, 0.854799732979561, 0.8975150308211455, 0.8025487410859433, 0.9041440323927032, 0.9173531421734701, 0.8665784076722797, 0.8517303340026039, 0.9184406896084706, 0.8844814070388233, 0.9169029297598817, 0.8917701383726927, 0.8679671414470177, 0.9046320628950525, 0.905237561325601, 0.9259945347480177]}, {\"categories\": [\"0\", \"2\", \"4\", \"8\", \"12\", \"13\", \"18\", \"20\", \"24\", \"26\", \"27\", \"28\", \"29\", \"30\", \"31\", \"32\", \"33\", \"38\"], \"mode\": \"lines\", \"name\": \"average_precision_score_micro_max\", \"stepped\": true, \"type\": \"scatter\", \"data\": [0.9097810945025071, 0.9097810945025071, 0.9104869650902933, 0.9104869650902933, 0.9104869650902933, 0.9104869650902933, 0.9104869650902933, 0.9173531421734701, 0.9173531421734701, 0.9173531421734701, 0.9184406896084706, 0.9184406896084706, 0.9184406896084706, 0.9184406896084706, 0.9184406896084706, 0.9184406896084706, 0.9184406896084706, 0.9259945347480177]}], \"matthews_correlation\": [{\"categories\": [\"0\", \"2\", \"4\", \"8\", \"12\", \"13\", \"18\", \"20\", \"24\", \"26\", \"27\", \"28\", \"29\", \"30\", \"31\", \"32\", \"33\", \"38\"], \"mode\": \"markers\", \"name\": \"matthews_correlation\", \"stepped\": false, \"type\": \"scatter\", \"data\": [0.6823582047210636, 0.6328577193558304, 0.5650694706372045, 0.26925397800302375, 0.5148357644824749, 0.4081773518465402, 0.6245392932675373, 0.6519376694744429, 0.524790140638657, 0.4802112918209708, 0.6156510295999205, 0.5670617760704354, 0.6264514121028602, 0.5613337560886721, 0.5828990404788138, 0.6335669895722408, 0.6121457161521925, 0.6785474073194372]}, {\"categories\": [\"0\", \"2\", \"4\", \"8\", \"12\", \"13\", \"18\", \"20\", \"24\", \"26\", \"27\", \"28\", \"29\", \"30\", \"31\", \"32\", \"33\", \"38\"], \"mode\": \"lines\", \"name\": \"matthews_correlation_max\", \"stepped\": true, \"type\": \"scatter\", \"data\": [0.6823582047210636, 0.6823582047210636, 0.6823582047210636, 0.6823582047210636, 0.6823582047210636, 0.6823582047210636, 0.6823582047210636, 0.6823582047210636, 0.6823582047210636, 0.6823582047210636, 0.6823582047210636, 0.6823582047210636, 0.6823582047210636, 0.6823582047210636, 0.6823582047210636, 0.6823582047210636, 0.6823582047210636, 0.6823582047210636]}], \"f1_score_micro\": [{\"categories\": [\"0\", \"2\", \"4\", \"8\", \"12\", \"13\", \"18\", \"20\", \"24\", \"26\", \"27\", \"28\", \"29\", \"30\", \"31\", \"32\", \"33\", \"38\"], \"mode\": \"markers\", \"name\": \"f1_score_micro\", \"stepped\": false, \"type\": \"scatter\", \"data\": [0.8587878787878788, 0.8424242424242425, 0.8187878787878788, 0.7224242424242425, 0.7954545454545454, 0.7651515151515151, 0.8357575757575756, 0.8454545454545455, 0.7815151515151516, 0.7857575757575758, 0.8290909090909091, 0.8160606060606059, 0.8460606060606061, 0.8190909090909091, 0.8081818181818181, 0.8421212121212122, 0.8393939393939394, 0.8584848484848486]}, {\"categories\": [\"0\", \"2\", \"4\", \"8\", \"12\", \"13\", \"18\", \"20\", \"24\", \"26\", \"27\", \"28\", \"29\", \"30\", \"31\", \"32\", \"33\", \"38\"], \"mode\": \"lines\", \"name\": \"f1_score_micro_max\", \"stepped\": true, \"type\": \"scatter\", \"data\": [0.8587878787878788, 0.8587878787878788, 0.8587878787878788, 0.8587878787878788, 0.8587878787878788, 0.8587878787878788, 0.8587878787878788, 0.8587878787878788, 0.8587878787878788, 0.8587878787878788, 0.8587878787878788, 0.8587878787878788, 0.8587878787878788, 0.8587878787878788, 0.8587878787878788, 0.8587878787878788, 0.8587878787878788, 0.8587878787878788]}], \"average_precision_score_weighted\": [{\"categories\": [\"0\", \"2\", \"4\", \"8\", \"12\", \"13\", \"18\", \"20\", \"24\", \"26\", \"27\", \"28\", \"29\", \"30\", \"31\", \"32\", \"33\", \"38\"], \"mode\": \"markers\", \"name\": \"average_precision_score_weighted\", \"stepped\": false, \"type\": \"scatter\", \"data\": [0.9342339192793737, 0.920410052910053, 0.9307504810004811, 0.8861409331409331, 0.9067338864838865, 0.8204567974113429, 0.9164290524290525, 0.9290839345839346, 0.9047149197603741, 0.8712360837815382, 0.929889850889851, 0.907863789409244, 0.9257609427609428, 0.9067632275132276, 0.8956863002317546, 0.9137058682058682, 0.9137910052910052, 0.9469733044733046]}, {\"categories\": [\"0\", \"2\", \"4\", \"8\", \"12\", \"13\", \"18\", \"20\", \"24\", \"26\", \"27\", \"28\", \"29\", \"30\", \"31\", \"32\", \"33\", \"38\"], \"mode\": \"lines\", \"name\": \"average_precision_score_weighted_max\", \"stepped\": true, \"type\": \"scatter\", \"data\": [0.9342339192793737, 0.9342339192793737, 0.9342339192793737, 0.9342339192793737, 0.9342339192793737, 0.9342339192793737, 0.9342339192793737, 0.9342339192793737, 0.9342339192793737, 0.9342339192793737, 0.9342339192793737, 0.9342339192793737, 0.9342339192793737, 0.9342339192793737, 0.9342339192793737, 0.9342339192793737, 0.9342339192793737, 0.9469733044733046]}], \"accuracy\": [{\"categories\": [\"0\", \"2\", \"4\", \"8\", \"12\", \"13\", \"18\", \"20\", \"24\", \"26\", \"27\", \"28\", \"29\", \"30\", \"31\", \"32\", \"33\", \"38\"], \"mode\": \"markers\", \"name\": \"accuracy\", \"stepped\": false, \"type\": \"scatter\", \"data\": [0.8587878787878788, 0.8424242424242425, 0.8187878787878788, 0.7224242424242425, 0.7954545454545454, 0.7651515151515151, 0.8357575757575756, 0.8454545454545455, 0.7815151515151516, 0.7857575757575758, 0.8290909090909091, 0.8160606060606059, 0.8460606060606061, 0.8190909090909091, 0.8081818181818181, 0.8421212121212122, 0.8393939393939394, 0.8584848484848486]}, {\"categories\": [\"0\", \"2\", \"4\", \"8\", \"12\", \"13\", \"18\", \"20\", \"24\", \"26\", \"27\", \"28\", \"29\", \"30\", \"31\", \"32\", \"33\", \"38\"], \"mode\": \"lines\", \"name\": \"accuracy_max\", \"stepped\": true, \"type\": \"scatter\", \"data\": [0.8587878787878788, 0.8587878787878788, 0.8587878787878788, 0.8587878787878788, 0.8587878787878788, 0.8587878787878788, 0.8587878787878788, 0.8587878787878788, 0.8587878787878788, 0.8587878787878788, 0.8587878787878788, 0.8587878787878788, 0.8587878787878788, 0.8587878787878788, 0.8587878787878788, 0.8587878787878788, 0.8587878787878788, 0.8587878787878788]}], \"precision_score_macro\": [{\"categories\": [\"0\", \"2\", \"4\", \"8\", \"12\", \"13\", \"18\", \"20\", \"24\", \"26\", \"27\", \"28\", \"29\", \"30\", \"31\", \"32\", \"33\", \"38\"], \"mode\": \"markers\", \"name\": \"precision_score_macro\", \"stepped\": false, \"type\": \"scatter\", \"data\": [0.855507215007215, 0.8433636363636363, 0.792809523809524, 0.6472121212121212, 0.7795836940836942, 0.7468484848484848, 0.8405743145743146, 0.834396103896104, 0.7569682539682538, 0.7575584415584415, 0.8007857142857143, 0.829095238095238, 0.8350468975468975, 0.8094725829725831, 0.7923961038961039, 0.8329891774891776, 0.8112518037518036, 0.8564033189033189]}, {\"categories\": [\"0\", \"2\", \"4\", \"8\", \"12\", \"13\", \"18\", \"20\", \"24\", \"26\", \"27\", \"28\", \"29\", \"30\", \"31\", \"32\", \"33\", \"38\"], \"mode\": \"lines\", \"name\": \"precision_score_macro_max\", \"stepped\": true, \"type\": \"scatter\", \"data\": [0.855507215007215, 0.855507215007215, 0.855507215007215, 0.855507215007215, 0.855507215007215, 0.855507215007215, 0.855507215007215, 0.855507215007215, 0.855507215007215, 0.855507215007215, 0.855507215007215, 0.855507215007215, 0.855507215007215, 0.855507215007215, 0.855507215007215, 0.855507215007215, 0.855507215007215, 0.8564033189033189]}], \"AUC_micro\": [{\"categories\": [\"0\", \"2\", \"4\", \"8\", \"12\", \"13\", \"18\", \"20\", \"24\", \"26\", \"27\", \"28\", \"29\", \"30\", \"31\", \"32\", \"33\", \"38\"], \"mode\": \"markers\", \"name\": \"AUC_micro\", \"stepped\": false, \"type\": \"scatter\", \"data\": [0.9059825528007347, 0.8973186409550046, 0.9003994490358127, 0.8386409550045912, 0.8849104683195591, 0.8011685032139578, 0.8961799816345271, 0.9088659320477503, 0.8538820018365473, 0.8411685032139579, 0.9108631772268135, 0.8766046831955921, 0.9079384756657484, 0.8823301193755739, 0.8590151515151514, 0.8974494949494948, 0.8993939393939394, 0.9183631772268136]}, {\"categories\": [\"0\", \"2\", \"4\", \"8\", \"12\", \"13\", \"18\", \"20\", \"24\", \"26\", \"27\", \"28\", \"29\", \"30\", \"31\", \"32\", \"33\", \"38\"], \"mode\": \"lines\", \"name\": \"AUC_micro_max\", \"stepped\": true, \"type\": \"scatter\", \"data\": [0.9059825528007347, 0.9059825528007347, 0.9059825528007347, 0.9059825528007347, 0.9059825528007347, 0.9059825528007347, 0.9059825528007347, 0.9088659320477503, 0.9088659320477503, 0.9088659320477503, 0.9108631772268135, 0.9108631772268135, 0.9108631772268135, 0.9108631772268135, 0.9108631772268135, 0.9108631772268135, 0.9108631772268135, 0.9183631772268136]}], \"norm_macro_recall\": [{\"categories\": [\"0\", \"2\", \"4\", \"8\", \"12\", \"13\", \"18\", \"20\", \"24\", \"26\", \"27\", \"28\", \"29\", \"30\", \"31\", \"32\", \"33\", \"38\"], \"mode\": \"markers\", \"name\": \"norm_macro_recall\", \"stepped\": false, \"type\": \"scatter\", \"data\": [0.6614444444444443, 0.5983650793650793, 0.5426031746031746, 0.24812698412698406, 0.48860173160173154, 0.3684126984126984, 0.5874126984126984, 0.6412380952380953, 0.5581414141414142, 0.46215873015873016, 0.6327142857142857, 0.5042698412698413, 0.5883492063492063, 0.511079365079365, 0.5943650793650793, 0.611904761904762, 0.6017301587301587, 0.6551746031746032]}, {\"categories\": [\"0\", \"2\", \"4\", \"8\", \"12\", \"13\", \"18\", \"20\", \"24\", \"26\", \"27\", \"28\", \"29\", \"30\", \"31\", \"32\", \"33\", \"38\"], \"mode\": \"lines\", \"name\": \"norm_macro_recall_max\", \"stepped\": true, \"type\": \"scatter\", \"data\": [0.6614444444444443, 0.6614444444444443, 0.6614444444444443, 0.6614444444444443, 0.6614444444444443, 0.6614444444444443, 0.6614444444444443, 0.6614444444444443, 0.6614444444444443, 0.6614444444444443, 0.6614444444444443, 0.6614444444444443, 0.6614444444444443, 0.6614444444444443, 0.6614444444444443, 0.6614444444444443, 0.6614444444444443, 0.6614444444444443]}], \"log_loss\": [{\"categories\": [\"0\", \"2\", \"4\", \"8\", \"12\", \"13\", \"18\", \"20\", \"24\", \"26\", \"27\", \"28\", \"29\", \"30\", \"31\", \"32\", \"33\", \"38\"], \"mode\": \"markers\", \"name\": \"log_loss\", \"stepped\": false, \"type\": \"scatter\", \"data\": [0.45525454587247055, 0.40058408774030624, 0.3969030748128506, 0.5855701294678102, 0.42475324656997065, 1.2777182033823098, 0.4188363377605817, 0.3722847922137494, 0.4578320841055815, 0.47873768001796874, 0.4763462306185481, 0.4596013248752317, 0.380832011818915, 0.6621382428960467, 0.5935046388913873, 0.39985166626717605, 0.4665208694604589, 0.3625236202599993]}, {\"categories\": [\"0\", \"2\", \"4\", \"8\", \"12\", \"13\", \"18\", \"20\", \"24\", \"26\", \"27\", \"28\", \"29\", \"30\", \"31\", \"32\", \"33\", \"38\"], \"mode\": \"lines\", \"name\": \"log_loss_min\", \"stepped\": true, \"type\": \"scatter\", \"data\": [0.45525454587247055, 0.40058408774030624, 0.3969030748128506, 0.3969030748128506, 0.3969030748128506, 0.3969030748128506, 0.3969030748128506, 0.3722847922137494, 0.3722847922137494, 0.3722847922137494, 0.3722847922137494, 0.3722847922137494, 0.3722847922137494, 0.3722847922137494, 0.3722847922137494, 0.3722847922137494, 0.3722847922137494, 0.3625236202599993]}], \"average_precision_score_macro\": [{\"categories\": [\"0\", \"2\", \"4\", \"8\", \"12\", \"13\", \"18\", \"20\", \"24\", \"26\", \"27\", \"28\", \"29\", \"30\", \"31\", \"32\", \"33\", \"38\"], \"mode\": \"markers\", \"name\": \"average_precision_score_macro\", \"stepped\": false, \"type\": \"scatter\", \"data\": [0.9146286550310359, 0.8967024946173755, 0.9078102845346894, 0.8477818333562381, 0.8683375211869259, 0.773959151034151, 0.8924126809478, 0.9053760739480977, 0.8720136830321354, 0.8345410301999588, 0.9069238046565427, 0.8810424494376876, 0.8980990594722736, 0.8781491857348999, 0.8666159468838041, 0.8867416995922949, 0.8897004148629147, 0.9295873150438626]}, {\"categories\": [\"0\", \"2\", \"4\", \"8\", \"12\", \"13\", \"18\", \"20\", \"24\", \"26\", \"27\", \"28\", \"29\", \"30\", \"31\", \"32\", \"33\", \"38\"], \"mode\": \"lines\", \"name\": \"average_precision_score_macro_max\", \"stepped\": true, \"type\": \"scatter\", \"data\": [0.9146286550310359, 0.9146286550310359, 0.9146286550310359, 0.9146286550310359, 0.9146286550310359, 0.9146286550310359, 0.9146286550310359, 0.9146286550310359, 0.9146286550310359, 0.9146286550310359, 0.9146286550310359, 0.9146286550310359, 0.9146286550310359, 0.9146286550310359, 0.9146286550310359, 0.9146286550310359, 0.9146286550310359, 0.9295873150438626]}], \"precision_score_weighted\": [{\"categories\": [\"0\", \"2\", \"4\", \"8\", \"12\", \"13\", \"18\", \"20\", \"24\", \"26\", \"27\", \"28\", \"29\", \"30\", \"31\", \"32\", \"33\", \"38\"], \"mode\": \"markers\", \"name\": \"precision_score_weighted\", \"stepped\": false, \"type\": \"scatter\", \"data\": [0.8776133958633959, 0.857270202020202, 0.8304876142376143, 0.7066228956228955, 0.8170125060125061, 0.7911085858585858, 0.8605244107744108, 0.8671517556517556, 0.8273006253006252, 0.8083881673881674, 0.855584054834055, 0.8356214526214526, 0.8612017797017798, 0.8290503848003847, 0.8406367243867243, 0.8634822029822031, 0.8507878787878788, 0.8771191678691679]}, {\"categories\": [\"0\", \"2\", \"4\", \"8\", \"12\", \"13\", \"18\", \"20\", \"24\", \"26\", \"27\", \"28\", \"29\", \"30\", \"31\", \"32\", \"33\", \"38\"], \"mode\": \"lines\", \"name\": \"precision_score_weighted_max\", \"stepped\": true, \"type\": \"scatter\", \"data\": [0.8776133958633959, 0.8776133958633959, 0.8776133958633959, 0.8776133958633959, 0.8776133958633959, 0.8776133958633959, 0.8776133958633959, 0.8776133958633959, 0.8776133958633959, 0.8776133958633959, 0.8776133958633959, 0.8776133958633959, 0.8776133958633959, 0.8776133958633959, 0.8776133958633959, 0.8776133958633959, 0.8776133958633959, 0.8776133958633959]}], \"f1_score_macro\": [{\"categories\": [\"0\", \"2\", \"4\", \"8\", \"12\", \"13\", \"18\", \"20\", \"24\", \"26\", \"27\", \"28\", \"29\", \"30\", \"31\", \"32\", \"33\", \"38\"], \"mode\": \"markers\", \"name\": \"f1_score_macro\", \"stepped\": false, \"type\": \"scatter\", \"data\": [0.8282960668502465, 0.7992259563621793, 0.765947743518951, 0.5799560420659492, 0.7392042761160408, 0.6693327781908345, 0.7890071576170647, 0.8135089674687198, 0.7439230997760409, 0.7156457792293707, 0.7977154072277911, 0.7521853899454518, 0.7936042047048238, 0.754240453732714, 0.7760364472129178, 0.8014410778420067, 0.787970456959621, 0.826314585483316]}, {\"categories\": [\"0\", \"2\", \"4\", \"8\", \"12\", \"13\", \"18\", \"20\", \"24\", \"26\", \"27\", \"28\", \"29\", \"30\", \"31\", \"32\", \"33\", \"38\"], \"mode\": \"lines\", \"name\": \"f1_score_macro_max\", \"stepped\": true, \"type\": \"scatter\", \"data\": [0.8282960668502465, 0.8282960668502465, 0.8282960668502465, 0.8282960668502465, 0.8282960668502465, 0.8282960668502465, 0.8282960668502465, 0.8282960668502465, 0.8282960668502465, 0.8282960668502465, 0.8282960668502465, 0.8282960668502465, 0.8282960668502465, 0.8282960668502465, 0.8282960668502465, 0.8282960668502465, 0.8282960668502465, 0.8282960668502465]}], \"f1_score_weighted\": [{\"categories\": [\"0\", \"2\", \"4\", \"8\", \"12\", \"13\", \"18\", \"20\", \"24\", \"26\", \"27\", \"28\", \"29\", \"30\", \"31\", \"32\", \"33\", \"38\"], \"mode\": \"markers\", \"name\": \"f1_score_weighted\", \"stepped\": false, \"type\": \"scatter\", \"data\": [0.8571802159542098, 0.8340108437887075, 0.810118106695506, 0.6730478282753825, 0.7908357062327651, 0.7451605815899799, 0.827366235845338, 0.8452823956515907, 0.788909133894428, 0.7759231232303988, 0.8337984908681504, 0.7966794842870695, 0.8370512835404478, 0.8017530475487132, 0.8111458111605171, 0.8381952046348331, 0.8302905272688554, 0.8568805990764196]}, {\"categories\": [\"0\", \"2\", \"4\", \"8\", \"12\", \"13\", \"18\", \"20\", \"24\", \"26\", \"27\", \"28\", \"29\", \"30\", \"31\", \"32\", \"33\", \"38\"], \"mode\": \"lines\", \"name\": \"f1_score_weighted_max\", \"stepped\": true, \"type\": \"scatter\", \"data\": [0.8571802159542098, 0.8571802159542098, 0.8571802159542098, 0.8571802159542098, 0.8571802159542098, 0.8571802159542098, 0.8571802159542098, 0.8571802159542098, 0.8571802159542098, 0.8571802159542098, 0.8571802159542098, 0.8571802159542098, 0.8571802159542098, 0.8571802159542098, 0.8571802159542098, 0.8571802159542098, 0.8571802159542098, 0.8571802159542098]}], \"weighted_accuracy\": [{\"categories\": [\"0\", \"2\", \"4\", \"8\", \"12\", \"13\", \"18\", \"20\", \"24\", \"26\", \"27\", \"28\", \"29\", \"30\", \"31\", \"32\", \"33\", \"38\"], \"mode\": \"markers\", \"name\": \"weighted_accuracy\", \"stepped\": false, \"type\": \"scatter\", \"data\": [0.8747144362486828, 0.8702289750234956, 0.8443651638994106, 0.7887916915862121, 0.8269346286983835, 0.8135923506294043, 0.8603564871510077, 0.8586492941835409, 0.7866484478916547, 0.817656556451077, 0.8348087223155716, 0.8569728970276915, 0.8741135761683707, 0.8579767227712434, 0.8139195929332916, 0.8624954480296947, 0.8631936699607933, 0.8751111933851661]}, {\"categories\": [\"0\", \"2\", \"4\", \"8\", \"12\", \"13\", \"18\", \"20\", \"24\", \"26\", \"27\", \"28\", \"29\", \"30\", \"31\", \"32\", \"33\", \"38\"], \"mode\": \"lines\", \"name\": \"weighted_accuracy_max\", \"stepped\": true, \"type\": \"scatter\", \"data\": [0.8747144362486828, 0.8747144362486828, 0.8747144362486828, 0.8747144362486828, 0.8747144362486828, 0.8747144362486828, 0.8747144362486828, 0.8747144362486828, 0.8747144362486828, 0.8747144362486828, 0.8747144362486828, 0.8747144362486828, 0.8747144362486828, 0.8747144362486828, 0.8747144362486828, 0.8747144362486828, 0.8747144362486828, 0.8751111933851661]}], \"precision_score_micro\": [{\"categories\": [\"0\", \"2\", \"4\", \"8\", \"12\", \"13\", \"18\", \"20\", \"24\", \"26\", \"27\", \"28\", \"29\", \"30\", \"31\", \"32\", \"33\", \"38\"], \"mode\": \"markers\", \"name\": \"precision_score_micro\", \"stepped\": false, \"type\": \"scatter\", \"data\": [0.8587878787878788, 0.8424242424242425, 0.8187878787878788, 0.7224242424242425, 0.7954545454545454, 0.7651515151515151, 0.8357575757575756, 0.8454545454545455, 0.7815151515151516, 0.7857575757575758, 0.8290909090909091, 0.8160606060606059, 0.8460606060606061, 0.8190909090909091, 0.8081818181818181, 0.8421212121212122, 0.8393939393939394, 0.8584848484848486]}, {\"categories\": [\"0\", \"2\", \"4\", \"8\", \"12\", \"13\", \"18\", \"20\", \"24\", \"26\", \"27\", \"28\", \"29\", \"30\", \"31\", \"32\", \"33\", \"38\"], \"mode\": \"lines\", \"name\": \"precision_score_micro_max\", \"stepped\": true, \"type\": \"scatter\", \"data\": [0.8587878787878788, 0.8587878787878788, 0.8587878787878788, 0.8587878787878788, 0.8587878787878788, 0.8587878787878788, 0.8587878787878788, 0.8587878787878788, 0.8587878787878788, 0.8587878787878788, 0.8587878787878788, 0.8587878787878788, 0.8587878787878788, 0.8587878787878788, 0.8587878787878788, 0.8587878787878788, 0.8587878787878788, 0.8587878787878788]}], \"recall_score_micro\": [{\"categories\": [\"0\", \"2\", \"4\", \"8\", \"12\", \"13\", \"18\", \"20\", \"24\", \"26\", \"27\", \"28\", \"29\", \"30\", \"31\", \"32\", \"33\", \"38\"], \"mode\": \"markers\", \"name\": \"recall_score_micro\", \"stepped\": false, \"type\": \"scatter\", \"data\": [0.8587878787878788, 0.8424242424242425, 0.8187878787878788, 0.7224242424242425, 0.7954545454545454, 0.7651515151515151, 0.8357575757575756, 0.8454545454545455, 0.7815151515151516, 0.7857575757575758, 0.8290909090909091, 0.8160606060606059, 0.8460606060606061, 0.8190909090909091, 0.8081818181818181, 0.8421212121212122, 0.8393939393939394, 0.8584848484848486]}, {\"categories\": [\"0\", \"2\", \"4\", \"8\", \"12\", \"13\", \"18\", \"20\", \"24\", \"26\", \"27\", \"28\", \"29\", \"30\", \"31\", \"32\", \"33\", \"38\"], \"mode\": \"lines\", \"name\": \"recall_score_micro_max\", \"stepped\": true, \"type\": \"scatter\", \"data\": [0.8587878787878788, 0.8587878787878788, 0.8587878787878788, 0.8587878787878788, 0.8587878787878788, 0.8587878787878788, 0.8587878787878788, 0.8587878787878788, 0.8587878787878788, 0.8587878787878788, 0.8587878787878788, 0.8587878787878788, 0.8587878787878788, 0.8587878787878788, 0.8587878787878788, 0.8587878787878788, 0.8587878787878788, 0.8587878787878788]}]}, \"metricName\": null, \"primaryMetricName\": \"AUC_weighted\", \"showLegend\": false}, \"run_metrics\": [{\"name\": \"experiment_status\", \"run_id\": \"AutoML_11620fab-74d8-4a45-b233-a596d2fcec2f\", \"categories\": [0, 1, 2, 3, 4, 5, 6, 7, 8, 9, 10, 11, 12, 13], \"series\": [{\"data\": [\"DatasetEvaluation\", \"FeaturesGeneration\", \"DatasetFeaturization\", \"DatasetFeaturizationCompleted\", \"DatasetCrossValidationSplit\", \"ModelSelection\", \"BestRunExplainModel\", \"ModelExplanationDataSetSetup\", \"PickSurrogateModel\", \"EngineeredFeatureExplanations\", \"EngineeredFeatureExplanations\", \"RawFeaturesExplanations\", \"RawFeaturesExplanations\", \"BestRunExplainModel\"]}]}, {\"name\": \"experiment_status_description\", \"run_id\": \"AutoML_11620fab-74d8-4a45-b233-a596d2fcec2f\", \"categories\": [0, 1, 2, 3, 4, 5, 6, 7, 8, 9, 10, 11, 12, 13], \"series\": [{\"data\": [\"Gathering dataset statistics.\", \"Generating features for the dataset.\", \"Beginning to fit featurizers and featurize the dataset.\", \"Completed fit featurizers and featurizing the dataset.\", \"Generating individually featurized CV splits.\", \"Beginning model selection.\", \"Best run model explanations started\", \"Model explanations data setup completed\", \"Choosing LightGBM as the surrogate model for explanations\", \"Computation of engineered features started\", \"Computation of engineered features completed\", \"Computation of raw features started\", \"Computation of raw features completed\", \"Best run model explanations completed\"]}]}, {\"name\": \"average_precision_score_micro\", \"run_id\": \"AutoML_11620fab-74d8-4a45-b233-a596d2fcec2f\", \"categories\": [0], \"series\": [{\"data\": [0.9259945347480177]}]}, {\"name\": \"recall_score_weighted\", \"run_id\": \"AutoML_11620fab-74d8-4a45-b233-a596d2fcec2f\", \"categories\": [0], \"series\": [{\"data\": [0.8584848484848486]}]}, {\"name\": \"f1_score_micro\", \"run_id\": \"AutoML_11620fab-74d8-4a45-b233-a596d2fcec2f\", \"categories\": [0], \"series\": [{\"data\": [0.8584848484848486]}]}, {\"name\": \"AUC_weighted\", \"run_id\": \"AutoML_11620fab-74d8-4a45-b233-a596d2fcec2f\", \"categories\": [0], \"series\": [{\"data\": [0.9231150793650794]}]}, {\"name\": \"recall_score_micro\", \"run_id\": \"AutoML_11620fab-74d8-4a45-b233-a596d2fcec2f\", \"categories\": [0], \"series\": [{\"data\": [0.8584848484848486]}]}, {\"name\": \"weighted_accuracy\", \"run_id\": \"AutoML_11620fab-74d8-4a45-b233-a596d2fcec2f\", \"categories\": [0], \"series\": [{\"data\": [0.8751111933851661]}]}, {\"name\": \"log_loss\", \"run_id\": \"AutoML_11620fab-74d8-4a45-b233-a596d2fcec2f\", \"categories\": [0], \"series\": [{\"data\": [0.3625236202599993]}]}, {\"name\": \"f1_score_macro\", \"run_id\": \"AutoML_11620fab-74d8-4a45-b233-a596d2fcec2f\", \"categories\": [0], \"series\": [{\"data\": [0.826314585483316]}]}, {\"name\": \"AUC_macro\", \"run_id\": \"AutoML_11620fab-74d8-4a45-b233-a596d2fcec2f\", \"categories\": [0], \"series\": [{\"data\": [0.9231150793650795]}]}, {\"name\": \"matthews_correlation\", \"run_id\": \"AutoML_11620fab-74d8-4a45-b233-a596d2fcec2f\", \"categories\": [0], \"series\": [{\"data\": [0.6785474073194372]}]}, {\"name\": \"precision_score_micro\", \"run_id\": \"AutoML_11620fab-74d8-4a45-b233-a596d2fcec2f\", \"categories\": [0], \"series\": [{\"data\": [0.8584848484848486]}]}, {\"name\": \"norm_macro_recall\", \"run_id\": \"AutoML_11620fab-74d8-4a45-b233-a596d2fcec2f\", \"categories\": [0], \"series\": [{\"data\": [0.6551746031746032]}]}, {\"name\": \"recall_score_macro\", \"run_id\": \"AutoML_11620fab-74d8-4a45-b233-a596d2fcec2f\", \"categories\": [0], \"series\": [{\"data\": [0.8267539682539683]}]}, {\"name\": \"average_precision_score_weighted\", \"run_id\": \"AutoML_11620fab-74d8-4a45-b233-a596d2fcec2f\", \"categories\": [0], \"series\": [{\"data\": [0.9469733044733046]}]}, {\"name\": \"AUC_micro\", \"run_id\": \"AutoML_11620fab-74d8-4a45-b233-a596d2fcec2f\", \"categories\": [0], \"series\": [{\"data\": [0.9183631772268136]}]}, {\"name\": \"average_precision_score_macro\", \"run_id\": \"AutoML_11620fab-74d8-4a45-b233-a596d2fcec2f\", \"categories\": [0], \"series\": [{\"data\": [0.9295873150438626]}]}, {\"name\": \"accuracy\", \"run_id\": \"AutoML_11620fab-74d8-4a45-b233-a596d2fcec2f\", \"categories\": [0], \"series\": [{\"data\": [0.8584848484848486]}]}, {\"name\": \"f1_score_weighted\", \"run_id\": \"AutoML_11620fab-74d8-4a45-b233-a596d2fcec2f\", \"categories\": [0], \"series\": [{\"data\": [0.8568805990764196]}]}, {\"name\": \"precision_score_weighted\", \"run_id\": \"AutoML_11620fab-74d8-4a45-b233-a596d2fcec2f\", \"categories\": [0], \"series\": [{\"data\": [0.8771191678691679]}]}, {\"name\": \"precision_score_macro\", \"run_id\": \"AutoML_11620fab-74d8-4a45-b233-a596d2fcec2f\", \"categories\": [0], \"series\": [{\"data\": [0.8564033189033189]}]}, {\"name\": \"balanced_accuracy\", \"run_id\": \"AutoML_11620fab-74d8-4a45-b233-a596d2fcec2f\", \"categories\": [0], \"series\": [{\"data\": [0.8267539682539683]}]}], \"run_logs\": \"\\nRun is completed.\", \"graph\": {}, \"widget_settings\": {\"childWidgetDisplay\": \"popup\", \"send_telemetry\": false, \"log_level\": \"INFO\", \"sdk_version\": \"1.40.0\"}, \"loading\": false}"
     },
     "metadata": {},
     "output_type": "display_data"
    }
   ],
   "source": [
    "\n",
    "RunDetails(remote_run).show()"
   ]
  },
  {
   "cell_type": "code",
   "execution_count": 10,
   "metadata": {},
   "outputs": [
    {
     "data": {
      "text/html": [
       "<table style=\"width:100%\"><tr><th>Experiment</th><th>Id</th><th>Type</th><th>Status</th><th>Details Page</th><th>Docs Page</th></tr><tr><td>ml-experiment-1</td><td>AutoML_11620fab-74d8-4a45-b233-a596d2fcec2f</td><td>automl</td><td>NotStarted</td><td><a href=\"https://ml.azure.com/runs/AutoML_11620fab-74d8-4a45-b233-a596d2fcec2f?wsid=/subscriptions/61c5c3f0-6dc7-4ed9-a7f3-c704b20e3b30/resourcegroups/aml-quickstarts-192362/workspaces/quick-starts-ws-192362&amp;tid=660b3398-b80e-49d2-bc5b-ac1dc93b5254\" target=\"_blank\" rel=\"noopener\">Link to Azure Machine Learning studio</a></td><td><a href=\"https://docs.microsoft.com/en-us/python/api/overview/azure/ml/intro?view=azure-ml-py\" target=\"_blank\" rel=\"noopener\">Link to Documentation</a></td></tr></table>"
      ],
      "text/plain": [
       "<IPython.core.display.HTML object>"
      ]
     },
     "metadata": {},
     "output_type": "display_data"
    },
    {
     "name": "stdout",
     "output_type": "stream",
     "text": [
      "\n",
      "Current status: FeaturesGeneration. Generating features for the dataset.\n",
      "Current status: ModelSelection. Beginning model selection.\n",
      "\n",
      "********************************************************************************************\n",
      "DATA GUARDRAILS: \n",
      "\n",
      "TYPE:         Class balancing detection\n",
      "STATUS:       PASSED\n",
      "DESCRIPTION:  Your inputs were analyzed, and all classes are balanced in your training data.\n",
      "              Learn more about imbalanced data: https://aka.ms/AutomatedMLImbalancedData\n",
      "\n",
      "********************************************************************************************\n",
      "\n",
      "TYPE:         Missing feature values imputation\n",
      "STATUS:       PASSED\n",
      "DESCRIPTION:  No feature missing values were detected in the training data.\n",
      "              Learn more about missing value imputation: https://aka.ms/AutomatedMLFeaturization\n",
      "\n",
      "********************************************************************************************\n",
      "\n",
      "TYPE:         High cardinality feature detection\n",
      "STATUS:       PASSED\n",
      "DESCRIPTION:  Your inputs were analyzed, and no high cardinality features were detected.\n",
      "              Learn more about high cardinality feature handling: https://aka.ms/AutomatedMLFeaturization\n",
      "\n",
      "********************************************************************************************\n",
      "\n",
      "********************************************************************************************\n",
      "ITER: The iteration being evaluated.\n",
      "PIPELINE: A summary description of the pipeline being evaluated.\n",
      "DURATION: Time taken for the current iteration.\n",
      "METRIC: The result of computing score on the fitted pipeline.\n",
      "BEST: The best observed score thus far.\n",
      "********************************************************************************************\n",
      "\n",
      " ITER   PIPELINE                                       DURATION            METRIC      BEST\n",
      "    0   MaxAbsScaler LightGBM                          0:00:15             0.9039    0.9039\n",
      "    1   MaxAbsScaler XGBoostClassifier                 0:00:16             0.9052    0.9052\n",
      "    2   MaxAbsScaler ExtremeRandomTrees                0:00:15             0.8828    0.9052\n",
      "    3   MaxAbsScaler RandomForest                      0:00:15             0.8984    0.9052\n",
      "    4   StandardScalerWrapper LightGBM                 0:00:15             0.9015    0.9052\n",
      "    5   StandardScalerWrapper KNN                      0:00:15             0.5180    0.9052\n",
      "    6   SparseNormalizer XGBoostClassifier             0:00:15             0.8775    0.9052\n",
      "    7   SparseNormalizer RandomForest                  0:00:19             0.8858    0.9052\n",
      "    8   RobustScaler KNN                               0:00:16             0.8445    0.9052\n",
      "   12   StandardScalerWrapper XGBoostClassifier        0:00:16             0.8625    0.9052\n",
      "   13   SparseNormalizer KNN                           0:00:16             0.7486    0.9052\n",
      "    9   MinMaxScaler RandomForest                      0:00:16             0.8922    0.9052\n",
      "   10   StandardScalerWrapper LogisticRegression       0:00:15             0.8570    0.9052\n",
      "   14   RobustScaler ExtremeRandomTrees                0:00:17             0.8709    0.9052\n",
      "   16   MinMaxScaler ExtremeRandomTrees                0:00:16             0.8965    0.9052\n",
      "   11   StandardScalerWrapper SVM                      0:00:15             0.7739    0.9052\n",
      "   15   SparseNormalizer XGBoostClassifier             0:00:16             0.8904    0.9052\n",
      "   17   MinMaxScaler ExtremeRandomTrees                0:00:15             0.8842    0.9052\n",
      "   18   SparseNormalizer LightGBM                      0:00:15             0.8792    0.9052\n",
      "   19   MaxAbsScaler ExtremeRandomTrees                0:00:27             0.8638    0.9052\n",
      "   20   StandardScalerWrapper XGBoostClassifier        0:00:04             0.9008    0.9052\n",
      "   21   StandardScalerWrapper RandomForest             0:00:04             0.8926    0.9052\n",
      "   24   MaxAbsScaler LogisticRegression                0:00:04             0.8574    0.9052\n",
      "   22   StandardScalerWrapper XGBoostClassifier        0:00:04             0.8749    0.9052\n",
      "   25   StandardScalerWrapper ExtremeRandomTrees       0:00:04             0.8989    0.9052\n",
      "   23   MaxAbsScaler LightGBM                          0:00:04             0.8992    0.9052\n",
      "   26   RobustScaler SVM                               0:00:04             0.8074    0.9052\n",
      "   27   MinMaxScaler RandomForest                      0:00:11             0.8980    0.9052\n",
      "   28   MaxAbsScaler ExtremeRandomTrees                0:00:04             0.8597    0.9052\n",
      "   29   MaxAbsScaler LightGBM                          0:00:04             0.8969    0.9052\n",
      "   30   SparseNormalizer XGBoostClassifier             0:00:04             0.8682    0.9052\n",
      "   31   RobustScaler ExtremeRandomTrees                0:00:04             0.8442    0.9052\n",
      "   32   SparseNormalizer LightGBM                      0:00:04             0.8731    0.9052\n",
      "   33   SparseNormalizer XGBoostClassifier             0:00:04             0.8804    0.9052\n",
      "   34                                                  0:00:00                nan    0.9052\n",
      "   35                                                  0:00:00                nan    0.9052\n",
      "   36                                                  0:00:00                nan    0.9052\n",
      "   37                                                  0:00:00                nan    0.9052\n",
      "   38    VotingEnsemble                                0:00:04             0.9231    0.9231\n",
      "   39    StackEnsemble                                 0:00:04             0.9077    0.9231\n"
     ]
    },
    {
     "data": {
      "text/plain": [
       "{'runId': 'AutoML_11620fab-74d8-4a45-b233-a596d2fcec2f',\n",
       " 'target': 'automl-cluster',\n",
       " 'status': 'Completed',\n",
       " 'startTimeUtc': '2022-04-17T13:50:12.056233Z',\n",
       " 'endTimeUtc': '2022-04-17T14:07:39.621808Z',\n",
       " 'services': {},\n",
       " 'warnings': [{'source': 'JasmineService',\n",
       "   'message': 'No scores improved over last 20 iterations, so experiment stopped early. This early stopping behavior can be disabled by setting enable_early_stopping = False in AutoMLConfig for notebook/python SDK runs.'}],\n",
       " 'properties': {'num_iterations': '1000',\n",
       "  'training_type': 'TrainFull',\n",
       "  'acquisition_function': 'EI',\n",
       "  'primary_metric': 'AUC_weighted',\n",
       "  'train_split': '0',\n",
       "  'acquisition_parameter': '0',\n",
       "  'num_cross_validation': '25',\n",
       "  'target': 'automl-cluster',\n",
       "  'AMLSettingsJsonString': '{\"path\":null,\"name\":\"ml-experiment-1\",\"subscription_id\":\"61c5c3f0-6dc7-4ed9-a7f3-c704b20e3b30\",\"resource_group\":\"aml-quickstarts-192362\",\"workspace_name\":\"quick-starts-ws-192362\",\"region\":\"southcentralus\",\"compute_target\":\"automl-cluster\",\"spark_service\":null,\"azure_service\":\"remote\",\"many_models\":false,\"pipeline_fetch_max_batch_size\":1,\"enable_batch_run\":true,\"enable_run_restructure\":false,\"start_auxiliary_runs_before_parent_complete\":false,\"enable_code_generation\":false,\"iterations\":1000,\"primary_metric\":\"AUC_weighted\",\"task_type\":\"classification\",\"positive_label\":null,\"data_script\":null,\"test_size\":0.0,\"test_include_predictions_only\":false,\"validation_size\":0.0,\"n_cross_validations\":25,\"y_min\":null,\"y_max\":null,\"num_classes\":null,\"featurization\":\"auto\",\"_ignore_package_version_incompatibilities\":false,\"is_timeseries\":false,\"max_cores_per_iteration\":1,\"max_concurrent_iterations\":5,\"iteration_timeout_minutes\":null,\"mem_in_mb\":null,\"enforce_time_on_windows\":false,\"experiment_timeout_minutes\":30,\"experiment_exit_score\":null,\"partition_column_names\":null,\"whitelist_models\":null,\"blacklist_algos\":[\"TensorFlowLinearClassifier\",\"TensorFlowDNN\"],\"supported_models\":[\"LinearSVM\",\"ExtremeRandomTrees\",\"BernoulliNaiveBayes\",\"SVM\",\"RandomForest\",\"TabnetClassifier\",\"TensorFlowLinearClassifier\",\"DecisionTree\",\"GradientBoosting\",\"SGD\",\"MultinomialNaiveBayes\",\"AveragedPerceptronClassifier\",\"LogisticRegression\",\"XGBoostClassifier\",\"LightGBM\",\"KNN\",\"TensorFlowDNN\"],\"private_models\":[],\"auto_blacklist\":true,\"blacklist_samples_reached\":false,\"exclude_nan_labels\":true,\"verbosity\":20,\"_debug_log\":\"azureml_automl.log\",\"show_warnings\":false,\"model_explainability\":true,\"service_url\":null,\"sdk_url\":null,\"sdk_packages\":null,\"enable_onnx_compatible_models\":false,\"enable_split_onnx_featurizer_estimator_models\":false,\"vm_type\":\"STANDARD_DS12_V2\",\"telemetry_verbosity\":20,\"send_telemetry\":true,\"enable_dnn\":false,\"scenario\":\"SDK-1.13.0\",\"environment_label\":null,\"save_mlflow\":false,\"enable_categorical_indicators\":false,\"force_text_dnn\":false,\"enable_feature_sweeping\":true,\"enable_early_stopping\":true,\"early_stopping_n_iters\":10,\"arguments\":null,\"dataset_id\":\"f433351f-a908-4d83-b409-632aa096770d\",\"hyperdrive_config\":null,\"validation_dataset_id\":null,\"run_source\":null,\"metrics\":null,\"enable_metric_confidence\":false,\"enable_ensembling\":true,\"enable_stack_ensembling\":true,\"ensemble_iterations\":15,\"enable_tf\":false,\"enable_subsampling\":null,\"subsample_seed\":null,\"enable_nimbusml\":false,\"enable_streaming\":false,\"force_streaming\":false,\"track_child_runs\":true,\"allowed_private_models\":[],\"label_column_name\":\"DEATH_EVENT\",\"weight_column_name\":null,\"cv_split_column_names\":null,\"enable_local_managed\":false,\"_local_managed_run_id\":null,\"cost_mode\":1,\"lag_length\":0,\"metric_operation\":\"maximize\",\"preprocess\":true}',\n",
       "  'DataPrepJsonString': '{\\\\\"training_data\\\\\": {\\\\\"datasetId\\\\\": \\\\\"f433351f-a908-4d83-b409-632aa096770d\\\\\"}, \\\\\"datasets\\\\\": 0}',\n",
       "  'EnableSubsampling': None,\n",
       "  'runTemplate': 'AutoML',\n",
       "  'azureml.runsource': 'automl',\n",
       "  'display_task_type': 'classification',\n",
       "  'dependencies_versions': '{\"azureml-dataprep-native\": \"38.0.0\", \"azureml-dataprep\": \"3.0.2\", \"azureml-dataprep-rslex\": \"2.4.2\", \"azureml-train-automl-runtime\": \"1.40.0.post2\", \"azureml-core\": \"1.40.0.post2\", \"azureml-automl-core\": \"1.40.0\", \"azureml-automl-runtime\": \"1.40.0\", \"azureml-defaults\": \"1.40.0\", \"azureml-train-automl\": \"1.40.0\", \"azureml-interpret\": \"1.40.0\", \"azureml-mlflow\": \"1.40.0\", \"azureml-telemetry\": \"1.40.0\", \"azureml-pipeline-core\": \"1.40.0\", \"azureml-train-automl-client\": \"1.40.0\", \"azureml-train-core\": \"1.40.0\", \"azureml-dataset-runtime\": \"1.40.0\", \"azureml-pipeline-steps\": \"1.40.0\", \"azureml-training-tabular\": \"1.40.0\", \"azureml-sdk\": \"1.40.0\", \"azureml-train-restclients-hyperdrive\": \"1.40.0\", \"azureml-pipeline\": \"1.40.0\", \"azureml-responsibleai\": \"1.39.0\", \"azureml-widgets\": \"1.39.0\", \"azureml-opendatasets\": \"1.39.0\", \"azureml-contrib-notebook\": \"1.39.0\", \"azureml-tensorboard\": \"1.39.0\", \"azureml-datadrift\": \"1.39.0\", \"azureml-contrib-automl-pipeline-steps\": \"1.39.0\", \"azureml-train\": \"1.39.0\", \"azureml-contrib-dataset\": \"1.39.0\", \"azureml-contrib-fairness\": \"1.39.0\", \"azureml-contrib-services\": \"1.39.0\", \"azureml-contrib-server\": \"1.39.0\", \"azureml-accel-models\": \"1.39.0\", \"azureml-automl-dnn-nlp\": \"1.39.0\", \"azureml-contrib-pipeline-steps\": \"1.39.0\", \"azureml-cli-common\": \"1.39.0\", \"azureml-contrib-reinforcementlearning\": \"1.39.0\", \"azureml-explain-model\": \"1.39.0\", \"azureml-inference-server-http\": \"0.4.13\", \"azureml-samples\": \"0+unknown\"}',\n",
       "  '_aml_system_scenario_identification': 'Remote.Parent',\n",
       "  'ClientType': 'SDK',\n",
       "  'environment_cpu_name': 'AzureML-AutoML',\n",
       "  'environment_cpu_label': 'prod',\n",
       "  'environment_gpu_name': 'AzureML-AutoML-GPU',\n",
       "  'environment_gpu_label': 'prod',\n",
       "  'root_attribution': 'automl',\n",
       "  'attribution': 'AutoML',\n",
       "  'Orchestrator': 'AutoML',\n",
       "  'CancelUri': 'https://southcentralus.api.azureml.ms/jasmine/v1.0/subscriptions/61c5c3f0-6dc7-4ed9-a7f3-c704b20e3b30/resourceGroups/aml-quickstarts-192362/providers/Microsoft.MachineLearningServices/workspaces/quick-starts-ws-192362/experimentids/4442e48f-f12f-4502-88fa-ca39649714ac/cancel/AutoML_11620fab-74d8-4a45-b233-a596d2fcec2f',\n",
       "  'ClientSdkVersion': '1.40.0.post1',\n",
       "  'snapshotId': '00000000-0000-0000-0000-000000000000',\n",
       "  'SetupRunId': 'AutoML_11620fab-74d8-4a45-b233-a596d2fcec2f_setup',\n",
       "  'SetupRunContainerId': 'dcid.AutoML_11620fab-74d8-4a45-b233-a596d2fcec2f_setup',\n",
       "  'FeaturizationRunJsonPath': 'featurizer_container.json',\n",
       "  'FeaturizationRunId': 'AutoML_11620fab-74d8-4a45-b233-a596d2fcec2f_featurize',\n",
       "  'ProblemInfoJsonString': '{\"dataset_num_categorical\": 0, \"is_sparse\": false, \"subsampling\": false, \"has_extra_col\": true, \"dataset_classes\": 2, \"dataset_features\": 12, \"dataset_samples\": 299, \"single_frequency_class_detected\": false}',\n",
       "  'ModelExplainRunId': 'AutoML_11620fab-74d8-4a45-b233-a596d2fcec2f_ModelExplain'},\n",
       " 'inputDatasets': [{'dataset': {'id': 'f433351f-a908-4d83-b409-632aa096770d'}, 'consumptionDetails': {'type': 'RunInput', 'inputName': 'training_data', 'mechanism': 'Direct'}}],\n",
       " 'outputDatasets': [],\n",
       " 'logFiles': {},\n",
       " 'submittedBy': 'ODL_User 192362'}"
      ]
     },
     "execution_count": 10,
     "metadata": {},
     "output_type": "execute_result"
    }
   ],
   "source": [
    "\n",
    "remote_run.wait_for_completion(show_output=True)"
   ]
  },
  {
   "cell_type": "markdown",
   "metadata": {},
   "source": [
    "## Best Model\n",
    "\n",
    "TODO: In the cell below, get the best model from the automl experiments and display all the properties of the model.\n",
    "\n"
   ]
  },
  {
   "cell_type": "code",
   "execution_count": 11,
   "metadata": {
    "gather": {
     "logged": 1598431425670
    },
    "jupyter": {
     "outputs_hidden": false,
     "source_hidden": false
    },
    "nteract": {
     "transient": {
      "deleting": false
     }
    }
   },
   "outputs": [
    {
     "name": "stdout",
     "output_type": "stream",
     "text": [
      "Best Run: AutoML_11620fab-74d8-4a45-b233-a596d2fcec2f_38\n",
      "Run(Experiment: ml-experiment-1,\n",
      "Id: AutoML_11620fab-74d8-4a45-b233-a596d2fcec2f_38,\n",
      "Type: azureml.scriptrun,\n",
      "Status: Completed)\n",
      "Fitted Model: Pipeline(memory=None,\n",
      "         steps=[('datatransformer',\n",
      "                 DataTransformer(enable_dnn=False, enable_feature_sweeping=True, feature_sweeping_config={}, feature_sweeping_timeout=86400, featurization_config=None, force_text_dnn=False, is_cross_validation=True, is_onnx_compatible=False, observer=None, task='classification', working_dir='/mnt/batch/tasks/shared/LS_root/mount...\n",
      "                 PreFittedSoftVotingClassifier(classification_labels=array([0, 1]), estimators=[('1', Pipeline(memory=None, steps=[('maxabsscaler', MaxAbsScaler(copy=True)), ('xgboostclassifier', XGBoostClassifier(n_jobs=1, problem_info=ProblemInfo(gpu_training_param_dict={'processing_unit_type': 'cpu'}), random_state=0, tree_method='auto'))], verbose=False)), ('0', Pipeline(memory=None, steps=[('maxabsscaler', MaxAbsScaler(copy=True)), ('lightgbmclassifier', LightGBMClassifier(min_data_in_leaf=20, n_jobs=1, problem_info=ProblemInfo(gpu_training_param_dict={'processing_unit_type': 'cpu'}), random_state=None))], verbose=False)), ('4', Pipeline(memory=None, steps=[('standardscalerwrapper', StandardScalerWrapper(copy=True, with_mean=False, with_std=True)), ('lightgbmclassifier', LightGBMClassifier(boosting_type='gbdt', colsample_bytree=0.4955555555555555, learning_rate=0.09473736842105263, max_bin=140, max_depth=6, min_child_weight=0, min_data_in_leaf=0.08276034482758622, min_split_gain=0.10526315789473684, n_estimators=25, n_jobs=1, num_leaves=164, problem_info=ProblemInfo(gpu_training_param_dict={'processing_unit_type': 'cpu'}), random_state=None, reg_alpha=0.3157894736842105, reg_lambda=0.3157894736842105, subsample=0.5942105263157895))], verbose=False)), ('20', Pipeline(memory=None, steps=[('standardscalerwrapper', StandardScalerWrapper(copy=True, with_mean=False, with_std=False)), ('xgboostclassifier', XGBoostClassifier(booster='gbtree', colsample_bytree=0.9, eta=0.1, gamma=0, max_depth=6, max_leaves=3, n_estimators=25, n_jobs=1, objective='reg:logistic', problem_info=ProblemInfo(gpu_training_param_dict={'processing_unit_type': 'cpu'}), random_state=0, reg_alpha=0, reg_lambda=0.7291666666666667, subsample=0.5, tree_method='auto'))], verbose=False)), ('23', Pipeline(memory=None, steps=[('maxabsscaler', MaxAbsScaler(copy=True)), ('lightgbmclassifier', LightGBMClassifier(boosting_type='goss', colsample_bytree=0.5944444444444444, learning_rate=0.026323157894736843, max_bin=310, max_depth=-1, min_child_weight=3, min_data_in_leaf=1e-05, min_split_gain=0.7894736842105263, n_estimators=50, n_jobs=1, num_leaves=131, problem_info=ProblemInfo(gpu_training_param_dict={'processing_unit_type': 'cpu'}), random_state=None, reg_alpha=0.3684210526315789, reg_lambda=1, subsample=1))], verbose=False)), ('29', Pipeline(memory=None, steps=[('maxabsscaler', MaxAbsScaler(copy=True)), ('lightgbmclassifier', LightGBMClassifier(boosting_type='gbdt', colsample_bytree=0.2977777777777778, learning_rate=0.06842421052631578, max_bin=130, max_depth=8, min_child_weight=1, min_data_in_leaf=0.09310413793103449, min_split_gain=0.631578947368421, n_estimators=100, n_jobs=1, num_leaves=119, problem_info=ProblemInfo(gpu_training_param_dict={'processing_unit_type': 'cpu'}), random_state=None, reg_alpha=1, reg_lambda=0.47368421052631576, subsample=0.8415789473684211))], verbose=False)), ('33', Pipeline(memory=None, steps=[('sparsenormalizer', Normalizer(copy=True, norm='l2')), ('xgboostclassifier', XGBoostClassifier(booster='gbtree', colsample_bytree=1, eta=0.01, gamma=0, grow_policy='lossguide', max_bin=63, max_depth=10, max_leaves=511, n_estimators=100, n_jobs=1, objective='reg:logistic', problem_info=ProblemInfo(gpu_training_param_dict={'processing_unit_type': 'cpu'}), random_state=0, reg_alpha=1.5625, reg_lambda=0.625, subsample=0.8, tree_method='hist'))], verbose=False))], flatten_transform=None, weights=[0.15384615384615385, 0.38461538461538464, 0.15384615384615385, 0.07692307692307693, 0.07692307692307693, 0.07692307692307693, 0.07692307692307693]))],\n",
      "         verbose=False)\n",
      "Fitted Model Steps:\n",
      "[('datatransformer', DataTransformer(enable_dnn=False, enable_feature_sweeping=True, feature_sweeping_config={}, feature_sweeping_timeout=86400, featurization_config=None, force_text_dnn=False, is_cross_validation=True, is_onnx_compatible=False, task='classification')), ('prefittedsoftvotingclassifier', PreFittedSoftVotingClassifier(classification_labels=array([0, 1]), estimators=[('1', Pipeline(memory=None, steps=[('maxabsscaler', MaxAbsScaler(copy=True)), ('xgboostclassifier', XGBoostClassifier(n_jobs=1, problem_info=ProblemInfo(gpu_training_param_dict={'processing_unit_type': 'cpu'}), random_state=0, tree_method='auto'))], verbose=False)), ('0', Pipeline(memory=None, steps=[('maxabsscaler', MaxAbsScaler(copy=True)), ('lightgbmclassifier', LightGBMClassifier(min_data_in_leaf=20, n_jobs=1, problem_info=ProblemInfo(gpu_training_param_dict={'processing_unit_type': 'cpu'}), random_state=None))], verbose=False)), ('4', Pipeline(memory=None, steps=[('standardscalerwrapper', StandardScalerWrapper(copy=True, with_mean=False, with_std=True)), ('lightgbmclassifier', LightGBMClassifier(boosting_type='gbdt', colsample_bytree=0.4955555555555555, learning_rate=0.09473736842105263, max_bin=140, max_depth=6, min_child_weight=0, min_data_in_leaf=0.08276034482758622, min_split_gain=0.10526315789473684, n_estimators=25, n_jobs=1, num_leaves=164, problem_info=ProblemInfo(gpu_training_param_dict={'processing_unit_type': 'cpu'}), random_state=None, reg_alpha=0.3157894736842105, reg_lambda=0.3157894736842105, subsample=0.5942105263157895))], verbose=False)), ('20', Pipeline(memory=None, steps=[('standardscalerwrapper', StandardScalerWrapper(copy=True, with_mean=False, with_std=False)), ('xgboostclassifier', XGBoostClassifier(booster='gbtree', colsample_bytree=0.9, eta=0.1, gamma=0, max_depth=6, max_leaves=3, n_estimators=25, n_jobs=1, objective='reg:logistic', problem_info=ProblemInfo(gpu_training_param_dict={'processing_unit_type': 'cpu'}), random_state=0, reg_alpha=0, reg_lambda=0.7291666666666667, subsample=0.5, tree_method='auto'))], verbose=False)), ('23', Pipeline(memory=None, steps=[('maxabsscaler', MaxAbsScaler(copy=True)), ('lightgbmclassifier', LightGBMClassifier(boosting_type='goss', colsample_bytree=0.5944444444444444, learning_rate=0.026323157894736843, max_bin=310, max_depth=-1, min_child_weight=3, min_data_in_leaf=1e-05, min_split_gain=0.7894736842105263, n_estimators=50, n_jobs=1, num_leaves=131, problem_info=ProblemInfo(gpu_training_param_dict={'processing_unit_type': 'cpu'}), random_state=None, reg_alpha=0.3684210526315789, reg_lambda=1, subsample=1))], verbose=False)), ('29', Pipeline(memory=None, steps=[('maxabsscaler', MaxAbsScaler(copy=True)), ('lightgbmclassifier', LightGBMClassifier(boosting_type='gbdt', colsample_bytree=0.2977777777777778, learning_rate=0.06842421052631578, max_bin=130, max_depth=8, min_child_weight=1, min_data_in_leaf=0.09310413793103449, min_split_gain=0.631578947368421, n_estimators=100, n_jobs=1, num_leaves=119, problem_info=ProblemInfo(gpu_training_param_dict={'processing_unit_type': 'cpu'}), random_state=None, reg_alpha=1, reg_lambda=0.47368421052631576, subsample=0.8415789473684211))], verbose=False)), ('33', Pipeline(memory=None, steps=[('sparsenormalizer', Normalizer(copy=True, norm='l2')), ('xgboostclassifier', XGBoostClassifier(booster='gbtree', colsample_bytree=1, eta=0.01, gamma=0, grow_policy='lossguide', max_bin=63, max_depth=10, max_leaves=511, n_estimators=100, n_jobs=1, objective='reg:logistic', problem_info=ProblemInfo(gpu_training_param_dict={'processing_unit_type': 'cpu'}), random_state=0, reg_alpha=1.5625, reg_lambda=0.625, subsample=0.8, tree_method='hist'))], verbose=False))], flatten_transform=None, weights=[0.15384615384615385, 0.38461538461538464, 0.15384615384615385, 0.07692307692307693, 0.07692307692307693, 0.07692307692307693, 0.07692307692307693]))]\n",
      "Best Run Metrics\n",
      "{'f1_score_weighted': 0.8568805990764196, 'balanced_accuracy': 0.8267539682539683, 'AUC_micro': 0.9183631772268136, 'precision_score_macro': 0.8564033189033189, 'f1_score_macro': 0.826314585483316, 'weighted_accuracy': 0.8751111933851661, 'average_precision_score_weighted': 0.9469733044733046, 'precision_score_weighted': 0.8771191678691679, 'recall_score_micro': 0.8584848484848486, 'log_loss': 0.3625236202599993, 'accuracy': 0.8584848484848486, 'average_precision_score_macro': 0.9295873150438626, 'recall_score_macro': 0.8267539682539683, 'average_precision_score_micro': 0.9259945347480177, 'recall_score_weighted': 0.8584848484848486, 'norm_macro_recall': 0.6551746031746032, 'precision_score_micro': 0.8584848484848486, 'f1_score_micro': 0.8584848484848486, 'AUC_weighted': 0.9231150793650794, 'matthews_correlation': 0.6785474073194372, 'AUC_macro': 0.9231150793650795, 'accuracy_table': 'aml://artifactId/ExperimentRun/dcid.AutoML_11620fab-74d8-4a45-b233-a596d2fcec2f_38/accuracy_table', 'confusion_matrix': 'aml://artifactId/ExperimentRun/dcid.AutoML_11620fab-74d8-4a45-b233-a596d2fcec2f_38/confusion_matrix'}\n",
      "f1_score_weighted 0.8568805990764196\n",
      "balanced_accuracy 0.8267539682539683\n",
      "AUC_micro 0.9183631772268136\n",
      "precision_score_macro 0.8564033189033189\n",
      "f1_score_macro 0.826314585483316\n",
      "weighted_accuracy 0.8751111933851661\n",
      "average_precision_score_weighted 0.9469733044733046\n",
      "precision_score_weighted 0.8771191678691679\n",
      "recall_score_micro 0.8584848484848486\n",
      "log_loss 0.3625236202599993\n",
      "accuracy 0.8584848484848486\n",
      "average_precision_score_macro 0.9295873150438626\n",
      "recall_score_macro 0.8267539682539683\n",
      "average_precision_score_micro 0.9259945347480177\n",
      "recall_score_weighted 0.8584848484848486\n",
      "norm_macro_recall 0.6551746031746032\n",
      "precision_score_micro 0.8584848484848486\n",
      "f1_score_micro 0.8584848484848486\n",
      "AUC_weighted 0.9231150793650794\n",
      "matthews_correlation 0.6785474073194372\n",
      "AUC_macro 0.9231150793650795\n",
      "accuracy_table aml://artifactId/ExperimentRun/dcid.AutoML_11620fab-74d8-4a45-b233-a596d2fcec2f_38/accuracy_table\n",
      "confusion_matrix aml://artifactId/ExperimentRun/dcid.AutoML_11620fab-74d8-4a45-b233-a596d2fcec2f_38/confusion_matrix\n"
     ]
    }
   ],
   "source": [
    "best_run,fitted_model = remote_run.get_output()\n",
    "best_run_metrics = best_run.get_metrics() \n",
    "\n",
    "print(\"Best Run:\",best_run.id)\n",
    "print(best_run)\n",
    "print(\"Fitted Model:\", fitted_model)\n",
    "print(\"Fitted Model Steps:\")\n",
    "print(fitted_model.steps)\n",
    "print(\"Best Run Metrics\")\n",
    "print(best_run_metrics)\n",
    "\n",
    "for i in best_run_metrics:\n",
    "    x = best_run_metrics[i]\n",
    "    print(i,x )\n"
   ]
  },
  {
   "cell_type": "code",
   "execution_count": 12,
   "metadata": {},
   "outputs": [
    {
     "name": "stdout",
     "output_type": "stream",
     "text": [
      "[('datatransformer', DataTransformer(enable_dnn=False, enable_feature_sweeping=True, feature_sweeping_config={}, feature_sweeping_timeout=86400, featurization_config=None, force_text_dnn=False, is_cross_validation=True, is_onnx_compatible=False, task='classification')), ('prefittedsoftvotingclassifier', PreFittedSoftVotingClassifier(classification_labels=array([0, 1]), estimators=[('1', Pipeline(memory=None, steps=[('maxabsscaler', MaxAbsScaler(copy=True)), ('xgboostclassifier', XGBoostClassifier(n_jobs=1, problem_info=ProblemInfo(gpu_training_param_dict={'processing_unit_type': 'cpu'}), random_state=0, tree_method='auto'))], verbose=False)), ('0', Pipeline(memory=None, steps=[('maxabsscaler', MaxAbsScaler(copy=True)), ('lightgbmclassifier', LightGBMClassifier(min_data_in_leaf=20, n_jobs=1, problem_info=ProblemInfo(gpu_training_param_dict={'processing_unit_type': 'cpu'}), random_state=None))], verbose=False)), ('4', Pipeline(memory=None, steps=[('standardscalerwrapper', StandardScalerWrapper(copy=True, with_mean=False, with_std=True)), ('lightgbmclassifier', LightGBMClassifier(boosting_type='gbdt', colsample_bytree=0.4955555555555555, learning_rate=0.09473736842105263, max_bin=140, max_depth=6, min_child_weight=0, min_data_in_leaf=0.08276034482758622, min_split_gain=0.10526315789473684, n_estimators=25, n_jobs=1, num_leaves=164, problem_info=ProblemInfo(gpu_training_param_dict={'processing_unit_type': 'cpu'}), random_state=None, reg_alpha=0.3157894736842105, reg_lambda=0.3157894736842105, subsample=0.5942105263157895))], verbose=False)), ('20', Pipeline(memory=None, steps=[('standardscalerwrapper', StandardScalerWrapper(copy=True, with_mean=False, with_std=False)), ('xgboostclassifier', XGBoostClassifier(booster='gbtree', colsample_bytree=0.9, eta=0.1, gamma=0, max_depth=6, max_leaves=3, n_estimators=25, n_jobs=1, objective='reg:logistic', problem_info=ProblemInfo(gpu_training_param_dict={'processing_unit_type': 'cpu'}), random_state=0, reg_alpha=0, reg_lambda=0.7291666666666667, subsample=0.5, tree_method='auto'))], verbose=False)), ('23', Pipeline(memory=None, steps=[('maxabsscaler', MaxAbsScaler(copy=True)), ('lightgbmclassifier', LightGBMClassifier(boosting_type='goss', colsample_bytree=0.5944444444444444, learning_rate=0.026323157894736843, max_bin=310, max_depth=-1, min_child_weight=3, min_data_in_leaf=1e-05, min_split_gain=0.7894736842105263, n_estimators=50, n_jobs=1, num_leaves=131, problem_info=ProblemInfo(gpu_training_param_dict={'processing_unit_type': 'cpu'}), random_state=None, reg_alpha=0.3684210526315789, reg_lambda=1, subsample=1))], verbose=False)), ('29', Pipeline(memory=None, steps=[('maxabsscaler', MaxAbsScaler(copy=True)), ('lightgbmclassifier', LightGBMClassifier(boosting_type='gbdt', colsample_bytree=0.2977777777777778, learning_rate=0.06842421052631578, max_bin=130, max_depth=8, min_child_weight=1, min_data_in_leaf=0.09310413793103449, min_split_gain=0.631578947368421, n_estimators=100, n_jobs=1, num_leaves=119, problem_info=ProblemInfo(gpu_training_param_dict={'processing_unit_type': 'cpu'}), random_state=None, reg_alpha=1, reg_lambda=0.47368421052631576, subsample=0.8415789473684211))], verbose=False)), ('33', Pipeline(memory=None, steps=[('sparsenormalizer', Normalizer(copy=True, norm='l2')), ('xgboostclassifier', XGBoostClassifier(booster='gbtree', colsample_bytree=1, eta=0.01, gamma=0, grow_policy='lossguide', max_bin=63, max_depth=10, max_leaves=511, n_estimators=100, n_jobs=1, objective='reg:logistic', problem_info=ProblemInfo(gpu_training_param_dict={'processing_unit_type': 'cpu'}), random_state=0, reg_alpha=1.5625, reg_lambda=0.625, subsample=0.8, tree_method='hist'))], verbose=False))], flatten_transform=None, weights=[0.15384615384615385, 0.38461538461538464, 0.15384615384615385, 0.07692307692307693, 0.07692307692307693, 0.07692307692307693, 0.07692307692307693]))]\n"
     ]
    }
   ],
   "source": [
    "print(fitted_model.steps)"
   ]
  },
  {
   "cell_type": "code",
   "execution_count": 13,
   "metadata": {},
   "outputs": [
    {
     "name": "stdout",
     "output_type": "stream",
     "text": [
      "channels:\n",
      "- anaconda\n",
      "- conda-forge\n",
      "- pytorch\n",
      "dependencies:\n",
      "- python=3.7.9\n",
      "- pip=20.2.4\n",
      "- pip:\n",
      "  - azureml-core==1.40.0\n",
      "  - azureml-mlflow==1.40.0\n",
      "  - azureml-pipeline-core==1.40.0\n",
      "  - azureml-telemetry==1.40.0\n",
      "  - azureml-interpret==1.40.0\n",
      "  - azureml-responsibleai==1.40.0\n",
      "  - azureml-automl-core==1.40.0\n",
      "  - azureml-automl-runtime==1.40.0\n",
      "  - azureml-train-automl-client==1.40.0\n",
      "  - azureml-train-automl-runtime==1.40.0.post1\n",
      "  - azureml-dataset-runtime==1.40.0\n",
      "  - azureml-defaults==1.40.0\n",
      "  - inference-schema\n",
      "  - py-cpuinfo==5.0.0\n",
      "  - mpi4py==3.1.3\n",
      "  - click<8.0.0\n",
      "  - pystan==2.19.1.1\n",
      "  - boto3==1.15.18\n",
      "  - botocore==1.18.18\n",
      "  - joblib==0.14.1\n",
      "  - cloudpickle==1.6.0\n",
      "- numpy~=1.18.0\n",
      "- scikit-learn==0.22.1\n",
      "- pandas~=1.1.5\n",
      "- py-xgboost==1.3.3\n",
      "- fbprophet==0.7.1\n",
      "- holidays==0.10.3\n",
      "- setuptools-git\n",
      "- psutil>5.0.0,<6.0.0\n",
      "name: azureml_61b883c981e1199704b60f5cc50378fa\n",
      "\n"
     ]
    }
   ],
   "source": [
    "automl_env=best_run.get_environment()\n",
    "print(automl_env.python.conda_dependencies.serialize_to_string())\n"
   ]
  },
  {
   "cell_type": "markdown",
   "metadata": {},
   "source": [
    "## Model Deployment\n",
    "\n",
    "Remember you have to deploy only one of the two models you trained but you still need to register both the models. Perform the steps in the rest of this notebook only if you wish to deploy this model.\n",
    "\n",
    "TODO: In the cell below, register the model, create an inference config and deploy the model as a web service."
   ]
  },
  {
   "cell_type": "markdown",
   "metadata": {},
   "source": [
    "### Register Model"
   ]
  },
  {
   "cell_type": "code",
   "execution_count": 14,
   "metadata": {
    "gather": {
     "logged": 1598431435189
    },
    "jupyter": {
     "outputs_hidden": false,
     "source_hidden": false
    },
    "nteract": {
     "transient": {
      "deleting": false
     }
    }
   },
   "outputs": [
    {
     "data": {
      "text/plain": [
       "'outputs/model.pkl'"
      ]
     },
     "execution_count": 14,
     "metadata": {},
     "output_type": "execute_result"
    }
   ],
   "source": [
    "#Steps Followed from: https://docs.microsoft.com/en-us/azure/machine-learning/how-to-deploy-and-where?tabs=azcli\n",
    "\n",
    "from azureml.core import Model\n",
    "\n",
    "automl_model = remote_run.register_model(model_name='Heart_Failure_Prediction_Model')\n",
    "automl_model.download(target_dir=\"outputs\", exist_ok = True)\n",
    "\n",
    "#model = Model(ws,'Heart_Failure_Prediction_Model')"
   ]
  },
  {
   "cell_type": "code",
   "execution_count": 15,
   "metadata": {},
   "outputs": [
    {
     "name": "stdout",
     "output_type": "stream",
     "text": [
      "Heart_Failure_Prediction_Model 2\n",
      "Heart_Failure_Prediction_Model 1\n"
     ]
    }
   ],
   "source": [
    "for model in Model.list(ws):\n",
    "    print(model.name,model.version)"
   ]
  },
  {
   "cell_type": "markdown",
   "metadata": {
    "collapsed": true,
    "gather": {
     "logged": 1598431657736
    },
    "jupyter": {
     "outputs_hidden": false,
     "source_hidden": false
    },
    "nteract": {
     "transient": {
      "deleting": false
     }
    }
   },
   "source": [
    "### Create Inference Config"
   ]
  },
  {
   "cell_type": "code",
   "execution_count": 19,
   "metadata": {
    "gather": {
     "logged": 1598432707604
    },
    "jupyter": {
     "outputs_hidden": false,
     "source_hidden": false
    },
    "nteract": {
     "transient": {
      "deleting": false
     }
    }
   },
   "outputs": [],
   "source": [
    "\n",
    "from azureml.automl.core.shared import constants\n",
    "from azureml.core.environment import Environment\n",
    "from azureml.core.model import InferenceConfig\n",
    "\n",
    "myenv = Environment.from_conda_specification(name=\"env\", file_path=\"project_environment.yml\")\n",
    "inference_config = InferenceConfig(entry_script=\"score.py\",environment=myenv)"
   ]
  },
  {
   "cell_type": "markdown",
   "metadata": {
    "collapsed": true,
    "gather": {
     "logged": 1598432765711
    },
    "jupyter": {
     "outputs_hidden": false,
     "source_hidden": false
    },
    "nteract": {
     "transient": {
      "deleting": false
     }
    }
   },
   "source": [
    "TODO: In the cell below, print the logs of the web service and delete the service"
   ]
  },
  {
   "cell_type": "markdown",
   "metadata": {},
   "source": [
    "### Deploy Webservice"
   ]
  },
  {
   "cell_type": "code",
   "execution_count": 20,
   "metadata": {
    "jupyter": {
     "outputs_hidden": false,
     "source_hidden": false
    },
    "nteract": {
     "transient": {
      "deleting": false
     }
    },
    "scrolled": true
   },
   "outputs": [
    {
     "name": "stdout",
     "output_type": "stream",
     "text": [
      "Tips: You can try get_logs(): https://aka.ms/debugimage#dockerlog or local deployment: https://aka.ms/debugimage#debug-locally to debug if deployment takes longer than 10 minutes.\n",
      "Running\n",
      "2022-04-17 14:30:18+00:00 Creating Container Registry if not exists.\n",
      "2022-04-17 14:30:18+00:00 Registering the environment.\n",
      "2022-04-17 14:30:19+00:00 Use the existing image.\n",
      "2022-04-17 14:30:19+00:00 Generating deployment configuration.\n",
      "2022-04-17 14:30:20+00:00 Submitting deployment to compute.\n",
      "2022-04-17 14:30:21+00:00 Checking the status of deployment heart-failure-service..\n",
      "2022-04-17 14:35:14+00:00 Checking the status of inference endpoint heart-failure-service.\n",
      "Succeeded\n",
      "ACI service creation operation finished, operation \"Succeeded\"\n"
     ]
    }
   ],
   "source": [
    "from azureml.core.webservice import Webservice, AciWebservice\n",
    "model = Model(ws,'Heart_Failure_Prediction_Model')\n",
    "\n",
    "deployment_config = AciWebservice.deploy_configuration(cpu_cores=1, memory_gb = 2, \n",
    "                                                       description='Heart_Failure_Prediction_Model',enable_app_insights=True )\n",
    "\n",
    "\n",
    "service=Model.deploy(workspace=ws,\n",
    "                    name=\"heart-failure-service\",\n",
    "                    models=[model],\n",
    "                    inference_config=inference_config,\n",
    "                    deployment_config=deployment_config,overwrite=True)\n",
    "\n",
    "service.wait_for_deployment(show_output=True)\n",
    "\n",
    "\n",
    "\n"
   ]
  },
  {
   "cell_type": "code",
   "execution_count": 21,
   "metadata": {},
   "outputs": [
    {
     "name": "stdout",
     "output_type": "stream",
     "text": [
      "2022-04-17T14:33:29,004714200+00:00 - gunicorn/run \n",
      "Dynamic Python package installation is disabled.\n",
      "Starting HTTP server\n",
      "2022-04-17T14:33:29,012603800+00:00 - rsyslog/run \n",
      "2022-04-17T14:33:29,022779500+00:00 - iot-server/run \n",
      "2022-04-17T14:33:29,063887900+00:00 - nginx/run \n",
      "rsyslogd: /azureml-envs/azureml_4a0fd0e4e413efca88a642b691ad47f1/lib/libuuid.so.1: no version information available (required by rsyslogd)\n",
      "EdgeHubConnectionString and IOTEDGE_IOTHUBHOSTNAME are not set. Exiting...\n",
      "2022-04-17T14:33:29,444963300+00:00 - iot-server/finish 1 0\n",
      "2022-04-17T14:33:29,446770000+00:00 - Exit code 1 is normal. Not restarting iot-server.\n",
      "Starting gunicorn 20.1.0\n",
      "Listening at: http://127.0.0.1:31311 (66)\n",
      "Using worker: sync\n",
      "worker timeout is set to 300\n",
      "Booting worker with pid: 98\n",
      "SPARK_HOME not set. Skipping PySpark Initialization.\n",
      "Failure while loading azureml_run_type_providers. Failed to load entrypoint hyperdrive = azureml.train.hyperdrive:HyperDriveRun._from_run_dto with exception (urllib3 1.26.9 (/azureml-envs/azureml_4a0fd0e4e413efca88a642b691ad47f1/lib/python3.7/site-packages), Requirement.parse('urllib3<=1.26.7,>=1.23'), {'azureml-core'}).\n",
      "Failure while loading azureml_run_type_providers. Failed to load entrypoint automl = azureml.train.automl.run:AutoMLRun._from_run_dto with exception (urllib3 1.26.9 (/azureml-envs/azureml_4a0fd0e4e413efca88a642b691ad47f1/lib/python3.7/site-packages), Requirement.parse('urllib3<=1.26.7,>=1.23'), {'azureml-core'}).\n",
      "Failure while loading azureml_run_type_providers. Failed to load entrypoint azureml.scriptrun = azureml.core.script_run:ScriptRun._from_run_dto with exception (urllib3 1.26.9 (/azureml-envs/azureml_4a0fd0e4e413efca88a642b691ad47f1/lib/python3.7/site-packages), Requirement.parse('urllib3<=1.26.7,>=1.23')).\n",
      "Initializing logger\n",
      "2022-04-17 14:33:32,577 | root | INFO | Starting up app insights client\n",
      "logging socket was found. logging is available.\n",
      "logging socket was found. logging is available.\n",
      "2022-04-17 14:33:32,578 | root | INFO | Starting up request id generator\n",
      "2022-04-17 14:33:32,578 | root | INFO | Starting up app insight hooks\n",
      "2022-04-17 14:33:32,579 | root | INFO | Invoking user's init function\n",
      "2022-04-17 14:33:36,300 | root | INFO | Users's init has completed successfully\n",
      "2022-04-17 14:33:36,308 | root | INFO | Skipping middleware: dbg_model_info as it's not enabled.\n",
      "2022-04-17 14:33:36,309 | root | INFO | Skipping middleware: dbg_resource_usage as it's not enabled.\n",
      "2022-04-17 14:33:36,312 | root | INFO | Scoring timeout is found from os.environ: 60000 ms\n",
      "2022-04-17 14:35:14,744 | root | INFO | Swagger file not present\n",
      "2022-04-17 14:35:14,744 | root | INFO | 404\n",
      "127.0.0.1 - - [17/Apr/2022:14:35:14 +0000] \"GET /swagger.json HTTP/1.0\" 404 19 \"-\" \"Go-http-client/1.1\"\n",
      "2022-04-17 14:35:15,967 | root | INFO | Swagger file not present\n",
      "2022-04-17 14:35:15,967 | root | INFO | 404\n",
      "127.0.0.1 - - [17/Apr/2022:14:35:15 +0000] \"GET /swagger.json HTTP/1.0\" 404 19 \"-\" \"Go-http-client/1.1\"\n",
      "\n"
     ]
    }
   ],
   "source": [
    "print(service.get_logs())"
   ]
  },
  {
   "cell_type": "markdown",
   "metadata": {},
   "source": [
    "### Test Webservice"
   ]
  },
  {
   "cell_type": "code",
   "execution_count": 22,
   "metadata": {},
   "outputs": [
    {
     "name": "stdout",
     "output_type": "stream",
     "text": [
      "[0, 0]\n"
     ]
    }
   ],
   "source": [
    "import json\n",
    "import requests\n",
    "\n",
    "\n",
    "test = {\n",
    "  \"data\": [ {\n",
    "      \"age\": 90,\n",
    "      \"anaemia\": 0,\n",
    "      \"creatinine_phosphokinase\": 500, \n",
    "      \"diabetes\":  1,\n",
    "      \"ejection_fraction\": 150,\n",
    "      \"high_blood_pressure\": 0,\n",
    "      \"platelets\": 100000,\n",
    "      \"serum_creatinine\": 2.75,\n",
    "      \"serum_sodium\": 140,\n",
    "      \"sex\": 1,\n",
    "      \"smoking\": 0,\n",
    "      \"time\": 500 },\n",
    "      \n",
    "      {\"age\": 45,\n",
    "      \"anaemia\": 1,\n",
    "      \"creatinine_phosphokinase\": 500, \n",
    "      \"diabetes\":  1,\n",
    "      \"ejection_fraction\": 50,\n",
    "      \"high_blood_pressure\": 1,\n",
    "      \"platelets\": 100000,\n",
    "      \"serum_creatinine\": 1.75,\n",
    "      \"serum_sodium\": 140,\n",
    "      \"sex\": 0,\n",
    "      \"smoking\": 1,\n",
    "      \"time\": 213}\n",
    "  ]\n",
    "}\n",
    "\n",
    "\n",
    "test_data = json.dumps(test)\n",
    "\n",
    "#Test response\n",
    "response = requests.post(service.scoring_uri, test_data, headers={'Content-Type': 'application/json'})\n",
    "\n",
    "\n",
    "print(response.json())\n"
   ]
  },
  {
   "cell_type": "markdown",
   "metadata": {},
   "source": [
    "### Delete Webservice"
   ]
  },
  {
   "cell_type": "code",
   "execution_count": 22,
   "metadata": {},
   "outputs": [],
   "source": [
    "service.delete()\n",
    "\n",
    "model.delete()"
   ]
  },
  {
   "cell_type": "markdown",
   "metadata": {},
   "source": [
    "**Submission Checklist**\n",
    "- I have registered the model.\n",
    "- I have deployed the model with the best accuracy as a webservice.\n",
    "- I have tested the webservice by sending a request to the model endpoint.\n",
    "- I have deleted the webservice and shutdown all the computes that I have used.\n",
    "- I have taken a screenshot showing the model endpoint as active.\n",
    "- The project includes a file containing the environment details.\n"
   ]
  },
  {
   "cell_type": "markdown",
   "metadata": {},
   "source": []
  }
 ],
 "metadata": {
  "kernel_info": {
   "name": "python38-azureml"
  },
  "kernelspec": {
   "display_name": "Python 3.8 - AzureML",
   "language": "python",
   "name": "python38-azureml"
  },
  "language_info": {
   "codemirror_mode": {
    "name": "ipython",
    "version": 3
   },
   "file_extension": ".py",
   "mimetype": "text/x-python",
   "name": "python",
   "nbconvert_exporter": "python",
   "pygments_lexer": "ipython3",
   "version": "3.8.5"
  },
  "nteract": {
   "version": "nteract-front-end@1.0.0"
  }
 },
 "nbformat": 4,
 "nbformat_minor": 2
}
